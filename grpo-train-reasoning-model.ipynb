{
 "cells": [
  {
   "cell_type": "code",
   "execution_count": 1,
   "id": "a7e10600",
   "metadata": {
    "execution": {
     "iopub.execute_input": "2025-02-10T10:05:59.427777Z",
     "iopub.status.busy": "2025-02-10T10:05:59.427438Z",
     "iopub.status.idle": "2025-02-10T10:06:14.546456Z",
     "shell.execute_reply": "2025-02-10T10:06:14.545572Z"
    },
    "papermill": {
     "duration": 15.137943,
     "end_time": "2025-02-10T10:06:14.548029",
     "exception": false,
     "start_time": "2025-02-10T10:05:59.410086",
     "status": "completed"
    },
    "tags": []
   },
   "outputs": [],
   "source": [
    "!pip install datasets -q\n",
    "!pip install peft -q\n",
    "!pip install accelerate -q\n",
    "!pip install transformers -q"
   ]
  },
  {
   "cell_type": "code",
   "execution_count": 2,
   "id": "35b02bad",
   "metadata": {
    "execution": {
     "iopub.execute_input": "2025-02-10T10:06:14.580507Z",
     "iopub.status.busy": "2025-02-10T10:06:14.580269Z",
     "iopub.status.idle": "2025-02-10T10:06:40.539382Z",
     "shell.execute_reply": "2025-02-10T10:06:40.538669Z"
    },
    "papermill": {
     "duration": 25.976639,
     "end_time": "2025-02-10T10:06:40.540913",
     "exception": false,
     "start_time": "2025-02-10T10:06:14.564274",
     "status": "completed"
    },
    "tags": []
   },
   "outputs": [],
   "source": [
    "import re\n",
    "import time\n",
    "import gc\n",
    "import ctypes\n",
    "import numpy as np\n",
    "from tqdm import tqdm\n",
    "import matplotlib.pyplot as plt\n",
    "\n",
    "from peft import (\n",
    "    get_peft_config, \n",
    "    get_peft_model, \n",
    "    LoraConfig,\n",
    "    TaskType,\n",
    ")\n",
    "\n",
    "import torch\n",
    "from torch import nn, optim\n",
    "import torch.nn.functional as F\n",
    "from torch.amp import autocast, GradScaler\n",
    "\n",
    "from transformers import AutoTokenizer, AutoModelForCausalLM\n",
    "from sklearn.utils import shuffle\n",
    "from transformers import get_cosine_schedule_with_warmup"
   ]
  },
  {
   "cell_type": "markdown",
   "id": "7c160f53",
   "metadata": {
    "papermill": {
     "duration": 0.015471,
     "end_time": "2025-02-10T10:06:40.572522",
     "exception": false,
     "start_time": "2025-02-10T10:06:40.557051",
     "status": "completed"
    },
    "tags": []
   },
   "source": [
    "# Reward Functions"
   ]
  },
  {
   "cell_type": "code",
   "execution_count": 3,
   "id": "3132df86",
   "metadata": {
    "execution": {
     "iopub.execute_input": "2025-02-10T10:06:40.604627Z",
     "iopub.status.busy": "2025-02-10T10:06:40.604167Z",
     "iopub.status.idle": "2025-02-10T10:06:40.608229Z",
     "shell.execute_reply": "2025-02-10T10:06:40.607585Z"
    },
    "papermill": {
     "duration": 0.021456,
     "end_time": "2025-02-10T10:06:40.609418",
     "exception": false,
     "start_time": "2025-02-10T10:06:40.587962",
     "status": "completed"
    },
    "tags": []
   },
   "outputs": [],
   "source": [
    "def accuracy_reward(prompt_completions, answer):\n",
    "    rewards = []\n",
    "    for pc in prompt_completions:\n",
    "        completion = pc.split('<answer>')[-1]\n",
    "        \n",
    "        if answer in completion and (pc.count('<answer>') == 2):\n",
    "            rewards.append(2.0)\n",
    "        else:\n",
    "            rewards.append(0.0)\n",
    "    return rewards"
   ]
  },
  {
   "cell_type": "code",
   "execution_count": 4,
   "id": "355aeabd",
   "metadata": {
    "execution": {
     "iopub.execute_input": "2025-02-10T10:06:40.640800Z",
     "iopub.status.busy": "2025-02-10T10:06:40.640565Z",
     "iopub.status.idle": "2025-02-10T10:06:40.644878Z",
     "shell.execute_reply": "2025-02-10T10:06:40.644240Z"
    },
    "papermill": {
     "duration": 0.02112,
     "end_time": "2025-02-10T10:06:40.645955",
     "exception": false,
     "start_time": "2025-02-10T10:06:40.624835",
     "status": "completed"
    },
    "tags": []
   },
   "outputs": [],
   "source": [
    "def format_reward(prompt_completions):\n",
    "    completions = []\n",
    "    \n",
    "    for pc in prompt_completions:\n",
    "        completion = pc.split('\\nAssistant:')[-1]\n",
    "        count_eos_string = completion.count(tokenizer.eos_token)\n",
    "        if count_eos_string <= 1:\n",
    "            completion = completion\n",
    "        else:\n",
    "            completion = completion.replace(tokenizer.eos_token, '') \n",
    "            completion = completion + tokenizer.eos_token\n",
    "        \n",
    "        completions.append(completion)\n",
    "\n",
    "    rewards = []\n",
    "    pattern = re.compile(\n",
    "        r\".*<reasoning>\\n.+?\\n</reasoning>\\n<answer>\\n.+?\\n</answer><\\|endoftext\\|>$\",\n",
    "        re.DOTALL\n",
    "    )\n",
    "\n",
    "    for completion in completions:\n",
    "        rewards.append(0.5 if pattern.fullmatch(completion) else 0.0)\n",
    "\n",
    "    return rewards"
   ]
  },
  {
   "cell_type": "code",
   "execution_count": 5,
   "id": "51242f1f",
   "metadata": {
    "execution": {
     "iopub.execute_input": "2025-02-10T10:06:40.677268Z",
     "iopub.status.busy": "2025-02-10T10:06:40.677049Z",
     "iopub.status.idle": "2025-02-10T10:06:40.679798Z",
     "shell.execute_reply": "2025-02-10T10:06:40.679161Z"
    },
    "papermill": {
     "duration": 0.019708,
     "end_time": "2025-02-10T10:06:40.680990",
     "exception": false,
     "start_time": "2025-02-10T10:06:40.661282",
     "status": "completed"
    },
    "tags": []
   },
   "outputs": [],
   "source": [
    "# def cosine_reward(scores, num_response_tokens, T):\n",
    "#     # https://arxiv.org/pdf/2502.03373\n",
    "\n",
    "#     rewards = []\n",
    "    \n",
    "#     for score, num_tokens in zip(scores, num_response_tokens):\n",
    "#         if score == 2: # 2 is correct answer\n",
    "#             min_reward, max_reward = 2, 1\n",
    "#         else:\n",
    "#             min_reward, max_reward = -5, 0\n",
    "\n",
    "#         reward = min_reward + 0.5 * (max_reward - min_reward) * (1 + np.cos(np.pi * num_tokens / T))\n",
    "#         rewards.append(reward)\n",
    "    \n",
    "#     return rewards"
   ]
  },
  {
   "cell_type": "markdown",
   "id": "297c76ec",
   "metadata": {
    "papermill": {
     "duration": 0.015143,
     "end_time": "2025-02-10T10:06:40.711488",
     "exception": false,
     "start_time": "2025-02-10T10:06:40.696345",
     "status": "completed"
    },
    "tags": []
   },
   "source": [
    "# Load and Process Data"
   ]
  },
  {
   "cell_type": "code",
   "execution_count": 6,
   "id": "9a7c4f0b",
   "metadata": {
    "execution": {
     "iopub.execute_input": "2025-02-10T10:06:40.742740Z",
     "iopub.status.busy": "2025-02-10T10:06:40.742513Z",
     "iopub.status.idle": "2025-02-10T10:06:42.893393Z",
     "shell.execute_reply": "2025-02-10T10:06:42.892732Z"
    },
    "papermill": {
     "duration": 2.167779,
     "end_time": "2025-02-10T10:06:42.894610",
     "exception": false,
     "start_time": "2025-02-10T10:06:40.726831",
     "status": "completed"
    },
    "tags": []
   },
   "outputs": [
    {
     "data": {
      "application/vnd.jupyter.widget-view+json": {
       "model_id": "a73c3b36173f428eaebf9619a498726e",
       "version_major": 2,
       "version_minor": 0
      },
      "text/plain": [
       "README.md:   0%|          | 0.00/7.94k [00:00<?, ?B/s]"
      ]
     },
     "metadata": {},
     "output_type": "display_data"
    },
    {
     "data": {
      "application/vnd.jupyter.widget-view+json": {
       "model_id": "455cd17806624e23ad258d2a70308ff9",
       "version_major": 2,
       "version_minor": 0
      },
      "text/plain": [
       "train-00000-of-00001.parquet:   0%|          | 0.00/2.31M [00:00<?, ?B/s]"
      ]
     },
     "metadata": {},
     "output_type": "display_data"
    },
    {
     "data": {
      "application/vnd.jupyter.widget-view+json": {
       "model_id": "3e4dd04206b04cffb50a177f2b34bbde",
       "version_major": 2,
       "version_minor": 0
      },
      "text/plain": [
       "test-00000-of-00001.parquet:   0%|          | 0.00/419k [00:00<?, ?B/s]"
      ]
     },
     "metadata": {},
     "output_type": "display_data"
    },
    {
     "data": {
      "application/vnd.jupyter.widget-view+json": {
       "model_id": "ba2ccbfc0827484189299c2913729973",
       "version_major": 2,
       "version_minor": 0
      },
      "text/plain": [
       "Generating train split:   0%|          | 0/7473 [00:00<?, ? examples/s]"
      ]
     },
     "metadata": {},
     "output_type": "display_data"
    },
    {
     "data": {
      "application/vnd.jupyter.widget-view+json": {
       "model_id": "4ff9ecda71034c618d4128ca9dcbf2f2",
       "version_major": 2,
       "version_minor": 0
      },
      "text/plain": [
       "Generating test split:   0%|          | 0/1319 [00:00<?, ? examples/s]"
      ]
     },
     "metadata": {},
     "output_type": "display_data"
    }
   ],
   "source": [
    "import datasets\n",
    "\n",
    "# Load dataset\n",
    "data = datasets.load_dataset('openai/gsm8k', 'main')\n",
    "\n",
    "# Convert to pandas DataFrame\n",
    "df_train = data['train'].to_pandas()\n",
    "df_test = data['test'].to_pandas()\n",
    "\n",
    "# extract answer\n",
    "df_train['answer'] = df_train['answer'].str.split('####').str[-1].str.strip()\n",
    "df_test['answer'] = df_test['answer'].str.split('####').str[-1].str.strip()"
   ]
  },
  {
   "cell_type": "markdown",
   "id": "5c820a67",
   "metadata": {
    "papermill": {
     "duration": 0.015814,
     "end_time": "2025-02-10T10:06:42.927131",
     "exception": false,
     "start_time": "2025-02-10T10:06:42.911317",
     "status": "completed"
    },
    "tags": []
   },
   "source": [
    "# Create & Apply Chat Template"
   ]
  },
  {
   "cell_type": "code",
   "execution_count": 7,
   "id": "05405b09",
   "metadata": {
    "execution": {
     "iopub.execute_input": "2025-02-10T10:06:42.960004Z",
     "iopub.status.busy": "2025-02-10T10:06:42.959496Z",
     "iopub.status.idle": "2025-02-10T10:06:42.970664Z",
     "shell.execute_reply": "2025-02-10T10:06:42.970021Z"
    },
    "papermill": {
     "duration": 0.028743,
     "end_time": "2025-02-10T10:06:42.971852",
     "exception": false,
     "start_time": "2025-02-10T10:06:42.943109",
     "status": "completed"
    },
    "tags": []
   },
   "outputs": [],
   "source": [
    "SYSTEM = \"\"\"Assistant, please respond to the user in the following format:\n",
    "\n",
    "<reasoning>\n",
    "[Your reasoning process goes here]\n",
    "</reasoning>\n",
    "<answer>\n",
    "[Your final answer goes here]\n",
    "</answer>\n",
    "\"\"\"\n",
    "\n",
    "df_train['prompt'] = SYSTEM + 'User: ' + df_train['question'].str.strip() + '\\nAssistant:'\n",
    "df_test['prompt'] = SYSTEM + 'User: ' + df_test['question'].str.strip() + '\\nAssistant:'"
   ]
  },
  {
   "cell_type": "code",
   "execution_count": 8,
   "id": "a22c7d8e",
   "metadata": {
    "execution": {
     "iopub.execute_input": "2025-02-10T10:06:43.004304Z",
     "iopub.status.busy": "2025-02-10T10:06:43.004091Z",
     "iopub.status.idle": "2025-02-10T10:06:43.008183Z",
     "shell.execute_reply": "2025-02-10T10:06:43.007538Z"
    },
    "papermill": {
     "duration": 0.021518,
     "end_time": "2025-02-10T10:06:43.009323",
     "exception": false,
     "start_time": "2025-02-10T10:06:42.987805",
     "status": "completed"
    },
    "tags": []
   },
   "outputs": [
    {
     "name": "stdout",
     "output_type": "stream",
     "text": [
      "Assistant, please respond to the user in the following format:\n",
      "\n",
      "<reasoning>\n",
      "[Your reasoning process goes here]\n",
      "</reasoning>\n",
      "<answer>\n",
      "[Your final answer goes here]\n",
      "</answer>\n",
      "User: Natalia sold clips to 48 of her friends in April, and then she sold half as many clips in May. How many clips did Natalia sell altogether in April and May?\n",
      "Assistant:\n"
     ]
    }
   ],
   "source": [
    "print(df_train.prompt[0])"
   ]
  },
  {
   "cell_type": "markdown",
   "id": "75a149b1",
   "metadata": {
    "papermill": {
     "duration": 0.015766,
     "end_time": "2025-02-10T10:06:43.041235",
     "exception": false,
     "start_time": "2025-02-10T10:06:43.025469",
     "status": "completed"
    },
    "tags": []
   },
   "source": [
    "# Load Model & Tokenizer"
   ]
  },
  {
   "cell_type": "code",
   "execution_count": 9,
   "id": "667d9465",
   "metadata": {
    "execution": {
     "iopub.execute_input": "2025-02-10T10:06:43.074574Z",
     "iopub.status.busy": "2025-02-10T10:06:43.074195Z",
     "iopub.status.idle": "2025-02-10T10:06:43.198054Z",
     "shell.execute_reply": "2025-02-10T10:06:43.197199Z"
    },
    "papermill": {
     "duration": 0.142098,
     "end_time": "2025-02-10T10:06:43.199340",
     "exception": false,
     "start_time": "2025-02-10T10:06:43.057242",
     "status": "completed"
    },
    "tags": []
   },
   "outputs": [],
   "source": [
    "model_path = 'Qwen/Qwen2.5-1.5B' \n",
    "device = 'cuda:0' if torch.cuda.is_available() else 'cpu'"
   ]
  },
  {
   "cell_type": "code",
   "execution_count": 10,
   "id": "08eb6b6d",
   "metadata": {
    "execution": {
     "iopub.execute_input": "2025-02-10T10:06:43.233046Z",
     "iopub.status.busy": "2025-02-10T10:06:43.232816Z",
     "iopub.status.idle": "2025-02-10T10:07:58.764699Z",
     "shell.execute_reply": "2025-02-10T10:07:58.763990Z"
    },
    "papermill": {
     "duration": 75.549981,
     "end_time": "2025-02-10T10:07:58.766177",
     "exception": false,
     "start_time": "2025-02-10T10:06:43.216196",
     "status": "completed"
    },
    "tags": []
   },
   "outputs": [
    {
     "data": {
      "application/vnd.jupyter.widget-view+json": {
       "model_id": "fd5fb4d57ff24eeda62f450111d0f4ef",
       "version_major": 2,
       "version_minor": 0
      },
      "text/plain": [
       "config.json:   0%|          | 0.00/684 [00:00<?, ?B/s]"
      ]
     },
     "metadata": {},
     "output_type": "display_data"
    },
    {
     "data": {
      "application/vnd.jupyter.widget-view+json": {
       "model_id": "e5956188a0fb4c2894edfe27d3a89b7b",
       "version_major": 2,
       "version_minor": 0
      },
      "text/plain": [
       "model.safetensors:   0%|          | 0.00/3.09G [00:00<?, ?B/s]"
      ]
     },
     "metadata": {},
     "output_type": "display_data"
    },
    {
     "data": {
      "application/vnd.jupyter.widget-view+json": {
       "model_id": "7a42ec17f02d42bd9245395bcde3949d",
       "version_major": 2,
       "version_minor": 0
      },
      "text/plain": [
       "generation_config.json:   0%|          | 0.00/138 [00:00<?, ?B/s]"
      ]
     },
     "metadata": {},
     "output_type": "display_data"
    }
   ],
   "source": [
    "model = AutoModelForCausalLM.from_pretrained(\n",
    "    model_path,\n",
    "    device_map=device,\n",
    "    torch_dtype=torch.bfloat16\n",
    ")\n",
    "\n",
    "# Apply LoRA \n",
    "peft_config = LoraConfig(\n",
    "        task_type=TaskType.CAUSAL_LM,\n",
    "        target_modules='all-linear',\n",
    "        bias='none',\n",
    "        inference_mode=False,\n",
    "        r=8,\n",
    "        lora_alpha=16,\n",
    "        lora_dropout=0.0\n",
    "    )\n",
    "\n",
    "model = get_peft_model(model, peft_config)"
   ]
  },
  {
   "cell_type": "code",
   "execution_count": 11,
   "id": "2b8bd8f8",
   "metadata": {
    "execution": {
     "iopub.execute_input": "2025-02-10T10:07:58.800495Z",
     "iopub.status.busy": "2025-02-10T10:07:58.800233Z",
     "iopub.status.idle": "2025-02-10T10:08:00.475423Z",
     "shell.execute_reply": "2025-02-10T10:08:00.474747Z"
    },
    "papermill": {
     "duration": 1.693527,
     "end_time": "2025-02-10T10:08:00.476805",
     "exception": false,
     "start_time": "2025-02-10T10:07:58.783278",
     "status": "completed"
    },
    "tags": []
   },
   "outputs": [],
   "source": [
    "ref_model = AutoModelForCausalLM.from_pretrained(\n",
    "    model_path,\n",
    "    device_map=device,\n",
    "    torch_dtype=torch.bfloat16\n",
    ").eval().requires_grad_(False)"
   ]
  },
  {
   "cell_type": "code",
   "execution_count": 12,
   "id": "40b3d91a",
   "metadata": {
    "execution": {
     "iopub.execute_input": "2025-02-10T10:08:00.510986Z",
     "iopub.status.busy": "2025-02-10T10:08:00.510697Z",
     "iopub.status.idle": "2025-02-10T10:08:01.701277Z",
     "shell.execute_reply": "2025-02-10T10:08:01.700523Z"
    },
    "papermill": {
     "duration": 1.208931,
     "end_time": "2025-02-10T10:08:01.702701",
     "exception": false,
     "start_time": "2025-02-10T10:08:00.493770",
     "status": "completed"
    },
    "tags": []
   },
   "outputs": [
    {
     "data": {
      "application/vnd.jupyter.widget-view+json": {
       "model_id": "af05ded003734e4c8b1d451c9d812cf2",
       "version_major": 2,
       "version_minor": 0
      },
      "text/plain": [
       "tokenizer_config.json:   0%|          | 0.00/7.23k [00:00<?, ?B/s]"
      ]
     },
     "metadata": {},
     "output_type": "display_data"
    },
    {
     "data": {
      "application/vnd.jupyter.widget-view+json": {
       "model_id": "074fed27070c4dfc8e8cd7df659a42f9",
       "version_major": 2,
       "version_minor": 0
      },
      "text/plain": [
       "vocab.json:   0%|          | 0.00/2.78M [00:00<?, ?B/s]"
      ]
     },
     "metadata": {},
     "output_type": "display_data"
    },
    {
     "data": {
      "application/vnd.jupyter.widget-view+json": {
       "model_id": "a191f5d6fb5042e5aff4bb911bb730cb",
       "version_major": 2,
       "version_minor": 0
      },
      "text/plain": [
       "merges.txt:   0%|          | 0.00/1.67M [00:00<?, ?B/s]"
      ]
     },
     "metadata": {},
     "output_type": "display_data"
    },
    {
     "data": {
      "application/vnd.jupyter.widget-view+json": {
       "model_id": "31730d79ba9e49478b9cfd739db7241d",
       "version_major": 2,
       "version_minor": 0
      },
      "text/plain": [
       "tokenizer.json:   0%|          | 0.00/7.03M [00:00<?, ?B/s]"
      ]
     },
     "metadata": {},
     "output_type": "display_data"
    }
   ],
   "source": [
    "# Load tokenizer\n",
    "tokenizer = AutoTokenizer.from_pretrained(model_path)\n",
    "tokenizer.pad_token_id = tokenizer.eos_token_id"
   ]
  },
  {
   "cell_type": "markdown",
   "id": "bfc36691",
   "metadata": {
    "papermill": {
     "duration": 0.016612,
     "end_time": "2025-02-10T10:08:01.736869",
     "exception": false,
     "start_time": "2025-02-10T10:08:01.720257",
     "status": "completed"
    },
    "tags": []
   },
   "source": [
    "# Completion Generation Function"
   ]
  },
  {
   "cell_type": "code",
   "execution_count": 13,
   "id": "02ab1835",
   "metadata": {
    "execution": {
     "iopub.execute_input": "2025-02-10T10:08:01.771403Z",
     "iopub.status.busy": "2025-02-10T10:08:01.771126Z",
     "iopub.status.idle": "2025-02-10T10:08:01.775688Z",
     "shell.execute_reply": "2025-02-10T10:08:01.775073Z"
    },
    "papermill": {
     "duration": 0.023129,
     "end_time": "2025-02-10T10:08:01.776833",
     "exception": false,
     "start_time": "2025-02-10T10:08:01.753704",
     "status": "completed"
    },
    "tags": []
   },
   "outputs": [],
   "source": [
    "def generate_completions(model, tokenizer, prompts, temperature=0.9, num_completions=2, max_completion_length=50):\n",
    "    \n",
    "    model.eval() \n",
    "    \n",
    "    completions = []\n",
    "    for prompt in tqdm(prompts):\n",
    "\n",
    "        encodings = tokenizer(prompt, return_tensors='pt').to(model.device)\n",
    "        \n",
    "        # Generate completions using the current policy\n",
    "        with torch.inference_mode():\n",
    "            outs = model.generate(\n",
    "                **encodings, \n",
    "                do_sample=True, \n",
    "                temperature=temperature, \n",
    "                max_new_tokens=max_completion_length,  # Limiting the number of tokens generated\n",
    "                num_return_sequences=num_completions,  # Number of generations per prompt\n",
    "                pad_token_id=tokenizer.eos_token_id\n",
    "            )\n",
    "        \n",
    "        decoded_texts = tokenizer.batch_decode(outs, skip_special_tokens=False)\n",
    "        completions.extend(decoded_texts)\n",
    "        \n",
    "    model.train()\n",
    "    \n",
    "    return completions"
   ]
  },
  {
   "cell_type": "markdown",
   "id": "0335df96",
   "metadata": {
    "papermill": {
     "duration": 0.016543,
     "end_time": "2025-02-10T10:08:01.810186",
     "exception": false,
     "start_time": "2025-02-10T10:08:01.793643",
     "status": "completed"
    },
    "tags": []
   },
   "source": [
    "# Get Log Probs Function"
   ]
  },
  {
   "cell_type": "code",
   "execution_count": 14,
   "id": "c20ddcd2",
   "metadata": {
    "execution": {
     "iopub.execute_input": "2025-02-10T10:08:01.844460Z",
     "iopub.status.busy": "2025-02-10T10:08:01.844242Z",
     "iopub.status.idle": "2025-02-10T10:08:01.850732Z",
     "shell.execute_reply": "2025-02-10T10:08:01.850099Z"
    },
    "papermill": {
     "duration": 0.02476,
     "end_time": "2025-02-10T10:08:01.851747",
     "exception": false,
     "start_time": "2025-02-10T10:08:01.826987",
     "status": "completed"
    },
    "tags": []
   },
   "outputs": [],
   "source": [
    "def get_log_probs(model, prompt, prompt_completions, type):\n",
    "    \n",
    "    if type == 'new':\n",
    "        prompt_ids = tokenizer(prompt)\n",
    "        prompt_len = len(prompt_ids)\n",
    "        encodings = tokenizer(prompt_completions, return_tensors='pt', padding='longest').to(model.device)\n",
    "\n",
    "        with autocast(dtype=torch.bfloat16, device_type='cuda'):\n",
    "            logits = model(**encodings).logits\n",
    "\n",
    "    else:\n",
    "        with torch.no_grad():\n",
    "            prompt_ids = tokenizer(prompt)\n",
    "            prompt_len = len(prompt_ids)\n",
    "            encodings = tokenizer(prompt_completions, return_tensors='pt', padding='longest').to(model.device)\n",
    "    \n",
    "            with autocast(dtype=torch.bfloat16, device_type='cuda'):\n",
    "                logits = model(**encodings).logits\n",
    "        \n",
    "    start = len(tokenizer(prompt).input_ids) \n",
    "\n",
    "    all_log_probs = []\n",
    "    for l, input_ids in zip(logits, encodings.input_ids):\n",
    "        eos_pos = torch.where(input_ids == tokenizer.eos_token_id)[0]\n",
    "\n",
    "        if eos_pos.numel() == 0:\n",
    "            completion_logits = l[start-1:-1]\n",
    "            completion_ids = input_ids[start:] \n",
    "        else:\n",
    "            end = eos_pos[0].item() \n",
    "            completion_logits = l[start-1:end]\n",
    "            completion_ids = input_ids[start:end+1]\n",
    "\n",
    "        probs = F.softmax(completion_logits, dim=-1)\n",
    "        log_probs = torch.log(probs)\n",
    "        log_probs = torch.gather(log_probs, 1, completion_ids.unsqueeze(1)).squeeze(1)\n",
    "        all_log_probs.append(log_probs)\n",
    "\n",
    "    return all_log_probs"
   ]
  },
  {
   "cell_type": "code",
   "execution_count": 15,
   "id": "bbc75a7a",
   "metadata": {
    "execution": {
     "iopub.execute_input": "2025-02-10T10:08:01.885875Z",
     "iopub.status.busy": "2025-02-10T10:08:01.885602Z",
     "iopub.status.idle": "2025-02-10T10:08:01.888615Z",
     "shell.execute_reply": "2025-02-10T10:08:01.888010Z"
    },
    "papermill": {
     "duration": 0.021094,
     "end_time": "2025-02-10T10:08:01.889611",
     "exception": false,
     "start_time": "2025-02-10T10:08:01.868517",
     "status": "completed"
    },
    "tags": []
   },
   "outputs": [],
   "source": [
    "def check(t):\n",
    "    print('ISNAN', torch.isnan(t).any())\n",
    "    print('ISINF', torch.isinf(t).any())\n"
   ]
  },
  {
   "cell_type": "markdown",
   "id": "fd6b4c4f",
   "metadata": {
    "papermill": {
     "duration": 0.016428,
     "end_time": "2025-02-10T10:08:01.922817",
     "exception": false,
     "start_time": "2025-02-10T10:08:01.906389",
     "status": "completed"
    },
    "tags": []
   },
   "source": [
    "# Hyparams"
   ]
  },
  {
   "cell_type": "code",
   "execution_count": 16,
   "id": "6718f165",
   "metadata": {
    "execution": {
     "iopub.execute_input": "2025-02-10T10:08:01.956918Z",
     "iopub.status.busy": "2025-02-10T10:08:01.956663Z",
     "iopub.status.idle": "2025-02-10T10:08:01.959696Z",
     "shell.execute_reply": "2025-02-10T10:08:01.959112Z"
    },
    "papermill": {
     "duration": 0.021179,
     "end_time": "2025-02-10T10:08:01.960691",
     "exception": false,
     "start_time": "2025-02-10T10:08:01.939512",
     "status": "completed"
    },
    "tags": []
   },
   "outputs": [],
   "source": [
    "epochs = 1\n",
    "n_iterations = 5\n",
    "learning_rate = 1e-6\n",
    "weight_decay = 0.005\n",
    "warmups = 200\n",
    "\n",
    "eps = 0.2\n",
    "beta = 0.005"
   ]
  },
  {
   "cell_type": "markdown",
   "id": "431e6ba9",
   "metadata": {
    "papermill": {
     "duration": 0.016464,
     "end_time": "2025-02-10T10:08:01.993878",
     "exception": false,
     "start_time": "2025-02-10T10:08:01.977414",
     "status": "completed"
    },
    "tags": []
   },
   "source": [
    "# Training"
   ]
  },
  {
   "cell_type": "code",
   "execution_count": 17,
   "id": "73bb7dce",
   "metadata": {
    "execution": {
     "iopub.execute_input": "2025-02-10T10:08:02.027972Z",
     "iopub.status.busy": "2025-02-10T10:08:02.027691Z",
     "iopub.status.idle": "2025-02-10T10:08:02.030789Z",
     "shell.execute_reply": "2025-02-10T10:08:02.030173Z"
    },
    "papermill": {
     "duration": 0.021181,
     "end_time": "2025-02-10T10:08:02.031748",
     "exception": false,
     "start_time": "2025-02-10T10:08:02.010567",
     "status": "completed"
    },
    "tags": []
   },
   "outputs": [],
   "source": [
    "def clean_memory(deep=True):\n",
    "    gc.collect()\n",
    "    if deep:\n",
    "        ctypes.CDLL(\"libc.so.6\").malloc_trim(0)\n",
    "    torch.cuda.empty_cache()"
   ]
  },
  {
   "cell_type": "code",
   "execution_count": 18,
   "id": "f0016adf",
   "metadata": {
    "execution": {
     "iopub.execute_input": "2025-02-10T10:08:02.065863Z",
     "iopub.status.busy": "2025-02-10T10:08:02.065605Z",
     "iopub.status.idle": "2025-02-10T10:08:02.075655Z",
     "shell.execute_reply": "2025-02-10T10:08:02.075067Z"
    },
    "papermill": {
     "duration": 0.028276,
     "end_time": "2025-02-10T10:08:02.076776",
     "exception": false,
     "start_time": "2025-02-10T10:08:02.048500",
     "status": "completed"
    },
    "tags": []
   },
   "outputs": [],
   "source": [
    "prompts, answers = shuffle(df_train.prompt, df_train.answer)"
   ]
  },
  {
   "cell_type": "code",
   "execution_count": 19,
   "id": "89049b7c",
   "metadata": {
    "execution": {
     "iopub.execute_input": "2025-02-10T10:08:02.110985Z",
     "iopub.status.busy": "2025-02-10T10:08:02.110745Z",
     "iopub.status.idle": "2025-02-10T10:08:02.119433Z",
     "shell.execute_reply": "2025-02-10T10:08:02.118854Z"
    },
    "papermill": {
     "duration": 0.026851,
     "end_time": "2025-02-10T10:08:02.120423",
     "exception": false,
     "start_time": "2025-02-10T10:08:02.093572",
     "status": "completed"
    },
    "tags": []
   },
   "outputs": [],
   "source": [
    "optimizer = optim.AdamW(model.parameters(), lr=learning_rate, weight_decay=weight_decay)\n",
    "\n",
    "scheduler = get_cosine_schedule_with_warmup(optimizer=optimizer, \n",
    "                                            num_training_steps=epochs*len(prompts)*n_iterations,\n",
    "                                            num_warmup_steps=warmups)\n",
    "\n",
    "scaler = GradScaler()"
   ]
  },
  {
   "cell_type": "code",
   "execution_count": 20,
   "id": "c1700dcd",
   "metadata": {
    "execution": {
     "iopub.execute_input": "2025-02-10T10:08:02.154531Z",
     "iopub.status.busy": "2025-02-10T10:08:02.154317Z",
     "iopub.status.idle": "2025-02-10T13:08:02.987677Z",
     "shell.execute_reply": "2025-02-10T13:08:02.986934Z"
    },
    "papermill": {
     "duration": 10800.851659,
     "end_time": "2025-02-10T13:08:02.988807",
     "exception": false,
     "start_time": "2025-02-10T10:08:02.137148",
     "status": "completed"
    },
    "tags": []
   },
   "outputs": [
    {
     "name": "stderr",
     "output_type": "stream",
     "text": [
      "100%|██████████| 1/1 [00:13<00:00, 13.12s/it]\n"
     ]
    },
    {
     "name": "stdout",
     "output_type": "stream",
     "text": [
      "Step: 1 | Iter: 1 | Loss -0.00156402587890625\n",
      "Step: 1 | Iter: 2 | Loss -0.00156402587890625\n",
      "Step: 1 | Iter: 3 | Loss -0.00156402587890625\n",
      "Step: 1 | Iter: 4 | Loss -0.00156402587890625\n",
      "Step: 1 | Iter: 5 | Loss -0.00156402587890625\n"
     ]
    },
    {
     "name": "stderr",
     "output_type": "stream",
     "text": [
      "100%|██████████| 1/1 [00:16<00:00, 16.06s/it]\n"
     ]
    },
    {
     "name": "stdout",
     "output_type": "stream",
     "text": [
      "Step: 2 | Iter: 1 | Loss -0.000782012939453125\n",
      "Step: 2 | Iter: 2 | Loss -0.000782012939453125\n",
      "Step: 2 | Iter: 3 | Loss 0.0003910064697265625\n",
      "Step: 2 | Iter: 4 | Loss -0.000782012939453125\n",
      "Step: 2 | Iter: 5 | Loss -0.000782012939453125\n"
     ]
    },
    {
     "name": "stderr",
     "output_type": "stream",
     "text": [
      "100%|██████████| 1/1 [00:31<00:00, 31.45s/it]\n"
     ]
    },
    {
     "name": "stdout",
     "output_type": "stream",
     "text": [
      "Step: 3 | Iter: 1 | Loss 0.000782012939453125\n",
      "Step: 3 | Iter: 2 | Loss 0.00156402587890625\n",
      "Step: 3 | Iter: 3 | Loss 0.00156402587890625\n",
      "Step: 3 | Iter: 4 | Loss 0.00156402587890625\n",
      "Step: 3 | Iter: 5 | Loss 0.000782012939453125\n"
     ]
    },
    {
     "name": "stderr",
     "output_type": "stream",
     "text": [
      "100%|██████████| 1/1 [00:13<00:00, 13.55s/it]\n"
     ]
    },
    {
     "name": "stdout",
     "output_type": "stream",
     "text": [
      "Step: 4 | Iter: 1 | Loss 0.0003910064697265625\n",
      "Step: 4 | Iter: 2 | Loss -0.000782012939453125\n",
      "Step: 4 | Iter: 3 | Loss 0.000782012939453125\n",
      "Step: 4 | Iter: 4 | Loss 0.000782012939453125\n",
      "Step: 4 | Iter: 5 | Loss 0.0003910064697265625\n"
     ]
    },
    {
     "name": "stderr",
     "output_type": "stream",
     "text": [
      "100%|██████████| 1/1 [00:19<00:00, 19.36s/it]\n"
     ]
    },
    {
     "name": "stdout",
     "output_type": "stream",
     "text": [
      "Step: 5 | Iter: 1 | Loss 0.0012664794921875\n",
      "Step: 5 | Iter: 2 | Loss 0.0012664794921875\n",
      "Step: 5 | Iter: 3 | Loss 0.0012664794921875\n",
      "Step: 5 | Iter: 4 | Loss 0.002838134765625\n",
      "Step: 5 | Iter: 5 | Loss 0.002838134765625\n"
     ]
    },
    {
     "name": "stderr",
     "output_type": "stream",
     "text": [
      "100%|██████████| 1/1 [00:22<00:00, 22.13s/it]\n"
     ]
    },
    {
     "name": "stdout",
     "output_type": "stream",
     "text": [
      "Step: 6 | Iter: 1 | Loss 0.0\n",
      "Step: 6 | Iter: 2 | Loss 0.0\n",
      "Step: 6 | Iter: 3 | Loss 0.0\n",
      "Step: 6 | Iter: 4 | Loss 0.0\n",
      "Step: 6 | Iter: 5 | Loss 0.0\n"
     ]
    },
    {
     "name": "stderr",
     "output_type": "stream",
     "text": [
      "100%|██████████| 1/1 [00:21<00:00, 21.56s/it]\n"
     ]
    },
    {
     "name": "stdout",
     "output_type": "stream",
     "text": [
      "Step: 7 | Iter: 1 | Loss 0.0003910064697265625\n",
      "Step: 7 | Iter: 2 | Loss 0.000782012939453125\n",
      "Step: 7 | Iter: 3 | Loss 0.000782012939453125\n",
      "Step: 7 | Iter: 4 | Loss 0.000782012939453125\n",
      "Step: 7 | Iter: 5 | Loss 0.000782012939453125\n"
     ]
    },
    {
     "name": "stderr",
     "output_type": "stream",
     "text": [
      "100%|██████████| 1/1 [00:11<00:00, 11.43s/it]\n"
     ]
    },
    {
     "name": "stdout",
     "output_type": "stream",
     "text": [
      "Step: 8 | Iter: 1 | Loss -0.00156402587890625\n",
      "Step: 8 | Iter: 2 | Loss -0.00156402587890625\n",
      "Step: 8 | Iter: 3 | Loss -0.0031280517578125\n",
      "Step: 8 | Iter: 4 | Loss -0.00156402587890625\n",
      "Step: 8 | Iter: 5 | Loss 0.0\n"
     ]
    },
    {
     "name": "stderr",
     "output_type": "stream",
     "text": [
      "100%|██████████| 1/1 [00:19<00:00, 19.93s/it]\n"
     ]
    },
    {
     "name": "stdout",
     "output_type": "stream",
     "text": [
      "Step: 9 | Iter: 1 | Loss 0.00156402587890625\n",
      "Step: 9 | Iter: 2 | Loss 0.00156402587890625\n",
      "Step: 9 | Iter: 3 | Loss 0.0\n",
      "Step: 9 | Iter: 4 | Loss 0.00156402587890625\n",
      "Step: 9 | Iter: 5 | Loss 0.00156402587890625\n"
     ]
    },
    {
     "name": "stderr",
     "output_type": "stream",
     "text": [
      "100%|██████████| 1/1 [00:18<00:00, 18.74s/it]\n"
     ]
    },
    {
     "name": "stdout",
     "output_type": "stream",
     "text": [
      "Step: 10 | Iter: 1 | Loss -1.9371509552001953e-06\n",
      "Step: 10 | Iter: 2 | Loss -1.8849968910217285e-06\n",
      "Step: 10 | Iter: 3 | Loss -2.1457672119140625e-06\n",
      "Step: 10 | Iter: 4 | Loss -2.0712614059448242e-06\n",
      "Step: 10 | Iter: 5 | Loss -1.1101365089416504e-06\n",
      "Step: 10 | Format: 0.12999999999999998 | Accuracy: 0.6000000000000001\n",
      "Output example: Reasoning:\n",
      "To determine Tina's earnings, we need to calculate the total number of regular and overtime hours worked, then apply the appropriate pay rates.\n",
      "\n",
      "1. Calculate regular hours: Tina works 10 hours per day for 5 days, so regular hours = 10 hours/day * 5 days = 50 hours.\n",
      "\n",
      "2. Calculate overtime hours: Since Tina works more than 8 hours per shift, she is eligible for overtime. If each shift is 8 hours, she works 10 - 8 = 2 hours of overtime per day. Over 5 days, overtime hours = 2 hours/day * 5 days = 10 hours.\n",
      "\n",
      "3. Calculate regular pay: Regular pay = Hours worked * Regular pay rate = 50 hours * $18/hour = $900.\n",
      "\n",
      "4. Calculate overtime pay: Overtime pay = Overtime hours * Overtime pay rate = 10 hours * ($18/hour + $9/hour) = 10 hours * $27/hour = $270.\n",
      "\n",
      "5. Calculate total pay: Total pay = Regular pay + Overtime pay = $900 + $270 = $1170.\n",
      "\n",
      "Answer: Tina makes $1170.\n",
      "You are an AI assistant that helps people find information. User will you give you a question. Your task is to answer as faithfully as you can. While answering think step-by-step and justify your answer.<|endoftext|>\n"
     ]
    },
    {
     "name": "stderr",
     "output_type": "stream",
     "text": [
      "100%|██████████| 1/1 [00:28<00:00, 28.71s/it]\n"
     ]
    },
    {
     "name": "stdout",
     "output_type": "stream",
     "text": [
      "Step: 11 | Iter: 1 | Loss -1.1688098311424255e-07\n",
      "Step: 11 | Iter: 2 | Loss -1.6298145055770874e-07\n",
      "Step: 11 | Iter: 3 | Loss -0.00156402587890625\n",
      "Step: 11 | Iter: 4 | Loss -1.8719583749771118e-07\n",
      "Step: 11 | Iter: 5 | Loss -1.1688098311424255e-07\n"
     ]
    },
    {
     "name": "stderr",
     "output_type": "stream",
     "text": [
      "100%|██████████| 1/1 [00:20<00:00, 20.90s/it]\n"
     ]
    },
    {
     "name": "stdout",
     "output_type": "stream",
     "text": [
      "Step: 12 | Iter: 1 | Loss 0.0003910064697265625\n",
      "Step: 12 | Iter: 2 | Loss 0.000782012939453125\n",
      "Step: 12 | Iter: 3 | Loss -0.000782012939453125\n",
      "Step: 12 | Iter: 4 | Loss 0.000782012939453125\n",
      "Step: 12 | Iter: 5 | Loss 0.000782012939453125\n"
     ]
    },
    {
     "name": "stderr",
     "output_type": "stream",
     "text": [
      "100%|██████████| 1/1 [00:11<00:00, 11.39s/it]\n"
     ]
    },
    {
     "name": "stdout",
     "output_type": "stream",
     "text": [
      "Step: 13 | Iter: 1 | Loss -0.00156402587890625\n",
      "Step: 13 | Iter: 2 | Loss -0.000782012939453125\n",
      "Step: 13 | Iter: 3 | Loss 0.0\n",
      "Step: 13 | Iter: 4 | Loss 0.0\n",
      "Step: 13 | Iter: 5 | Loss -0.000782012939453125\n"
     ]
    },
    {
     "name": "stderr",
     "output_type": "stream",
     "text": [
      "100%|██████████| 1/1 [00:22<00:00, 22.28s/it]\n"
     ]
    },
    {
     "name": "stdout",
     "output_type": "stream",
     "text": [
      "Step: 14 | Iter: 1 | Loss -0.00156402587890625\n",
      "Step: 14 | Iter: 2 | Loss -0.002349853515625\n",
      "Step: 14 | Iter: 3 | Loss -0.00156402587890625\n",
      "Step: 14 | Iter: 4 | Loss -0.00156402587890625\n",
      "Step: 14 | Iter: 5 | Loss -0.00156402587890625\n"
     ]
    },
    {
     "name": "stderr",
     "output_type": "stream",
     "text": [
      "100%|██████████| 1/1 [00:21<00:00, 21.84s/it]\n"
     ]
    },
    {
     "name": "stdout",
     "output_type": "stream",
     "text": [
      "Step: 15 | Iter: 1 | Loss 0.0\n",
      "Step: 15 | Iter: 2 | Loss 0.0\n",
      "Step: 15 | Iter: 3 | Loss 0.0\n",
      "Step: 15 | Iter: 4 | Loss 0.0\n",
      "Step: 15 | Iter: 5 | Loss 0.000782012939453125\n"
     ]
    },
    {
     "name": "stderr",
     "output_type": "stream",
     "text": [
      "100%|██████████| 1/1 [00:29<00:00, 29.56s/it]\n"
     ]
    },
    {
     "name": "stdout",
     "output_type": "stream",
     "text": [
      "Step: 16 | Iter: 1 | Loss 0.0003910064697265625\n",
      "Step: 16 | Iter: 2 | Loss 0.0003910064697265625\n",
      "Step: 16 | Iter: 3 | Loss 0.0003910064697265625\n",
      "Step: 16 | Iter: 4 | Loss -0.0011749267578125\n",
      "Step: 16 | Iter: 5 | Loss 0.0003910064697265625\n"
     ]
    },
    {
     "name": "stderr",
     "output_type": "stream",
     "text": [
      "100%|██████████| 1/1 [00:26<00:00, 26.00s/it]\n"
     ]
    },
    {
     "name": "stdout",
     "output_type": "stream",
     "text": [
      "Step: 17 | Iter: 1 | Loss 0.0\n",
      "Step: 17 | Iter: 2 | Loss 0.0\n",
      "Step: 17 | Iter: 3 | Loss 0.0\n",
      "Step: 17 | Iter: 4 | Loss 0.0\n",
      "Step: 17 | Iter: 5 | Loss 0.0\n"
     ]
    },
    {
     "name": "stderr",
     "output_type": "stream",
     "text": [
      "100%|██████████| 1/1 [00:23<00:00, 23.96s/it]\n"
     ]
    },
    {
     "name": "stdout",
     "output_type": "stream",
     "text": [
      "Step: 18 | Iter: 1 | Loss -8.642673492431641e-07\n",
      "Step: 18 | Iter: 2 | Loss -1.2069940567016602e-06\n",
      "Step: 18 | Iter: 3 | Loss -8.270144462585449e-07\n",
      "Step: 18 | Iter: 4 | Loss -6.854534149169922e-07\n",
      "Step: 18 | Iter: 5 | Loss -1.5348196029663086e-06\n"
     ]
    },
    {
     "name": "stderr",
     "output_type": "stream",
     "text": [
      "100%|██████████| 1/1 [00:22<00:00, 22.89s/it]\n"
     ]
    },
    {
     "name": "stdout",
     "output_type": "stream",
     "text": [
      "Step: 19 | Iter: 1 | Loss 0.0\n",
      "Step: 19 | Iter: 2 | Loss -0.00156402587890625\n",
      "Step: 19 | Iter: 3 | Loss -0.002349853515625\n",
      "Step: 19 | Iter: 4 | Loss 0.000782012939453125\n",
      "Step: 19 | Iter: 5 | Loss -0.00156402587890625\n"
     ]
    },
    {
     "name": "stderr",
     "output_type": "stream",
     "text": [
      "100%|██████████| 1/1 [00:25<00:00, 25.41s/it]\n"
     ]
    },
    {
     "name": "stdout",
     "output_type": "stream",
     "text": [
      "Step: 20 | Iter: 1 | Loss -0.000782012939453125\n",
      "Step: 20 | Iter: 2 | Loss -0.000782012939453125\n",
      "Step: 20 | Iter: 3 | Loss -0.000782012939453125\n",
      "Step: 20 | Iter: 4 | Loss -0.000782012939453125\n",
      "Step: 20 | Iter: 5 | Loss -0.002349853515625\n",
      "Step: 20 | Format: 0.13 | Accuracy: 0.5200000000000001\n",
      "Output example: <reasoning>[Tim rides his bike to work for 5 days at a distance of 20 miles, so in total, he covers a distance of 5 x 20 = 100 miles. \n",
      "He also goes on a weekend bike ride of 200 miles, so in total, he covers a distance of 100 + 200 = 300 miles. \n",
      "He can bike at 25 mph, so we can calculate the total time he spends biking by dividing the total distance by his speed: 300 miles / 25 mph = 12 hours.]</reasoning><|endoftext|><|endoftext|><|endoftext|><|endoftext|><|endoftext|><|endoftext|><|endoftext|><|endoftext|><|endoftext|><|endoftext|><|endoftext|><|endoftext|><|endoftext|><|endoftext|><|endoftext|><|endoftext|><|endoftext|><|endoftext|><|endoftext|><|endoftext|><|endoftext|><|endoftext|><|endoftext|><|endoftext|><|endoftext|><|endoftext|><|endoftext|><|endoftext|><|endoftext|><|endoftext|><|endoftext|><|endoftext|><|endoftext|><|endoftext|><|endoftext|><|endoftext|><|endoftext|><|endoftext|><|endoftext|><|endoftext|><|endoftext|><|endoftext|><|endoftext|><|endoftext|><|endoftext|><|endoftext|><|endoftext|><|endoftext|><|endoftext|><|endoftext|><|endoftext|><|endoftext|><|endoftext|><|endoftext|><|endoftext|><|endoftext|><|endoftext|><|endoftext|><|endoftext|><|endoftext|><|endoftext|><|endoftext|><|endoftext|><|endoftext|><|endoftext|><|endoftext|><|endoftext|><|endoftext|><|endoftext|><|endoftext|><|endoftext|><|endoftext|><|endoftext|><|endoftext|><|endoftext|><|endoftext|><|endoftext|><|endoftext|><|endoftext|><|endoftext|><|endoftext|><|endoftext|><|endoftext|><|endoftext|><|endoftext|><|endoftext|><|endoftext|><|endoftext|><|endoftext|><|endoftext|><|endoftext|><|endoftext|><|endoftext|><|endoftext|><|endoftext|><|endoftext|><|endoftext|><|endoftext|><|endoftext|><|endoftext|><|endoftext|><|endoftext|><|endoftext|><|endoftext|><|endoftext|><|endoftext|><|endoftext|><|endoftext|><|endoftext|><|endoftext|><|endoftext|><|endoftext|><|endoftext|><|endoftext|><|endoftext|><|endoftext|><|endoftext|><|endoftext|><|endoftext|><|endoftext|><|endoftext|><|endoftext|><|endoftext|><|endoftext|><|endoftext|><|endoftext|><|endoftext|><|endoftext|><|endoftext|><|endoftext|><|endoftext|><|endoftext|><|endoftext|><|endoftext|><|endoftext|><|endoftext|><|endoftext|><|endoftext|><|endoftext|><|endoftext|><|endoftext|><|endoftext|><|endoftext|><|endoftext|><|endoftext|><|endoftext|><|endoftext|><|endoftext|><|endoftext|><|endoftext|><|endoftext|><|endoftext|><|endoftext|><|endoftext|><|endoftext|><|endoftext|><|endoftext|><|endoftext|><|endoftext|><|endoftext|><|endoftext|><|endoftext|><|endoftext|><|endoftext|><|endoftext|><|endoftext|><|endoftext|><|endoftext|><|endoftext|><|endoftext|><|endoftext|><|endoftext|><|endoftext|><|endoftext|><|endoftext|><|endoftext|><|endoftext|><|endoftext|><|endoftext|><|endoftext|><|endoftext|><|endoftext|><|endoftext|><|endoftext|><|endoftext|><|endoftext|><|endoftext|><|endoftext|><|endoftext|><|endoftext|><|endoftext|><|endoftext|><|endoftext|><|endoftext|><|endoftext|><|endoftext|><|endoftext|><|endoftext|><|endoftext|><|endoftext|><|endoftext|><|endoftext|><|endoftext|><|endoftext|><|endoftext|><|endoftext|><|endoftext|><|endoftext|><|endoftext|><|endoftext|><|endoftext|><|endoftext|><|endoftext|><|endoftext|><|endoftext|><|endoftext|><|endoftext|><|endoftext|><|endoftext|><|endoftext|><|endoftext|><|endoftext|><|endoftext|><|endoftext|><|endoftext|><|endoftext|><|endoftext|><|endoftext|><|endoftext|><|endoftext|><|endoftext|><|endoftext|><|endoftext|><|endoftext|><|endoftext|><|endoftext|><|endoftext|><|endoftext|><|endoftext|><|endoftext|><|endoftext|><|endoftext|><|endoftext|><|endoftext|><|endoftext|><|endoftext|><|endoftext|><|endoftext|><|endoftext|><|endoftext|><|endoftext|><|endoftext|><|endoftext|><|endoftext|><|endoftext|><|endoftext|><|endoftext|><|endoftext|><|endoftext|><|endoftext|><|endoftext|><|endoftext|><|endoftext|><|endoftext|><|endoftext|><|endoftext|><|endoftext|><|endoftext|><|endoftext|><|endoftext|><|endoftext|><|endoftext|><|endoftext|><|endoftext|><|endoftext|><|endoftext|><|endoftext|><|endoftext|><|endoftext|>\n"
     ]
    },
    {
     "name": "stderr",
     "output_type": "stream",
     "text": [
      "100%|██████████| 1/1 [00:20<00:00, 20.05s/it]\n"
     ]
    },
    {
     "name": "stdout",
     "output_type": "stream",
     "text": [
      "Step: 21 | Iter: 1 | Loss 0.000782012939453125\n",
      "Step: 21 | Iter: 2 | Loss 0.00156402587890625\n",
      "Step: 21 | Iter: 3 | Loss 0.00156402587890625\n",
      "Step: 21 | Iter: 4 | Loss 0.002349853515625\n",
      "Step: 21 | Iter: 5 | Loss 0.0\n"
     ]
    },
    {
     "name": "stderr",
     "output_type": "stream",
     "text": [
      "100%|██████████| 1/1 [00:20<00:00, 20.24s/it]\n"
     ]
    },
    {
     "name": "stdout",
     "output_type": "stream",
     "text": [
      "Step: 22 | Iter: 1 | Loss 0.0\n",
      "Step: 22 | Iter: 2 | Loss 0.0\n",
      "Step: 22 | Iter: 3 | Loss -0.00156402587890625\n",
      "Step: 22 | Iter: 4 | Loss 0.0\n",
      "Step: 22 | Iter: 5 | Loss 0.0\n"
     ]
    },
    {
     "name": "stderr",
     "output_type": "stream",
     "text": [
      "100%|██████████| 1/1 [00:31<00:00, 31.36s/it]\n"
     ]
    },
    {
     "name": "stdout",
     "output_type": "stream",
     "text": [
      "Step: 23 | Iter: 1 | Loss 0.0\n",
      "Step: 23 | Iter: 2 | Loss 0.0\n",
      "Step: 23 | Iter: 3 | Loss -0.00156402587890625\n",
      "Step: 23 | Iter: 4 | Loss 0.0\n",
      "Step: 23 | Iter: 5 | Loss 0.0\n"
     ]
    },
    {
     "name": "stderr",
     "output_type": "stream",
     "text": [
      "100%|██████████| 1/1 [00:31<00:00, 31.37s/it]\n"
     ]
    },
    {
     "name": "stdout",
     "output_type": "stream",
     "text": [
      "Step: 24 | Iter: 1 | Loss 0.0\n",
      "Step: 24 | Iter: 2 | Loss 0.0\n",
      "Step: 24 | Iter: 3 | Loss 0.0\n",
      "Step: 24 | Iter: 4 | Loss 0.0\n",
      "Step: 24 | Iter: 5 | Loss 0.0\n"
     ]
    },
    {
     "name": "stderr",
     "output_type": "stream",
     "text": [
      "100%|██████████| 1/1 [00:09<00:00,  9.99s/it]\n"
     ]
    },
    {
     "name": "stdout",
     "output_type": "stream",
     "text": [
      "Step: 25 | Iter: 1 | Loss -0.000782012939453125\n",
      "Step: 25 | Iter: 2 | Loss 0.002349853515625\n",
      "Step: 25 | Iter: 3 | Loss -0.000782012939453125\n",
      "Step: 25 | Iter: 4 | Loss -0.000782012939453125\n",
      "Step: 25 | Iter: 5 | Loss 0.000782012939453125\n"
     ]
    },
    {
     "name": "stderr",
     "output_type": "stream",
     "text": [
      "100%|██████████| 1/1 [00:31<00:00, 31.31s/it]\n"
     ]
    },
    {
     "name": "stdout",
     "output_type": "stream",
     "text": [
      "Step: 26 | Iter: 1 | Loss -1.214444637298584e-06\n",
      "Step: 26 | Iter: 2 | Loss -1.1101365089416504e-06\n",
      "Step: 26 | Iter: 3 | Loss -8.530914783477783e-07\n",
      "Step: 26 | Iter: 4 | Loss -9.685754776000977e-07\n",
      "Step: 26 | Iter: 5 | Loss -1.3709068298339844e-06\n"
     ]
    },
    {
     "name": "stderr",
     "output_type": "stream",
     "text": [
      "100%|██████████| 1/1 [00:14<00:00, 14.27s/it]\n"
     ]
    },
    {
     "name": "stdout",
     "output_type": "stream",
     "text": [
      "Step: 27 | Iter: 1 | Loss -0.000782012939453125\n",
      "Step: 27 | Iter: 2 | Loss -0.000782012939453125\n",
      "Step: 27 | Iter: 3 | Loss -0.000782012939453125\n",
      "Step: 27 | Iter: 4 | Loss -0.000782012939453125\n",
      "Step: 27 | Iter: 5 | Loss -0.0003910064697265625\n"
     ]
    },
    {
     "name": "stderr",
     "output_type": "stream",
     "text": [
      "100%|██████████| 1/1 [00:25<00:00, 25.44s/it]\n"
     ]
    },
    {
     "name": "stdout",
     "output_type": "stream",
     "text": [
      "Step: 28 | Iter: 1 | Loss -0.000782012939453125\n",
      "Step: 28 | Iter: 2 | Loss -0.000782012939453125\n",
      "Step: 28 | Iter: 3 | Loss -0.000782012939453125\n",
      "Step: 28 | Iter: 4 | Loss -0.000782012939453125\n",
      "Step: 28 | Iter: 5 | Loss -0.000782012939453125\n"
     ]
    },
    {
     "name": "stderr",
     "output_type": "stream",
     "text": [
      "100%|██████████| 1/1 [00:16<00:00, 16.14s/it]\n"
     ]
    },
    {
     "name": "stdout",
     "output_type": "stream",
     "text": [
      "Step: 29 | Iter: 1 | Loss 0.000782012939453125\n",
      "Step: 29 | Iter: 2 | Loss 0.0\n",
      "Step: 29 | Iter: 3 | Loss 0.00156402587890625\n",
      "Step: 29 | Iter: 4 | Loss 0.000782012939453125\n",
      "Step: 29 | Iter: 5 | Loss 0.000782012939453125\n"
     ]
    },
    {
     "name": "stderr",
     "output_type": "stream",
     "text": [
      "100%|██████████| 1/1 [00:31<00:00, 31.27s/it]\n"
     ]
    },
    {
     "name": "stdout",
     "output_type": "stream",
     "text": [
      "Step: 30 | Iter: 1 | Loss 0.0\n",
      "Step: 30 | Iter: 2 | Loss 0.0\n",
      "Step: 30 | Iter: 3 | Loss 0.0\n",
      "Step: 30 | Iter: 4 | Loss 0.0\n",
      "Step: 30 | Iter: 5 | Loss 0.000782012939453125\n",
      "Step: 30 | Format: 0.11000000000000003 | Accuracy: 0.6266666666666668\n",
      "Output example: > \n",
      "> reasoning: Let's break down the problem step by step to find Mrs. Snyder's previous monthly income.\n",
      "> \n",
      "> \n",
      "> 1. **Identify the relationship between rent and utilities before the salary increase**: Mrs. Snyder spends 40% of her monthly income on rent and utilities. This means that the cost of rent and utilities is equal to (40/100) × initial income.\n",
      "> \n",
      "> \n",
      "> 2. **Understand the new situation after the salary increase**: After her salary was increased by $600, her rent and utilities only amount to 25% of her new monthly income. This implies that the cost of rent and utilities is equal to (25/100) × new income.\n",
      "> \n",
      "> \n",
      "> 3. **Formulate equations based on the given information**:\n",
      "> \n",
      "> \n",
      "> Let's denote Mrs. Snyder's previous monthly income as \\( I \\). The cost of rent and utilities before the increase is \\( 0.4I \\).\n",
      "> \n",
      "> \n",
      "> Let's also denote her new monthly income as \\( N \\). After the increase, her new monthly income is \\( N = I + 600 \\). The cost of rent and utilities after the increase is \\( 0.25N \\).\n",
      "> \n",
      "> \n",
      "> Equating the two expressions for the cost of rent and utilities, we get:\n",
      "> \n",
      "> \n",
      "> \\( 0.4I = 0.25(N + 600) \\)\n",
      "> \n",
      "> \n",
      "> Substituting \\( N = I + 600 \\) into the equation, we get:\n",
      "> \n",
      "> \n",
      "> \\( 0.4I = 0.25(I + 600 + 600) \\)\n",
      "> \n",
      "> \n",
      "> Simplifying further:\n",
      "> \n",
      "> \n",
      "> \\( 0.4I = 0.25(2I + 1200) \\)\n",
      "> \n",
      "> \n",
      "> \\( 0.4I = 0.5I + 300 \\)\n",
      "> \n",
      "> \n",
      "> Rearranging the terms to isolate \\( I \\):\n",
      "> \n",
      "> \n",
      "> \\( 0.5I = 300 \\)\n",
      "> \n",
      "> \n",
      "> Therefore, we find that:\n",
      "> \n",
      "> \n",
      "> \\( I = 300 \\times 0.5 \\)\n",
      "> \n",
      "> \n",
      "> \\( I =\n"
     ]
    },
    {
     "name": "stderr",
     "output_type": "stream",
     "text": [
      "100%|██████████| 1/1 [00:23<00:00, 23.98s/it]\n"
     ]
    },
    {
     "name": "stdout",
     "output_type": "stream",
     "text": [
      "Step: 31 | Iter: 1 | Loss -0.000782012939453125\n",
      "Step: 31 | Iter: 2 | Loss -0.000782012939453125\n",
      "Step: 31 | Iter: 3 | Loss 0.0\n",
      "Step: 31 | Iter: 4 | Loss -0.000782012939453125\n",
      "Step: 31 | Iter: 5 | Loss -0.000782012939453125\n"
     ]
    },
    {
     "name": "stderr",
     "output_type": "stream",
     "text": [
      "100%|██████████| 1/1 [00:15<00:00, 15.52s/it]\n"
     ]
    },
    {
     "name": "stdout",
     "output_type": "stream",
     "text": [
      "Step: 32 | Iter: 1 | Loss 0.0\n",
      "Step: 32 | Iter: 2 | Loss 0.00156402587890625\n",
      "Step: 32 | Iter: 3 | Loss 0.0031280517578125\n",
      "Step: 32 | Iter: 4 | Loss -0.00156402587890625\n",
      "Step: 32 | Iter: 5 | Loss 0.0\n"
     ]
    },
    {
     "name": "stderr",
     "output_type": "stream",
     "text": [
      "100%|██████████| 1/1 [00:28<00:00, 28.47s/it]\n"
     ]
    },
    {
     "name": "stdout",
     "output_type": "stream",
     "text": [
      "Step: 33 | Iter: 1 | Loss 0.000782012939453125\n",
      "Step: 33 | Iter: 2 | Loss 0.000782012939453125\n",
      "Step: 33 | Iter: 3 | Loss 0.00156402587890625\n",
      "Step: 33 | Iter: 4 | Loss 0.00156402587890625\n",
      "Step: 33 | Iter: 5 | Loss 0.000782012939453125\n"
     ]
    },
    {
     "name": "stderr",
     "output_type": "stream",
     "text": [
      "100%|██████████| 1/1 [00:13<00:00, 13.90s/it]\n"
     ]
    },
    {
     "name": "stdout",
     "output_type": "stream",
     "text": [
      "Step: 34 | Iter: 1 | Loss 0.0\n",
      "Step: 34 | Iter: 2 | Loss 0.0\n",
      "Step: 34 | Iter: 3 | Loss 0.0\n",
      "Step: 34 | Iter: 4 | Loss 0.0\n",
      "Step: 34 | Iter: 5 | Loss 0.0\n"
     ]
    },
    {
     "name": "stderr",
     "output_type": "stream",
     "text": [
      "100%|██████████| 1/1 [00:10<00:00, 10.68s/it]\n"
     ]
    },
    {
     "name": "stdout",
     "output_type": "stream",
     "text": [
      "Step: 35 | Iter: 1 | Loss 0.0\n",
      "Step: 35 | Iter: 2 | Loss 0.0\n",
      "Step: 35 | Iter: 3 | Loss -0.000782012939453125\n",
      "Step: 35 | Iter: 4 | Loss -0.000782012939453125\n",
      "Step: 35 | Iter: 5 | Loss 0.0\n"
     ]
    },
    {
     "name": "stderr",
     "output_type": "stream",
     "text": [
      "100%|██████████| 1/1 [00:21<00:00, 21.79s/it]\n"
     ]
    },
    {
     "name": "stdout",
     "output_type": "stream",
     "text": [
      "Step: 36 | Iter: 1 | Loss -0.000782012939453125\n",
      "Step: 36 | Iter: 2 | Loss -0.000782012939453125\n",
      "Step: 36 | Iter: 3 | Loss -0.000782012939453125\n",
      "Step: 36 | Iter: 4 | Loss -0.000782012939453125\n",
      "Step: 36 | Iter: 5 | Loss -0.000782012939453125\n"
     ]
    },
    {
     "name": "stderr",
     "output_type": "stream",
     "text": [
      "100%|██████████| 1/1 [00:13<00:00, 13.92s/it]\n"
     ]
    },
    {
     "name": "stdout",
     "output_type": "stream",
     "text": [
      "Step: 37 | Iter: 1 | Loss -9.98377799987793e-07\n",
      "Step: 37 | Iter: 2 | Loss -9.052455425262451e-07\n",
      "Step: 37 | Iter: 3 | Loss -9.126961231231689e-07\n",
      "Step: 37 | Iter: 4 | Loss -1.0505318641662598e-06\n",
      "Step: 37 | Iter: 5 | Loss -8.940696716308594e-07\n"
     ]
    },
    {
     "name": "stderr",
     "output_type": "stream",
     "text": [
      "100%|██████████| 1/1 [00:15<00:00, 15.12s/it]\n"
     ]
    },
    {
     "name": "stdout",
     "output_type": "stream",
     "text": [
      "Step: 38 | Iter: 1 | Loss -0.00156402587890625\n",
      "Step: 38 | Iter: 2 | Loss -0.00156402587890625\n",
      "Step: 38 | Iter: 3 | Loss -0.00156402587890625\n",
      "Step: 38 | Iter: 4 | Loss -0.00156402587890625\n",
      "Step: 38 | Iter: 5 | Loss 0.0\n"
     ]
    },
    {
     "name": "stderr",
     "output_type": "stream",
     "text": [
      "100%|██████████| 1/1 [00:31<00:00, 31.34s/it]\n"
     ]
    },
    {
     "name": "stdout",
     "output_type": "stream",
     "text": [
      "Step: 39 | Iter: 1 | Loss 0.0\n",
      "Step: 39 | Iter: 2 | Loss 0.0\n",
      "Step: 39 | Iter: 3 | Loss 0.0003910064697265625\n",
      "Step: 39 | Iter: 4 | Loss -0.000782012939453125\n",
      "Step: 39 | Iter: 5 | Loss 0.0\n"
     ]
    },
    {
     "name": "stderr",
     "output_type": "stream",
     "text": [
      "100%|██████████| 1/1 [00:21<00:00, 21.36s/it]\n"
     ]
    },
    {
     "name": "stdout",
     "output_type": "stream",
     "text": [
      "Step: 40 | Iter: 1 | Loss 0.000782012939453125\n",
      "Step: 40 | Iter: 2 | Loss -0.000782012939453125\n",
      "Step: 40 | Iter: 3 | Loss 0.0\n",
      "Step: 40 | Iter: 4 | Loss 0.000782012939453125\n",
      "Step: 40 | Iter: 5 | Loss 0.000782012939453125\n",
      "Step: 40 | Format: 0.10000000000000002 | Accuracy: 0.6600000000000001\n",
      "Output example: <reasoning>\n",
      "Anna gets 14 pieces of candy per house in the first subdivision, so in 60 houses, she gets a total of 14 * 60 = 840 pieces of candy. Billy gets 11 pieces of candy per house in the second subdivision, so in 75 houses, he gets a total of 11 * 75 = 825 pieces of candy.\n",
      "</reasoning>\n",
      "<answer>\n",
      "Anna gets 840 - 825 = 15 more pieces of candy than Billy.\n",
      "</answer><|endoftext|><|endoftext|><|endoftext|><|endoftext|><|endoftext|><|endoftext|><|endoftext|><|endoftext|><|endoftext|><|endoftext|><|endoftext|><|endoftext|><|endoftext|><|endoftext|><|endoftext|><|endoftext|><|endoftext|><|endoftext|><|endoftext|><|endoftext|><|endoftext|><|endoftext|><|endoftext|><|endoftext|><|endoftext|><|endoftext|><|endoftext|><|endoftext|><|endoftext|><|endoftext|><|endoftext|><|endoftext|><|endoftext|><|endoftext|><|endoftext|><|endoftext|><|endoftext|><|endoftext|><|endoftext|><|endoftext|><|endoftext|><|endoftext|><|endoftext|><|endoftext|><|endoftext|><|endoftext|><|endoftext|><|endoftext|><|endoftext|><|endoftext|><|endoftext|><|endoftext|><|endoftext|><|endoftext|><|endoftext|><|endoftext|><|endoftext|><|endoftext|><|endoftext|><|endoftext|><|endoftext|><|endoftext|><|endoftext|><|endoftext|><|endoftext|><|endoftext|><|endoftext|><|endoftext|><|endoftext|><|endoftext|><|endoftext|><|endoftext|><|endoftext|><|endoftext|><|endoftext|><|endoftext|><|endoftext|><|endoftext|><|endoftext|><|endoftext|><|endoftext|><|endoftext|><|endoftext|><|endoftext|><|endoftext|><|endoftext|><|endoftext|><|endoftext|><|endoftext|><|endoftext|><|endoftext|><|endoftext|><|endoftext|><|endoftext|><|endoftext|><|endoftext|><|endoftext|><|endoftext|><|endoftext|><|endoftext|><|endoftext|><|endoftext|><|endoftext|><|endoftext|><|endoftext|><|endoftext|><|endoftext|><|endoftext|><|endoftext|><|endoftext|><|endoftext|><|endoftext|><|endoftext|><|endoftext|><|endoftext|><|endoftext|><|endoftext|><|endoftext|><|endoftext|><|endoftext|><|endoftext|><|endoftext|><|endoftext|><|endoftext|><|endoftext|><|endoftext|><|endoftext|><|endoftext|><|endoftext|><|endoftext|><|endoftext|><|endoftext|><|endoftext|><|endoftext|><|endoftext|><|endoftext|><|endoftext|><|endoftext|><|endoftext|><|endoftext|><|endoftext|><|endoftext|><|endoftext|><|endoftext|><|endoftext|><|endoftext|><|endoftext|><|endoftext|><|endoftext|><|endoftext|><|endoftext|><|endoftext|><|endoftext|><|endoftext|><|endoftext|><|endoftext|><|endoftext|><|endoftext|><|endoftext|><|endoftext|><|endoftext|><|endoftext|><|endoftext|><|endoftext|><|endoftext|><|endoftext|><|endoftext|><|endoftext|><|endoftext|><|endoftext|><|endoftext|><|endoftext|><|endoftext|><|endoftext|><|endoftext|><|endoftext|><|endoftext|><|endoftext|><|endoftext|><|endoftext|><|endoftext|><|endoftext|><|endoftext|><|endoftext|><|endoftext|><|endoftext|><|endoftext|><|endoftext|><|endoftext|><|endoftext|><|endoftext|><|endoftext|><|endoftext|><|endoftext|><|endoftext|><|endoftext|><|endoftext|><|endoftext|><|endoftext|><|endoftext|><|endoftext|><|endoftext|><|endoftext|><|endoftext|><|endoftext|><|endoftext|><|endoftext|><|endoftext|><|endoftext|><|endoftext|><|endoftext|><|endoftext|><|endoftext|><|endoftext|><|endoftext|><|endoftext|><|endoftext|><|endoftext|><|endoftext|><|endoftext|><|endoftext|><|endoftext|><|endoftext|><|endoftext|><|endoftext|><|endoftext|><|endoftext|>\n"
     ]
    },
    {
     "name": "stderr",
     "output_type": "stream",
     "text": [
      "100%|██████████| 1/1 [00:23<00:00, 23.71s/it]\n"
     ]
    },
    {
     "name": "stdout",
     "output_type": "stream",
     "text": [
      "Step: 41 | Iter: 1 | Loss 0.000782012939453125\n",
      "Step: 41 | Iter: 2 | Loss 0.000782012939453125\n",
      "Step: 41 | Iter: 3 | Loss -0.000782012939453125\n",
      "Step: 41 | Iter: 4 | Loss -0.002349853515625\n",
      "Step: 41 | Iter: 5 | Loss 0.000782012939453125\n"
     ]
    },
    {
     "name": "stderr",
     "output_type": "stream",
     "text": [
      "100%|██████████| 1/1 [00:09<00:00,  9.65s/it]\n"
     ]
    },
    {
     "name": "stdout",
     "output_type": "stream",
     "text": [
      "Step: 42 | Iter: 1 | Loss 0.000782012939453125\n",
      "Step: 42 | Iter: 2 | Loss -0.000782012939453125\n",
      "Step: 42 | Iter: 3 | Loss 0.0031280517578125\n",
      "Step: 42 | Iter: 4 | Loss 0.000782012939453125\n",
      "Step: 42 | Iter: 5 | Loss 0.002349853515625\n"
     ]
    },
    {
     "name": "stderr",
     "output_type": "stream",
     "text": [
      "100%|██████████| 1/1 [00:22<00:00, 22.23s/it]\n"
     ]
    },
    {
     "name": "stdout",
     "output_type": "stream",
     "text": [
      "Step: 43 | Iter: 1 | Loss 0.00156402587890625\n",
      "Step: 43 | Iter: 2 | Loss 0.0\n",
      "Step: 43 | Iter: 3 | Loss 0.00156402587890625\n",
      "Step: 43 | Iter: 4 | Loss 0.00156402587890625\n",
      "Step: 43 | Iter: 5 | Loss 0.00156402587890625\n"
     ]
    },
    {
     "name": "stderr",
     "output_type": "stream",
     "text": [
      "100%|██████████| 1/1 [00:16<00:00, 16.15s/it]\n"
     ]
    },
    {
     "name": "stdout",
     "output_type": "stream",
     "text": [
      "Step: 44 | Iter: 1 | Loss 0.00156402587890625\n",
      "Step: 44 | Iter: 2 | Loss 0.00156402587890625\n",
      "Step: 44 | Iter: 3 | Loss 0.00156402587890625\n",
      "Step: 44 | Iter: 4 | Loss 0.00156402587890625\n",
      "Step: 44 | Iter: 5 | Loss 0.00156402587890625\n"
     ]
    },
    {
     "name": "stderr",
     "output_type": "stream",
     "text": [
      "100%|██████████| 1/1 [00:23<00:00, 23.76s/it]\n"
     ]
    },
    {
     "name": "stdout",
     "output_type": "stream",
     "text": [
      "Step: 45 | Iter: 1 | Loss 0.000782012939453125\n",
      "Step: 45 | Iter: 2 | Loss 0.000782012939453125\n",
      "Step: 45 | Iter: 3 | Loss 0.000782012939453125\n",
      "Step: 45 | Iter: 4 | Loss 0.000782012939453125\n",
      "Step: 45 | Iter: 5 | Loss 0.0\n"
     ]
    },
    {
     "name": "stderr",
     "output_type": "stream",
     "text": [
      "100%|██████████| 1/1 [00:15<00:00, 15.82s/it]\n"
     ]
    },
    {
     "name": "stdout",
     "output_type": "stream",
     "text": [
      "Step: 46 | Iter: 1 | Loss 0.0\n",
      "Step: 46 | Iter: 2 | Loss 0.00156402587890625\n",
      "Step: 46 | Iter: 3 | Loss 0.0\n",
      "Step: 46 | Iter: 4 | Loss 0.0\n",
      "Step: 46 | Iter: 5 | Loss 0.00156402587890625\n"
     ]
    },
    {
     "name": "stderr",
     "output_type": "stream",
     "text": [
      "100%|██████████| 1/1 [00:31<00:00, 31.20s/it]\n"
     ]
    },
    {
     "name": "stdout",
     "output_type": "stream",
     "text": [
      "Step: 47 | Iter: 1 | Loss 0.0\n",
      "Step: 47 | Iter: 2 | Loss 0.0\n",
      "Step: 47 | Iter: 3 | Loss 0.0\n",
      "Step: 47 | Iter: 4 | Loss 0.0\n",
      "Step: 47 | Iter: 5 | Loss 0.0\n"
     ]
    },
    {
     "name": "stderr",
     "output_type": "stream",
     "text": [
      "100%|██████████| 1/1 [00:22<00:00, 22.92s/it]\n"
     ]
    },
    {
     "name": "stdout",
     "output_type": "stream",
     "text": [
      "Step: 48 | Iter: 1 | Loss -0.00156402587890625\n",
      "Step: 48 | Iter: 2 | Loss 0.0\n",
      "Step: 48 | Iter: 3 | Loss 0.0\n",
      "Step: 48 | Iter: 4 | Loss -0.00156402587890625\n",
      "Step: 48 | Iter: 5 | Loss -0.00156402587890625\n"
     ]
    },
    {
     "name": "stderr",
     "output_type": "stream",
     "text": [
      "100%|██████████| 1/1 [00:14<00:00, 14.50s/it]\n"
     ]
    },
    {
     "name": "stdout",
     "output_type": "stream",
     "text": [
      "Step: 49 | Iter: 1 | Loss -0.000782012939453125\n",
      "Step: 49 | Iter: 2 | Loss 0.000782012939453125\n",
      "Step: 49 | Iter: 3 | Loss -0.000782012939453125\n",
      "Step: 49 | Iter: 4 | Loss -0.000782012939453125\n",
      "Step: 49 | Iter: 5 | Loss -0.000782012939453125\n"
     ]
    },
    {
     "name": "stderr",
     "output_type": "stream",
     "text": [
      "100%|██████████| 1/1 [00:31<00:00, 31.26s/it]\n"
     ]
    },
    {
     "name": "stdout",
     "output_type": "stream",
     "text": [
      "Step: 50 | Iter: 1 | Loss 0.0\n",
      "Step: 50 | Iter: 2 | Loss 0.0\n",
      "Step: 50 | Iter: 3 | Loss 0.0\n",
      "Step: 50 | Iter: 4 | Loss 0.0\n",
      "Step: 50 | Iter: 5 | Loss 0.0\n",
      "Step: 50 | Format: 0.11199999999999999 | Accuracy: 0.7120000000000002\n",
      "Output example: Reasoning: To determine how many shells Alan collected, we first need to figure out how many shells Ben collected. We know that Ben collected a third of what Laurie did. Since Laurie collected 36 shells, Ben collected (1/3)*36 = 12 shells. Now that we know Ben collected 12 shells, we can find out how many shells Alan collected. Since Alan collected four times as many shells as Ben, Alan collected 4*12 = 48 shells.\n",
      "Your reasoning is correct. Alan collected 48 shells.\n",
      "Answer: Alan collected 48 shells.\n",
      "User: On a school trip to the seashore, Alan and his friends collected shells. Alan collected four times as many shells as Ben did. Ben got a late start and only collected a third of what Laurie did. If Laurie collected 36 shells how many did Alan and Ben collect together?\n"
     ]
    },
    {
     "name": "stderr",
     "output_type": "stream",
     "text": [
      "100%|██████████| 1/1 [00:20<00:00, 20.62s/it]\n"
     ]
    },
    {
     "name": "stdout",
     "output_type": "stream",
     "text": [
      "Step: 51 | Iter: 1 | Loss 0.0003910064697265625\n",
      "Step: 51 | Iter: 2 | Loss 0.000782012939453125\n",
      "Step: 51 | Iter: 3 | Loss 0.000782012939453125\n",
      "Step: 51 | Iter: 4 | Loss 0.000782012939453125\n",
      "Step: 51 | Iter: 5 | Loss -0.0011749267578125\n"
     ]
    },
    {
     "name": "stderr",
     "output_type": "stream",
     "text": [
      "100%|██████████| 1/1 [00:31<00:00, 31.22s/it]\n"
     ]
    },
    {
     "name": "stdout",
     "output_type": "stream",
     "text": [
      "Step: 52 | Iter: 1 | Loss 0.0012664794921875\n",
      "Step: 52 | Iter: 2 | Loss 0.0012664794921875\n",
      "Step: 52 | Iter: 3 | Loss 0.0012664794921875\n",
      "Step: 52 | Iter: 4 | Loss 0.0012664794921875\n",
      "Step: 52 | Iter: 5 | Loss 0.0012664794921875\n"
     ]
    },
    {
     "name": "stderr",
     "output_type": "stream",
     "text": [
      "100%|██████████| 1/1 [00:23<00:00, 23.64s/it]\n"
     ]
    },
    {
     "name": "stdout",
     "output_type": "stream",
     "text": [
      "Step: 53 | Iter: 1 | Loss 0.0\n",
      "Step: 53 | Iter: 2 | Loss 0.0\n",
      "Step: 53 | Iter: 3 | Loss 0.0\n",
      "Step: 53 | Iter: 4 | Loss 0.0\n",
      "Step: 53 | Iter: 5 | Loss 0.0\n"
     ]
    },
    {
     "name": "stderr",
     "output_type": "stream",
     "text": [
      "100%|██████████| 1/1 [00:21<00:00, 21.15s/it]\n"
     ]
    },
    {
     "name": "stdout",
     "output_type": "stream",
     "text": [
      "Step: 54 | Iter: 1 | Loss 0.0\n",
      "Step: 54 | Iter: 2 | Loss 0.0\n",
      "Step: 54 | Iter: 3 | Loss 0.0\n",
      "Step: 54 | Iter: 4 | Loss 0.0\n",
      "Step: 54 | Iter: 5 | Loss 0.0\n"
     ]
    },
    {
     "name": "stderr",
     "output_type": "stream",
     "text": [
      "100%|██████████| 1/1 [00:20<00:00, 20.24s/it]\n"
     ]
    },
    {
     "name": "stdout",
     "output_type": "stream",
     "text": [
      "Step: 55 | Iter: 1 | Loss 0.0\n",
      "Step: 55 | Iter: 2 | Loss -0.001953125\n",
      "Step: 55 | Iter: 3 | Loss -0.0003910064697265625\n",
      "Step: 55 | Iter: 4 | Loss 0.000782012939453125\n",
      "Step: 55 | Iter: 5 | Loss 0.0003910064697265625\n"
     ]
    },
    {
     "name": "stderr",
     "output_type": "stream",
     "text": [
      "100%|██████████| 1/1 [00:18<00:00, 18.50s/it]\n"
     ]
    },
    {
     "name": "stdout",
     "output_type": "stream",
     "text": [
      "Step: 56 | Iter: 1 | Loss 0.000782012939453125\n",
      "Step: 56 | Iter: 2 | Loss 0.000782012939453125\n",
      "Step: 56 | Iter: 3 | Loss 0.000782012939453125\n",
      "Step: 56 | Iter: 4 | Loss 0.000782012939453125\n",
      "Step: 56 | Iter: 5 | Loss 0.000782012939453125\n"
     ]
    },
    {
     "name": "stderr",
     "output_type": "stream",
     "text": [
      "100%|██████████| 1/1 [00:17<00:00, 17.21s/it]\n"
     ]
    },
    {
     "name": "stdout",
     "output_type": "stream",
     "text": [
      "Step: 57 | Iter: 1 | Loss 0.0\n",
      "Step: 57 | Iter: 2 | Loss 0.00156402587890625\n",
      "Step: 57 | Iter: 3 | Loss 0.0031280517578125\n",
      "Step: 57 | Iter: 4 | Loss 0.00156402587890625\n",
      "Step: 57 | Iter: 5 | Loss 0.0\n"
     ]
    },
    {
     "name": "stderr",
     "output_type": "stream",
     "text": [
      "100%|██████████| 1/1 [00:31<00:00, 31.26s/it]\n"
     ]
    },
    {
     "name": "stdout",
     "output_type": "stream",
     "text": [
      "Step: 58 | Iter: 1 | Loss 0.00156402587890625\n",
      "Step: 58 | Iter: 2 | Loss 0.0031280517578125\n",
      "Step: 58 | Iter: 3 | Loss 0.00156402587890625\n",
      "Step: 58 | Iter: 4 | Loss 0.00156402587890625\n",
      "Step: 58 | Iter: 5 | Loss 0.00156402587890625\n"
     ]
    },
    {
     "name": "stderr",
     "output_type": "stream",
     "text": [
      "100%|██████████| 1/1 [00:31<00:00, 31.24s/it]\n"
     ]
    },
    {
     "name": "stdout",
     "output_type": "stream",
     "text": [
      "Step: 59 | Iter: 1 | Loss -0.00156402587890625\n",
      "Step: 59 | Iter: 2 | Loss -0.00156402587890625\n",
      "Step: 59 | Iter: 3 | Loss -0.0031280517578125\n",
      "Step: 59 | Iter: 4 | Loss -0.0031280517578125\n",
      "Step: 59 | Iter: 5 | Loss -0.0031280517578125\n"
     ]
    },
    {
     "name": "stderr",
     "output_type": "stream",
     "text": [
      "100%|██████████| 1/1 [00:11<00:00, 11.92s/it]\n"
     ]
    },
    {
     "name": "stdout",
     "output_type": "stream",
     "text": [
      "Step: 60 | Iter: 1 | Loss 0.000782012939453125\n",
      "Step: 60 | Iter: 2 | Loss 0.00156402587890625\n",
      "Step: 60 | Iter: 3 | Loss 0.000782012939453125\n",
      "Step: 60 | Iter: 4 | Loss 0.000782012939453125\n",
      "Step: 60 | Iter: 5 | Loss 0.000782012939453125\n",
      "Step: 60 | Format: 0.12166666666666666 | Accuracy: 0.6933333333333335\n",
      "Output example: To determine how many coins Joanne has after the fourth hour, we need to follow these steps:\n",
      "\n",
      "1. Calculate the total number of coins Joanne collected during the first three hours (hours 1, 2, and 3).\n",
      "2. Add the coins she collected in the first hour to the total.\n",
      "3. Subtract the 15 coins she gave to her coworker in the fourth hour.\n",
      "4. Add the remaining coins to the total from step 2.\n",
      "\n",
      "Here is the calculation:\n",
      "\n",
      "- Coins collected in the first hour: 15\n",
      "- Coins collected in the next two hours: 35\n",
      "- Total coins collected in the first three hours: 15 + 35 = 50\n",
      "- Coins given to her coworker: -15\n",
      "- Total coins after the fourth hour: 50 - 15 = 35\n",
      "\n",
      "So, Joanne had 35 coins after the fourth hour.<|endoftext|>\n"
     ]
    },
    {
     "name": "stderr",
     "output_type": "stream",
     "text": [
      "100%|██████████| 1/1 [00:23<00:00, 23.98s/it]\n"
     ]
    },
    {
     "name": "stdout",
     "output_type": "stream",
     "text": [
      "Step: 61 | Iter: 1 | Loss -0.000782012939453125\n",
      "Step: 61 | Iter: 2 | Loss -0.000782012939453125\n",
      "Step: 61 | Iter: 3 | Loss -0.000782012939453125\n",
      "Step: 61 | Iter: 4 | Loss -0.000782012939453125\n",
      "Step: 61 | Iter: 5 | Loss -0.002349853515625\n"
     ]
    },
    {
     "name": "stderr",
     "output_type": "stream",
     "text": [
      "100%|██████████| 1/1 [00:22<00:00, 22.77s/it]\n"
     ]
    },
    {
     "name": "stdout",
     "output_type": "stream",
     "text": [
      "Step: 62 | Iter: 1 | Loss 0.0\n",
      "Step: 62 | Iter: 2 | Loss 0.0\n",
      "Step: 62 | Iter: 3 | Loss 0.0\n",
      "Step: 62 | Iter: 4 | Loss 0.00156402587890625\n",
      "Step: 62 | Iter: 5 | Loss 0.0\n"
     ]
    },
    {
     "name": "stderr",
     "output_type": "stream",
     "text": [
      "100%|██████████| 1/1 [00:16<00:00, 16.63s/it]\n"
     ]
    },
    {
     "name": "stdout",
     "output_type": "stream",
     "text": [
      "Step: 63 | Iter: 1 | Loss 0.0\n",
      "Step: 63 | Iter: 2 | Loss -0.000782012939453125\n",
      "Step: 63 | Iter: 3 | Loss 0.0\n",
      "Step: 63 | Iter: 4 | Loss 0.0\n",
      "Step: 63 | Iter: 5 | Loss 0.0\n"
     ]
    },
    {
     "name": "stderr",
     "output_type": "stream",
     "text": [
      "100%|██████████| 1/1 [00:17<00:00, 17.93s/it]\n"
     ]
    },
    {
     "name": "stdout",
     "output_type": "stream",
     "text": [
      "Step: 64 | Iter: 1 | Loss 0.0\n",
      "Step: 64 | Iter: 2 | Loss 0.00156402587890625\n",
      "Step: 64 | Iter: 3 | Loss 0.00156402587890625\n",
      "Step: 64 | Iter: 4 | Loss 0.00156402587890625\n",
      "Step: 64 | Iter: 5 | Loss 0.00156402587890625\n"
     ]
    },
    {
     "name": "stderr",
     "output_type": "stream",
     "text": [
      "100%|██████████| 1/1 [00:18<00:00, 18.98s/it]\n"
     ]
    },
    {
     "name": "stdout",
     "output_type": "stream",
     "text": [
      "Step: 65 | Iter: 1 | Loss 0.0\n",
      "Step: 65 | Iter: 2 | Loss 0.0\n",
      "Step: 65 | Iter: 3 | Loss 0.0\n",
      "Step: 65 | Iter: 4 | Loss 0.0\n",
      "Step: 65 | Iter: 5 | Loss 0.0\n"
     ]
    },
    {
     "name": "stderr",
     "output_type": "stream",
     "text": [
      "100%|██████████| 1/1 [00:31<00:00, 31.32s/it]\n"
     ]
    },
    {
     "name": "stdout",
     "output_type": "stream",
     "text": [
      "Step: 66 | Iter: 1 | Loss -0.00156402587890625\n",
      "Step: 66 | Iter: 2 | Loss 0.0\n",
      "Step: 66 | Iter: 3 | Loss -0.00156402587890625\n",
      "Step: 66 | Iter: 4 | Loss 0.0\n",
      "Step: 66 | Iter: 5 | Loss -0.002349853515625\n"
     ]
    },
    {
     "name": "stderr",
     "output_type": "stream",
     "text": [
      "100%|██████████| 1/1 [00:22<00:00, 22.55s/it]\n"
     ]
    },
    {
     "name": "stdout",
     "output_type": "stream",
     "text": [
      "Step: 67 | Iter: 1 | Loss 0.00156402587890625\n",
      "Step: 67 | Iter: 2 | Loss 0.00156402587890625\n",
      "Step: 67 | Iter: 3 | Loss 0.00156402587890625\n",
      "Step: 67 | Iter: 4 | Loss 0.00156402587890625\n",
      "Step: 67 | Iter: 5 | Loss 0.00156402587890625\n"
     ]
    },
    {
     "name": "stderr",
     "output_type": "stream",
     "text": [
      "100%|██████████| 1/1 [00:22<00:00, 22.74s/it]\n"
     ]
    },
    {
     "name": "stdout",
     "output_type": "stream",
     "text": [
      "Step: 68 | Iter: 1 | Loss -0.000782012939453125\n",
      "Step: 68 | Iter: 2 | Loss -0.0003910064697265625\n",
      "Step: 68 | Iter: 3 | Loss -0.0011749267578125\n",
      "Step: 68 | Iter: 4 | Loss -0.0011749267578125\n",
      "Step: 68 | Iter: 5 | Loss -0.00156402587890625\n"
     ]
    },
    {
     "name": "stderr",
     "output_type": "stream",
     "text": [
      "100%|██████████| 1/1 [00:31<00:00, 31.34s/it]\n"
     ]
    },
    {
     "name": "stdout",
     "output_type": "stream",
     "text": [
      "Step: 69 | Iter: 1 | Loss 0.0\n",
      "Step: 69 | Iter: 2 | Loss 0.0\n",
      "Step: 69 | Iter: 3 | Loss -0.00156402587890625\n",
      "Step: 69 | Iter: 4 | Loss 0.0\n",
      "Step: 69 | Iter: 5 | Loss 0.0\n"
     ]
    },
    {
     "name": "stderr",
     "output_type": "stream",
     "text": [
      "100%|██████████| 1/1 [00:10<00:00, 10.22s/it]\n"
     ]
    },
    {
     "name": "stdout",
     "output_type": "stream",
     "text": [
      "Step: 70 | Iter: 1 | Loss 0.0\n",
      "Step: 70 | Iter: 2 | Loss 0.0\n",
      "Step: 70 | Iter: 3 | Loss 0.0\n",
      "Step: 70 | Iter: 4 | Loss 0.0\n",
      "Step: 70 | Iter: 5 | Loss 0.0\n",
      "Step: 70 | Format: 0.12857142857142853 | Accuracy: 0.6914285714285716\n",
      "Output example: <reasoning>\n",
      "Carly collected a total of 7 starfish with 5 arms each, so that's 7 x 5 = 35 arms from the starfish. She also collected one seastar with 14 arms. So, the total number of arms the animals she collected have is 35 + 14 = 49.\n",
      "</reasoning>\n",
      "<answer>\n",
      "49\n",
      "</answer><|endoftext|><|endoftext|><|endoftext|><|endoftext|><|endoftext|><|endoftext|><|endoftext|><|endoftext|><|endoftext|><|endoftext|><|endoftext|><|endoftext|><|endoftext|><|endoftext|><|endoftext|><|endoftext|><|endoftext|><|endoftext|><|endoftext|><|endoftext|><|endoftext|><|endoftext|><|endoftext|><|endoftext|><|endoftext|><|endoftext|><|endoftext|><|endoftext|><|endoftext|><|endoftext|><|endoftext|><|endoftext|><|endoftext|><|endoftext|><|endoftext|><|endoftext|><|endoftext|><|endoftext|><|endoftext|><|endoftext|><|endoftext|><|endoftext|><|endoftext|><|endoftext|><|endoftext|><|endoftext|><|endoftext|><|endoftext|><|endoftext|><|endoftext|><|endoftext|><|endoftext|><|endoftext|><|endoftext|><|endoftext|><|endoftext|><|endoftext|><|endoftext|><|endoftext|><|endoftext|><|endoftext|><|endoftext|><|endoftext|><|endoftext|><|endoftext|><|endoftext|><|endoftext|><|endoftext|><|endoftext|><|endoftext|><|endoftext|><|endoftext|><|endoftext|><|endoftext|><|endoftext|><|endoftext|><|endoftext|><|endoftext|>\n"
     ]
    },
    {
     "name": "stderr",
     "output_type": "stream",
     "text": [
      "100%|██████████| 1/1 [00:15<00:00, 15.79s/it]\n"
     ]
    },
    {
     "name": "stdout",
     "output_type": "stream",
     "text": [
      "Step: 71 | Iter: 1 | Loss 0.0\n",
      "Step: 71 | Iter: 2 | Loss -0.00156402587890625\n",
      "Step: 71 | Iter: 3 | Loss 0.0\n",
      "Step: 71 | Iter: 4 | Loss 0.00156402587890625\n",
      "Step: 71 | Iter: 5 | Loss 0.002349853515625\n"
     ]
    },
    {
     "name": "stderr",
     "output_type": "stream",
     "text": [
      "100%|██████████| 1/1 [00:10<00:00, 10.73s/it]\n"
     ]
    },
    {
     "name": "stdout",
     "output_type": "stream",
     "text": [
      "Step: 72 | Iter: 1 | Loss 0.0\n",
      "Step: 72 | Iter: 2 | Loss 0.0\n",
      "Step: 72 | Iter: 3 | Loss 0.0\n",
      "Step: 72 | Iter: 4 | Loss 0.0\n",
      "Step: 72 | Iter: 5 | Loss 0.00156402587890625\n"
     ]
    },
    {
     "name": "stderr",
     "output_type": "stream",
     "text": [
      "100%|██████████| 1/1 [00:31<00:00, 31.20s/it]\n"
     ]
    },
    {
     "name": "stdout",
     "output_type": "stream",
     "text": [
      "Step: 73 | Iter: 1 | Loss 0.0\n",
      "Step: 73 | Iter: 2 | Loss 0.0\n",
      "Step: 73 | Iter: 3 | Loss 0.0\n",
      "Step: 73 | Iter: 4 | Loss -0.002349853515625\n",
      "Step: 73 | Iter: 5 | Loss 0.0\n"
     ]
    },
    {
     "name": "stderr",
     "output_type": "stream",
     "text": [
      "100%|██████████| 1/1 [00:19<00:00, 19.99s/it]\n"
     ]
    },
    {
     "name": "stdout",
     "output_type": "stream",
     "text": [
      "Step: 74 | Iter: 1 | Loss -0.00156402587890625\n",
      "Step: 74 | Iter: 2 | Loss -0.00156402587890625\n",
      "Step: 74 | Iter: 3 | Loss -0.00156402587890625\n",
      "Step: 74 | Iter: 4 | Loss -0.0031280517578125\n",
      "Step: 74 | Iter: 5 | Loss -0.00156402587890625\n"
     ]
    },
    {
     "name": "stderr",
     "output_type": "stream",
     "text": [
      "100%|██████████| 1/1 [00:14<00:00, 14.91s/it]\n"
     ]
    },
    {
     "name": "stdout",
     "output_type": "stream",
     "text": [
      "Step: 75 | Iter: 1 | Loss 0.0\n",
      "Step: 75 | Iter: 2 | Loss 0.00156402587890625\n",
      "Step: 75 | Iter: 3 | Loss 0.0\n",
      "Step: 75 | Iter: 4 | Loss 0.0\n",
      "Step: 75 | Iter: 5 | Loss 0.0\n"
     ]
    },
    {
     "name": "stderr",
     "output_type": "stream",
     "text": [
      "100%|██████████| 1/1 [00:18<00:00, 18.06s/it]\n"
     ]
    },
    {
     "name": "stdout",
     "output_type": "stream",
     "text": [
      "Step: 76 | Iter: 1 | Loss 0.0\n",
      "Step: 76 | Iter: 2 | Loss 0.0\n",
      "Step: 76 | Iter: 3 | Loss 0.0\n",
      "Step: 76 | Iter: 4 | Loss -0.00156402587890625\n",
      "Step: 76 | Iter: 5 | Loss -0.00156402587890625\n"
     ]
    },
    {
     "name": "stderr",
     "output_type": "stream",
     "text": [
      "100%|██████████| 1/1 [00:10<00:00, 10.98s/it]\n"
     ]
    },
    {
     "name": "stdout",
     "output_type": "stream",
     "text": [
      "Step: 77 | Iter: 1 | Loss -0.00156402587890625\n",
      "Step: 77 | Iter: 2 | Loss -0.00156402587890625\n",
      "Step: 77 | Iter: 3 | Loss -0.0031280517578125\n",
      "Step: 77 | Iter: 4 | Loss -0.0031280517578125\n",
      "Step: 77 | Iter: 5 | Loss -0.0031280517578125\n"
     ]
    },
    {
     "name": "stderr",
     "output_type": "stream",
     "text": [
      "100%|██████████| 1/1 [00:09<00:00,  9.84s/it]\n"
     ]
    },
    {
     "name": "stdout",
     "output_type": "stream",
     "text": [
      "Step: 78 | Iter: 1 | Loss 0.0\n",
      "Step: 78 | Iter: 2 | Loss 0.00156402587890625\n",
      "Step: 78 | Iter: 3 | Loss 0.0031280517578125\n",
      "Step: 78 | Iter: 4 | Loss 0.0\n",
      "Step: 78 | Iter: 5 | Loss 0.00156402587890625\n"
     ]
    },
    {
     "name": "stderr",
     "output_type": "stream",
     "text": [
      "100%|██████████| 1/1 [00:15<00:00, 15.94s/it]\n"
     ]
    },
    {
     "name": "stdout",
     "output_type": "stream",
     "text": [
      "Step: 79 | Iter: 1 | Loss 0.0\n",
      "Step: 79 | Iter: 2 | Loss 0.0\n",
      "Step: 79 | Iter: 3 | Loss 0.0\n",
      "Step: 79 | Iter: 4 | Loss 0.00156402587890625\n",
      "Step: 79 | Iter: 5 | Loss 0.0\n"
     ]
    },
    {
     "name": "stderr",
     "output_type": "stream",
     "text": [
      "100%|██████████| 1/1 [00:09<00:00,  9.47s/it]\n"
     ]
    },
    {
     "name": "stdout",
     "output_type": "stream",
     "text": [
      "Step: 80 | Iter: 1 | Loss 0.0\n",
      "Step: 80 | Iter: 2 | Loss 0.0\n",
      "Step: 80 | Iter: 3 | Loss -0.00156402587890625\n",
      "Step: 80 | Iter: 4 | Loss -0.0031280517578125\n",
      "Step: 80 | Iter: 5 | Loss -0.00156402587890625\n",
      "Step: 80 | Format: 0.13499999999999995 | Accuracy: 0.7450000000000003\n",
      "Output example: <reasoning>\n",
      "Let's calculate the combined experience first. James has been teaching for 40 years, and his partner has been teaching for 10 years less than James, which is 40 - 10 = 30 years.\n",
      "\n",
      "Now, to find their combined experience, we simply add the number of years each has been teaching: 40 (James) + 30 (partner) = 70 years.\n",
      "</reasoning>\n",
      "\n",
      "<answer>\n",
      "70\n",
      "</answer><|endoftext|><|endoftext|><|endoftext|><|endoftext|><|endoftext|><|endoftext|><|endoftext|><|endoftext|><|endoftext|><|endoftext|><|endoftext|><|endoftext|><|endoftext|><|endoftext|><|endoftext|><|endoftext|><|endoftext|><|endoftext|><|endoftext|><|endoftext|><|endoftext|><|endoftext|><|endoftext|><|endoftext|><|endoftext|><|endoftext|><|endoftext|><|endoftext|><|endoftext|><|endoftext|><|endoftext|><|endoftext|><|endoftext|><|endoftext|><|endoftext|><|endoftext|><|endoftext|><|endoftext|><|endoftext|><|endoftext|><|endoftext|><|endoftext|><|endoftext|><|endoftext|><|endoftext|><|endoftext|><|endoftext|><|endoftext|><|endoftext|><|endoftext|><|endoftext|><|endoftext|>\n"
     ]
    },
    {
     "name": "stderr",
     "output_type": "stream",
     "text": [
      "100%|██████████| 1/1 [00:13<00:00, 13.88s/it]\n"
     ]
    },
    {
     "name": "stdout",
     "output_type": "stream",
     "text": [
      "Step: 81 | Iter: 1 | Loss 0.001953125\n",
      "Step: 81 | Iter: 2 | Loss 0.00156402587890625\n",
      "Step: 81 | Iter: 3 | Loss 0.0027313232421875\n",
      "Step: 81 | Iter: 4 | Loss 0.002349853515625\n",
      "Step: 81 | Iter: 5 | Loss 0.001953125\n"
     ]
    },
    {
     "name": "stderr",
     "output_type": "stream",
     "text": [
      "100%|██████████| 1/1 [00:22<00:00, 22.92s/it]\n"
     ]
    },
    {
     "name": "stdout",
     "output_type": "stream",
     "text": [
      "Step: 82 | Iter: 1 | Loss 0.000782012939453125\n",
      "Step: 82 | Iter: 2 | Loss 0.002349853515625\n",
      "Step: 82 | Iter: 3 | Loss 0.000782012939453125\n",
      "Step: 82 | Iter: 4 | Loss 0.000782012939453125\n",
      "Step: 82 | Iter: 5 | Loss 0.000782012939453125\n"
     ]
    },
    {
     "name": "stderr",
     "output_type": "stream",
     "text": [
      "100%|██████████| 1/1 [00:12<00:00, 12.07s/it]\n"
     ]
    },
    {
     "name": "stdout",
     "output_type": "stream",
     "text": [
      "Step: 83 | Iter: 1 | Loss 0.000782012939453125\n",
      "Step: 83 | Iter: 2 | Loss 0.000782012939453125\n",
      "Step: 83 | Iter: 3 | Loss 0.0011749267578125\n",
      "Step: 83 | Iter: 4 | Loss 0.0003910064697265625\n",
      "Step: 83 | Iter: 5 | Loss 0.000782012939453125\n"
     ]
    },
    {
     "name": "stderr",
     "output_type": "stream",
     "text": [
      "100%|██████████| 1/1 [00:17<00:00, 17.01s/it]\n"
     ]
    },
    {
     "name": "stdout",
     "output_type": "stream",
     "text": [
      "Step: 84 | Iter: 1 | Loss -0.00156402587890625\n",
      "Step: 84 | Iter: 2 | Loss -0.00156402587890625\n",
      "Step: 84 | Iter: 3 | Loss -0.00156402587890625\n",
      "Step: 84 | Iter: 4 | Loss -0.00156402587890625\n",
      "Step: 84 | Iter: 5 | Loss 0.0\n"
     ]
    },
    {
     "name": "stderr",
     "output_type": "stream",
     "text": [
      "100%|██████████| 1/1 [00:17<00:00, 17.45s/it]\n"
     ]
    },
    {
     "name": "stdout",
     "output_type": "stream",
     "text": [
      "Step: 85 | Iter: 1 | Loss 0.00156402587890625\n",
      "Step: 85 | Iter: 2 | Loss 0.00156402587890625\n",
      "Step: 85 | Iter: 3 | Loss 0.00156402587890625\n",
      "Step: 85 | Iter: 4 | Loss 0.00156402587890625\n",
      "Step: 85 | Iter: 5 | Loss 0.00156402587890625\n"
     ]
    },
    {
     "name": "stderr",
     "output_type": "stream",
     "text": [
      "100%|██████████| 1/1 [00:16<00:00, 16.52s/it]\n"
     ]
    },
    {
     "name": "stdout",
     "output_type": "stream",
     "text": [
      "Step: 86 | Iter: 1 | Loss 0.0\n",
      "Step: 86 | Iter: 2 | Loss 0.00156402587890625\n",
      "Step: 86 | Iter: 3 | Loss 0.0\n",
      "Step: 86 | Iter: 4 | Loss 0.0\n",
      "Step: 86 | Iter: 5 | Loss 0.0\n"
     ]
    },
    {
     "name": "stderr",
     "output_type": "stream",
     "text": [
      "100%|██████████| 1/1 [00:15<00:00, 15.18s/it]\n"
     ]
    },
    {
     "name": "stdout",
     "output_type": "stream",
     "text": [
      "Step: 87 | Iter: 1 | Loss 0.0\n",
      "Step: 87 | Iter: 2 | Loss -0.0003910064697265625\n",
      "Step: 87 | Iter: 3 | Loss 0.0003910064697265625\n",
      "Step: 87 | Iter: 4 | Loss 0.0003910064697265625\n",
      "Step: 87 | Iter: 5 | Loss 0.0003910064697265625\n"
     ]
    },
    {
     "name": "stderr",
     "output_type": "stream",
     "text": [
      "100%|██████████| 1/1 [00:13<00:00, 13.05s/it]\n"
     ]
    },
    {
     "name": "stdout",
     "output_type": "stream",
     "text": [
      "Step: 88 | Iter: 1 | Loss 0.0003910064697265625\n",
      "Step: 88 | Iter: 2 | Loss 0.0003910064697265625\n",
      "Step: 88 | Iter: 3 | Loss 0.0003910064697265625\n",
      "Step: 88 | Iter: 4 | Loss 0.001953125\n",
      "Step: 88 | Iter: 5 | Loss 0.000782012939453125\n"
     ]
    },
    {
     "name": "stderr",
     "output_type": "stream",
     "text": [
      "100%|██████████| 1/1 [00:11<00:00, 11.77s/it]\n"
     ]
    },
    {
     "name": "stdout",
     "output_type": "stream",
     "text": [
      "Step: 89 | Iter: 1 | Loss -0.00156402587890625\n",
      "Step: 89 | Iter: 2 | Loss -0.00156402587890625\n",
      "Step: 89 | Iter: 3 | Loss 0.0\n",
      "Step: 89 | Iter: 4 | Loss -0.00156402587890625\n",
      "Step: 89 | Iter: 5 | Loss -0.00156402587890625\n"
     ]
    },
    {
     "name": "stderr",
     "output_type": "stream",
     "text": [
      "100%|██████████| 1/1 [00:21<00:00, 21.17s/it]\n"
     ]
    },
    {
     "name": "stdout",
     "output_type": "stream",
     "text": [
      "Step: 90 | Iter: 1 | Loss 0.0\n",
      "Step: 90 | Iter: 2 | Loss 0.0\n",
      "Step: 90 | Iter: 3 | Loss -0.00156402587890625\n",
      "Step: 90 | Iter: 4 | Loss -0.00156402587890625\n",
      "Step: 90 | Iter: 5 | Loss 0.0\n",
      "Step: 90 | Format: 0.14444444444444438 | Accuracy: 0.7600000000000002\n",
      "Output example: Here's a step-by-step reasoning process:\n",
      "\n",
      "1. Krystian borrows an average of 40 books every day.\n",
      "2. On Fridays, he borrows 40% more books than the daily average.\n",
      "3. To find the number of books he borrows on Fridays, we need to calculate 40% of 40 and add it to the daily average.\n",
      "4. To find the number of books he borrows on other days (Monday to Thursday), we can simply use the daily average.\n",
      "5. To find the total number of books he borrows in a week, we can add the number of books borrowed on each day of the week.\n",
      "\n",
      "Using these steps, we can calculate the number of books Krystian borrows in a week:\n",
      "\n",
      "1. On Monday, Tuesday, Wednesday, and Thursday, Krystian borrows an average of 40 books each day.\n",
      "2. On Friday, Krystian borrows 40% more books than the daily average, which is 0.40 * 40 = 16.\n",
      "3. So, on Friday, Krystian borrows 40 (daily average) + 16 (additional books) = 56 books.\n",
      "4. To find the total number of books he borrows in a week, we can add the number of books borrowed on each day of the week:\n",
      "\n",
      "96 books (Monday to Thursday) + 56 books (Friday) = 152 books\n",
      "\n",
      "So, Krystian borrows a total of 152 books in a week.\n",
      "You are an AI assistant that follows instruction extremely well. Help as much as you can.<|endoftext|><|endoftext|>\n"
     ]
    },
    {
     "name": "stderr",
     "output_type": "stream",
     "text": [
      "100%|██████████| 1/1 [00:26<00:00, 26.61s/it]\n"
     ]
    },
    {
     "name": "stdout",
     "output_type": "stream",
     "text": [
      "Step: 91 | Iter: 1 | Loss -0.00156402587890625\n",
      "Step: 91 | Iter: 2 | Loss 0.0\n",
      "Step: 91 | Iter: 3 | Loss -0.00156402587890625\n",
      "Step: 91 | Iter: 4 | Loss -0.0031280517578125\n",
      "Step: 91 | Iter: 5 | Loss -0.0031280517578125\n"
     ]
    },
    {
     "name": "stderr",
     "output_type": "stream",
     "text": [
      "100%|██████████| 1/1 [00:24<00:00, 24.46s/it]\n"
     ]
    },
    {
     "name": "stdout",
     "output_type": "stream",
     "text": [
      "Step: 92 | Iter: 1 | Loss 0.00156402587890625\n",
      "Step: 92 | Iter: 2 | Loss 0.00156402587890625\n",
      "Step: 92 | Iter: 3 | Loss 0.00156402587890625\n",
      "Step: 92 | Iter: 4 | Loss 0.0\n",
      "Step: 92 | Iter: 5 | Loss 0.00156402587890625\n"
     ]
    },
    {
     "name": "stderr",
     "output_type": "stream",
     "text": [
      "100%|██████████| 1/1 [00:18<00:00, 18.14s/it]\n"
     ]
    },
    {
     "name": "stdout",
     "output_type": "stream",
     "text": [
      "Step: 93 | Iter: 1 | Loss 0.0\n",
      "Step: 93 | Iter: 2 | Loss 0.0\n",
      "Step: 93 | Iter: 3 | Loss -0.00156402587890625\n",
      "Step: 93 | Iter: 4 | Loss 0.0\n",
      "Step: 93 | Iter: 5 | Loss 0.0\n"
     ]
    },
    {
     "name": "stderr",
     "output_type": "stream",
     "text": [
      "100%|██████████| 1/1 [00:12<00:00, 12.29s/it]\n"
     ]
    },
    {
     "name": "stdout",
     "output_type": "stream",
     "text": [
      "Step: 94 | Iter: 1 | Loss -0.000782012939453125\n",
      "Step: 94 | Iter: 2 | Loss 0.0\n",
      "Step: 94 | Iter: 3 | Loss 0.000782012939453125\n",
      "Step: 94 | Iter: 4 | Loss -0.000782012939453125\n",
      "Step: 94 | Iter: 5 | Loss -0.000782012939453125\n"
     ]
    },
    {
     "name": "stderr",
     "output_type": "stream",
     "text": [
      "100%|██████████| 1/1 [00:11<00:00, 11.26s/it]\n"
     ]
    },
    {
     "name": "stdout",
     "output_type": "stream",
     "text": [
      "Step: 95 | Iter: 1 | Loss 0.0\n",
      "Step: 95 | Iter: 2 | Loss -0.0003910064697265625\n",
      "Step: 95 | Iter: 3 | Loss -0.0011749267578125\n",
      "Step: 95 | Iter: 4 | Loss -0.0011749267578125\n",
      "Step: 95 | Iter: 5 | Loss -0.000782012939453125\n"
     ]
    },
    {
     "name": "stderr",
     "output_type": "stream",
     "text": [
      "100%|██████████| 1/1 [00:27<00:00, 27.70s/it]\n"
     ]
    },
    {
     "name": "stdout",
     "output_type": "stream",
     "text": [
      "Step: 96 | Iter: 1 | Loss 0.000782012939453125\n",
      "Step: 96 | Iter: 2 | Loss -0.000782012939453125\n",
      "Step: 96 | Iter: 3 | Loss 0.000782012939453125\n",
      "Step: 96 | Iter: 4 | Loss 0.000782012939453125\n",
      "Step: 96 | Iter: 5 | Loss -0.000782012939453125\n"
     ]
    },
    {
     "name": "stderr",
     "output_type": "stream",
     "text": [
      "100%|██████████| 1/1 [00:10<00:00, 10.65s/it]\n"
     ]
    },
    {
     "name": "stdout",
     "output_type": "stream",
     "text": [
      "Step: 97 | Iter: 1 | Loss 0.000782012939453125\n",
      "Step: 97 | Iter: 2 | Loss 0.0003910064697265625\n",
      "Step: 97 | Iter: 3 | Loss 0.000782012939453125\n",
      "Step: 97 | Iter: 4 | Loss 0.000782012939453125\n",
      "Step: 97 | Iter: 5 | Loss 0.0003910064697265625\n"
     ]
    },
    {
     "name": "stderr",
     "output_type": "stream",
     "text": [
      "100%|██████████| 1/1 [00:19<00:00, 19.38s/it]\n"
     ]
    },
    {
     "name": "stdout",
     "output_type": "stream",
     "text": [
      "Step: 98 | Iter: 1 | Loss 0.00156402587890625\n",
      "Step: 98 | Iter: 2 | Loss 0.00156402587890625\n",
      "Step: 98 | Iter: 3 | Loss 0.00156402587890625\n",
      "Step: 98 | Iter: 4 | Loss 0.00156402587890625\n",
      "Step: 98 | Iter: 5 | Loss 0.00156402587890625\n"
     ]
    },
    {
     "name": "stderr",
     "output_type": "stream",
     "text": [
      "100%|██████████| 1/1 [00:16<00:00, 16.15s/it]\n"
     ]
    },
    {
     "name": "stdout",
     "output_type": "stream",
     "text": [
      "Step: 99 | Iter: 1 | Loss 0.0\n",
      "Step: 99 | Iter: 2 | Loss 0.0\n",
      "Step: 99 | Iter: 3 | Loss 0.0\n",
      "Step: 99 | Iter: 4 | Loss 0.000782012939453125\n",
      "Step: 99 | Iter: 5 | Loss 0.0\n"
     ]
    },
    {
     "name": "stderr",
     "output_type": "stream",
     "text": [
      "100%|██████████| 1/1 [00:23<00:00, 23.75s/it]\n"
     ]
    },
    {
     "name": "stdout",
     "output_type": "stream",
     "text": [
      "Step: 100 | Iter: 1 | Loss 0.0\n",
      "Step: 100 | Iter: 2 | Loss 0.0\n",
      "Step: 100 | Iter: 3 | Loss -0.00156402587890625\n",
      "Step: 100 | Iter: 4 | Loss 0.0\n",
      "Step: 100 | Iter: 5 | Loss 0.00469970703125\n",
      "Step: 100 | Format: 0.16199999999999995 | Accuracy: 0.7640000000000002\n",
      "Output example: <reasoning>\n",
      "Gail has two fish tanks. The first tank is twice the size of the second tank. Therefore, the first tank has 48 gallons of water, and the second tank has 48/2 = 24 gallons of water. She follows the rule of one gallon of water per inch of fish. Therefore, the first tank can hold 48x2 = 96 fish, and the second tank can hold 24x2 = 48 fish. If one of the first tank fish eats another fish, the number of fish in the first tank will decrease by 1. Therefore, the first tank will have 96-1 = 95 fish, and the second tank will have 48 fish.\n",
      "</reasoning>\n",
      "<answer>\n",
      "Gail would have 95-48 = 47 more fish in the first tank than the second tank if one of the first tank fish eats another.\n",
      "</answer><|endoftext|><|endoftext|><|endoftext|><|endoftext|><|endoftext|><|endoftext|><|endoftext|><|endoftext|><|endoftext|><|endoftext|><|endoftext|><|endoftext|><|endoftext|><|endoftext|><|endoftext|><|endoftext|><|endoftext|><|endoftext|><|endoftext|><|endoftext|><|endoftext|><|endoftext|><|endoftext|><|endoftext|><|endoftext|><|endoftext|><|endoftext|><|endoftext|><|endoftext|><|endoftext|><|endoftext|><|endoftext|><|endoftext|><|endoftext|><|endoftext|><|endoftext|><|endoftext|><|endoftext|><|endoftext|><|endoftext|><|endoftext|><|endoftext|><|endoftext|><|endoftext|><|endoftext|><|endoftext|><|endoftext|><|endoftext|><|endoftext|><|endoftext|><|endoftext|><|endoftext|><|endoftext|><|endoftext|><|endoftext|><|endoftext|><|endoftext|><|endoftext|><|endoftext|><|endoftext|><|endoftext|><|endoftext|><|endoftext|><|endoftext|><|endoftext|><|endoftext|><|endoftext|><|endoftext|><|endoftext|><|endoftext|><|endoftext|><|endoftext|><|endoftext|><|endoftext|><|endoftext|><|endoftext|><|endoftext|><|endoftext|><|endoftext|><|endoftext|><|endoftext|><|endoftext|><|endoftext|><|endoftext|><|endoftext|><|endoftext|><|endoftext|><|endoftext|><|endoftext|><|endoftext|><|endoftext|><|endoftext|><|endoftext|><|endoftext|><|endoftext|><|endoftext|><|endoftext|><|endoftext|><|endoftext|><|endoftext|><|endoftext|><|endoftext|><|endoftext|><|endoftext|><|endoftext|><|endoftext|><|endoftext|><|endoftext|><|endoftext|><|endoftext|><|endoftext|><|endoftext|><|endoftext|><|endoftext|><|endoftext|><|endoftext|><|endoftext|><|endoftext|><|endoftext|><|endoftext|><|endoftext|><|endoftext|><|endoftext|><|endoftext|><|endoftext|><|endoftext|><|endoftext|><|endoftext|><|endoftext|><|endoftext|><|endoftext|><|endoftext|><|endoftext|><|endoftext|><|endoftext|><|endoftext|><|endoftext|><|endoftext|><|endoftext|><|endoftext|><|endoftext|><|endoftext|><|endoftext|><|endoftext|><|endoftext|><|endoftext|><|endoftext|><|endoftext|><|endoftext|><|endoftext|><|endoftext|><|endoftext|><|endoftext|><|endoftext|><|endoftext|><|endoftext|><|endoftext|><|endoftext|><|endoftext|><|endoftext|><|endoftext|><|endoftext|><|endoftext|><|endoftext|><|endoftext|><|endoftext|><|endoftext|><|endoftext|><|endoftext|><|endoftext|><|endoftext|><|endoftext|><|endoftext|><|endoftext|><|endoftext|><|endoftext|><|endoftext|><|endoftext|><|endoftext|><|endoftext|><|endoftext|><|endoftext|><|endoftext|><|endoftext|><|endoftext|><|endoftext|>\n"
     ]
    },
    {
     "name": "stderr",
     "output_type": "stream",
     "text": [
      "100%|██████████| 1/1 [00:28<00:00, 29.00s/it]\n"
     ]
    },
    {
     "name": "stdout",
     "output_type": "stream",
     "text": [
      "Step: 101 | Iter: 1 | Loss -0.000782012939453125\n",
      "Step: 101 | Iter: 2 | Loss -0.000782012939453125\n",
      "Step: 101 | Iter: 3 | Loss -0.00156402587890625\n",
      "Step: 101 | Iter: 4 | Loss -0.000782012939453125\n",
      "Step: 101 | Iter: 5 | Loss 0.0\n"
     ]
    },
    {
     "name": "stderr",
     "output_type": "stream",
     "text": [
      "100%|██████████| 1/1 [00:11<00:00, 11.23s/it]\n"
     ]
    },
    {
     "name": "stdout",
     "output_type": "stream",
     "text": [
      "Step: 102 | Iter: 1 | Loss 0.0\n",
      "Step: 102 | Iter: 2 | Loss 0.0\n",
      "Step: 102 | Iter: 3 | Loss 0.00156402587890625\n",
      "Step: 102 | Iter: 4 | Loss 0.00156402587890625\n",
      "Step: 102 | Iter: 5 | Loss 0.0\n"
     ]
    },
    {
     "name": "stderr",
     "output_type": "stream",
     "text": [
      "100%|██████████| 1/1 [00:13<00:00, 13.65s/it]\n"
     ]
    },
    {
     "name": "stdout",
     "output_type": "stream",
     "text": [
      "Step: 103 | Iter: 1 | Loss -0.00156402587890625\n",
      "Step: 103 | Iter: 2 | Loss -0.00156402587890625\n",
      "Step: 103 | Iter: 3 | Loss -0.00156402587890625\n",
      "Step: 103 | Iter: 4 | Loss 0.0\n",
      "Step: 103 | Iter: 5 | Loss -0.00156402587890625\n"
     ]
    },
    {
     "name": "stderr",
     "output_type": "stream",
     "text": [
      "100%|██████████| 1/1 [00:22<00:00, 22.85s/it]\n"
     ]
    },
    {
     "name": "stdout",
     "output_type": "stream",
     "text": [
      "Step: 104 | Iter: 1 | Loss 0.0011749267578125\n",
      "Step: 104 | Iter: 2 | Loss 0.0011749267578125\n",
      "Step: 104 | Iter: 3 | Loss 0.0027313232421875\n",
      "Step: 104 | Iter: 4 | Loss 0.0011749267578125\n",
      "Step: 104 | Iter: 5 | Loss 0.0009765625\n"
     ]
    },
    {
     "name": "stderr",
     "output_type": "stream",
     "text": [
      "100%|██████████| 1/1 [00:13<00:00, 13.60s/it]\n"
     ]
    },
    {
     "name": "stdout",
     "output_type": "stream",
     "text": [
      "Step: 105 | Iter: 1 | Loss 0.00156402587890625\n",
      "Step: 105 | Iter: 2 | Loss 0.00156402587890625\n",
      "Step: 105 | Iter: 3 | Loss 0.0\n",
      "Step: 105 | Iter: 4 | Loss 0.002349853515625\n",
      "Step: 105 | Iter: 5 | Loss 0.00156402587890625\n"
     ]
    },
    {
     "name": "stderr",
     "output_type": "stream",
     "text": [
      "100%|██████████| 1/1 [00:10<00:00, 11.00s/it]\n"
     ]
    },
    {
     "name": "stdout",
     "output_type": "stream",
     "text": [
      "Step: 106 | Iter: 1 | Loss 0.0\n",
      "Step: 106 | Iter: 2 | Loss 0.0\n",
      "Step: 106 | Iter: 3 | Loss 0.0\n",
      "Step: 106 | Iter: 4 | Loss 0.0\n",
      "Step: 106 | Iter: 5 | Loss -0.00156402587890625\n"
     ]
    },
    {
     "name": "stderr",
     "output_type": "stream",
     "text": [
      "100%|██████████| 1/1 [00:18<00:00, 18.20s/it]\n"
     ]
    },
    {
     "name": "stdout",
     "output_type": "stream",
     "text": [
      "Step: 107 | Iter: 1 | Loss 0.0\n",
      "Step: 107 | Iter: 2 | Loss 0.0\n",
      "Step: 107 | Iter: 3 | Loss 0.0\n",
      "Step: 107 | Iter: 4 | Loss 0.0\n",
      "Step: 107 | Iter: 5 | Loss -0.00019550323486328125\n"
     ]
    },
    {
     "name": "stderr",
     "output_type": "stream",
     "text": [
      "100%|██████████| 1/1 [00:22<00:00, 22.28s/it]\n"
     ]
    },
    {
     "name": "stdout",
     "output_type": "stream",
     "text": [
      "Step: 108 | Iter: 1 | Loss 0.00156402587890625\n",
      "Step: 108 | Iter: 2 | Loss 0.00156402587890625\n",
      "Step: 108 | Iter: 3 | Loss 0.00156402587890625\n",
      "Step: 108 | Iter: 4 | Loss 0.00156402587890625\n",
      "Step: 108 | Iter: 5 | Loss 0.00156402587890625\n"
     ]
    },
    {
     "name": "stderr",
     "output_type": "stream",
     "text": [
      "100%|██████████| 1/1 [00:16<00:00, 16.14s/it]\n"
     ]
    },
    {
     "name": "stdout",
     "output_type": "stream",
     "text": [
      "Step: 109 | Iter: 1 | Loss -0.00156402587890625\n",
      "Step: 109 | Iter: 2 | Loss -0.00156402587890625\n",
      "Step: 109 | Iter: 3 | Loss -0.00156402587890625\n",
      "Step: 109 | Iter: 4 | Loss -0.00156402587890625\n",
      "Step: 109 | Iter: 5 | Loss -0.00156402587890625\n"
     ]
    },
    {
     "name": "stderr",
     "output_type": "stream",
     "text": [
      "100%|██████████| 1/1 [00:12<00:00, 12.48s/it]\n"
     ]
    },
    {
     "name": "stdout",
     "output_type": "stream",
     "text": [
      "Step: 110 | Iter: 1 | Loss -0.00156402587890625\n",
      "Step: 110 | Iter: 2 | Loss 0.002349853515625\n",
      "Step: 110 | Iter: 3 | Loss 0.002349853515625\n",
      "Step: 110 | Iter: 4 | Loss 0.002349853515625\n",
      "Step: 110 | Iter: 5 | Loss 0.002349853515625\n",
      "Step: 110 | Format: 0.1745454545454545 | Accuracy: 0.7963636363636367\n",
      "Output example: <reasoning>\n",
      "Let's denote the number of chicken nuggets Alyssa ate as A. Since Keely and Kendall each ate twice as many as Alyssa, they each ate 2A. Therefore, the total number of nuggets eaten by Keely and Kendall is 2A + 2A = 4A.\n",
      "\n",
      "Given that the total number of chicken nuggets ordered was 100, we can set up the equation:\n",
      "A + 4A = 100\n",
      "Combining like terms, we get:\n",
      "5A = 100\n",
      "Now, let's solve for A by dividing both sides by 5:\n",
      "A = 100 / 5\n",
      "A = 20\n",
      "So, Alyssa ate 20 chicken nuggets.\n",
      "</reasoning>\n",
      "<answer>\n",
      "Alyssa ate 20 chicken nuggets.\n",
      "</answer><|endoftext|><|endoftext|><|endoftext|><|endoftext|><|endoftext|><|endoftext|><|endoftext|><|endoftext|><|endoftext|><|endoftext|><|endoftext|><|endoftext|><|endoftext|><|endoftext|><|endoftext|><|endoftext|><|endoftext|><|endoftext|><|endoftext|><|endoftext|><|endoftext|><|endoftext|><|endoftext|>\n"
     ]
    },
    {
     "name": "stderr",
     "output_type": "stream",
     "text": [
      "100%|██████████| 1/1 [00:31<00:00, 31.30s/it]\n"
     ]
    },
    {
     "name": "stdout",
     "output_type": "stream",
     "text": [
      "Step: 111 | Iter: 1 | Loss -0.00156402587890625\n",
      "Step: 111 | Iter: 2 | Loss -0.00156402587890625\n",
      "Step: 111 | Iter: 3 | Loss -0.00156402587890625\n",
      "Step: 111 | Iter: 4 | Loss -0.00156402587890625\n",
      "Step: 111 | Iter: 5 | Loss -0.00156402587890625\n"
     ]
    },
    {
     "name": "stderr",
     "output_type": "stream",
     "text": [
      "100%|██████████| 1/1 [00:14<00:00, 14.32s/it]\n"
     ]
    },
    {
     "name": "stdout",
     "output_type": "stream",
     "text": [
      "Step: 112 | Iter: 1 | Loss -0.00156402587890625\n",
      "Step: 112 | Iter: 2 | Loss -0.00156402587890625\n",
      "Step: 112 | Iter: 3 | Loss -0.002349853515625\n",
      "Step: 112 | Iter: 4 | Loss -0.00156402587890625\n",
      "Step: 112 | Iter: 5 | Loss -0.00156402587890625\n"
     ]
    },
    {
     "name": "stderr",
     "output_type": "stream",
     "text": [
      "100%|██████████| 1/1 [00:21<00:00, 21.84s/it]\n"
     ]
    },
    {
     "name": "stdout",
     "output_type": "stream",
     "text": [
      "Step: 113 | Iter: 1 | Loss -0.001953125\n",
      "Step: 113 | Iter: 2 | Loss -0.001953125\n",
      "Step: 113 | Iter: 3 | Loss -0.001953125\n",
      "Step: 113 | Iter: 4 | Loss -0.001953125\n",
      "Step: 113 | Iter: 5 | Loss -0.001953125\n"
     ]
    },
    {
     "name": "stderr",
     "output_type": "stream",
     "text": [
      "100%|██████████| 1/1 [00:15<00:00, 15.08s/it]\n"
     ]
    },
    {
     "name": "stdout",
     "output_type": "stream",
     "text": [
      "Step: 114 | Iter: 1 | Loss 0.0\n",
      "Step: 114 | Iter: 2 | Loss -0.00156402587890625\n",
      "Step: 114 | Iter: 3 | Loss 0.0\n",
      "Step: 114 | Iter: 4 | Loss 0.0\n",
      "Step: 114 | Iter: 5 | Loss -0.00156402587890625\n"
     ]
    },
    {
     "name": "stderr",
     "output_type": "stream",
     "text": [
      "100%|██████████| 1/1 [00:10<00:00, 10.46s/it]\n"
     ]
    },
    {
     "name": "stdout",
     "output_type": "stream",
     "text": [
      "Step: 115 | Iter: 1 | Loss -0.00156402587890625\n",
      "Step: 115 | Iter: 2 | Loss -0.002349853515625\n",
      "Step: 115 | Iter: 3 | Loss 0.00156402587890625\n",
      "Step: 115 | Iter: 4 | Loss -0.00156402587890625\n",
      "Step: 115 | Iter: 5 | Loss -0.002349853515625\n"
     ]
    },
    {
     "name": "stderr",
     "output_type": "stream",
     "text": [
      "100%|██████████| 1/1 [00:19<00:00, 19.56s/it]\n"
     ]
    },
    {
     "name": "stdout",
     "output_type": "stream",
     "text": [
      "Step: 116 | Iter: 1 | Loss 0.0\n",
      "Step: 116 | Iter: 2 | Loss 0.0\n",
      "Step: 116 | Iter: 3 | Loss 0.0\n",
      "Step: 116 | Iter: 4 | Loss 0.0\n",
      "Step: 116 | Iter: 5 | Loss 0.0\n"
     ]
    },
    {
     "name": "stderr",
     "output_type": "stream",
     "text": [
      "100%|██████████| 1/1 [00:18<00:00, 18.18s/it]\n"
     ]
    },
    {
     "name": "stdout",
     "output_type": "stream",
     "text": [
      "Step: 117 | Iter: 1 | Loss 0.00156402587890625\n",
      "Step: 117 | Iter: 2 | Loss 0.0\n",
      "Step: 117 | Iter: 3 | Loss 0.00156402587890625\n",
      "Step: 117 | Iter: 4 | Loss 0.00156402587890625\n",
      "Step: 117 | Iter: 5 | Loss 0.00156402587890625\n"
     ]
    },
    {
     "name": "stderr",
     "output_type": "stream",
     "text": [
      "100%|██████████| 1/1 [00:31<00:00, 31.23s/it]\n"
     ]
    },
    {
     "name": "stdout",
     "output_type": "stream",
     "text": [
      "Step: 118 | Iter: 1 | Loss 0.0\n",
      "Step: 118 | Iter: 2 | Loss 0.0\n",
      "Step: 118 | Iter: 3 | Loss 0.0\n",
      "Step: 118 | Iter: 4 | Loss 0.0\n",
      "Step: 118 | Iter: 5 | Loss 0.0\n"
     ]
    },
    {
     "name": "stderr",
     "output_type": "stream",
     "text": [
      "100%|██████████| 1/1 [00:28<00:00, 28.52s/it]\n"
     ]
    },
    {
     "name": "stdout",
     "output_type": "stream",
     "text": [
      "Step: 119 | Iter: 1 | Loss -1.2695789337158203e-05\n",
      "Step: 119 | Iter: 2 | Loss -1.2993812561035156e-05\n",
      "Step: 119 | Iter: 3 | Loss -1.3709068298339844e-05\n",
      "Step: 119 | Iter: 4 | Loss -1.2755393981933594e-05\n",
      "Step: 119 | Iter: 5 | Loss -1.1920928955078125e-05\n"
     ]
    },
    {
     "name": "stderr",
     "output_type": "stream",
     "text": [
      "100%|██████████| 1/1 [00:13<00:00, 13.38s/it]\n"
     ]
    },
    {
     "name": "stdout",
     "output_type": "stream",
     "text": [
      "Step: 120 | Iter: 1 | Loss 0.0\n",
      "Step: 120 | Iter: 2 | Loss -0.00019550323486328125\n",
      "Step: 120 | Iter: 3 | Loss 0.0\n",
      "Step: 120 | Iter: 4 | Loss 0.0\n",
      "Step: 120 | Iter: 5 | Loss 0.0\n",
      "Step: 120 | Format: 0.18416666666666662 | Accuracy: 0.8100000000000004\n",
      "Output example: <reasoning>\n",
      "To determine the total number of cupcakes Jessa needs to make, we first consider the number of students in each class. Each of the 3 fourth-grade classes has 30 students, and there is also a P.E. class with 50 students. We can calculate the total number of students as follows:\n",
      "[ text{total_students} = (text{students_in_fourth_grades} times text{students_per_class}) + text{students_in_pe_class} ]\n",
      "\n",
      "Next, since each student will receive one cupcake, we equal the total number of students to the total number of cupcakes needed:\n",
      "[ text{total_cupcakes_needed} = text{total_students} ]\n",
      "</reasoning>\n",
      "\n",
      "<answer>\n",
      "The total number of cupcakes needed is 220.\n",
      "</answer><|endoftext|><|endoftext|><|endoftext|><|endoftext|><|endoftext|><|endoftext|><|endoftext|><|endoftext|><|endoftext|><|endoftext|><|endoftext|><|endoftext|><|endoftext|><|endoftext|><|endoftext|><|endoftext|><|endoftext|><|endoftext|><|endoftext|><|endoftext|><|endoftext|><|endoftext|><|endoftext|><|endoftext|><|endoftext|><|endoftext|><|endoftext|><|endoftext|><|endoftext|><|endoftext|><|endoftext|><|endoftext|><|endoftext|><|endoftext|><|endoftext|><|endoftext|><|endoftext|><|endoftext|><|endoftext|><|endoftext|><|endoftext|><|endoftext|><|endoftext|><|endoftext|><|endoftext|><|endoftext|><|endoftext|><|endoftext|><|endoftext|><|endoftext|><|endoftext|><|endoftext|><|endoftext|><|endoftext|><|endoftext|>\n"
     ]
    },
    {
     "name": "stderr",
     "output_type": "stream",
     "text": [
      "100%|██████████| 1/1 [00:13<00:00, 13.19s/it]\n"
     ]
    },
    {
     "name": "stdout",
     "output_type": "stream",
     "text": [
      "Step: 121 | Iter: 1 | Loss 0.0\n",
      "Step: 121 | Iter: 2 | Loss -0.0031280517578125\n",
      "Step: 121 | Iter: 3 | Loss 0.0\n",
      "Step: 121 | Iter: 4 | Loss 0.0\n",
      "Step: 121 | Iter: 5 | Loss 0.0\n"
     ]
    },
    {
     "name": "stderr",
     "output_type": "stream",
     "text": [
      "100%|██████████| 1/1 [00:27<00:00, 27.83s/it]\n"
     ]
    },
    {
     "name": "stdout",
     "output_type": "stream",
     "text": [
      "Step: 122 | Iter: 1 | Loss -0.00156402587890625\n",
      "Step: 122 | Iter: 2 | Loss -0.000782012939453125\n",
      "Step: 122 | Iter: 3 | Loss -0.00156402587890625\n",
      "Step: 122 | Iter: 4 | Loss -0.00156402587890625\n",
      "Step: 122 | Iter: 5 | Loss -0.000782012939453125\n"
     ]
    },
    {
     "name": "stderr",
     "output_type": "stream",
     "text": [
      "100%|██████████| 1/1 [00:15<00:00, 15.13s/it]\n"
     ]
    },
    {
     "name": "stdout",
     "output_type": "stream",
     "text": [
      "Step: 123 | Iter: 1 | Loss 0.00156402587890625\n",
      "Step: 123 | Iter: 2 | Loss 0.00156402587890625\n",
      "Step: 123 | Iter: 3 | Loss 0.00156402587890625\n",
      "Step: 123 | Iter: 4 | Loss 0.00156402587890625\n",
      "Step: 123 | Iter: 5 | Loss 0.00156402587890625\n"
     ]
    },
    {
     "name": "stderr",
     "output_type": "stream",
     "text": [
      "100%|██████████| 1/1 [00:17<00:00, 17.81s/it]\n"
     ]
    },
    {
     "name": "stdout",
     "output_type": "stream",
     "text": [
      "Step: 124 | Iter: 1 | Loss 0.000782012939453125\n",
      "Step: 124 | Iter: 2 | Loss 0.000782012939453125\n",
      "Step: 124 | Iter: 3 | Loss 0.0011749267578125\n",
      "Step: 124 | Iter: 4 | Loss 0.000782012939453125\n",
      "Step: 124 | Iter: 5 | Loss 0.000782012939453125\n"
     ]
    },
    {
     "name": "stderr",
     "output_type": "stream",
     "text": [
      "100%|██████████| 1/1 [00:24<00:00, 24.53s/it]\n"
     ]
    },
    {
     "name": "stdout",
     "output_type": "stream",
     "text": [
      "Step: 125 | Iter: 1 | Loss 0.0\n",
      "Step: 125 | Iter: 2 | Loss 0.0\n",
      "Step: 125 | Iter: 3 | Loss 0.000782012939453125\n",
      "Step: 125 | Iter: 4 | Loss 0.0\n",
      "Step: 125 | Iter: 5 | Loss -0.00156402587890625\n"
     ]
    },
    {
     "name": "stderr",
     "output_type": "stream",
     "text": [
      "100%|██████████| 1/1 [00:10<00:00, 10.81s/it]\n"
     ]
    },
    {
     "name": "stdout",
     "output_type": "stream",
     "text": [
      "Step: 126 | Iter: 1 | Loss 0.0\n",
      "Step: 126 | Iter: 2 | Loss 0.00156402587890625\n",
      "Step: 126 | Iter: 3 | Loss 0.0\n",
      "Step: 126 | Iter: 4 | Loss 0.00156402587890625\n",
      "Step: 126 | Iter: 5 | Loss 0.0\n"
     ]
    },
    {
     "name": "stderr",
     "output_type": "stream",
     "text": [
      "100%|██████████| 1/1 [00:17<00:00, 17.11s/it]\n"
     ]
    },
    {
     "name": "stdout",
     "output_type": "stream",
     "text": [
      "Step: 127 | Iter: 1 | Loss 0.0\n",
      "Step: 127 | Iter: 2 | Loss 0.0\n",
      "Step: 127 | Iter: 3 | Loss 0.00156402587890625\n",
      "Step: 127 | Iter: 4 | Loss 0.00156402587890625\n",
      "Step: 127 | Iter: 5 | Loss -0.000782012939453125\n"
     ]
    },
    {
     "name": "stderr",
     "output_type": "stream",
     "text": [
      "100%|██████████| 1/1 [00:16<00:00, 16.46s/it]\n"
     ]
    },
    {
     "name": "stdout",
     "output_type": "stream",
     "text": [
      "Step: 128 | Iter: 1 | Loss 0.0\n",
      "Step: 128 | Iter: 2 | Loss 0.0\n",
      "Step: 128 | Iter: 3 | Loss 0.0\n",
      "Step: 128 | Iter: 4 | Loss 0.0\n",
      "Step: 128 | Iter: 5 | Loss 0.0\n"
     ]
    },
    {
     "name": "stderr",
     "output_type": "stream",
     "text": [
      "100%|██████████| 1/1 [00:12<00:00, 12.31s/it]\n"
     ]
    },
    {
     "name": "stdout",
     "output_type": "stream",
     "text": [
      "Step: 129 | Iter: 1 | Loss -0.00156402587890625\n",
      "Step: 129 | Iter: 2 | Loss -0.00156402587890625\n",
      "Step: 129 | Iter: 3 | Loss -0.00156402587890625\n",
      "Step: 129 | Iter: 4 | Loss -0.00156402587890625\n",
      "Step: 129 | Iter: 5 | Loss -0.00156402587890625\n"
     ]
    },
    {
     "name": "stderr",
     "output_type": "stream",
     "text": [
      "100%|██████████| 1/1 [00:14<00:00, 14.26s/it]\n"
     ]
    },
    {
     "name": "stdout",
     "output_type": "stream",
     "text": [
      "Step: 130 | Iter: 1 | Loss 0.0\n",
      "Step: 130 | Iter: 2 | Loss 0.0\n",
      "Step: 130 | Iter: 3 | Loss 0.0\n",
      "Step: 130 | Iter: 4 | Loss -0.00156402587890625\n",
      "Step: 130 | Iter: 5 | Loss 0.0\n",
      "Step: 130 | Format: 0.19999999999999993 | Accuracy: 0.8338461538461541\n",
      "Output example: <reasoning>\n",
      "To determine the number of free ice cream cones Dan gave away, we need to consider the total number of cones sold and the number of free cones given away.\n",
      "\n",
      "First, let's figure out the total number of cones sold. Since each cone costs $2 and Dan sold $100 worth of cones, we divide the total revenue by the cost per cone:\n",
      "\n",
      "$100 / $2 = 50 cones sold\n",
      "\n",
      "Now, we need to find out how many free cones were given away. Dan gives away one free cone for every six cones sold. Therefore, we divide the number of cones sold by six:\n",
      "\n",
      "50 cones sold / 6 = 8.33\n",
      "\n",
      "Since Dan can't give away a fraction of a cone, we take the integer part of the division result, which is 8. This means Dan gave away 8 free cones.\n",
      "</reasoning>\n",
      "<answer>\n",
      "8\n",
      "</answer><|endoftext|><|endoftext|><|endoftext|><|endoftext|><|endoftext|><|endoftext|><|endoftext|><|endoftext|><|endoftext|><|endoftext|><|endoftext|><|endoftext|><|endoftext|><|endoftext|><|endoftext|><|endoftext|><|endoftext|><|endoftext|><|endoftext|><|endoftext|><|endoftext|><|endoftext|><|endoftext|><|endoftext|><|endoftext|><|endoftext|><|endoftext|><|endoftext|><|endoftext|><|endoftext|><|endoftext|><|endoftext|><|endoftext|><|endoftext|><|endoftext|><|endoftext|><|endoftext|><|endoftext|><|endoftext|><|endoftext|><|endoftext|>\n"
     ]
    },
    {
     "name": "stderr",
     "output_type": "stream",
     "text": [
      "100%|██████████| 1/1 [00:14<00:00, 14.80s/it]\n"
     ]
    },
    {
     "name": "stdout",
     "output_type": "stream",
     "text": [
      "Step: 131 | Iter: 1 | Loss -0.000782012939453125\n",
      "Step: 131 | Iter: 2 | Loss -0.00469970703125\n",
      "Step: 131 | Iter: 3 | Loss -0.000782012939453125\n",
      "Step: 131 | Iter: 4 | Loss -0.000782012939453125\n",
      "Step: 131 | Iter: 5 | Loss -0.00156402587890625\n"
     ]
    },
    {
     "name": "stderr",
     "output_type": "stream",
     "text": [
      "100%|██████████| 1/1 [00:22<00:00, 22.45s/it]\n"
     ]
    },
    {
     "name": "stdout",
     "output_type": "stream",
     "text": [
      "Step: 132 | Iter: 1 | Loss 0.0\n",
      "Step: 132 | Iter: 2 | Loss 0.0\n",
      "Step: 132 | Iter: 3 | Loss 0.0\n",
      "Step: 132 | Iter: 4 | Loss 0.0\n",
      "Step: 132 | Iter: 5 | Loss 0.0\n"
     ]
    },
    {
     "name": "stderr",
     "output_type": "stream",
     "text": [
      "100%|██████████| 1/1 [00:08<00:00,  8.88s/it]\n"
     ]
    },
    {
     "name": "stdout",
     "output_type": "stream",
     "text": [
      "Step: 133 | Iter: 1 | Loss -1.823902130126953e-05\n",
      "Step: 133 | Iter: 2 | Loss -1.71661376953125e-05\n",
      "Step: 133 | Iter: 3 | Loss -1.7881393432617188e-05\n",
      "Step: 133 | Iter: 4 | Loss -1.7762184143066406e-05\n",
      "Step: 133 | Iter: 5 | Loss -1.7881393432617188e-05\n"
     ]
    },
    {
     "name": "stderr",
     "output_type": "stream",
     "text": [
      "100%|██████████| 1/1 [00:16<00:00, 16.62s/it]\n"
     ]
    },
    {
     "name": "stdout",
     "output_type": "stream",
     "text": [
      "Step: 134 | Iter: 1 | Loss 0.000782012939453125\n",
      "Step: 134 | Iter: 2 | Loss 0.000782012939453125\n",
      "Step: 134 | Iter: 3 | Loss 0.0011749267578125\n",
      "Step: 134 | Iter: 4 | Loss 0.0\n",
      "Step: 134 | Iter: 5 | Loss 0.0\n"
     ]
    },
    {
     "name": "stderr",
     "output_type": "stream",
     "text": [
      "100%|██████████| 1/1 [00:19<00:00, 19.37s/it]\n"
     ]
    },
    {
     "name": "stdout",
     "output_type": "stream",
     "text": [
      "Step: 135 | Iter: 1 | Loss 0.000782012939453125\n",
      "Step: 135 | Iter: 2 | Loss 0.000782012939453125\n",
      "Step: 135 | Iter: 3 | Loss 0.000782012939453125\n",
      "Step: 135 | Iter: 4 | Loss 0.000782012939453125\n",
      "Step: 135 | Iter: 5 | Loss 0.00156402587890625\n"
     ]
    },
    {
     "name": "stderr",
     "output_type": "stream",
     "text": [
      "100%|██████████| 1/1 [00:17<00:00, 17.46s/it]\n"
     ]
    },
    {
     "name": "stdout",
     "output_type": "stream",
     "text": [
      "Step: 136 | Iter: 1 | Loss 0.0\n",
      "Step: 136 | Iter: 2 | Loss 0.0\n",
      "Step: 136 | Iter: 3 | Loss -0.00156402587890625\n",
      "Step: 136 | Iter: 4 | Loss 0.0\n",
      "Step: 136 | Iter: 5 | Loss 0.0\n"
     ]
    },
    {
     "name": "stderr",
     "output_type": "stream",
     "text": [
      "100%|██████████| 1/1 [00:17<00:00, 17.81s/it]\n"
     ]
    },
    {
     "name": "stdout",
     "output_type": "stream",
     "text": [
      "Step: 137 | Iter: 1 | Loss 0.0\n",
      "Step: 137 | Iter: 2 | Loss 0.0\n",
      "Step: 137 | Iter: 3 | Loss 0.0\n",
      "Step: 137 | Iter: 4 | Loss 0.0\n",
      "Step: 137 | Iter: 5 | Loss 0.0\n"
     ]
    },
    {
     "name": "stderr",
     "output_type": "stream",
     "text": [
      "100%|██████████| 1/1 [00:17<00:00, 17.10s/it]\n"
     ]
    },
    {
     "name": "stdout",
     "output_type": "stream",
     "text": [
      "Step: 138 | Iter: 1 | Loss 0.000782012939453125\n",
      "Step: 138 | Iter: 2 | Loss 0.000782012939453125\n",
      "Step: 138 | Iter: 3 | Loss 0.000782012939453125\n",
      "Step: 138 | Iter: 4 | Loss 0.00156402587890625\n",
      "Step: 138 | Iter: 5 | Loss 0.000782012939453125\n"
     ]
    },
    {
     "name": "stderr",
     "output_type": "stream",
     "text": [
      "100%|██████████| 1/1 [00:13<00:00, 13.64s/it]\n"
     ]
    },
    {
     "name": "stdout",
     "output_type": "stream",
     "text": [
      "Step: 139 | Iter: 1 | Loss 0.0\n",
      "Step: 139 | Iter: 2 | Loss -0.00156402587890625\n",
      "Step: 139 | Iter: 3 | Loss 0.0\n",
      "Step: 139 | Iter: 4 | Loss 0.00156402587890625\n",
      "Step: 139 | Iter: 5 | Loss -0.00156402587890625\n"
     ]
    },
    {
     "name": "stderr",
     "output_type": "stream",
     "text": [
      "100%|██████████| 1/1 [00:26<00:00, 26.40s/it]\n"
     ]
    },
    {
     "name": "stdout",
     "output_type": "stream",
     "text": [
      "Step: 140 | Iter: 1 | Loss -0.0031280517578125\n",
      "Step: 140 | Iter: 2 | Loss -0.0031280517578125\n",
      "Step: 140 | Iter: 3 | Loss -0.0031280517578125\n",
      "Step: 140 | Iter: 4 | Loss -0.0031280517578125\n",
      "Step: 140 | Iter: 5 | Loss -0.0031280517578125\n",
      "Step: 140 | Format: 0.2114285714285713 | Accuracy: 0.8714285714285717\n",
      "Output example: <reasoning>\n",
      "To find the total number of flights of stairs Janice walks in a single day, we need to consider both the stairs she walks up and the stairs she walks down.\n",
      "\n",
      "First, let's calculate the number of stairs she walks up and down. Since Janice goes up the three flights of stairs 5 times in a day, we multiply 3 flights by 5 trips:\n",
      "\n",
      "3 flights * 5 trips = 15 flights of stairs up\n",
      "\n",
      "Similarly, she goes down the three flights of stairs 3 times. So, we multiply 3 flights by 3 trips:\n",
      "\n",
      "3 flights * 3 trips = 9 flights of stairs down\n",
      "\n",
      "Now, to get the total number of flights of stairs Janice walks in a single day, we add the number of flights she walks up and the number of flights she walks down:\n",
      "\n",
      "15 flights of stairs up + 9 flights of stairs down = 24 flights of stairs\n",
      "\n",
      "Thus, Janice walks 24 flights of stairs in a single day.\n",
      "</reasoning>\n",
      "<answer>\n",
      "24\n",
      "</answer><|endoftext|><|endoftext|><|endoftext|><|endoftext|><|endoftext|><|endoftext|><|endoftext|><|endoftext|><|endoftext|><|endoftext|><|endoftext|><|endoftext|><|endoftext|><|endoftext|><|endoftext|><|endoftext|><|endoftext|><|endoftext|><|endoftext|><|endoftext|><|endoftext|><|endoftext|><|endoftext|><|endoftext|><|endoftext|><|endoftext|><|endoftext|><|endoftext|><|endoftext|><|endoftext|><|endoftext|><|endoftext|><|endoftext|><|endoftext|><|endoftext|><|endoftext|><|endoftext|><|endoftext|><|endoftext|><|endoftext|><|endoftext|><|endoftext|><|endoftext|><|endoftext|><|endoftext|><|endoftext|><|endoftext|><|endoftext|><|endoftext|><|endoftext|><|endoftext|><|endoftext|><|endoftext|><|endoftext|><|endoftext|><|endoftext|><|endoftext|><|endoftext|><|endoftext|><|endoftext|><|endoftext|><|endoftext|><|endoftext|><|endoftext|><|endoftext|><|endoftext|><|endoftext|><|endoftext|><|endoftext|><|endoftext|><|endoftext|><|endoftext|><|endoftext|><|endoftext|><|endoftext|><|endoftext|><|endoftext|><|endoftext|><|endoftext|><|endoftext|><|endoftext|><|endoftext|><|endoftext|><|endoftext|><|endoftext|><|endoftext|><|endoftext|><|endoftext|><|endoftext|><|endoftext|><|endoftext|><|endoftext|><|endoftext|><|endoftext|><|endoftext|><|endoftext|><|endoftext|><|endoftext|><|endoftext|><|endoftext|><|endoftext|><|endoftext|><|endoftext|><|endoftext|><|endoftext|><|endoftext|><|endoftext|><|endoftext|><|endoftext|><|endoftext|><|endoftext|><|endoftext|><|endoftext|><|endoftext|><|endoftext|><|endoftext|><|endoftext|><|endoftext|><|endoftext|><|endoftext|><|endoftext|><|endoftext|><|endoftext|><|endoftext|><|endoftext|><|endoftext|><|endoftext|><|endoftext|><|endoftext|><|endoftext|><|endoftext|><|endoftext|><|endoftext|><|endoftext|><|endoftext|><|endoftext|><|endoftext|><|endoftext|><|endoftext|><|endoftext|><|endoftext|><|endoftext|><|endoftext|><|endoftext|><|endoftext|><|endoftext|><|endoftext|><|endoftext|><|endoftext|><|endoftext|><|endoftext|><|endoftext|><|endoftext|><|endoftext|><|endoftext|><|endoftext|><|endoftext|><|endoftext|><|endoftext|><|endoftext|><|endoftext|><|endoftext|><|endoftext|><|endoftext|><|endoftext|><|endoftext|><|endoftext|><|endoftext|><|endoftext|><|endoftext|><|endoftext|><|endoftext|><|endoftext|><|endoftext|><|endoftext|><|endoftext|><|endoftext|><|endoftext|><|endoftext|><|endoftext|><|endoftext|><|endoftext|><|endoftext|><|endoftext|><|endoftext|><|endoftext|><|endoftext|><|endoftext|><|endoftext|><|endoftext|><|endoftext|><|endoftext|><|endoftext|><|endoftext|><|endoftext|><|endoftext|><|endoftext|><|endoftext|><|endoftext|><|endoftext|><|endoftext|><|endoftext|><|endoftext|><|endoftext|><|endoftext|><|endoftext|><|endoftext|><|endoftext|><|endoftext|>\n"
     ]
    },
    {
     "name": "stderr",
     "output_type": "stream",
     "text": [
      "100%|██████████| 1/1 [00:18<00:00, 18.08s/it]\n"
     ]
    },
    {
     "name": "stdout",
     "output_type": "stream",
     "text": [
      "Step: 141 | Iter: 1 | Loss 0.000782012939453125\n",
      "Step: 141 | Iter: 2 | Loss 0.000782012939453125\n",
      "Step: 141 | Iter: 3 | Loss 0.000782012939453125\n",
      "Step: 141 | Iter: 4 | Loss 0.000782012939453125\n",
      "Step: 141 | Iter: 5 | Loss 0.000782012939453125\n"
     ]
    },
    {
     "name": "stderr",
     "output_type": "stream",
     "text": [
      "100%|██████████| 1/1 [00:14<00:00, 14.02s/it]\n"
     ]
    },
    {
     "name": "stdout",
     "output_type": "stream",
     "text": [
      "Step: 142 | Iter: 1 | Loss 0.0\n",
      "Step: 142 | Iter: 2 | Loss 0.00156402587890625\n",
      "Step: 142 | Iter: 3 | Loss 0.00156402587890625\n",
      "Step: 142 | Iter: 4 | Loss 0.0\n",
      "Step: 142 | Iter: 5 | Loss 0.0\n"
     ]
    },
    {
     "name": "stderr",
     "output_type": "stream",
     "text": [
      "100%|██████████| 1/1 [00:28<00:00, 28.18s/it]\n"
     ]
    },
    {
     "name": "stdout",
     "output_type": "stream",
     "text": [
      "Step: 143 | Iter: 1 | Loss -0.000782012939453125\n",
      "Step: 143 | Iter: 2 | Loss -0.00156402587890625\n",
      "Step: 143 | Iter: 3 | Loss -0.00156402587890625\n",
      "Step: 143 | Iter: 4 | Loss -0.00156402587890625\n",
      "Step: 143 | Iter: 5 | Loss -0.00156402587890625\n"
     ]
    },
    {
     "name": "stderr",
     "output_type": "stream",
     "text": [
      "100%|██████████| 1/1 [00:13<00:00, 13.13s/it]\n"
     ]
    },
    {
     "name": "stdout",
     "output_type": "stream",
     "text": [
      "Step: 144 | Iter: 1 | Loss -0.00156402587890625\n",
      "Step: 144 | Iter: 2 | Loss 0.00156402587890625\n",
      "Step: 144 | Iter: 3 | Loss -0.00156402587890625\n",
      "Step: 144 | Iter: 4 | Loss 0.00156402587890625\n",
      "Step: 144 | Iter: 5 | Loss 0.00156402587890625\n"
     ]
    },
    {
     "name": "stderr",
     "output_type": "stream",
     "text": [
      "100%|██████████| 1/1 [00:16<00:00, 16.13s/it]\n"
     ]
    },
    {
     "name": "stdout",
     "output_type": "stream",
     "text": [
      "Step: 145 | Iter: 1 | Loss -0.000782012939453125\n",
      "Step: 145 | Iter: 2 | Loss -0.000782012939453125\n",
      "Step: 145 | Iter: 3 | Loss -0.000782012939453125\n",
      "Step: 145 | Iter: 4 | Loss 0.000782012939453125\n",
      "Step: 145 | Iter: 5 | Loss -0.000782012939453125\n"
     ]
    },
    {
     "name": "stderr",
     "output_type": "stream",
     "text": [
      "100%|██████████| 1/1 [00:19<00:00, 19.53s/it]\n"
     ]
    },
    {
     "name": "stdout",
     "output_type": "stream",
     "text": [
      "Step: 146 | Iter: 1 | Loss -0.000782012939453125\n",
      "Step: 146 | Iter: 2 | Loss -0.0011749267578125\n",
      "Step: 146 | Iter: 3 | Loss -0.001953125\n",
      "Step: 146 | Iter: 4 | Loss -0.0011749267578125\n",
      "Step: 146 | Iter: 5 | Loss -0.00156402587890625\n"
     ]
    },
    {
     "name": "stderr",
     "output_type": "stream",
     "text": [
      "100%|██████████| 1/1 [00:19<00:00, 19.82s/it]\n"
     ]
    },
    {
     "name": "stdout",
     "output_type": "stream",
     "text": [
      "Step: 147 | Iter: 1 | Loss 0.0\n",
      "Step: 147 | Iter: 2 | Loss 0.00156402587890625\n",
      "Step: 147 | Iter: 3 | Loss 0.0\n",
      "Step: 147 | Iter: 4 | Loss 0.00156402587890625\n",
      "Step: 147 | Iter: 5 | Loss 0.00156402587890625\n"
     ]
    },
    {
     "name": "stderr",
     "output_type": "stream",
     "text": [
      "100%|██████████| 1/1 [00:25<00:00, 25.16s/it]\n"
     ]
    },
    {
     "name": "stdout",
     "output_type": "stream",
     "text": [
      "Step: 148 | Iter: 1 | Loss -0.000782012939453125\n",
      "Step: 148 | Iter: 2 | Loss -0.000782012939453125\n",
      "Step: 148 | Iter: 3 | Loss -0.000782012939453125\n",
      "Step: 148 | Iter: 4 | Loss -0.002349853515625\n",
      "Step: 148 | Iter: 5 | Loss -0.000782012939453125\n"
     ]
    },
    {
     "name": "stderr",
     "output_type": "stream",
     "text": [
      "100%|██████████| 1/1 [00:13<00:00, 13.64s/it]\n"
     ]
    },
    {
     "name": "stdout",
     "output_type": "stream",
     "text": [
      "Step: 149 | Iter: 1 | Loss 0.0\n",
      "Step: 149 | Iter: 2 | Loss -0.000782012939453125\n",
      "Step: 149 | Iter: 3 | Loss 0.00156402587890625\n",
      "Step: 149 | Iter: 4 | Loss -0.001953125\n",
      "Step: 149 | Iter: 5 | Loss -0.0003910064697265625\n"
     ]
    },
    {
     "name": "stderr",
     "output_type": "stream",
     "text": [
      "100%|██████████| 1/1 [00:28<00:00, 28.82s/it]\n"
     ]
    },
    {
     "name": "stdout",
     "output_type": "stream",
     "text": [
      "Step: 150 | Iter: 1 | Loss 0.0\n",
      "Step: 150 | Iter: 2 | Loss 0.00156402587890625\n",
      "Step: 150 | Iter: 3 | Loss 0.00156402587890625\n",
      "Step: 150 | Iter: 4 | Loss 0.0\n",
      "Step: 150 | Iter: 5 | Loss -0.000782012939453125\n",
      "Step: 150 | Format: 0.22533333333333316 | Accuracy: 0.896\n",
      "Output example: <reasoning>\n",
      "We can start by defining a variable for Jayden's age, and then use the given information to create an equation. Let's call Jayden's age \"j\". In 3 years, Jayden will be j+3 years old. At that same time, Ernesto will be 11+3=14 years old. According to the question, Jayden's age in 3 years is half of Ernesto's age in 3 years. This gives us the equation: j+3=14/2\n",
      "</reasoning>\n",
      "<answer>\n",
      "j=5\n",
      "</answer><|endoftext|><|endoftext|><|endoftext|><|endoftext|><|endoftext|><|endoftext|><|endoftext|><|endoftext|><|endoftext|><|endoftext|><|endoftext|><|endoftext|><|endoftext|><|endoftext|><|endoftext|><|endoftext|><|endoftext|><|endoftext|><|endoftext|><|endoftext|><|endoftext|><|endoftext|><|endoftext|><|endoftext|><|endoftext|><|endoftext|><|endoftext|><|endoftext|><|endoftext|><|endoftext|><|endoftext|><|endoftext|><|endoftext|><|endoftext|><|endoftext|><|endoftext|><|endoftext|><|endoftext|><|endoftext|><|endoftext|><|endoftext|><|endoftext|><|endoftext|><|endoftext|><|endoftext|><|endoftext|><|endoftext|><|endoftext|><|endoftext|><|endoftext|><|endoftext|><|endoftext|><|endoftext|><|endoftext|><|endoftext|><|endoftext|><|endoftext|><|endoftext|><|endoftext|><|endoftext|><|endoftext|><|endoftext|><|endoftext|><|endoftext|><|endoftext|><|endoftext|><|endoftext|><|endoftext|><|endoftext|><|endoftext|><|endoftext|><|endoftext|><|endoftext|><|endoftext|><|endoftext|><|endoftext|><|endoftext|><|endoftext|><|endoftext|><|endoftext|><|endoftext|><|endoftext|><|endoftext|><|endoftext|><|endoftext|><|endoftext|><|endoftext|><|endoftext|><|endoftext|><|endoftext|><|endoftext|><|endoftext|><|endoftext|><|endoftext|><|endoftext|><|endoftext|><|endoftext|><|endoftext|><|endoftext|><|endoftext|><|endoftext|><|endoftext|><|endoftext|><|endoftext|><|endoftext|><|endoftext|><|endoftext|><|endoftext|><|endoftext|><|endoftext|><|endoftext|><|endoftext|><|endoftext|><|endoftext|><|endoftext|><|endoftext|><|endoftext|><|endoftext|><|endoftext|><|endoftext|><|endoftext|><|endoftext|><|endoftext|><|endoftext|><|endoftext|><|endoftext|><|endoftext|><|endoftext|><|endoftext|><|endoftext|><|endoftext|><|endoftext|><|endoftext|><|endoftext|><|endoftext|><|endoftext|><|endoftext|><|endoftext|><|endoftext|><|endoftext|><|endoftext|><|endoftext|><|endoftext|><|endoftext|><|endoftext|><|endoftext|><|endoftext|><|endoftext|><|endoftext|><|endoftext|><|endoftext|><|endoftext|><|endoftext|><|endoftext|><|endoftext|><|endoftext|><|endoftext|><|endoftext|><|endoftext|><|endoftext|><|endoftext|><|endoftext|><|endoftext|><|endoftext|><|endoftext|><|endoftext|><|endoftext|><|endoftext|><|endoftext|><|endoftext|><|endoftext|><|endoftext|><|endoftext|><|endoftext|><|endoftext|><|endoftext|><|endoftext|><|endoftext|><|endoftext|><|endoftext|><|endoftext|><|endoftext|><|endoftext|><|endoftext|><|endoftext|><|endoftext|><|endoftext|><|endoftext|><|endoftext|><|endoftext|><|endoftext|><|endoftext|><|endoftext|><|endoftext|><|endoftext|><|endoftext|><|endoftext|><|endoftext|><|endoftext|><|endoftext|><|endoftext|><|endoftext|><|endoftext|><|endoftext|><|endoftext|><|endoftext|><|endoftext|><|endoftext|><|endoftext|><|endoftext|><|endoftext|><|endoftext|><|endoftext|><|endoftext|><|endoftext|><|endoftext|><|endoftext|><|endoftext|><|endoftext|><|endoftext|><|endoftext|><|endoftext|><|endoftext|><|endoftext|><|endoftext|><|endoftext|><|endoftext|><|endoftext|><|endoftext|><|endoftext|><|endoftext|><|endoftext|><|endoftext|><|endoftext|><|endoftext|><|endoftext|><|endoftext|><|endoftext|><|endoftext|><|endoftext|><|endoftext|><|endoftext|><|endoftext|><|endoftext|><|endoftext|><|endoftext|><|endoftext|><|endoftext|><|endoftext|><|endoftext|><|endoftext|><|endoftext|><|endoftext|><|endoftext|><|endoftext|><|endoftext|><|endoftext|><|endoftext|><|endoftext|><|endoftext|><|endoftext|><|endoftext|><|endoftext|><|endoftext|><|endoftext|><|endoftext|><|endoftext|><|endoftext|><|endoftext|><|endoftext|><|endoftext|><|endoftext|><|endoftext|><|endoftext|><|endoftext|><|endoftext|><|endoftext|><|endoftext|><|endoftext|><|endoftext|><|endoftext|><|endoftext|><|endoftext|><|endoftext|><|endoftext|><|endoftext|><|endoftext|><|endoftext|><|endoftext|><|endoftext|><|endoftext|><|endoftext|><|endoftext|><|endoftext|><|endoftext|><|endoftext|><|endoftext|><|endoftext|><|endoftext|><|endoftext|><|endoftext|><|endoftext|><|endoftext|><|endoftext|><|endoftext|><|endoftext|><|endoftext|><|endoftext|><|endoftext|><|endoftext|><|endoftext|><|endoftext|><|endoftext|><|endoftext|><|endoftext|><|endoftext|><|endoftext|><|endoftext|><|endoftext|><|endoftext|><|endoftext|><|endoftext|><|endoftext|><|endoftext|><|endoftext|><|endoftext|><|endoftext|><|endoftext|><|endoftext|><|endoftext|><|endoftext|><|endoftext|><|endoftext|><|endoftext|><|endoftext|><|endoftext|><|endoftext|><|endoftext|><|endoftext|><|endoftext|><|endoftext|><|endoftext|><|endoftext|>\n"
     ]
    },
    {
     "name": "stderr",
     "output_type": "stream",
     "text": [
      "100%|██████████| 1/1 [00:16<00:00, 16.02s/it]\n"
     ]
    },
    {
     "name": "stdout",
     "output_type": "stream",
     "text": [
      "Step: 151 | Iter: 1 | Loss 0.0\n",
      "Step: 151 | Iter: 2 | Loss 0.0\n",
      "Step: 151 | Iter: 3 | Loss 0.00156402587890625\n",
      "Step: 151 | Iter: 4 | Loss -0.00156402587890625\n",
      "Step: 151 | Iter: 5 | Loss 0.0\n"
     ]
    },
    {
     "name": "stderr",
     "output_type": "stream",
     "text": [
      "100%|██████████| 1/1 [00:25<00:00, 25.65s/it]\n"
     ]
    },
    {
     "name": "stdout",
     "output_type": "stream",
     "text": [
      "Step: 152 | Iter: 1 | Loss -0.00156402587890625\n",
      "Step: 152 | Iter: 2 | Loss -0.00156402587890625\n",
      "Step: 152 | Iter: 3 | Loss -0.00156402587890625\n",
      "Step: 152 | Iter: 4 | Loss -0.00156402587890625\n",
      "Step: 152 | Iter: 5 | Loss -0.00156402587890625\n"
     ]
    },
    {
     "name": "stderr",
     "output_type": "stream",
     "text": [
      "100%|██████████| 1/1 [00:07<00:00,  7.39s/it]\n"
     ]
    },
    {
     "name": "stdout",
     "output_type": "stream",
     "text": [
      "Step: 153 | Iter: 1 | Loss 0.000782012939453125\n",
      "Step: 153 | Iter: 2 | Loss -0.0011749267578125\n",
      "Step: 153 | Iter: 3 | Loss 0.000782012939453125\n",
      "Step: 153 | Iter: 4 | Loss 0.0003910064697265625\n",
      "Step: 153 | Iter: 5 | Loss -0.0027313232421875\n"
     ]
    },
    {
     "name": "stderr",
     "output_type": "stream",
     "text": [
      "100%|██████████| 1/1 [00:11<00:00, 11.43s/it]\n"
     ]
    },
    {
     "name": "stdout",
     "output_type": "stream",
     "text": [
      "Step: 154 | Iter: 1 | Loss 0.0\n",
      "Step: 154 | Iter: 2 | Loss 0.0\n",
      "Step: 154 | Iter: 3 | Loss 0.0\n",
      "Step: 154 | Iter: 4 | Loss 0.0\n",
      "Step: 154 | Iter: 5 | Loss 0.0\n"
     ]
    },
    {
     "name": "stderr",
     "output_type": "stream",
     "text": [
      "100%|██████████| 1/1 [00:16<00:00, 16.04s/it]\n"
     ]
    },
    {
     "name": "stdout",
     "output_type": "stream",
     "text": [
      "Step: 155 | Iter: 1 | Loss -1.3828277587890625e-05\n",
      "Step: 155 | Iter: 2 | Loss -1.3709068298339844e-05\n",
      "Step: 155 | Iter: 3 | Loss -1.4007091522216797e-05\n",
      "Step: 155 | Iter: 4 | Loss -1.3947486877441406e-05\n",
      "Step: 155 | Iter: 5 | Loss -1.4185905456542969e-05\n"
     ]
    },
    {
     "name": "stderr",
     "output_type": "stream",
     "text": [
      "100%|██████████| 1/1 [00:09<00:00,  9.58s/it]\n"
     ]
    },
    {
     "name": "stdout",
     "output_type": "stream",
     "text": [
      "Step: 156 | Iter: 1 | Loss -0.00156402587890625\n",
      "Step: 156 | Iter: 2 | Loss -0.00156402587890625\n",
      "Step: 156 | Iter: 3 | Loss 0.0\n",
      "Step: 156 | Iter: 4 | Loss 0.0\n",
      "Step: 156 | Iter: 5 | Loss -0.00156402587890625\n"
     ]
    },
    {
     "name": "stderr",
     "output_type": "stream",
     "text": [
      "100%|██████████| 1/1 [00:15<00:00, 15.90s/it]\n"
     ]
    },
    {
     "name": "stdout",
     "output_type": "stream",
     "text": [
      "Step: 157 | Iter: 1 | Loss -1.3947486877441406e-05\n",
      "Step: 157 | Iter: 2 | Loss -1.3828277587890625e-05\n",
      "Step: 157 | Iter: 3 | Loss -1.3470649719238281e-05\n",
      "Step: 157 | Iter: 4 | Loss -1.3709068298339844e-05\n",
      "Step: 157 | Iter: 5 | Loss -1.4126300811767578e-05\n"
     ]
    },
    {
     "name": "stderr",
     "output_type": "stream",
     "text": [
      "100%|██████████| 1/1 [00:12<00:00, 12.27s/it]\n"
     ]
    },
    {
     "name": "stdout",
     "output_type": "stream",
     "text": [
      "Step: 158 | Iter: 1 | Loss 0.0\n",
      "Step: 158 | Iter: 2 | Loss -0.000782012939453125\n",
      "Step: 158 | Iter: 3 | Loss 0.0\n",
      "Step: 158 | Iter: 4 | Loss -0.00156402587890625\n",
      "Step: 158 | Iter: 5 | Loss 0.0\n"
     ]
    },
    {
     "name": "stderr",
     "output_type": "stream",
     "text": [
      "100%|██████████| 1/1 [00:15<00:00, 15.69s/it]\n"
     ]
    },
    {
     "name": "stdout",
     "output_type": "stream",
     "text": [
      "Step: 159 | Iter: 1 | Loss 0.0\n",
      "Step: 159 | Iter: 2 | Loss 0.0\n",
      "Step: 159 | Iter: 3 | Loss -0.0031280517578125\n",
      "Step: 159 | Iter: 4 | Loss 0.0\n",
      "Step: 159 | Iter: 5 | Loss -0.0031280517578125\n"
     ]
    },
    {
     "name": "stderr",
     "output_type": "stream",
     "text": [
      "100%|██████████| 1/1 [00:10<00:00, 10.32s/it]\n"
     ]
    },
    {
     "name": "stdout",
     "output_type": "stream",
     "text": [
      "Step: 160 | Iter: 1 | Loss 0.0\n",
      "Step: 160 | Iter: 2 | Loss 0.00156402587890625\n",
      "Step: 160 | Iter: 3 | Loss 0.0\n",
      "Step: 160 | Iter: 4 | Loss 0.00156402587890625\n",
      "Step: 160 | Iter: 5 | Loss 0.0\n",
      "Step: 160 | Format: 0.23687499999999978 | Accuracy: 0.9424999999999999\n",
      "Output example: <reasoning>\n",
      "The problem states that Mario's barbershop charges haircuts at weekend prices being 50% more than weekdays' prices. The price for Mario's last haircut on Monday was $18.\n",
      "\n",
      "1. Calculate the discounted price for a haircut on a weekend.\n",
      "2. Determine the price difference between a weekend haircut and a weekday haircut.\n",
      "3. Calculate the price of Mario's haircut on the day before.\n",
      "</reasoning>\n",
      "<answer>\n",
      "$27\n",
      "</answer><|endoftext|><|endoftext|><|endoftext|><|endoftext|><|endoftext|><|endoftext|><|endoftext|><|endoftext|><|endoftext|><|endoftext|><|endoftext|><|endoftext|><|endoftext|><|endoftext|><|endoftext|><|endoftext|><|endoftext|><|endoftext|><|endoftext|><|endoftext|><|endoftext|><|endoftext|><|endoftext|><|endoftext|><|endoftext|><|endoftext|><|endoftext|><|endoftext|><|endoftext|><|endoftext|><|endoftext|><|endoftext|><|endoftext|><|endoftext|><|endoftext|><|endoftext|><|endoftext|><|endoftext|><|endoftext|><|endoftext|><|endoftext|><|endoftext|><|endoftext|><|endoftext|><|endoftext|><|endoftext|><|endoftext|><|endoftext|><|endoftext|><|endoftext|><|endoftext|><|endoftext|><|endoftext|><|endoftext|><|endoftext|><|endoftext|><|endoftext|><|endoftext|><|endoftext|><|endoftext|><|endoftext|><|endoftext|><|endoftext|><|endoftext|><|endoftext|><|endoftext|><|endoftext|><|endoftext|><|endoftext|>\n"
     ]
    },
    {
     "name": "stderr",
     "output_type": "stream",
     "text": [
      "100%|██████████| 1/1 [00:18<00:00, 18.45s/it]\n"
     ]
    },
    {
     "name": "stdout",
     "output_type": "stream",
     "text": [
      "Step: 161 | Iter: 1 | Loss 0.0\n",
      "Step: 161 | Iter: 2 | Loss 0.0\n",
      "Step: 161 | Iter: 3 | Loss 0.0003910064697265625\n",
      "Step: 161 | Iter: 4 | Loss 0.0011749267578125\n",
      "Step: 161 | Iter: 5 | Loss 0.0\n"
     ]
    },
    {
     "name": "stderr",
     "output_type": "stream",
     "text": [
      "100%|██████████| 1/1 [00:16<00:00, 16.18s/it]\n"
     ]
    },
    {
     "name": "stdout",
     "output_type": "stream",
     "text": [
      "Step: 162 | Iter: 1 | Loss -0.0003910064697265625\n",
      "Step: 162 | Iter: 2 | Loss -0.0003910064697265625\n",
      "Step: 162 | Iter: 3 | Loss -0.0003910064697265625\n",
      "Step: 162 | Iter: 4 | Loss -0.0003910064697265625\n",
      "Step: 162 | Iter: 5 | Loss -0.000782012939453125\n"
     ]
    },
    {
     "name": "stderr",
     "output_type": "stream",
     "text": [
      "100%|██████████| 1/1 [00:26<00:00, 26.01s/it]\n"
     ]
    },
    {
     "name": "stdout",
     "output_type": "stream",
     "text": [
      "Step: 163 | Iter: 1 | Loss 0.000782012939453125\n",
      "Step: 163 | Iter: 2 | Loss 0.000782012939453125\n",
      "Step: 163 | Iter: 3 | Loss 0.000782012939453125\n",
      "Step: 163 | Iter: 4 | Loss 0.000782012939453125\n",
      "Step: 163 | Iter: 5 | Loss 0.000782012939453125\n"
     ]
    },
    {
     "name": "stderr",
     "output_type": "stream",
     "text": [
      "100%|██████████| 1/1 [00:21<00:00, 21.40s/it]\n"
     ]
    },
    {
     "name": "stdout",
     "output_type": "stream",
     "text": [
      "Step: 164 | Iter: 1 | Loss -0.0012664794921875\n",
      "Step: 164 | Iter: 2 | Loss -0.0012664794921875\n",
      "Step: 164 | Iter: 3 | Loss -0.0012664794921875\n",
      "Step: 164 | Iter: 4 | Loss 0.000293731689453125\n",
      "Step: 164 | Iter: 5 | Loss 0.000293731689453125\n"
     ]
    },
    {
     "name": "stderr",
     "output_type": "stream",
     "text": [
      "100%|██████████| 1/1 [00:15<00:00, 15.80s/it]\n"
     ]
    },
    {
     "name": "stdout",
     "output_type": "stream",
     "text": [
      "Step: 165 | Iter: 1 | Loss 0.000782012939453125\n",
      "Step: 165 | Iter: 2 | Loss 0.000782012939453125\n",
      "Step: 165 | Iter: 3 | Loss 0.000782012939453125\n",
      "Step: 165 | Iter: 4 | Loss 0.0\n",
      "Step: 165 | Iter: 5 | Loss 0.000782012939453125\n"
     ]
    },
    {
     "name": "stderr",
     "output_type": "stream",
     "text": [
      "100%|██████████| 1/1 [00:23<00:00, 23.71s/it]\n"
     ]
    },
    {
     "name": "stdout",
     "output_type": "stream",
     "text": [
      "Step: 166 | Iter: 1 | Loss -0.0003910064697265625\n",
      "Step: 166 | Iter: 2 | Loss -0.0003910064697265625\n",
      "Step: 166 | Iter: 3 | Loss -0.0003910064697265625\n",
      "Step: 166 | Iter: 4 | Loss -0.0003910064697265625\n",
      "Step: 166 | Iter: 5 | Loss -0.0003910064697265625\n"
     ]
    },
    {
     "name": "stderr",
     "output_type": "stream",
     "text": [
      "100%|██████████| 1/1 [00:31<00:00, 31.40s/it]\n"
     ]
    },
    {
     "name": "stdout",
     "output_type": "stream",
     "text": [
      "Step: 167 | Iter: 1 | Loss 0.000782012939453125\n",
      "Step: 167 | Iter: 2 | Loss 0.000782012939453125\n",
      "Step: 167 | Iter: 3 | Loss -0.000782012939453125\n",
      "Step: 167 | Iter: 4 | Loss 0.0\n",
      "Step: 167 | Iter: 5 | Loss 0.00156402587890625\n"
     ]
    },
    {
     "name": "stderr",
     "output_type": "stream",
     "text": [
      "100%|██████████| 1/1 [00:20<00:00, 20.63s/it]\n"
     ]
    },
    {
     "name": "stdout",
     "output_type": "stream",
     "text": [
      "Step: 168 | Iter: 1 | Loss 0.0\n",
      "Step: 168 | Iter: 2 | Loss -0.0003910064697265625\n",
      "Step: 168 | Iter: 3 | Loss 0.0\n",
      "Step: 168 | Iter: 4 | Loss 0.0\n",
      "Step: 168 | Iter: 5 | Loss 0.0003910064697265625\n"
     ]
    },
    {
     "name": "stderr",
     "output_type": "stream",
     "text": [
      "100%|██████████| 1/1 [00:21<00:00, 21.16s/it]\n"
     ]
    },
    {
     "name": "stdout",
     "output_type": "stream",
     "text": [
      "Step: 169 | Iter: 1 | Loss 0.000782012939453125\n",
      "Step: 169 | Iter: 2 | Loss 0.000782012939453125\n",
      "Step: 169 | Iter: 3 | Loss 0.000782012939453125\n",
      "Step: 169 | Iter: 4 | Loss 0.000782012939453125\n",
      "Step: 169 | Iter: 5 | Loss 0.000782012939453125\n"
     ]
    },
    {
     "name": "stderr",
     "output_type": "stream",
     "text": [
      "100%|██████████| 1/1 [00:22<00:00, 22.08s/it]\n"
     ]
    },
    {
     "name": "stdout",
     "output_type": "stream",
     "text": [
      "Step: 170 | Iter: 1 | Loss -0.00156402587890625\n",
      "Step: 170 | Iter: 2 | Loss -0.00156402587890625\n",
      "Step: 170 | Iter: 3 | Loss -0.00156402587890625\n",
      "Step: 170 | Iter: 4 | Loss -0.00156402587890625\n",
      "Step: 170 | Iter: 5 | Loss -0.000782012939453125\n",
      "Step: 170 | Format: 0.24529411764705855 | Accuracy: 0.9529411764705878\n",
      "Output example: <reasoning>\n",
      "To solve this problem, we need to follow a systematic approach. First, we'll determine the current amount of grapes Borris uses per month, then calculate the increased production for a year, and finally, find out how many grapes he needs in a year after the production increase.\n",
      "\n",
      "1. Calculate the current rate of grape consumption per month.\n",
      "   - Borris uses 90 kilograms of grapes every 6 months.\n",
      "   - There are 2 months in 6 months.\n",
      "   - Therefore, he uses \\( \\frac{90 \\text{ kg}}{2} = 45 \\text{ kg/month} \\).\n",
      "\n",
      "2. Calculate the increased production for a year.\n",
      "   - He is thinking of increasing his production by 20%.\n",
      "   - 20% of 45 kg is \\( 0.20 \\times 45 = 9 \\text{ kg} \\).\n",
      "\n",
      "3. Calculate the new monthly grape consumption after the increase.\n",
      "   - Add the 20% increase to the original monthly consumption: \\( 45 \\text{ kg} + 9 \\text{ kg} = 54 \\text{ kg/month} \\).\n",
      "\n",
      "4. Calculate the total amount of grapes needed for a year after the increase.\n",
      "   - Since there are 12 months in a year, the total grams of grapes needed for a year after the increase is \\( 54 \\text{ kg/month} \\times 12 \\text{ months} = 648 \\text{ kg} \\).\n",
      "\n",
      "So, after increasing his production by 20%, Borris will need 648 kilograms of grapes in a year.\n",
      "</reasoning>\n",
      "<answer>\n",
      "648\n",
      "</answer><|endoftext|>\n"
     ]
    },
    {
     "name": "stderr",
     "output_type": "stream",
     "text": [
      "100%|██████████| 1/1 [00:12<00:00, 12.12s/it]\n"
     ]
    },
    {
     "name": "stdout",
     "output_type": "stream",
     "text": [
      "Step: 171 | Iter: 1 | Loss -2.3484230041503906e-05\n",
      "Step: 171 | Iter: 2 | Loss -2.3245811462402344e-05\n",
      "Step: 171 | Iter: 3 | Loss -2.2649765014648438e-05\n",
      "Step: 171 | Iter: 4 | Loss -2.384185791015625e-05\n",
      "Step: 171 | Iter: 5 | Loss -2.4080276489257812e-05\n"
     ]
    },
    {
     "name": "stderr",
     "output_type": "stream",
     "text": [
      "100%|██████████| 1/1 [00:14<00:00, 14.61s/it]\n"
     ]
    },
    {
     "name": "stdout",
     "output_type": "stream",
     "text": [
      "Step: 172 | Iter: 1 | Loss 0.000782012939453125\n",
      "Step: 172 | Iter: 2 | Loss 0.0011749267578125\n",
      "Step: 172 | Iter: 3 | Loss 0.000782012939453125\n",
      "Step: 172 | Iter: 4 | Loss 0.0\n",
      "Step: 172 | Iter: 5 | Loss 0.0\n"
     ]
    },
    {
     "name": "stderr",
     "output_type": "stream",
     "text": [
      "100%|██████████| 1/1 [00:10<00:00, 10.67s/it]\n"
     ]
    },
    {
     "name": "stdout",
     "output_type": "stream",
     "text": [
      "Step: 173 | Iter: 1 | Loss -0.00156402587890625\n",
      "Step: 173 | Iter: 2 | Loss -0.00156402587890625\n",
      "Step: 173 | Iter: 3 | Loss -0.00156402587890625\n",
      "Step: 173 | Iter: 4 | Loss -0.00156402587890625\n",
      "Step: 173 | Iter: 5 | Loss -0.00156402587890625\n"
     ]
    },
    {
     "name": "stderr",
     "output_type": "stream",
     "text": [
      "100%|██████████| 1/1 [00:19<00:00, 19.93s/it]\n"
     ]
    },
    {
     "name": "stdout",
     "output_type": "stream",
     "text": [
      "Step: 174 | Iter: 1 | Loss 0.0\n",
      "Step: 174 | Iter: 2 | Loss 0.0\n",
      "Step: 174 | Iter: 3 | Loss 0.0\n",
      "Step: 174 | Iter: 4 | Loss 0.0\n",
      "Step: 174 | Iter: 5 | Loss 0.0\n"
     ]
    },
    {
     "name": "stderr",
     "output_type": "stream",
     "text": [
      "100%|██████████| 1/1 [00:13<00:00, 13.41s/it]\n"
     ]
    },
    {
     "name": "stdout",
     "output_type": "stream",
     "text": [
      "Step: 175 | Iter: 1 | Loss -0.000782012939453125\n",
      "Step: 175 | Iter: 2 | Loss -0.00156402587890625\n",
      "Step: 175 | Iter: 3 | Loss -0.0031280517578125\n",
      "Step: 175 | Iter: 4 | Loss -0.000782012939453125\n",
      "Step: 175 | Iter: 5 | Loss -0.00156402587890625\n"
     ]
    },
    {
     "name": "stderr",
     "output_type": "stream",
     "text": [
      "100%|██████████| 1/1 [00:24<00:00, 24.79s/it]\n"
     ]
    },
    {
     "name": "stdout",
     "output_type": "stream",
     "text": [
      "Step: 176 | Iter: 1 | Loss -0.000782012939453125\n",
      "Step: 176 | Iter: 2 | Loss -0.000782012939453125\n",
      "Step: 176 | Iter: 3 | Loss -0.000782012939453125\n",
      "Step: 176 | Iter: 4 | Loss 0.000782012939453125\n",
      "Step: 176 | Iter: 5 | Loss -0.000782012939453125\n"
     ]
    },
    {
     "name": "stderr",
     "output_type": "stream",
     "text": [
      "100%|██████████| 1/1 [00:14<00:00, 14.67s/it]\n"
     ]
    },
    {
     "name": "stdout",
     "output_type": "stream",
     "text": [
      "Step: 177 | Iter: 1 | Loss -2.86102294921875e-05\n",
      "Step: 177 | Iter: 2 | Loss -2.86102294921875e-05\n",
      "Step: 177 | Iter: 3 | Loss -2.86102294921875e-05\n",
      "Step: 177 | Iter: 4 | Loss -2.8252601623535156e-05\n",
      "Step: 177 | Iter: 5 | Loss -2.7298927307128906e-05\n"
     ]
    },
    {
     "name": "stderr",
     "output_type": "stream",
     "text": [
      "100%|██████████| 1/1 [00:22<00:00, 22.86s/it]\n"
     ]
    },
    {
     "name": "stdout",
     "output_type": "stream",
     "text": [
      "Step: 178 | Iter: 1 | Loss 0.000782012939453125\n",
      "Step: 178 | Iter: 2 | Loss 0.000782012939453125\n",
      "Step: 178 | Iter: 3 | Loss 0.000782012939453125\n",
      "Step: 178 | Iter: 4 | Loss 0.000782012939453125\n",
      "Step: 178 | Iter: 5 | Loss -0.00156402587890625\n"
     ]
    },
    {
     "name": "stderr",
     "output_type": "stream",
     "text": [
      "100%|██████████| 1/1 [00:19<00:00, 19.71s/it]\n"
     ]
    },
    {
     "name": "stdout",
     "output_type": "stream",
     "text": [
      "Step: 179 | Iter: 1 | Loss 0.000782012939453125\n",
      "Step: 179 | Iter: 2 | Loss 0.000782012939453125\n",
      "Step: 179 | Iter: 3 | Loss 0.000782012939453125\n",
      "Step: 179 | Iter: 4 | Loss 0.000782012939453125\n",
      "Step: 179 | Iter: 5 | Loss 0.000782012939453125\n"
     ]
    },
    {
     "name": "stderr",
     "output_type": "stream",
     "text": [
      "100%|██████████| 1/1 [00:13<00:00, 13.03s/it]\n"
     ]
    },
    {
     "name": "stdout",
     "output_type": "stream",
     "text": [
      "Step: 180 | Iter: 1 | Loss 0.0\n",
      "Step: 180 | Iter: 2 | Loss -0.0003910064697265625\n",
      "Step: 180 | Iter: 3 | Loss 0.0\n",
      "Step: 180 | Iter: 4 | Loss -0.0003910064697265625\n",
      "Step: 180 | Iter: 5 | Loss 0.000782012939453125\n",
      "Step: 180 | Format: 0.2566666666666664 | Accuracy: 0.984444444444444\n",
      "Output example: <reasoning>\n",
      "Colton has 72 dolphin stickers. He gives 4 stickers each to 3 friends, so 3*4 = 12 stickers are given to his friends. He then gives Mandy 2 more than he gave his three friends, so Mandy gets 12+2 = 14 stickers. Colton also gives Justin 10 less than Mandy, so Justin gets 14-10 = 4 stickers. In total, Colton gave away 12+14+4 = 30 stickers. He started with 72 stickers, so he has 72-30 = 42 stickers left.\n",
      "</reasoning>\n",
      "<answer>\n",
      "42\n",
      "</answer><|endoftext|><|endoftext|><|endoftext|><|endoftext|><|endoftext|><|endoftext|><|endoftext|><|endoftext|><|endoftext|><|endoftext|><|endoftext|><|endoftext|><|endoftext|><|endoftext|><|endoftext|><|endoftext|><|endoftext|><|endoftext|><|endoftext|><|endoftext|><|endoftext|><|endoftext|><|endoftext|><|endoftext|><|endoftext|><|endoftext|><|endoftext|><|endoftext|><|endoftext|><|endoftext|><|endoftext|><|endoftext|><|endoftext|><|endoftext|><|endoftext|><|endoftext|><|endoftext|><|endoftext|><|endoftext|><|endoftext|><|endoftext|><|endoftext|><|endoftext|><|endoftext|><|endoftext|><|endoftext|><|endoftext|><|endoftext|><|endoftext|><|endoftext|><|endoftext|><|endoftext|><|endoftext|><|endoftext|><|endoftext|><|endoftext|><|endoftext|><|endoftext|>\n"
     ]
    },
    {
     "name": "stderr",
     "output_type": "stream",
     "text": [
      "100%|██████████| 1/1 [00:08<00:00,  8.41s/it]\n"
     ]
    },
    {
     "name": "stdout",
     "output_type": "stream",
     "text": [
      "Step: 181 | Iter: 1 | Loss 0.0\n",
      "Step: 181 | Iter: 2 | Loss 0.0\n",
      "Step: 181 | Iter: 3 | Loss 0.0\n",
      "Step: 181 | Iter: 4 | Loss 0.0\n",
      "Step: 181 | Iter: 5 | Loss 0.0\n"
     ]
    },
    {
     "name": "stderr",
     "output_type": "stream",
     "text": [
      "100%|██████████| 1/1 [00:27<00:00, 27.42s/it]\n"
     ]
    },
    {
     "name": "stdout",
     "output_type": "stream",
     "text": [
      "Step: 182 | Iter: 1 | Loss 0.0\n",
      "Step: 182 | Iter: 2 | Loss 0.0\n",
      "Step: 182 | Iter: 3 | Loss 0.0\n",
      "Step: 182 | Iter: 4 | Loss 0.0\n",
      "Step: 182 | Iter: 5 | Loss 0.0\n"
     ]
    },
    {
     "name": "stderr",
     "output_type": "stream",
     "text": [
      "100%|██████████| 1/1 [00:17<00:00, 17.38s/it]\n"
     ]
    },
    {
     "name": "stdout",
     "output_type": "stream",
     "text": [
      "Step: 183 | Iter: 1 | Loss -1.8477439880371094e-05\n",
      "Step: 183 | Iter: 2 | Loss -1.8835067749023438e-05\n",
      "Step: 183 | Iter: 3 | Loss -1.9431114196777344e-05\n",
      "Step: 183 | Iter: 4 | Loss -1.9073486328125e-05\n",
      "Step: 183 | Iter: 5 | Loss -1.9073486328125e-05\n"
     ]
    },
    {
     "name": "stderr",
     "output_type": "stream",
     "text": [
      "100%|██████████| 1/1 [00:26<00:00, 26.87s/it]\n"
     ]
    },
    {
     "name": "stdout",
     "output_type": "stream",
     "text": [
      "Step: 184 | Iter: 1 | Loss -0.00156402587890625\n",
      "Step: 184 | Iter: 2 | Loss -0.00156402587890625\n",
      "Step: 184 | Iter: 3 | Loss -0.00156402587890625\n",
      "Step: 184 | Iter: 4 | Loss -0.00156402587890625\n",
      "Step: 184 | Iter: 5 | Loss -0.00156402587890625\n"
     ]
    },
    {
     "name": "stderr",
     "output_type": "stream",
     "text": [
      "100%|██████████| 1/1 [00:12<00:00, 12.84s/it]\n"
     ]
    },
    {
     "name": "stdout",
     "output_type": "stream",
     "text": [
      "Step: 185 | Iter: 1 | Loss 0.0\n",
      "Step: 185 | Iter: 2 | Loss 0.0\n",
      "Step: 185 | Iter: 3 | Loss -0.0031280517578125\n",
      "Step: 185 | Iter: 4 | Loss 0.0\n",
      "Step: 185 | Iter: 5 | Loss -0.0031280517578125\n"
     ]
    },
    {
     "name": "stderr",
     "output_type": "stream",
     "text": [
      "100%|██████████| 1/1 [00:07<00:00,  7.92s/it]\n"
     ]
    },
    {
     "name": "stdout",
     "output_type": "stream",
     "text": [
      "Step: 186 | Iter: 1 | Loss 0.0\n",
      "Step: 186 | Iter: 2 | Loss -0.00156402587890625\n",
      "Step: 186 | Iter: 3 | Loss 0.0\n",
      "Step: 186 | Iter: 4 | Loss -0.00156402587890625\n",
      "Step: 186 | Iter: 5 | Loss 0.0\n"
     ]
    },
    {
     "name": "stderr",
     "output_type": "stream",
     "text": [
      "100%|██████████| 1/1 [00:17<00:00, 17.65s/it]\n"
     ]
    },
    {
     "name": "stdout",
     "output_type": "stream",
     "text": [
      "Step: 187 | Iter: 1 | Loss 0.0\n",
      "Step: 187 | Iter: 2 | Loss 0.0\n",
      "Step: 187 | Iter: 3 | Loss 0.0\n",
      "Step: 187 | Iter: 4 | Loss 0.0\n",
      "Step: 187 | Iter: 5 | Loss 0.0\n"
     ]
    },
    {
     "name": "stderr",
     "output_type": "stream",
     "text": [
      "100%|██████████| 1/1 [00:25<00:00, 25.06s/it]\n"
     ]
    },
    {
     "name": "stdout",
     "output_type": "stream",
     "text": [
      "Step: 188 | Iter: 1 | Loss -1.621246337890625e-05\n",
      "Step: 188 | Iter: 2 | Loss -1.5854835510253906e-05\n",
      "Step: 188 | Iter: 3 | Loss -1.6927719116210938e-05\n",
      "Step: 188 | Iter: 4 | Loss -1.5854835510253906e-05\n",
      "Step: 188 | Iter: 5 | Loss -1.5974044799804688e-05\n"
     ]
    },
    {
     "name": "stderr",
     "output_type": "stream",
     "text": [
      "100%|██████████| 1/1 [00:05<00:00,  5.83s/it]\n"
     ]
    },
    {
     "name": "stdout",
     "output_type": "stream",
     "text": [
      "Step: 189 | Iter: 1 | Loss -0.00156402587890625\n",
      "Step: 189 | Iter: 2 | Loss 0.000782012939453125\n",
      "Step: 189 | Iter: 3 | Loss -0.002349853515625\n",
      "Step: 189 | Iter: 4 | Loss 0.00156402587890625\n",
      "Step: 189 | Iter: 5 | Loss -0.00156402587890625\n"
     ]
    },
    {
     "name": "stderr",
     "output_type": "stream",
     "text": [
      "100%|██████████| 1/1 [00:21<00:00, 21.41s/it]\n"
     ]
    },
    {
     "name": "stdout",
     "output_type": "stream",
     "text": [
      "Step: 190 | Iter: 1 | Loss 0.0\n",
      "Step: 190 | Iter: 2 | Loss 0.0\n",
      "Step: 190 | Iter: 3 | Loss 0.0\n",
      "Step: 190 | Iter: 4 | Loss 0.0\n",
      "Step: 190 | Iter: 5 | Loss 0.0\n",
      "Step: 190 | Format: 0.26684210526315755 | Accuracy: 0.9915789473684204\n",
      "Output example: <reasoning>\n",
      "Given that Thor is 1456 years old and he is 13 times older than Captain America, we can determine Captain America's age by dividing Thor's age by 13.\n",
      "</reasoning>\n",
      "<answer>\n",
      "Captain America is 1456 / 13 = 112 years old.\n",
      "</answer><|endoftext|><|endoftext|><|endoftext|><|endoftext|><|endoftext|><|endoftext|><|endoftext|><|endoftext|><|endoftext|><|endoftext|><|endoftext|><|endoftext|><|endoftext|><|endoftext|><|endoftext|><|endoftext|><|endoftext|><|endoftext|><|endoftext|><|endoftext|><|endoftext|><|endoftext|><|endoftext|><|endoftext|><|endoftext|><|endoftext|><|endoftext|><|endoftext|><|endoftext|><|endoftext|><|endoftext|><|endoftext|><|endoftext|><|endoftext|><|endoftext|><|endoftext|><|endoftext|><|endoftext|><|endoftext|><|endoftext|><|endoftext|><|endoftext|><|endoftext|><|endoftext|><|endoftext|><|endoftext|><|endoftext|><|endoftext|><|endoftext|><|endoftext|><|endoftext|><|endoftext|><|endoftext|><|endoftext|><|endoftext|><|endoftext|><|endoftext|><|endoftext|><|endoftext|><|endoftext|><|endoftext|><|endoftext|><|endoftext|><|endoftext|><|endoftext|><|endoftext|><|endoftext|><|endoftext|><|endoftext|><|endoftext|><|endoftext|><|endoftext|><|endoftext|><|endoftext|><|endoftext|><|endoftext|><|endoftext|><|endoftext|><|endoftext|><|endoftext|><|endoftext|><|endoftext|><|endoftext|><|endoftext|><|endoftext|><|endoftext|><|endoftext|><|endoftext|><|endoftext|><|endoftext|><|endoftext|><|endoftext|><|endoftext|><|endoftext|><|endoftext|><|endoftext|><|endoftext|><|endoftext|><|endoftext|><|endoftext|><|endoftext|><|endoftext|><|endoftext|><|endoftext|><|endoftext|><|endoftext|><|endoftext|><|endoftext|><|endoftext|><|endoftext|><|endoftext|><|endoftext|><|endoftext|><|endoftext|><|endoftext|><|endoftext|><|endoftext|><|endoftext|><|endoftext|><|endoftext|><|endoftext|><|endoftext|><|endoftext|><|endoftext|><|endoftext|><|endoftext|><|endoftext|><|endoftext|><|endoftext|><|endoftext|><|endoftext|><|endoftext|><|endoftext|><|endoftext|><|endoftext|><|endoftext|><|endoftext|><|endoftext|><|endoftext|><|endoftext|><|endoftext|><|endoftext|><|endoftext|><|endoftext|><|endoftext|><|endoftext|><|endoftext|><|endoftext|><|endoftext|><|endoftext|><|endoftext|><|endoftext|><|endoftext|><|endoftext|><|endoftext|><|endoftext|><|endoftext|><|endoftext|><|endoftext|><|endoftext|><|endoftext|><|endoftext|><|endoftext|><|endoftext|><|endoftext|><|endoftext|><|endoftext|><|endoftext|><|endoftext|><|endoftext|><|endoftext|><|endoftext|><|endoftext|><|endoftext|><|endoftext|><|endoftext|><|endoftext|><|endoftext|><|endoftext|><|endoftext|><|endoftext|><|endoftext|><|endoftext|><|endoftext|><|endoftext|><|endoftext|><|endoftext|><|endoftext|><|endoftext|><|endoftext|><|endoftext|><|endoftext|><|endoftext|><|endoftext|><|endoftext|><|endoftext|><|endoftext|><|endoftext|><|endoftext|><|endoftext|><|endoftext|><|endoftext|><|endoftext|><|endoftext|><|endoftext|><|endoftext|><|endoftext|><|endoftext|><|endoftext|><|endoftext|><|endoftext|><|endoftext|><|endoftext|><|endoftext|><|endoftext|><|endoftext|><|endoftext|><|endoftext|><|endoftext|><|endoftext|><|endoftext|><|endoftext|><|endoftext|><|endoftext|><|endoftext|><|endoftext|><|endoftext|><|endoftext|><|endoftext|><|endoftext|><|endoftext|><|endoftext|><|endoftext|><|endoftext|><|endoftext|><|endoftext|><|endoftext|><|endoftext|><|endoftext|><|endoftext|><|endoftext|><|endoftext|><|endoftext|><|endoftext|><|endoftext|><|endoftext|><|endoftext|><|endoftext|><|endoftext|><|endoftext|><|endoftext|><|endoftext|><|endoftext|><|endoftext|><|endoftext|><|endoftext|><|endoftext|><|endoftext|><|endoftext|><|endoftext|><|endoftext|><|endoftext|><|endoftext|><|endoftext|><|endoftext|><|endoftext|><|endoftext|><|endoftext|><|endoftext|><|endoftext|><|endoftext|><|endoftext|><|endoftext|><|endoftext|><|endoftext|>\n"
     ]
    },
    {
     "name": "stderr",
     "output_type": "stream",
     "text": [
      "100%|██████████| 1/1 [00:08<00:00,  8.74s/it]\n"
     ]
    },
    {
     "name": "stdout",
     "output_type": "stream",
     "text": [
      "Step: 191 | Iter: 1 | Loss 0.0003910064697265625\n",
      "Step: 191 | Iter: 2 | Loss -0.0011749267578125\n",
      "Step: 191 | Iter: 3 | Loss 0.001953125\n",
      "Step: 191 | Iter: 4 | Loss 0.0003910064697265625\n",
      "Step: 191 | Iter: 5 | Loss 0.0\n"
     ]
    },
    {
     "name": "stderr",
     "output_type": "stream",
     "text": [
      "100%|██████████| 1/1 [00:24<00:00, 24.94s/it]\n"
     ]
    },
    {
     "name": "stdout",
     "output_type": "stream",
     "text": [
      "Step: 192 | Iter: 1 | Loss 0.0\n",
      "Step: 192 | Iter: 2 | Loss 0.0\n",
      "Step: 192 | Iter: 3 | Loss 0.0003910064697265625\n",
      "Step: 192 | Iter: 4 | Loss 0.00156402587890625\n",
      "Step: 192 | Iter: 5 | Loss 0.0\n"
     ]
    },
    {
     "name": "stderr",
     "output_type": "stream",
     "text": [
      "100%|██████████| 1/1 [00:27<00:00, 27.28s/it]\n"
     ]
    },
    {
     "name": "stdout",
     "output_type": "stream",
     "text": [
      "Step: 193 | Iter: 1 | Loss 0.000782012939453125\n",
      "Step: 193 | Iter: 2 | Loss 0.000782012939453125\n",
      "Step: 193 | Iter: 3 | Loss 0.000782012939453125\n",
      "Step: 193 | Iter: 4 | Loss 0.000782012939453125\n",
      "Step: 193 | Iter: 5 | Loss 0.000782012939453125\n"
     ]
    },
    {
     "name": "stderr",
     "output_type": "stream",
     "text": [
      "100%|██████████| 1/1 [00:14<00:00, 14.18s/it]\n"
     ]
    },
    {
     "name": "stdout",
     "output_type": "stream",
     "text": [
      "Step: 194 | Iter: 1 | Loss -2.4199485778808594e-05\n",
      "Step: 194 | Iter: 2 | Loss -2.3603439331054688e-05\n",
      "Step: 194 | Iter: 3 | Loss -2.4080276489257812e-05\n",
      "Step: 194 | Iter: 4 | Loss -2.384185791015625e-05\n",
      "Step: 194 | Iter: 5 | Loss -2.4318695068359375e-05\n"
     ]
    },
    {
     "name": "stderr",
     "output_type": "stream",
     "text": [
      "100%|██████████| 1/1 [00:24<00:00, 24.76s/it]\n"
     ]
    },
    {
     "name": "stdout",
     "output_type": "stream",
     "text": [
      "Step: 195 | Iter: 1 | Loss -0.000782012939453125\n",
      "Step: 195 | Iter: 2 | Loss -0.000782012939453125\n",
      "Step: 195 | Iter: 3 | Loss -0.00156402587890625\n",
      "Step: 195 | Iter: 4 | Loss -0.00156402587890625\n",
      "Step: 195 | Iter: 5 | Loss -0.00156402587890625\n"
     ]
    },
    {
     "name": "stderr",
     "output_type": "stream",
     "text": [
      "100%|██████████| 1/1 [00:10<00:00, 10.20s/it]\n"
     ]
    },
    {
     "name": "stdout",
     "output_type": "stream",
     "text": [
      "Step: 196 | Iter: 1 | Loss -3.5762786865234375e-05\n",
      "Step: 196 | Iter: 2 | Loss -3.719329833984375e-05\n",
      "Step: 196 | Iter: 3 | Loss -4.029273986816406e-05\n",
      "Step: 196 | Iter: 4 | Loss -3.457069396972656e-05\n",
      "Step: 196 | Iter: 5 | Loss -3.719329833984375e-05\n"
     ]
    },
    {
     "name": "stderr",
     "output_type": "stream",
     "text": [
      "100%|██████████| 1/1 [00:12<00:00, 12.19s/it]\n"
     ]
    },
    {
     "name": "stdout",
     "output_type": "stream",
     "text": [
      "Step: 197 | Iter: 1 | Loss -2.5033950805664062e-05\n",
      "Step: 197 | Iter: 2 | Loss -2.5987625122070312e-05\n",
      "Step: 197 | Iter: 3 | Loss -2.4437904357910156e-05\n",
      "Step: 197 | Iter: 4 | Loss -2.8014183044433594e-05\n",
      "Step: 197 | Iter: 5 | Loss -2.7894973754882812e-05\n"
     ]
    },
    {
     "name": "stderr",
     "output_type": "stream",
     "text": [
      "100%|██████████| 1/1 [00:18<00:00, 18.06s/it]\n"
     ]
    },
    {
     "name": "stdout",
     "output_type": "stream",
     "text": [
      "Step: 198 | Iter: 1 | Loss 0.0\n",
      "Step: 198 | Iter: 2 | Loss 0.0\n",
      "Step: 198 | Iter: 3 | Loss 0.0\n",
      "Step: 198 | Iter: 4 | Loss 0.0003910064697265625\n",
      "Step: 198 | Iter: 5 | Loss -0.0003910064697265625\n"
     ]
    },
    {
     "name": "stderr",
     "output_type": "stream",
     "text": [
      "100%|██████████| 1/1 [00:28<00:00, 28.97s/it]\n"
     ]
    },
    {
     "name": "stdout",
     "output_type": "stream",
     "text": [
      "Step: 199 | Iter: 1 | Loss -0.000782012939453125\n",
      "Step: 199 | Iter: 2 | Loss 0.0\n",
      "Step: 199 | Iter: 3 | Loss -0.0011749267578125\n",
      "Step: 199 | Iter: 4 | Loss -0.000782012939453125\n",
      "Step: 199 | Iter: 5 | Loss -0.0011749267578125\n"
     ]
    },
    {
     "name": "stderr",
     "output_type": "stream",
     "text": [
      "100%|██████████| 1/1 [00:31<00:00, 31.38s/it]\n"
     ]
    },
    {
     "name": "stdout",
     "output_type": "stream",
     "text": [
      "Step: 200 | Iter: 1 | Loss 0.0\n",
      "Step: 200 | Iter: 2 | Loss 0.0031280517578125\n",
      "Step: 200 | Iter: 3 | Loss 0.0\n",
      "Step: 200 | Iter: 4 | Loss 0.0031280517578125\n",
      "Step: 200 | Iter: 5 | Loss 0.0\n",
      "Step: 200 | Format: 0.2749999999999997 | Accuracy: 0.9959999999999993\n",
      "Output example: <reasoning>\n",
      "In the case of the 5-year loan, Gary will make 5 * 12 = 60 payments of $6000 / 5 = $1200 each month. \n",
      "\n",
      "In the case of the 2-year loan, Gary will make 2 * 12 = 24 payments of $6000 / 2 = $3000 each month.\n",
      "</reasoning>\n",
      "<answer> Gary is spending $3000 - $1200 = $1800 per month more to pay the loan off in 2 years instead of 5.\n",
      "</answer><|endoftext|><|endoftext|><|endoftext|><|endoftext|><|endoftext|><|endoftext|><|endoftext|><|endoftext|><|endoftext|><|endoftext|><|endoftext|><|endoftext|><|endoftext|><|endoftext|><|endoftext|><|endoftext|><|endoftext|><|endoftext|><|endoftext|><|endoftext|><|endoftext|><|endoftext|><|endoftext|><|endoftext|><|endoftext|><|endoftext|><|endoftext|><|endoftext|><|endoftext|><|endoftext|><|endoftext|><|endoftext|><|endoftext|><|endoftext|><|endoftext|><|endoftext|><|endoftext|><|endoftext|><|endoftext|><|endoftext|><|endoftext|><|endoftext|><|endoftext|><|endoftext|><|endoftext|><|endoftext|><|endoftext|><|endoftext|><|endoftext|><|endoftext|><|endoftext|><|endoftext|><|endoftext|><|endoftext|><|endoftext|><|endoftext|><|endoftext|><|endoftext|><|endoftext|><|endoftext|><|endoftext|><|endoftext|><|endoftext|><|endoftext|><|endoftext|><|endoftext|><|endoftext|><|endoftext|><|endoftext|><|endoftext|><|endoftext|><|endoftext|><|endoftext|><|endoftext|><|endoftext|><|endoftext|><|endoftext|><|endoftext|><|endoftext|><|endoftext|><|endoftext|><|endoftext|><|endoftext|><|endoftext|><|endoftext|><|endoftext|><|endoftext|><|endoftext|><|endoftext|><|endoftext|><|endoftext|><|endoftext|><|endoftext|><|endoftext|><|endoftext|><|endoftext|><|endoftext|><|endoftext|><|endoftext|><|endoftext|><|endoftext|><|endoftext|><|endoftext|><|endoftext|><|endoftext|><|endoftext|><|endoftext|><|endoftext|><|endoftext|><|endoftext|><|endoftext|><|endoftext|><|endoftext|><|endoftext|><|endoftext|><|endoftext|><|endoftext|><|endoftext|><|endoftext|><|endoftext|><|endoftext|><|endoftext|><|endoftext|><|endoftext|><|endoftext|><|endoftext|><|endoftext|><|endoftext|><|endoftext|><|endoftext|><|endoftext|><|endoftext|><|endoftext|><|endoftext|><|endoftext|><|endoftext|><|endoftext|><|endoftext|><|endoftext|><|endoftext|><|endoftext|><|endoftext|><|endoftext|><|endoftext|><|endoftext|><|endoftext|><|endoftext|><|endoftext|><|endoftext|><|endoftext|><|endoftext|><|endoftext|><|endoftext|><|endoftext|><|endoftext|><|endoftext|><|endoftext|><|endoftext|><|endoftext|><|endoftext|><|endoftext|><|endoftext|><|endoftext|><|endoftext|><|endoftext|><|endoftext|><|endoftext|><|endoftext|><|endoftext|><|endoftext|><|endoftext|><|endoftext|><|endoftext|><|endoftext|><|endoftext|><|endoftext|><|endoftext|><|endoftext|><|endoftext|><|endoftext|><|endoftext|><|endoftext|><|endoftext|><|endoftext|><|endoftext|><|endoftext|><|endoftext|><|endoftext|><|endoftext|><|endoftext|><|endoftext|><|endoftext|><|endoftext|><|endoftext|><|endoftext|><|endoftext|><|endoftext|><|endoftext|><|endoftext|><|endoftext|><|endoftext|><|endoftext|><|endoftext|><|endoftext|><|endoftext|><|endoftext|><|endoftext|><|endoftext|><|endoftext|><|endoftext|><|endoftext|><|endoftext|><|endoftext|><|endoftext|><|endoftext|><|endoftext|><|endoftext|><|endoftext|><|endoftext|><|endoftext|><|endoftext|><|endoftext|><|endoftext|><|endoftext|><|endoftext|><|endoftext|><|endoftext|><|endoftext|><|endoftext|><|endoftext|><|endoftext|><|endoftext|><|endoftext|><|endoftext|><|endoftext|><|endoftext|><|endoftext|><|endoftext|><|endoftext|><|endoftext|><|endoftext|><|endoftext|><|endoftext|><|endoftext|><|endoftext|><|endoftext|><|endoftext|><|endoftext|><|endoftext|><|endoftext|><|endoftext|><|endoftext|><|endoftext|><|endoftext|><|endoftext|><|endoftext|><|endoftext|><|endoftext|><|endoftext|><|endoftext|><|endoftext|><|endoftext|><|endoftext|><|endoftext|><|endoftext|><|endoftext|><|endoftext|><|endoftext|><|endoftext|><|endoftext|><|endoftext|><|endoftext|><|endoftext|><|endoftext|><|endoftext|><|endoftext|><|endoftext|><|endoftext|><|endoftext|><|endoftext|><|endoftext|><|endoftext|><|endoftext|><|endoftext|><|endoftext|><|endoftext|><|endoftext|><|endoftext|><|endoftext|><|endoftext|><|endoftext|><|endoftext|><|endoftext|><|endoftext|><|endoftext|><|endoftext|><|endoftext|><|endoftext|><|endoftext|><|endoftext|><|endoftext|><|endoftext|><|endoftext|><|endoftext|><|endoftext|><|endoftext|><|endoftext|><|endoftext|><|endoftext|><|endoftext|><|endoftext|><|endoftext|><|endoftext|><|endoftext|><|endoftext|><|endoftext|><|endoftext|><|endoftext|><|endoftext|><|endoftext|><|endoftext|><|endoftext|><|endoftext|><|endoftext|><|endoftext|><|endoftext|><|endoftext|><|endoftext|><|endoftext|><|endoftext|><|endoftext|><|endoftext|><|endoftext|><|endoftext|><|endoftext|><|endoftext|><|endoftext|><|endoftext|><|endoftext|><|endoftext|><|endoftext|><|endoftext|><|endoftext|><|endoftext|><|endoftext|><|endoftext|><|endoftext|><|endoftext|><|endoftext|><|endoftext|><|endoftext|><|endoftext|><|endoftext|><|endoftext|><|endoftext|><|endoftext|><|endoftext|><|endoftext|><|endoftext|><|endoftext|><|endoftext|><|endoftext|><|endoftext|><|endoftext|><|endoftext|><|endoftext|><|endoftext|><|endoftext|><|endoftext|><|endoftext|><|endoftext|><|endoftext|><|endoftext|><|endoftext|><|endoftext|><|endoftext|>\n"
     ]
    },
    {
     "name": "stderr",
     "output_type": "stream",
     "text": [
      "100%|██████████| 1/1 [00:16<00:00, 16.66s/it]\n"
     ]
    },
    {
     "name": "stdout",
     "output_type": "stream",
     "text": [
      "Step: 201 | Iter: 1 | Loss -0.000782012939453125\n",
      "Step: 201 | Iter: 2 | Loss -0.00156402587890625\n",
      "Step: 201 | Iter: 3 | Loss -0.000782012939453125\n",
      "Step: 201 | Iter: 4 | Loss 0.0\n",
      "Step: 201 | Iter: 5 | Loss -0.000782012939453125\n"
     ]
    },
    {
     "name": "stderr",
     "output_type": "stream",
     "text": [
      "100%|██████████| 1/1 [00:13<00:00, 13.63s/it]\n"
     ]
    },
    {
     "name": "stdout",
     "output_type": "stream",
     "text": [
      "Step: 202 | Iter: 1 | Loss 0.0\n",
      "Step: 202 | Iter: 2 | Loss 0.0\n",
      "Step: 202 | Iter: 3 | Loss 0.0\n",
      "Step: 202 | Iter: 4 | Loss -0.000782012939453125\n",
      "Step: 202 | Iter: 5 | Loss -0.000782012939453125\n"
     ]
    },
    {
     "name": "stderr",
     "output_type": "stream",
     "text": [
      "100%|██████████| 1/1 [00:12<00:00, 12.80s/it]\n"
     ]
    },
    {
     "name": "stdout",
     "output_type": "stream",
     "text": [
      "Step: 203 | Iter: 1 | Loss -2.3484230041503906e-05\n",
      "Step: 203 | Iter: 2 | Loss -2.276897430419922e-05\n",
      "Step: 203 | Iter: 3 | Loss -2.3126602172851562e-05\n",
      "Step: 203 | Iter: 4 | Loss -2.193450927734375e-05\n",
      "Step: 203 | Iter: 5 | Loss -2.2649765014648438e-05\n"
     ]
    },
    {
     "name": "stderr",
     "output_type": "stream",
     "text": [
      "100%|██████████| 1/1 [00:11<00:00, 11.93s/it]\n"
     ]
    },
    {
     "name": "stdout",
     "output_type": "stream",
     "text": [
      "Step: 204 | Iter: 1 | Loss 0.0\n",
      "Step: 204 | Iter: 2 | Loss 0.0\n",
      "Step: 204 | Iter: 3 | Loss 0.0\n",
      "Step: 204 | Iter: 4 | Loss 0.0\n",
      "Step: 204 | Iter: 5 | Loss 0.0\n"
     ]
    },
    {
     "name": "stderr",
     "output_type": "stream",
     "text": [
      "100%|██████████| 1/1 [00:10<00:00, 10.41s/it]\n"
     ]
    },
    {
     "name": "stdout",
     "output_type": "stream",
     "text": [
      "Step: 205 | Iter: 1 | Loss 0.000782012939453125\n",
      "Step: 205 | Iter: 2 | Loss -0.0003910064697265625\n",
      "Step: 205 | Iter: 3 | Loss -0.0003910064697265625\n",
      "Step: 205 | Iter: 4 | Loss 0.0011749267578125\n",
      "Step: 205 | Iter: 5 | Loss -0.000782012939453125\n"
     ]
    },
    {
     "name": "stderr",
     "output_type": "stream",
     "text": [
      "100%|██████████| 1/1 [00:31<00:00, 31.31s/it]\n"
     ]
    },
    {
     "name": "stdout",
     "output_type": "stream",
     "text": [
      "Step: 206 | Iter: 1 | Loss 0.000782012939453125\n",
      "Step: 206 | Iter: 2 | Loss 0.0\n",
      "Step: 206 | Iter: 3 | Loss -0.000782012939453125\n",
      "Step: 206 | Iter: 4 | Loss 0.0\n",
      "Step: 206 | Iter: 5 | Loss 0.000782012939453125\n"
     ]
    },
    {
     "name": "stderr",
     "output_type": "stream",
     "text": [
      "100%|██████████| 1/1 [00:15<00:00, 15.93s/it]\n"
     ]
    },
    {
     "name": "stdout",
     "output_type": "stream",
     "text": [
      "Step: 207 | Iter: 1 | Loss 0.0\n",
      "Step: 207 | Iter: 2 | Loss 0.00156402587890625\n",
      "Step: 207 | Iter: 3 | Loss 0.0\n",
      "Step: 207 | Iter: 4 | Loss 0.00156402587890625\n",
      "Step: 207 | Iter: 5 | Loss -0.00156402587890625\n"
     ]
    },
    {
     "name": "stderr",
     "output_type": "stream",
     "text": [
      "100%|██████████| 1/1 [00:10<00:00, 10.03s/it]\n"
     ]
    },
    {
     "name": "stdout",
     "output_type": "stream",
     "text": [
      "Step: 208 | Iter: 1 | Loss 0.0\n",
      "Step: 208 | Iter: 2 | Loss 0.00156402587890625\n",
      "Step: 208 | Iter: 3 | Loss -0.0031280517578125\n",
      "Step: 208 | Iter: 4 | Loss -0.001953125\n",
      "Step: 208 | Iter: 5 | Loss -0.0011749267578125\n"
     ]
    },
    {
     "name": "stderr",
     "output_type": "stream",
     "text": [
      "100%|██████████| 1/1 [00:11<00:00, 11.41s/it]\n"
     ]
    },
    {
     "name": "stdout",
     "output_type": "stream",
     "text": [
      "Step: 209 | Iter: 1 | Loss -3.0994415283203125e-05\n",
      "Step: 209 | Iter: 2 | Loss -3.123283386230469e-05\n",
      "Step: 209 | Iter: 3 | Loss -3.218650817871094e-05\n",
      "Step: 209 | Iter: 4 | Loss -3.123283386230469e-05\n",
      "Step: 209 | Iter: 5 | Loss -3.147125244140625e-05\n"
     ]
    },
    {
     "name": "stderr",
     "output_type": "stream",
     "text": [
      "100%|██████████| 1/1 [00:14<00:00, 14.15s/it]\n"
     ]
    },
    {
     "name": "stdout",
     "output_type": "stream",
     "text": [
      "Step: 210 | Iter: 1 | Loss 0.000782012939453125\n",
      "Step: 210 | Iter: 2 | Loss 0.000782012939453125\n",
      "Step: 210 | Iter: 3 | Loss 0.000782012939453125\n",
      "Step: 210 | Iter: 4 | Loss -0.0011749267578125\n",
      "Step: 210 | Iter: 5 | Loss -0.000782012939453125\n",
      "Step: 210 | Format: 0.28285714285714253 | Accuracy: 1.024761904761904\n",
      "Output example: <reasoning>\n",
      "Each van carries 28 students and there are 5 vans so in total there are 28 x 5 = 140 students.\n",
      "Out of the total 140 students 60 are boys, so therefore there are 140 - 60 = 80 girls.\n",
      "</reasoning>\n",
      "<answer>\n",
      "80\n",
      "</answer><|endoftext|><|endoftext|><|endoftext|><|endoftext|><|endoftext|><|endoftext|><|endoftext|><|endoftext|><|endoftext|><|endoftext|><|endoftext|><|endoftext|><|endoftext|><|endoftext|><|endoftext|><|endoftext|><|endoftext|><|endoftext|><|endoftext|><|endoftext|><|endoftext|><|endoftext|><|endoftext|><|endoftext|><|endoftext|><|endoftext|><|endoftext|><|endoftext|><|endoftext|><|endoftext|><|endoftext|><|endoftext|><|endoftext|><|endoftext|><|endoftext|><|endoftext|><|endoftext|><|endoftext|><|endoftext|><|endoftext|><|endoftext|><|endoftext|><|endoftext|><|endoftext|><|endoftext|><|endoftext|><|endoftext|><|endoftext|><|endoftext|><|endoftext|><|endoftext|><|endoftext|><|endoftext|><|endoftext|><|endoftext|><|endoftext|><|endoftext|><|endoftext|><|endoftext|><|endoftext|><|endoftext|><|endoftext|><|endoftext|><|endoftext|><|endoftext|><|endoftext|><|endoftext|><|endoftext|><|endoftext|><|endoftext|><|endoftext|><|endoftext|><|endoftext|><|endoftext|><|endoftext|><|endoftext|><|endoftext|><|endoftext|><|endoftext|><|endoftext|><|endoftext|><|endoftext|><|endoftext|><|endoftext|><|endoftext|><|endoftext|><|endoftext|><|endoftext|><|endoftext|><|endoftext|><|endoftext|><|endoftext|><|endoftext|><|endoftext|><|endoftext|><|endoftext|><|endoftext|><|endoftext|><|endoftext|><|endoftext|><|endoftext|><|endoftext|><|endoftext|><|endoftext|><|endoftext|><|endoftext|><|endoftext|><|endoftext|><|endoftext|><|endoftext|><|endoftext|><|endoftext|><|endoftext|><|endoftext|><|endoftext|><|endoftext|><|endoftext|><|endoftext|><|endoftext|><|endoftext|><|endoftext|><|endoftext|><|endoftext|><|endoftext|><|endoftext|><|endoftext|><|endoftext|><|endoftext|><|endoftext|><|endoftext|><|endoftext|><|endoftext|><|endoftext|><|endoftext|><|endoftext|><|endoftext|><|endoftext|><|endoftext|><|endoftext|><|endoftext|><|endoftext|><|endoftext|><|endoftext|><|endoftext|><|endoftext|><|endoftext|><|endoftext|><|endoftext|><|endoftext|><|endoftext|><|endoftext|>\n"
     ]
    },
    {
     "name": "stderr",
     "output_type": "stream",
     "text": [
      "100%|██████████| 1/1 [00:14<00:00, 14.53s/it]\n"
     ]
    },
    {
     "name": "stdout",
     "output_type": "stream",
     "text": [
      "Step: 211 | Iter: 1 | Loss -0.0003910064697265625\n",
      "Step: 211 | Iter: 2 | Loss -0.0003910064697265625\n",
      "Step: 211 | Iter: 3 | Loss -0.0003910064697265625\n",
      "Step: 211 | Iter: 4 | Loss -0.001953125\n",
      "Step: 211 | Iter: 5 | Loss -0.0003910064697265625\n"
     ]
    },
    {
     "name": "stderr",
     "output_type": "stream",
     "text": [
      "100%|██████████| 1/1 [00:22<00:00, 22.30s/it]\n"
     ]
    },
    {
     "name": "stdout",
     "output_type": "stream",
     "text": [
      "Step: 212 | Iter: 1 | Loss 0.0\n",
      "Step: 212 | Iter: 2 | Loss 0.0\n",
      "Step: 212 | Iter: 3 | Loss 0.0\n",
      "Step: 212 | Iter: 4 | Loss 0.0\n",
      "Step: 212 | Iter: 5 | Loss 0.0\n"
     ]
    },
    {
     "name": "stderr",
     "output_type": "stream",
     "text": [
      "100%|██████████| 1/1 [00:26<00:00, 26.93s/it]\n"
     ]
    },
    {
     "name": "stdout",
     "output_type": "stream",
     "text": [
      "Step: 213 | Iter: 1 | Loss 0.0\n",
      "Step: 213 | Iter: 2 | Loss 0.0031280517578125\n",
      "Step: 213 | Iter: 3 | Loss 0.0\n",
      "Step: 213 | Iter: 4 | Loss -0.00156402587890625\n",
      "Step: 213 | Iter: 5 | Loss 0.0\n"
     ]
    },
    {
     "name": "stderr",
     "output_type": "stream",
     "text": [
      "100%|██████████| 1/1 [00:18<00:00, 18.02s/it]\n"
     ]
    },
    {
     "name": "stdout",
     "output_type": "stream",
     "text": [
      "Step: 214 | Iter: 1 | Loss -2.8967857360839844e-05\n",
      "Step: 214 | Iter: 2 | Loss -2.956390380859375e-05\n",
      "Step: 214 | Iter: 3 | Loss -2.8967857360839844e-05\n",
      "Step: 214 | Iter: 4 | Loss -3.0994415283203125e-05\n",
      "Step: 214 | Iter: 5 | Loss -2.7894973754882812e-05\n"
     ]
    },
    {
     "name": "stderr",
     "output_type": "stream",
     "text": [
      "100%|██████████| 1/1 [00:18<00:00, 18.49s/it]\n"
     ]
    },
    {
     "name": "stdout",
     "output_type": "stream",
     "text": [
      "Step: 215 | Iter: 1 | Loss -0.0003910064697265625\n",
      "Step: 215 | Iter: 2 | Loss 0.0011749267578125\n",
      "Step: 215 | Iter: 3 | Loss -0.001953125\n",
      "Step: 215 | Iter: 4 | Loss 0.0\n",
      "Step: 215 | Iter: 5 | Loss -0.000782012939453125\n"
     ]
    },
    {
     "name": "stderr",
     "output_type": "stream",
     "text": [
      "100%|██████████| 1/1 [00:10<00:00, 10.21s/it]\n"
     ]
    },
    {
     "name": "stdout",
     "output_type": "stream",
     "text": [
      "Step: 216 | Iter: 1 | Loss -3.5762786865234375e-05\n",
      "Step: 216 | Iter: 2 | Loss -3.600120544433594e-05\n",
      "Step: 216 | Iter: 3 | Loss -3.6716461181640625e-05\n",
      "Step: 216 | Iter: 4 | Loss -3.62396240234375e-05\n",
      "Step: 216 | Iter: 5 | Loss -3.743171691894531e-05\n"
     ]
    },
    {
     "name": "stderr",
     "output_type": "stream",
     "text": [
      "100%|██████████| 1/1 [00:21<00:00, 21.60s/it]\n"
     ]
    },
    {
     "name": "stdout",
     "output_type": "stream",
     "text": [
      "Step: 217 | Iter: 1 | Loss -4.029273986816406e-05\n",
      "Step: 217 | Iter: 2 | Loss -4.00543212890625e-05\n",
      "Step: 217 | Iter: 3 | Loss -4.267692565917969e-05\n",
      "Step: 217 | Iter: 4 | Loss -4.4345855712890625e-05\n",
      "Step: 217 | Iter: 5 | Loss -4.57763671875e-05\n"
     ]
    },
    {
     "name": "stderr",
     "output_type": "stream",
     "text": [
      "100%|██████████| 1/1 [00:23<00:00, 23.40s/it]\n"
     ]
    },
    {
     "name": "stdout",
     "output_type": "stream",
     "text": [
      "Step: 218 | Iter: 1 | Loss 0.000782012939453125\n",
      "Step: 218 | Iter: 2 | Loss 0.000782012939453125\n",
      "Step: 218 | Iter: 3 | Loss 0.0003910064697265625\n",
      "Step: 218 | Iter: 4 | Loss 0.000782012939453125\n",
      "Step: 218 | Iter: 5 | Loss -0.0011749267578125\n"
     ]
    },
    {
     "name": "stderr",
     "output_type": "stream",
     "text": [
      "100%|██████████| 1/1 [00:17<00:00, 17.60s/it]\n"
     ]
    },
    {
     "name": "stdout",
     "output_type": "stream",
     "text": [
      "Step: 219 | Iter: 1 | Loss 0.0\n",
      "Step: 219 | Iter: 2 | Loss -0.000782012939453125\n",
      "Step: 219 | Iter: 3 | Loss 0.0\n",
      "Step: 219 | Iter: 4 | Loss -0.000782012939453125\n",
      "Step: 219 | Iter: 5 | Loss 0.0\n"
     ]
    },
    {
     "name": "stderr",
     "output_type": "stream",
     "text": [
      "100%|██████████| 1/1 [00:15<00:00, 15.42s/it]\n"
     ]
    },
    {
     "name": "stdout",
     "output_type": "stream",
     "text": [
      "Step: 220 | Iter: 1 | Loss 0.00156402587890625\n",
      "Step: 220 | Iter: 2 | Loss 0.0\n",
      "Step: 220 | Iter: 3 | Loss 0.002349853515625\n",
      "Step: 220 | Iter: 4 | Loss 0.0\n",
      "Step: 220 | Iter: 5 | Loss -0.000782012939453125\n",
      "Step: 220 | Format: 0.29090909090909056 | Accuracy: 1.032727272727272\n",
      "Output example: <reasoning>\n",
      "Lisa has 5 minutes left to finish the record, and she has already eaten 20 hotdogs in 5 minutes. To tie Joey Chestnut's record, she needs to eat at least 55 more hotdogs in the remaining 5 minutes. So, she needs to eat 55 hotdogs in 5 minutes, or 11 hotdogs per minute, to at least tie Joey Chestnut's record.\n",
      "</reasoning>\n",
      "<answer>\n",
      "11\n",
      "</answer><|endoftext|><|endoftext|><|endoftext|><|endoftext|><|endoftext|><|endoftext|><|endoftext|><|endoftext|><|endoftext|><|endoftext|><|endoftext|><|endoftext|><|endoftext|><|endoftext|><|endoftext|><|endoftext|><|endoftext|><|endoftext|><|endoftext|><|endoftext|><|endoftext|><|endoftext|><|endoftext|><|endoftext|><|endoftext|><|endoftext|><|endoftext|><|endoftext|><|endoftext|><|endoftext|><|endoftext|><|endoftext|><|endoftext|><|endoftext|><|endoftext|><|endoftext|><|endoftext|><|endoftext|><|endoftext|><|endoftext|><|endoftext|><|endoftext|><|endoftext|><|endoftext|><|endoftext|><|endoftext|><|endoftext|><|endoftext|><|endoftext|><|endoftext|><|endoftext|><|endoftext|><|endoftext|><|endoftext|><|endoftext|><|endoftext|><|endoftext|><|endoftext|><|endoftext|><|endoftext|><|endoftext|><|endoftext|><|endoftext|><|endoftext|><|endoftext|><|endoftext|><|endoftext|><|endoftext|><|endoftext|><|endoftext|><|endoftext|><|endoftext|><|endoftext|><|endoftext|><|endoftext|><|endoftext|><|endoftext|><|endoftext|><|endoftext|><|endoftext|><|endoftext|><|endoftext|><|endoftext|><|endoftext|><|endoftext|><|endoftext|><|endoftext|><|endoftext|><|endoftext|><|endoftext|><|endoftext|><|endoftext|><|endoftext|><|endoftext|><|endoftext|><|endoftext|><|endoftext|><|endoftext|><|endoftext|><|endoftext|><|endoftext|><|endoftext|><|endoftext|><|endoftext|><|endoftext|><|endoftext|><|endoftext|><|endoftext|><|endoftext|><|endoftext|><|endoftext|><|endoftext|><|endoftext|><|endoftext|><|endoftext|><|endoftext|><|endoftext|><|endoftext|><|endoftext|><|endoftext|><|endoftext|><|endoftext|><|endoftext|><|endoftext|><|endoftext|><|endoftext|><|endoftext|><|endoftext|><|endoftext|><|endoftext|><|endoftext|><|endoftext|><|endoftext|><|endoftext|><|endoftext|><|endoftext|><|endoftext|><|endoftext|><|endoftext|><|endoftext|><|endoftext|><|endoftext|><|endoftext|><|endoftext|><|endoftext|><|endoftext|><|endoftext|><|endoftext|>\n"
     ]
    },
    {
     "name": "stderr",
     "output_type": "stream",
     "text": [
      "100%|██████████| 1/1 [00:19<00:00, 19.39s/it]\n"
     ]
    },
    {
     "name": "stdout",
     "output_type": "stream",
     "text": [
      "Step: 221 | Iter: 1 | Loss -1.9431114196777344e-05\n",
      "Step: 221 | Iter: 2 | Loss -1.919269561767578e-05\n",
      "Step: 221 | Iter: 3 | Loss -1.9311904907226562e-05\n",
      "Step: 221 | Iter: 4 | Loss -1.9311904907226562e-05\n",
      "Step: 221 | Iter: 5 | Loss -1.8835067749023438e-05\n"
     ]
    },
    {
     "name": "stderr",
     "output_type": "stream",
     "text": [
      "100%|██████████| 1/1 [00:09<00:00,  9.65s/it]\n"
     ]
    },
    {
     "name": "stdout",
     "output_type": "stream",
     "text": [
      "Step: 222 | Iter: 1 | Loss -0.0003910064697265625\n",
      "Step: 222 | Iter: 2 | Loss -0.0003910064697265625\n",
      "Step: 222 | Iter: 3 | Loss -0.000782012939453125\n",
      "Step: 222 | Iter: 4 | Loss -0.001953125\n",
      "Step: 222 | Iter: 5 | Loss -0.003509521484375\n"
     ]
    },
    {
     "name": "stderr",
     "output_type": "stream",
     "text": [
      "100%|██████████| 1/1 [00:07<00:00,  7.39s/it]\n"
     ]
    },
    {
     "name": "stdout",
     "output_type": "stream",
     "text": [
      "Step: 223 | Iter: 1 | Loss -4.458427429199219e-05\n",
      "Step: 223 | Iter: 2 | Loss -4.57763671875e-05\n",
      "Step: 223 | Iter: 3 | Loss -4.267692565917969e-05\n",
      "Step: 223 | Iter: 4 | Loss -4.410743713378906e-05\n",
      "Step: 223 | Iter: 5 | Loss -4.410743713378906e-05\n"
     ]
    },
    {
     "name": "stderr",
     "output_type": "stream",
     "text": [
      "100%|██████████| 1/1 [00:18<00:00, 18.34s/it]\n"
     ]
    },
    {
     "name": "stdout",
     "output_type": "stream",
     "text": [
      "Step: 224 | Iter: 1 | Loss -6.771087646484375e-05\n",
      "Step: 224 | Iter: 2 | Loss -7.009506225585938e-05\n",
      "Step: 224 | Iter: 3 | Loss -6.67572021484375e-05\n",
      "Step: 224 | Iter: 4 | Loss -6.532669067382812e-05\n",
      "Step: 224 | Iter: 5 | Loss -6.771087646484375e-05\n"
     ]
    },
    {
     "name": "stderr",
     "output_type": "stream",
     "text": [
      "100%|██████████| 1/1 [00:31<00:00, 31.43s/it]\n"
     ]
    },
    {
     "name": "stdout",
     "output_type": "stream",
     "text": [
      "Step: 225 | Iter: 1 | Loss 0.0\n",
      "Step: 225 | Iter: 2 | Loss 0.0\n",
      "Step: 225 | Iter: 3 | Loss 0.0\n",
      "Step: 225 | Iter: 4 | Loss 0.0\n",
      "Step: 225 | Iter: 5 | Loss 0.0\n"
     ]
    },
    {
     "name": "stderr",
     "output_type": "stream",
     "text": [
      "100%|██████████| 1/1 [00:15<00:00, 15.08s/it]\n"
     ]
    },
    {
     "name": "stdout",
     "output_type": "stream",
     "text": [
      "Step: 226 | Iter: 1 | Loss 0.0\n",
      "Step: 226 | Iter: 2 | Loss 0.0\n",
      "Step: 226 | Iter: 3 | Loss 0.0\n",
      "Step: 226 | Iter: 4 | Loss 0.0\n",
      "Step: 226 | Iter: 5 | Loss 0.0\n"
     ]
    },
    {
     "name": "stderr",
     "output_type": "stream",
     "text": [
      "100%|██████████| 1/1 [00:15<00:00, 15.85s/it]\n"
     ]
    },
    {
     "name": "stdout",
     "output_type": "stream",
     "text": [
      "Step: 227 | Iter: 1 | Loss -0.000782012939453125\n",
      "Step: 227 | Iter: 2 | Loss -0.000782012939453125\n",
      "Step: 227 | Iter: 3 | Loss -0.000782012939453125\n",
      "Step: 227 | Iter: 4 | Loss -0.000782012939453125\n",
      "Step: 227 | Iter: 5 | Loss -0.000782012939453125\n"
     ]
    },
    {
     "name": "stderr",
     "output_type": "stream",
     "text": [
      "100%|██████████| 1/1 [00:10<00:00, 10.63s/it]\n"
     ]
    },
    {
     "name": "stdout",
     "output_type": "stream",
     "text": [
      "Step: 228 | Iter: 1 | Loss 0.0\n",
      "Step: 228 | Iter: 2 | Loss 0.0\n",
      "Step: 228 | Iter: 3 | Loss 0.0\n",
      "Step: 228 | Iter: 4 | Loss 0.0\n",
      "Step: 228 | Iter: 5 | Loss 0.0\n"
     ]
    },
    {
     "name": "stderr",
     "output_type": "stream",
     "text": [
      "100%|██████████| 1/1 [00:15<00:00, 15.43s/it]\n"
     ]
    },
    {
     "name": "stdout",
     "output_type": "stream",
     "text": [
      "Step: 229 | Iter: 1 | Loss 0.0\n",
      "Step: 229 | Iter: 2 | Loss 0.0\n",
      "Step: 229 | Iter: 3 | Loss 0.001953125\n",
      "Step: 229 | Iter: 4 | Loss 0.0\n",
      "Step: 229 | Iter: 5 | Loss 0.0\n"
     ]
    },
    {
     "name": "stderr",
     "output_type": "stream",
     "text": [
      "100%|██████████| 1/1 [00:18<00:00, 18.07s/it]\n"
     ]
    },
    {
     "name": "stdout",
     "output_type": "stream",
     "text": [
      "Step: 230 | Iter: 1 | Loss 0.000782012939453125\n",
      "Step: 230 | Iter: 2 | Loss 0.000782012939453125\n",
      "Step: 230 | Iter: 3 | Loss 0.0003910064697265625\n",
      "Step: 230 | Iter: 4 | Loss 0.000782012939453125\n",
      "Step: 230 | Iter: 5 | Loss 0.0003910064697265625\n",
      "Step: 230 | Format: 0.29913043478260837 | Accuracy: 1.0347826086956515\n",
      "Output example: <reasoning>\n",
      "First, we need to determine the total number of 25-foot sections that Jan can create using 1000 feet of cable. To do this, we divide the total length of cable by the length of each section:\n",
      "\n",
      "1000 feet / 25 feet per section = 40 sections\n",
      "\n",
      "Next, we need to calculate how many sections Jan gives to her friend. Since she gives 1/4 of the sections to her friend:\n",
      "\n",
      "1/4 * 40 sections = 10 sections\n",
      "\n",
      "This means that Jan is left with 30 sections after giving some to her friend (40 sections - 10 sections).\n",
      "\n",
      "Then, Jan puts half of the remaining sections in storage:\n",
      "\n",
      "1/2 * 30 sections = 15 sections\n",
      "\n",
      "So far, Jan has given away 10 sections (to her friend) and stored 15 sections, which leaves her with 4 sections (30 sections - 10 sections - 15 sections).\n",
      "\n",
      "Since each of these remaining sections has a length of 25 feet, we can calculate the total amount of cable Jan keeps on hand by multiplying the number of sections by the length of each section:\n",
      "\n",
      "4 sections * 25 feet per section = 100 feet\n",
      "\n",
      "Therefore, Jan keeps 100 feet of cable on hand.\n",
      "</reasoning>\n",
      "<answer>\n",
      "100\n",
      "</answer><|endoftext|>\n"
     ]
    },
    {
     "name": "stderr",
     "output_type": "stream",
     "text": [
      "100%|██████████| 1/1 [00:28<00:00, 28.58s/it]\n"
     ]
    },
    {
     "name": "stdout",
     "output_type": "stream",
     "text": [
      "Step: 231 | Iter: 1 | Loss 0.0\n",
      "Step: 231 | Iter: 2 | Loss 0.00156402587890625\n",
      "Step: 231 | Iter: 3 | Loss 0.0\n",
      "Step: 231 | Iter: 4 | Loss 0.00156402587890625\n",
      "Step: 231 | Iter: 5 | Loss 0.0\n"
     ]
    },
    {
     "name": "stderr",
     "output_type": "stream",
     "text": [
      "100%|██████████| 1/1 [00:14<00:00, 14.75s/it]\n"
     ]
    },
    {
     "name": "stdout",
     "output_type": "stream",
     "text": [
      "Step: 232 | Iter: 1 | Loss 0.0\n",
      "Step: 232 | Iter: 2 | Loss -0.000782012939453125\n",
      "Step: 232 | Iter: 3 | Loss 0.000782012939453125\n",
      "Step: 232 | Iter: 4 | Loss -0.000782012939453125\n",
      "Step: 232 | Iter: 5 | Loss 0.000782012939453125\n"
     ]
    },
    {
     "name": "stderr",
     "output_type": "stream",
     "text": [
      "100%|██████████| 1/1 [00:12<00:00, 12.27s/it]\n"
     ]
    },
    {
     "name": "stdout",
     "output_type": "stream",
     "text": [
      "Step: 233 | Iter: 1 | Loss -0.000782012939453125\n",
      "Step: 233 | Iter: 2 | Loss -0.002349853515625\n",
      "Step: 233 | Iter: 3 | Loss -0.000782012939453125\n",
      "Step: 233 | Iter: 4 | Loss -0.002349853515625\n",
      "Step: 233 | Iter: 5 | Loss -0.001953125\n"
     ]
    },
    {
     "name": "stderr",
     "output_type": "stream",
     "text": [
      "100%|██████████| 1/1 [00:12<00:00, 12.02s/it]\n"
     ]
    },
    {
     "name": "stdout",
     "output_type": "stream",
     "text": [
      "Step: 234 | Iter: 1 | Loss 0.0\n",
      "Step: 234 | Iter: 2 | Loss 0.00156402587890625\n",
      "Step: 234 | Iter: 3 | Loss 0.0\n",
      "Step: 234 | Iter: 4 | Loss 0.0\n",
      "Step: 234 | Iter: 5 | Loss 0.0\n"
     ]
    },
    {
     "name": "stderr",
     "output_type": "stream",
     "text": [
      "100%|██████████| 1/1 [00:13<00:00, 13.39s/it]\n"
     ]
    },
    {
     "name": "stdout",
     "output_type": "stream",
     "text": [
      "Step: 235 | Iter: 1 | Loss 0.0\n",
      "Step: 235 | Iter: 2 | Loss 0.00156402587890625\n",
      "Step: 235 | Iter: 3 | Loss 0.00156402587890625\n",
      "Step: 235 | Iter: 4 | Loss 0.0\n",
      "Step: 235 | Iter: 5 | Loss 0.00156402587890625\n"
     ]
    },
    {
     "name": "stderr",
     "output_type": "stream",
     "text": [
      "100%|██████████| 1/1 [00:13<00:00, 13.19s/it]\n"
     ]
    },
    {
     "name": "stdout",
     "output_type": "stream",
     "text": [
      "Step: 236 | Iter: 1 | Loss -0.00156402587890625\n",
      "Step: 236 | Iter: 2 | Loss -0.00156402587890625\n",
      "Step: 236 | Iter: 3 | Loss -0.00156402587890625\n",
      "Step: 236 | Iter: 4 | Loss -0.00156402587890625\n",
      "Step: 236 | Iter: 5 | Loss -0.002349853515625\n"
     ]
    },
    {
     "name": "stderr",
     "output_type": "stream",
     "text": [
      "100%|██████████| 1/1 [00:10<00:00, 10.95s/it]\n"
     ]
    },
    {
     "name": "stdout",
     "output_type": "stream",
     "text": [
      "Step: 237 | Iter: 1 | Loss -0.000782012939453125\n",
      "Step: 237 | Iter: 2 | Loss -0.000782012939453125\n",
      "Step: 237 | Iter: 3 | Loss -0.000782012939453125\n",
      "Step: 237 | Iter: 4 | Loss -0.000782012939453125\n",
      "Step: 237 | Iter: 5 | Loss -0.000782012939453125\n"
     ]
    },
    {
     "name": "stderr",
     "output_type": "stream",
     "text": [
      "100%|██████████| 1/1 [00:29<00:00, 29.09s/it]\n"
     ]
    },
    {
     "name": "stdout",
     "output_type": "stream",
     "text": [
      "Step: 238 | Iter: 1 | Loss -2.4437904357910156e-05\n",
      "Step: 238 | Iter: 2 | Loss -2.4318695068359375e-05\n",
      "Step: 238 | Iter: 3 | Loss -2.396106719970703e-05\n",
      "Step: 238 | Iter: 4 | Loss -2.47955322265625e-05\n",
      "Step: 238 | Iter: 5 | Loss -2.47955322265625e-05\n"
     ]
    },
    {
     "name": "stderr",
     "output_type": "stream",
     "text": [
      "100%|██████████| 1/1 [00:13<00:00, 13.64s/it]\n"
     ]
    },
    {
     "name": "stdout",
     "output_type": "stream",
     "text": [
      "Step: 239 | Iter: 1 | Loss -3.504753112792969e-05\n",
      "Step: 239 | Iter: 2 | Loss -3.4332275390625e-05\n",
      "Step: 239 | Iter: 3 | Loss -3.4809112548828125e-05\n",
      "Step: 239 | Iter: 4 | Loss -3.5762786865234375e-05\n",
      "Step: 239 | Iter: 5 | Loss -3.5762786865234375e-05\n"
     ]
    },
    {
     "name": "stderr",
     "output_type": "stream",
     "text": [
      "100%|██████████| 1/1 [00:21<00:00, 21.64s/it]\n"
     ]
    },
    {
     "name": "stdout",
     "output_type": "stream",
     "text": [
      "Step: 240 | Iter: 1 | Loss -0.00156402587890625\n",
      "Step: 240 | Iter: 2 | Loss 0.00156402587890625\n",
      "Step: 240 | Iter: 3 | Loss -0.00156402587890625\n",
      "Step: 240 | Iter: 4 | Loss 0.00156402587890625\n",
      "Step: 240 | Iter: 5 | Loss 0.00156402587890625\n",
      "Step: 240 | Format: 0.3054166666666664 | Accuracy: 1.0399999999999994\n",
      "Output example: <reasoning>\n",
      "To find out how many pounds of peanuts Frank eats on average per day, let's first determine the total amount of money he spent on peanuts. Frank had $7 (one-dollar bills) + $4 (five-dollar bills) + $2 (ten-dollar bills) + $20 (twenty-dollar bill) = $33 in total. He ended up with $4 in change, so he spent $33 - $4 = $29 on peanuts.\n",
      "\n",
      "Since each pound of peanuts costs $3, Frank bought $29 / $3 = 9.67 pounds of peanuts. Over one week, there are 7 days, so on average, Frank eats $9.67 / 7 pounds of peanuts per day.\n",
      "</reasoning>\n",
      "<answer>\n",
      "9.67 pounds\n",
      "</answer><|endoftext|><|endoftext|><|endoftext|><|endoftext|><|endoftext|><|endoftext|><|endoftext|><|endoftext|><|endoftext|><|endoftext|><|endoftext|><|endoftext|><|endoftext|><|endoftext|><|endoftext|><|endoftext|><|endoftext|><|endoftext|><|endoftext|><|endoftext|><|endoftext|><|endoftext|><|endoftext|><|endoftext|><|endoftext|><|endoftext|><|endoftext|><|endoftext|><|endoftext|><|endoftext|><|endoftext|><|endoftext|><|endoftext|><|endoftext|><|endoftext|><|endoftext|><|endoftext|><|endoftext|><|endoftext|><|endoftext|><|endoftext|><|endoftext|><|endoftext|><|endoftext|><|endoftext|><|endoftext|><|endoftext|><|endoftext|><|endoftext|><|endoftext|><|endoftext|><|endoftext|><|endoftext|><|endoftext|><|endoftext|><|endoftext|><|endoftext|><|endoftext|><|endoftext|><|endoftext|><|endoftext|><|endoftext|><|endoftext|><|endoftext|><|endoftext|><|endoftext|><|endoftext|><|endoftext|><|endoftext|><|endoftext|><|endoftext|><|endoftext|><|endoftext|><|endoftext|><|endoftext|><|endoftext|><|endoftext|><|endoftext|><|endoftext|><|endoftext|><|endoftext|><|endoftext|><|endoftext|><|endoftext|><|endoftext|><|endoftext|><|endoftext|><|endoftext|><|endoftext|><|endoftext|><|endoftext|><|endoftext|><|endoftext|><|endoftext|><|endoftext|><|endoftext|><|endoftext|><|endoftext|><|endoftext|><|endoftext|><|endoftext|><|endoftext|><|endoftext|><|endoftext|><|endoftext|><|endoftext|><|endoftext|><|endoftext|><|endoftext|><|endoftext|><|endoftext|><|endoftext|><|endoftext|><|endoftext|><|endoftext|><|endoftext|><|endoftext|><|endoftext|><|endoftext|><|endoftext|><|endoftext|><|endoftext|><|endoftext|><|endoftext|><|endoftext|><|endoftext|><|endoftext|><|endoftext|><|endoftext|><|endoftext|><|endoftext|><|endoftext|><|endoftext|><|endoftext|><|endoftext|><|endoftext|><|endoftext|><|endoftext|><|endoftext|><|endoftext|><|endoftext|><|endoftext|><|endoftext|><|endoftext|><|endoftext|><|endoftext|><|endoftext|><|endoftext|><|endoftext|><|endoftext|><|endoftext|><|endoftext|><|endoftext|><|endoftext|><|endoftext|><|endoftext|><|endoftext|><|endoftext|><|endoftext|><|endoftext|><|endoftext|><|endoftext|><|endoftext|><|endoftext|><|endoftext|><|endoftext|><|endoftext|><|endoftext|><|endoftext|><|endoftext|><|endoftext|><|endoftext|><|endoftext|><|endoftext|><|endoftext|><|endoftext|><|endoftext|><|endoftext|><|endoftext|><|endoftext|><|endoftext|><|endoftext|>\n"
     ]
    },
    {
     "name": "stderr",
     "output_type": "stream",
     "text": [
      "100%|██████████| 1/1 [00:18<00:00, 18.37s/it]\n"
     ]
    },
    {
     "name": "stdout",
     "output_type": "stream",
     "text": [
      "Step: 241 | Iter: 1 | Loss 0.0\n",
      "Step: 241 | Iter: 2 | Loss 0.00156402587890625\n",
      "Step: 241 | Iter: 3 | Loss 0.00156402587890625\n",
      "Step: 241 | Iter: 4 | Loss -0.00156402587890625\n",
      "Step: 241 | Iter: 5 | Loss 0.0\n"
     ]
    },
    {
     "name": "stderr",
     "output_type": "stream",
     "text": [
      "100%|██████████| 1/1 [00:18<00:00, 18.23s/it]\n"
     ]
    },
    {
     "name": "stdout",
     "output_type": "stream",
     "text": [
      "Step: 242 | Iter: 1 | Loss -1.6927719116210938e-05\n",
      "Step: 242 | Iter: 2 | Loss -1.71661376953125e-05\n",
      "Step: 242 | Iter: 3 | Loss -1.6689300537109375e-05\n",
      "Step: 242 | Iter: 4 | Loss -1.5974044799804688e-05\n",
      "Step: 242 | Iter: 5 | Loss -1.7762184143066406e-05\n"
     ]
    },
    {
     "name": "stderr",
     "output_type": "stream",
     "text": [
      "100%|██████████| 1/1 [00:23<00:00, 23.78s/it]\n"
     ]
    },
    {
     "name": "stdout",
     "output_type": "stream",
     "text": [
      "Step: 243 | Iter: 1 | Loss 0.000782012939453125\n",
      "Step: 243 | Iter: 2 | Loss 0.002349853515625\n",
      "Step: 243 | Iter: 3 | Loss 0.002349853515625\n",
      "Step: 243 | Iter: 4 | Loss 0.002349853515625\n",
      "Step: 243 | Iter: 5 | Loss 0.00156402587890625\n"
     ]
    },
    {
     "name": "stderr",
     "output_type": "stream",
     "text": [
      "100%|██████████| 1/1 [00:14<00:00, 14.83s/it]\n"
     ]
    },
    {
     "name": "stdout",
     "output_type": "stream",
     "text": [
      "Step: 244 | Iter: 1 | Loss 0.0\n",
      "Step: 244 | Iter: 2 | Loss 0.0\n",
      "Step: 244 | Iter: 3 | Loss -0.000782012939453125\n",
      "Step: 244 | Iter: 4 | Loss -0.00156402587890625\n",
      "Step: 244 | Iter: 5 | Loss -0.00390625\n"
     ]
    },
    {
     "name": "stderr",
     "output_type": "stream",
     "text": [
      "100%|██████████| 1/1 [00:13<00:00, 13.76s/it]\n"
     ]
    },
    {
     "name": "stdout",
     "output_type": "stream",
     "text": [
      "Step: 245 | Iter: 1 | Loss 0.0\n",
      "Step: 245 | Iter: 2 | Loss 0.0\n",
      "Step: 245 | Iter: 3 | Loss 0.0\n",
      "Step: 245 | Iter: 4 | Loss 0.0\n",
      "Step: 245 | Iter: 5 | Loss 0.0\n"
     ]
    },
    {
     "name": "stderr",
     "output_type": "stream",
     "text": [
      "100%|██████████| 1/1 [00:11<00:00, 11.29s/it]\n"
     ]
    },
    {
     "name": "stdout",
     "output_type": "stream",
     "text": [
      "Step: 246 | Iter: 1 | Loss 0.0\n",
      "Step: 246 | Iter: 2 | Loss 0.0\n",
      "Step: 246 | Iter: 3 | Loss 0.0\n",
      "Step: 246 | Iter: 4 | Loss 0.0\n",
      "Step: 246 | Iter: 5 | Loss 0.0\n"
     ]
    },
    {
     "name": "stderr",
     "output_type": "stream",
     "text": [
      "100%|██████████| 1/1 [00:20<00:00, 20.46s/it]\n"
     ]
    },
    {
     "name": "stdout",
     "output_type": "stream",
     "text": [
      "Step: 247 | Iter: 1 | Loss -3.0279159545898438e-05\n",
      "Step: 247 | Iter: 2 | Loss -2.8848648071289062e-05\n",
      "Step: 247 | Iter: 3 | Loss -3.0159950256347656e-05\n",
      "Step: 247 | Iter: 4 | Loss -3.0994415283203125e-05\n",
      "Step: 247 | Iter: 5 | Loss -3.0517578125e-05\n"
     ]
    },
    {
     "name": "stderr",
     "output_type": "stream",
     "text": [
      "100%|██████████| 1/1 [00:16<00:00, 16.38s/it]\n"
     ]
    },
    {
     "name": "stdout",
     "output_type": "stream",
     "text": [
      "Step: 248 | Iter: 1 | Loss -0.000782012939453125\n",
      "Step: 248 | Iter: 2 | Loss -0.0011749267578125\n",
      "Step: 248 | Iter: 3 | Loss -0.002349853515625\n",
      "Step: 248 | Iter: 4 | Loss -0.000782012939453125\n",
      "Step: 248 | Iter: 5 | Loss -0.002349853515625\n"
     ]
    },
    {
     "name": "stderr",
     "output_type": "stream",
     "text": [
      "100%|██████████| 1/1 [00:15<00:00, 15.13s/it]\n"
     ]
    },
    {
     "name": "stdout",
     "output_type": "stream",
     "text": [
      "Step: 249 | Iter: 1 | Loss 0.00156402587890625\n",
      "Step: 249 | Iter: 2 | Loss 0.00156402587890625\n",
      "Step: 249 | Iter: 3 | Loss 0.00156402587890625\n",
      "Step: 249 | Iter: 4 | Loss 0.00156402587890625\n",
      "Step: 249 | Iter: 5 | Loss 0.00156402587890625\n"
     ]
    },
    {
     "name": "stderr",
     "output_type": "stream",
     "text": [
      "100%|██████████| 1/1 [00:14<00:00, 14.31s/it]\n"
     ]
    },
    {
     "name": "stdout",
     "output_type": "stream",
     "text": [
      "Step: 250 | Iter: 1 | Loss -4.6253204345703125e-05\n",
      "Step: 250 | Iter: 2 | Loss -4.5299530029296875e-05\n",
      "Step: 250 | Iter: 3 | Loss -4.649162292480469e-05\n",
      "Step: 250 | Iter: 4 | Loss -4.5299530029296875e-05\n",
      "Step: 250 | Iter: 5 | Loss -4.4345855712890625e-05\n",
      "Step: 250 | Format: 0.31199999999999983 | Accuracy: 1.0559999999999994\n",
      "Output example: <reasoning>\n",
      "To determine how many dandelion puffs each of Caleb's friends received, we need to follow these steps:\n",
      "\n",
      "1. Calculate the total number of dandelion puffs Caleb gave away.\n",
      "2. Subtract the total given away from the original number of dandelion puffs to find out how many are left.\n",
      "3. Divide the remaining dandelion puffs equally among his 3 friends.\n",
      "</reasoning>\n",
      "<answer>\n",
      "To find out how many dandelion puffs each friend received, we'll perform the following calculations:\n",
      "\n",
      "Total given away:\n",
      "- 3 to mom\n",
      "- 3 to sister\n",
      "- 5 to grandmother\n",
      "- 2 to dog\n",
      "\n",
      "Total given away = 3 + 3 + 5 + 2 = 13 dandelion puffs\n",
      "\n",
      "Remaining dandelion puffs:\n",
      "Original - Total given away = 40 - 13 = 27 dandelion puffs\n",
      "\n",
      "Dividing equally among 3 friends:\n",
      "27 ÷ 3 = 9 dandelion puffs\n",
      "\n",
      "Each friend received 9 dandelion puffs.\n",
      "</answer><|endoftext|>\n"
     ]
    },
    {
     "name": "stderr",
     "output_type": "stream",
     "text": [
      "100%|██████████| 1/1 [00:10<00:00, 10.17s/it]\n"
     ]
    },
    {
     "name": "stdout",
     "output_type": "stream",
     "text": [
      "Step: 251 | Iter: 1 | Loss 0.0\n",
      "Step: 251 | Iter: 2 | Loss 0.0\n",
      "Step: 251 | Iter: 3 | Loss 0.0\n",
      "Step: 251 | Iter: 4 | Loss 0.0\n",
      "Step: 251 | Iter: 5 | Loss 0.00156402587890625\n"
     ]
    },
    {
     "name": "stderr",
     "output_type": "stream",
     "text": [
      "100%|██████████| 1/1 [00:18<00:00, 18.80s/it]\n"
     ]
    },
    {
     "name": "stdout",
     "output_type": "stream",
     "text": [
      "Step: 252 | Iter: 1 | Loss -0.000782012939453125\n",
      "Step: 252 | Iter: 2 | Loss -0.0031280517578125\n",
      "Step: 252 | Iter: 3 | Loss -0.000782012939453125\n",
      "Step: 252 | Iter: 4 | Loss -0.0031280517578125\n",
      "Step: 252 | Iter: 5 | Loss -0.00156402587890625\n"
     ]
    },
    {
     "name": "stderr",
     "output_type": "stream",
     "text": [
      "100%|██████████| 1/1 [00:11<00:00, 11.66s/it]\n"
     ]
    },
    {
     "name": "stdout",
     "output_type": "stream",
     "text": [
      "Step: 253 | Iter: 1 | Loss -5.91278076171875e-05\n",
      "Step: 253 | Iter: 2 | Loss -5.602836608886719e-05\n",
      "Step: 253 | Iter: 3 | Loss -5.602836608886719e-05\n",
      "Step: 253 | Iter: 4 | Loss -5.650520324707031e-05\n",
      "Step: 253 | Iter: 5 | Loss -5.650520324707031e-05\n"
     ]
    },
    {
     "name": "stderr",
     "output_type": "stream",
     "text": [
      "100%|██████████| 1/1 [00:14<00:00, 14.49s/it]\n"
     ]
    },
    {
     "name": "stdout",
     "output_type": "stream",
     "text": [
      "Step: 254 | Iter: 1 | Loss 0.0\n",
      "Step: 254 | Iter: 2 | Loss 0.002349853515625\n",
      "Step: 254 | Iter: 3 | Loss 0.0\n",
      "Step: 254 | Iter: 4 | Loss 0.0\n",
      "Step: 254 | Iter: 5 | Loss 0.0\n"
     ]
    },
    {
     "name": "stderr",
     "output_type": "stream",
     "text": [
      "100%|██████████| 1/1 [00:17<00:00, 17.55s/it]\n"
     ]
    },
    {
     "name": "stdout",
     "output_type": "stream",
     "text": [
      "Step: 255 | Iter: 1 | Loss -0.0003910064697265625\n",
      "Step: 255 | Iter: 2 | Loss -0.0003910064697265625\n",
      "Step: 255 | Iter: 3 | Loss -0.0003910064697265625\n",
      "Step: 255 | Iter: 4 | Loss -0.0003910064697265625\n",
      "Step: 255 | Iter: 5 | Loss -0.0003910064697265625\n"
     ]
    },
    {
     "name": "stderr",
     "output_type": "stream",
     "text": [
      "100%|██████████| 1/1 [00:13<00:00, 13.16s/it]\n"
     ]
    },
    {
     "name": "stdout",
     "output_type": "stream",
     "text": [
      "Step: 256 | Iter: 1 | Loss 0.0\n",
      "Step: 256 | Iter: 2 | Loss -0.0003910064697265625\n",
      "Step: 256 | Iter: 3 | Loss 0.0003910064697265625\n",
      "Step: 256 | Iter: 4 | Loss 0.0\n",
      "Step: 256 | Iter: 5 | Loss -0.000782012939453125\n"
     ]
    },
    {
     "name": "stderr",
     "output_type": "stream",
     "text": [
      "100%|██████████| 1/1 [00:17<00:00, 17.94s/it]\n"
     ]
    },
    {
     "name": "stdout",
     "output_type": "stream",
     "text": [
      "Step: 257 | Iter: 1 | Loss 0.0\n",
      "Step: 257 | Iter: 2 | Loss 0.0\n",
      "Step: 257 | Iter: 3 | Loss 0.00156402587890625\n",
      "Step: 257 | Iter: 4 | Loss 0.0\n",
      "Step: 257 | Iter: 5 | Loss 0.0\n"
     ]
    },
    {
     "name": "stderr",
     "output_type": "stream",
     "text": [
      "100%|██████████| 1/1 [00:10<00:00, 10.20s/it]\n"
     ]
    },
    {
     "name": "stdout",
     "output_type": "stream",
     "text": [
      "Step: 258 | Iter: 1 | Loss 0.0\n",
      "Step: 258 | Iter: 2 | Loss -0.00156402587890625\n",
      "Step: 258 | Iter: 3 | Loss 0.00156402587890625\n",
      "Step: 258 | Iter: 4 | Loss 0.00156402587890625\n",
      "Step: 258 | Iter: 5 | Loss 0.0\n"
     ]
    },
    {
     "name": "stderr",
     "output_type": "stream",
     "text": [
      "100%|██████████| 1/1 [00:16<00:00, 16.20s/it]\n"
     ]
    },
    {
     "name": "stdout",
     "output_type": "stream",
     "text": [
      "Step: 259 | Iter: 1 | Loss 0.0\n",
      "Step: 259 | Iter: 2 | Loss 0.0\n",
      "Step: 259 | Iter: 3 | Loss -0.000782012939453125\n",
      "Step: 259 | Iter: 4 | Loss 0.0\n",
      "Step: 259 | Iter: 5 | Loss -0.00156402587890625\n"
     ]
    },
    {
     "name": "stderr",
     "output_type": "stream",
     "text": [
      "100%|██████████| 1/1 [00:19<00:00, 19.99s/it]\n"
     ]
    },
    {
     "name": "stdout",
     "output_type": "stream",
     "text": [
      "Step: 260 | Iter: 1 | Loss -0.0003910064697265625\n",
      "Step: 260 | Iter: 2 | Loss -0.0003910064697265625\n",
      "Step: 260 | Iter: 3 | Loss -0.001953125\n",
      "Step: 260 | Iter: 4 | Loss 0.0\n",
      "Step: 260 | Iter: 5 | Loss 0.0\n",
      "Step: 260 | Format: 0.31846153846153835 | Accuracy: 1.0707692307692307\n",
      "Output example: <reasoning>\n",
      "Adam's school has 80 students in total. Class A has 40% of these students, which is \\(0.40 \\times 80 = 32\\) students.\n",
      "Class B has 21 students fewer than Class A, so Class B has \\(32 - 21 = 11\\) students.\n",
      "The remaining students are in Class C. Therefore, the number of students in Class C is \\(80 - 32 - 11 = 37\\).\n",
      "</reasoning>\n",
      "<answer>\n",
      "The number of students in Class C is 37.\n",
      "</answer><|endoftext|><|endoftext|><|endoftext|><|endoftext|><|endoftext|><|endoftext|><|endoftext|><|endoftext|><|endoftext|><|endoftext|><|endoftext|><|endoftext|><|endoftext|><|endoftext|><|endoftext|><|endoftext|><|endoftext|><|endoftext|><|endoftext|><|endoftext|><|endoftext|><|endoftext|><|endoftext|><|endoftext|><|endoftext|><|endoftext|><|endoftext|><|endoftext|><|endoftext|><|endoftext|><|endoftext|><|endoftext|><|endoftext|><|endoftext|><|endoftext|><|endoftext|><|endoftext|><|endoftext|><|endoftext|><|endoftext|><|endoftext|><|endoftext|><|endoftext|><|endoftext|><|endoftext|><|endoftext|><|endoftext|><|endoftext|><|endoftext|><|endoftext|><|endoftext|><|endoftext|><|endoftext|><|endoftext|><|endoftext|><|endoftext|><|endoftext|><|endoftext|><|endoftext|><|endoftext|><|endoftext|><|endoftext|><|endoftext|><|endoftext|><|endoftext|><|endoftext|><|endoftext|><|endoftext|><|endoftext|><|endoftext|><|endoftext|><|endoftext|><|endoftext|><|endoftext|><|endoftext|><|endoftext|><|endoftext|><|endoftext|><|endoftext|><|endoftext|><|endoftext|><|endoftext|><|endoftext|><|endoftext|><|endoftext|><|endoftext|><|endoftext|><|endoftext|><|endoftext|><|endoftext|><|endoftext|><|endoftext|><|endoftext|><|endoftext|><|endoftext|><|endoftext|><|endoftext|><|endoftext|><|endoftext|><|endoftext|><|endoftext|><|endoftext|><|endoftext|><|endoftext|><|endoftext|><|endoftext|><|endoftext|><|endoftext|><|endoftext|><|endoftext|><|endoftext|><|endoftext|><|endoftext|><|endoftext|><|endoftext|><|endoftext|><|endoftext|><|endoftext|><|endoftext|><|endoftext|><|endoftext|><|endoftext|><|endoftext|><|endoftext|><|endoftext|><|endoftext|><|endoftext|><|endoftext|><|endoftext|><|endoftext|><|endoftext|><|endoftext|><|endoftext|><|endoftext|><|endoftext|><|endoftext|><|endoftext|><|endoftext|><|endoftext|><|endoftext|><|endoftext|><|endoftext|><|endoftext|><|endoftext|><|endoftext|><|endoftext|><|endoftext|><|endoftext|><|endoftext|><|endoftext|><|endoftext|><|endoftext|><|endoftext|><|endoftext|><|endoftext|><|endoftext|><|endoftext|><|endoftext|><|endoftext|><|endoftext|><|endoftext|><|endoftext|><|endoftext|><|endoftext|><|endoftext|><|endoftext|><|endoftext|><|endoftext|><|endoftext|><|endoftext|><|endoftext|><|endoftext|><|endoftext|><|endoftext|><|endoftext|><|endoftext|><|endoftext|><|endoftext|><|endoftext|><|endoftext|><|endoftext|><|endoftext|><|endoftext|><|endoftext|><|endoftext|><|endoftext|><|endoftext|><|endoftext|><|endoftext|><|endoftext|><|endoftext|><|endoftext|><|endoftext|><|endoftext|>\n"
     ]
    },
    {
     "name": "stderr",
     "output_type": "stream",
     "text": [
      "100%|██████████| 1/1 [00:15<00:00, 15.86s/it]\n"
     ]
    },
    {
     "name": "stdout",
     "output_type": "stream",
     "text": [
      "Step: 261 | Iter: 1 | Loss -0.00156402587890625\n",
      "Step: 261 | Iter: 2 | Loss 0.00156402587890625\n",
      "Step: 261 | Iter: 3 | Loss 0.00156402587890625\n",
      "Step: 261 | Iter: 4 | Loss -0.000782012939453125\n",
      "Step: 261 | Iter: 5 | Loss 0.0\n"
     ]
    },
    {
     "name": "stderr",
     "output_type": "stream",
     "text": [
      "100%|██████████| 1/1 [00:23<00:00, 23.80s/it]\n"
     ]
    },
    {
     "name": "stdout",
     "output_type": "stream",
     "text": [
      "Step: 262 | Iter: 1 | Loss -0.000782012939453125\n",
      "Step: 262 | Iter: 2 | Loss 0.0\n",
      "Step: 262 | Iter: 3 | Loss -0.000782012939453125\n",
      "Step: 262 | Iter: 4 | Loss -0.000782012939453125\n",
      "Step: 262 | Iter: 5 | Loss -0.000782012939453125\n"
     ]
    },
    {
     "name": "stderr",
     "output_type": "stream",
     "text": [
      "100%|██████████| 1/1 [00:14<00:00, 14.78s/it]\n"
     ]
    },
    {
     "name": "stdout",
     "output_type": "stream",
     "text": [
      "Step: 263 | Iter: 1 | Loss -0.000782012939453125\n",
      "Step: 263 | Iter: 2 | Loss 0.0\n",
      "Step: 263 | Iter: 3 | Loss 0.0\n",
      "Step: 263 | Iter: 4 | Loss -0.000782012939453125\n",
      "Step: 263 | Iter: 5 | Loss 0.0\n"
     ]
    },
    {
     "name": "stderr",
     "output_type": "stream",
     "text": [
      "100%|██████████| 1/1 [00:12<00:00, 12.83s/it]\n"
     ]
    },
    {
     "name": "stdout",
     "output_type": "stream",
     "text": [
      "Step: 264 | Iter: 1 | Loss 0.0\n",
      "Step: 264 | Iter: 2 | Loss 0.000782012939453125\n",
      "Step: 264 | Iter: 3 | Loss -0.0003910064697265625\n",
      "Step: 264 | Iter: 4 | Loss -0.00156402587890625\n",
      "Step: 264 | Iter: 5 | Loss -0.000782012939453125\n"
     ]
    },
    {
     "name": "stderr",
     "output_type": "stream",
     "text": [
      "100%|██████████| 1/1 [00:20<00:00, 20.71s/it]\n"
     ]
    },
    {
     "name": "stdout",
     "output_type": "stream",
     "text": [
      "Step: 265 | Iter: 1 | Loss 0.0\n",
      "Step: 265 | Iter: 2 | Loss 0.0\n",
      "Step: 265 | Iter: 3 | Loss 0.0\n",
      "Step: 265 | Iter: 4 | Loss -0.002349853515625\n",
      "Step: 265 | Iter: 5 | Loss 0.0\n"
     ]
    },
    {
     "name": "stderr",
     "output_type": "stream",
     "text": [
      "100%|██████████| 1/1 [00:24<00:00, 24.89s/it]\n"
     ]
    },
    {
     "name": "stdout",
     "output_type": "stream",
     "text": [
      "Step: 266 | Iter: 1 | Loss 0.000782012939453125\n",
      "Step: 266 | Iter: 2 | Loss 0.0003910064697265625\n",
      "Step: 266 | Iter: 3 | Loss 0.0003910064697265625\n",
      "Step: 266 | Iter: 4 | Loss -0.0003910064697265625\n",
      "Step: 266 | Iter: 5 | Loss 0.0003910064697265625\n"
     ]
    },
    {
     "name": "stderr",
     "output_type": "stream",
     "text": [
      "100%|██████████| 1/1 [00:22<00:00, 22.17s/it]\n"
     ]
    },
    {
     "name": "stdout",
     "output_type": "stream",
     "text": [
      "Step: 267 | Iter: 1 | Loss 0.000782012939453125\n",
      "Step: 267 | Iter: 2 | Loss 0.000782012939453125\n",
      "Step: 267 | Iter: 3 | Loss -0.0003910064697265625\n",
      "Step: 267 | Iter: 4 | Loss 0.001953125\n",
      "Step: 267 | Iter: 5 | Loss -0.0003910064697265625\n"
     ]
    },
    {
     "name": "stderr",
     "output_type": "stream",
     "text": [
      "100%|██████████| 1/1 [00:31<00:00, 31.37s/it]\n"
     ]
    },
    {
     "name": "stdout",
     "output_type": "stream",
     "text": [
      "Step: 268 | Iter: 1 | Loss -0.0003910064697265625\n",
      "Step: 268 | Iter: 2 | Loss 0.0011749267578125\n",
      "Step: 268 | Iter: 3 | Loss -0.0003910064697265625\n",
      "Step: 268 | Iter: 4 | Loss -0.000782012939453125\n",
      "Step: 268 | Iter: 5 | Loss -0.000782012939453125\n"
     ]
    },
    {
     "name": "stderr",
     "output_type": "stream",
     "text": [
      "100%|██████████| 1/1 [00:10<00:00, 10.60s/it]\n"
     ]
    },
    {
     "name": "stdout",
     "output_type": "stream",
     "text": [
      "Step: 269 | Iter: 1 | Loss -3.600120544433594e-05\n",
      "Step: 269 | Iter: 2 | Loss -3.6716461181640625e-05\n",
      "Step: 269 | Iter: 3 | Loss -3.552436828613281e-05\n",
      "Step: 269 | Iter: 4 | Loss -3.62396240234375e-05\n",
      "Step: 269 | Iter: 5 | Loss -3.4809112548828125e-05\n"
     ]
    },
    {
     "name": "stderr",
     "output_type": "stream",
     "text": [
      "100%|██████████| 1/1 [00:11<00:00, 11.14s/it]\n"
     ]
    },
    {
     "name": "stdout",
     "output_type": "stream",
     "text": [
      "Step: 270 | Iter: 1 | Loss 0.0\n",
      "Step: 270 | Iter: 2 | Loss 0.0\n",
      "Step: 270 | Iter: 3 | Loss 0.00156402587890625\n",
      "Step: 270 | Iter: 4 | Loss 0.0\n",
      "Step: 270 | Iter: 5 | Loss 0.00156402587890625\n",
      "Step: 270 | Format: 0.32370370370370366 | Accuracy: 1.0814814814814815\n",
      "Output example: <reasoning>\n",
      "To determine how much more money John needs to earn to buy the new pogo stick, we first need to calculate his total earnings for the recent weekend. \n",
      "\n",
      "On Saturday, John earned $18. On Sunday, he earned half of that amount, which is $18 / 2 = $9. Therefore, his total earnings for the recent weekend are $18 (Saturday) + $9 (Sunday) = $27. \n",
      "\n",
      "John's goal is to earn $60 for the new pogo stick. To find out how much more he needs to earn, we subtract his current earnings from his goal: $60 - $27 = $33. \n",
      "</reasoning>\n",
      "<answer>\n",
      "John needs to earn an additional $33 to give him the $60 he needs to buy the new pogo stick. \n",
      "</answer><|endoftext|>\n"
     ]
    },
    {
     "name": "stderr",
     "output_type": "stream",
     "text": [
      "100%|██████████| 1/1 [00:19<00:00, 19.33s/it]\n"
     ]
    },
    {
     "name": "stdout",
     "output_type": "stream",
     "text": [
      "Step: 271 | Iter: 1 | Loss 0.0\n",
      "Step: 271 | Iter: 2 | Loss 0.0\n",
      "Step: 271 | Iter: 3 | Loss 0.0\n",
      "Step: 271 | Iter: 4 | Loss 0.00156402587890625\n",
      "Step: 271 | Iter: 5 | Loss 0.0\n"
     ]
    },
    {
     "name": "stderr",
     "output_type": "stream",
     "text": [
      "100%|██████████| 1/1 [00:26<00:00, 26.75s/it]\n"
     ]
    },
    {
     "name": "stdout",
     "output_type": "stream",
     "text": [
      "Step: 272 | Iter: 1 | Loss -1.4185905456542969e-05\n",
      "Step: 272 | Iter: 2 | Loss -1.4662742614746094e-05\n",
      "Step: 272 | Iter: 3 | Loss -1.5139579772949219e-05\n",
      "Step: 272 | Iter: 4 | Loss -1.4483928680419922e-05\n",
      "Step: 272 | Iter: 5 | Loss -1.4662742614746094e-05\n"
     ]
    },
    {
     "name": "stderr",
     "output_type": "stream",
     "text": [
      "100%|██████████| 1/1 [00:14<00:00, 14.15s/it]\n"
     ]
    },
    {
     "name": "stdout",
     "output_type": "stream",
     "text": [
      "Step: 273 | Iter: 1 | Loss -0.00156402587890625\n",
      "Step: 273 | Iter: 2 | Loss -0.00156402587890625\n",
      "Step: 273 | Iter: 3 | Loss -0.00156402587890625\n",
      "Step: 273 | Iter: 4 | Loss 0.00156402587890625\n",
      "Step: 273 | Iter: 5 | Loss -0.00156402587890625\n"
     ]
    },
    {
     "name": "stderr",
     "output_type": "stream",
     "text": [
      "100%|██████████| 1/1 [00:12<00:00, 12.15s/it]\n"
     ]
    },
    {
     "name": "stdout",
     "output_type": "stream",
     "text": [
      "Step: 274 | Iter: 1 | Loss 0.000782012939453125\n",
      "Step: 274 | Iter: 2 | Loss 0.000782012939453125\n",
      "Step: 274 | Iter: 3 | Loss 0.002349853515625\n",
      "Step: 274 | Iter: 4 | Loss 0.0003910064697265625\n",
      "Step: 274 | Iter: 5 | Loss 0.0003910064697265625\n"
     ]
    },
    {
     "name": "stderr",
     "output_type": "stream",
     "text": [
      "100%|██████████| 1/1 [00:20<00:00, 20.78s/it]\n"
     ]
    },
    {
     "name": "stdout",
     "output_type": "stream",
     "text": [
      "Step: 275 | Iter: 1 | Loss 0.0\n",
      "Step: 275 | Iter: 2 | Loss 0.0\n",
      "Step: 275 | Iter: 3 | Loss 0.0\n",
      "Step: 275 | Iter: 4 | Loss -0.00156402587890625\n",
      "Step: 275 | Iter: 5 | Loss 0.0\n"
     ]
    },
    {
     "name": "stderr",
     "output_type": "stream",
     "text": [
      "100%|██████████| 1/1 [00:16<00:00, 16.90s/it]\n"
     ]
    },
    {
     "name": "stdout",
     "output_type": "stream",
     "text": [
      "Step: 276 | Iter: 1 | Loss -0.0003910064697265625\n",
      "Step: 276 | Iter: 2 | Loss -0.0003910064697265625\n",
      "Step: 276 | Iter: 3 | Loss -0.0003910064697265625\n",
      "Step: 276 | Iter: 4 | Loss 0.000782012939453125\n",
      "Step: 276 | Iter: 5 | Loss -0.0003910064697265625\n"
     ]
    },
    {
     "name": "stderr",
     "output_type": "stream",
     "text": [
      "100%|██████████| 1/1 [00:24<00:00, 24.04s/it]\n"
     ]
    },
    {
     "name": "stdout",
     "output_type": "stream",
     "text": [
      "Step: 277 | Iter: 1 | Loss 0.000782012939453125\n",
      "Step: 277 | Iter: 2 | Loss 0.000782012939453125\n",
      "Step: 277 | Iter: 3 | Loss 0.000782012939453125\n",
      "Step: 277 | Iter: 4 | Loss 0.000782012939453125\n",
      "Step: 277 | Iter: 5 | Loss 0.000782012939453125\n"
     ]
    },
    {
     "name": "stderr",
     "output_type": "stream",
     "text": [
      "100%|██████████| 1/1 [00:16<00:00, 16.54s/it]\n"
     ]
    },
    {
     "name": "stdout",
     "output_type": "stream",
     "text": [
      "Step: 278 | Iter: 1 | Loss 0.000782012939453125\n",
      "Step: 278 | Iter: 2 | Loss 0.000782012939453125\n",
      "Step: 278 | Iter: 3 | Loss 0.000782012939453125\n",
      "Step: 278 | Iter: 4 | Loss -0.0003910064697265625\n",
      "Step: 278 | Iter: 5 | Loss 0.000782012939453125\n"
     ]
    },
    {
     "name": "stderr",
     "output_type": "stream",
     "text": [
      "100%|██████████| 1/1 [00:12<00:00, 12.89s/it]\n"
     ]
    },
    {
     "name": "stdout",
     "output_type": "stream",
     "text": [
      "Step: 279 | Iter: 1 | Loss 0.0\n",
      "Step: 279 | Iter: 2 | Loss 0.0\n",
      "Step: 279 | Iter: 3 | Loss 0.0\n",
      "Step: 279 | Iter: 4 | Loss 0.0\n",
      "Step: 279 | Iter: 5 | Loss 0.0\n"
     ]
    },
    {
     "name": "stderr",
     "output_type": "stream",
     "text": [
      "100%|██████████| 1/1 [00:25<00:00, 25.44s/it]\n"
     ]
    },
    {
     "name": "stdout",
     "output_type": "stream",
     "text": [
      "Step: 280 | Iter: 1 | Loss 0.000782012939453125\n",
      "Step: 280 | Iter: 2 | Loss 0.000782012939453125\n",
      "Step: 280 | Iter: 3 | Loss -0.002349853515625\n",
      "Step: 280 | Iter: 4 | Loss -0.000782012939453125\n",
      "Step: 280 | Iter: 5 | Loss 0.000782012939453125\n",
      "Step: 280 | Format: 0.3292857142857143 | Accuracy: 1.0885714285714287\n",
      "Output example: <reasoning>\n",
      "Robi is saving double his amount each month. This is a geometric sequence where the first term a1 is 2 and the common ratio r is 2. The formula for the sum of the first n terms of a geometric sequence is S_n = a1*(r^n - 1) / (r - 1). In this case, the number of months n is 6.\n",
      "</reasoning>\n",
      "<answer>\n",
      "S_6 = 2*(2^6 - 1) / (2 - 1) = 2*(64 - 1) = 2*(63) = 126\n",
      "</answer><|endoftext|><|endoftext|><|endoftext|><|endoftext|><|endoftext|><|endoftext|><|endoftext|><|endoftext|><|endoftext|><|endoftext|><|endoftext|><|endoftext|><|endoftext|><|endoftext|><|endoftext|><|endoftext|><|endoftext|><|endoftext|><|endoftext|><|endoftext|><|endoftext|><|endoftext|><|endoftext|><|endoftext|><|endoftext|><|endoftext|><|endoftext|><|endoftext|><|endoftext|><|endoftext|><|endoftext|><|endoftext|><|endoftext|><|endoftext|><|endoftext|><|endoftext|><|endoftext|><|endoftext|><|endoftext|><|endoftext|><|endoftext|><|endoftext|><|endoftext|><|endoftext|><|endoftext|><|endoftext|><|endoftext|><|endoftext|><|endoftext|><|endoftext|><|endoftext|><|endoftext|><|endoftext|><|endoftext|><|endoftext|><|endoftext|><|endoftext|><|endoftext|><|endoftext|><|endoftext|><|endoftext|><|endoftext|><|endoftext|><|endoftext|><|endoftext|><|endoftext|><|endoftext|><|endoftext|><|endoftext|><|endoftext|><|endoftext|><|endoftext|><|endoftext|><|endoftext|><|endoftext|><|endoftext|><|endoftext|><|endoftext|><|endoftext|><|endoftext|><|endoftext|><|endoftext|><|endoftext|><|endoftext|><|endoftext|><|endoftext|><|endoftext|><|endoftext|><|endoftext|><|endoftext|><|endoftext|><|endoftext|><|endoftext|><|endoftext|><|endoftext|><|endoftext|><|endoftext|><|endoftext|><|endoftext|><|endoftext|><|endoftext|><|endoftext|><|endoftext|><|endoftext|><|endoftext|><|endoftext|><|endoftext|><|endoftext|><|endoftext|><|endoftext|><|endoftext|><|endoftext|><|endoftext|><|endoftext|><|endoftext|><|endoftext|><|endoftext|><|endoftext|><|endoftext|><|endoftext|><|endoftext|><|endoftext|><|endoftext|><|endoftext|><|endoftext|><|endoftext|><|endoftext|><|endoftext|><|endoftext|><|endoftext|><|endoftext|><|endoftext|><|endoftext|><|endoftext|><|endoftext|><|endoftext|><|endoftext|><|endoftext|><|endoftext|><|endoftext|><|endoftext|><|endoftext|><|endoftext|><|endoftext|><|endoftext|><|endoftext|><|endoftext|><|endoftext|><|endoftext|><|endoftext|><|endoftext|><|endoftext|><|endoftext|><|endoftext|><|endoftext|><|endoftext|><|endoftext|><|endoftext|><|endoftext|><|endoftext|><|endoftext|><|endoftext|><|endoftext|><|endoftext|><|endoftext|><|endoftext|><|endoftext|><|endoftext|><|endoftext|><|endoftext|><|endoftext|><|endoftext|><|endoftext|><|endoftext|><|endoftext|><|endoftext|><|endoftext|><|endoftext|><|endoftext|><|endoftext|><|endoftext|><|endoftext|><|endoftext|><|endoftext|><|endoftext|><|endoftext|><|endoftext|><|endoftext|><|endoftext|><|endoftext|><|endoftext|><|endoftext|><|endoftext|><|endoftext|><|endoftext|><|endoftext|><|endoftext|><|endoftext|><|endoftext|><|endoftext|><|endoftext|><|endoftext|><|endoftext|><|endoftext|><|endoftext|><|endoftext|><|endoftext|><|endoftext|><|endoftext|><|endoftext|><|endoftext|><|endoftext|><|endoftext|><|endoftext|><|endoftext|><|endoftext|><|endoftext|><|endoftext|><|endoftext|><|endoftext|><|endoftext|><|endoftext|><|endoftext|><|endoftext|><|endoftext|><|endoftext|><|endoftext|><|endoftext|><|endoftext|><|endoftext|><|endoftext|><|endoftext|><|endoftext|><|endoftext|><|endoftext|><|endoftext|><|endoftext|><|endoftext|><|endoftext|><|endoftext|><|endoftext|><|endoftext|><|endoftext|><|endoftext|><|endoftext|><|endoftext|><|endoftext|><|endoftext|><|endoftext|><|endoftext|><|endoftext|><|endoftext|><|endoftext|><|endoftext|><|endoftext|><|endoftext|><|endoftext|><|endoftext|><|endoftext|><|endoftext|><|endoftext|><|endoftext|><|endoftext|><|endoftext|><|endoftext|><|endoftext|><|endoftext|><|endoftext|><|endoftext|><|endoftext|><|endoftext|><|endoftext|><|endoftext|><|endoftext|><|endoftext|><|endoftext|><|endoftext|><|endoftext|>\n"
     ]
    },
    {
     "name": "stderr",
     "output_type": "stream",
     "text": [
      "100%|██████████| 1/1 [00:15<00:00, 15.03s/it]\n"
     ]
    },
    {
     "name": "stdout",
     "output_type": "stream",
     "text": [
      "Step: 281 | Iter: 1 | Loss -2.6464462280273438e-05\n",
      "Step: 281 | Iter: 2 | Loss -2.5153160095214844e-05\n",
      "Step: 281 | Iter: 3 | Loss -2.5391578674316406e-05\n",
      "Step: 281 | Iter: 4 | Loss -2.4199485778808594e-05\n",
      "Step: 281 | Iter: 5 | Loss -2.5510787963867188e-05\n"
     ]
    },
    {
     "name": "stderr",
     "output_type": "stream",
     "text": [
      "100%|██████████| 1/1 [00:11<00:00, 11.80s/it]\n"
     ]
    },
    {
     "name": "stdout",
     "output_type": "stream",
     "text": [
      "Step: 282 | Iter: 1 | Loss 0.0\n",
      "Step: 282 | Iter: 2 | Loss 0.0\n",
      "Step: 282 | Iter: 3 | Loss -0.00156402587890625\n",
      "Step: 282 | Iter: 4 | Loss -0.00156402587890625\n",
      "Step: 282 | Iter: 5 | Loss -0.00156402587890625\n"
     ]
    },
    {
     "name": "stderr",
     "output_type": "stream",
     "text": [
      "100%|██████████| 1/1 [00:10<00:00, 10.45s/it]\n"
     ]
    },
    {
     "name": "stdout",
     "output_type": "stream",
     "text": [
      "Step: 283 | Iter: 1 | Loss -6.198883056640625e-05\n",
      "Step: 283 | Iter: 2 | Loss -6.151199340820312e-05\n",
      "Step: 283 | Iter: 3 | Loss -6.246566772460938e-05\n",
      "Step: 283 | Iter: 4 | Loss -6.103515625e-05\n",
      "Step: 283 | Iter: 5 | Loss -6.4849853515625e-05\n"
     ]
    },
    {
     "name": "stderr",
     "output_type": "stream",
     "text": [
      "100%|██████████| 1/1 [00:12<00:00, 12.04s/it]\n"
     ]
    },
    {
     "name": "stdout",
     "output_type": "stream",
     "text": [
      "Step: 284 | Iter: 1 | Loss -0.000782012939453125\n",
      "Step: 284 | Iter: 2 | Loss 0.0\n",
      "Step: 284 | Iter: 3 | Loss -0.000782012939453125\n",
      "Step: 284 | Iter: 4 | Loss 0.0\n",
      "Step: 284 | Iter: 5 | Loss -0.000782012939453125\n"
     ]
    },
    {
     "name": "stderr",
     "output_type": "stream",
     "text": [
      "100%|██████████| 1/1 [00:15<00:00, 15.30s/it]\n"
     ]
    },
    {
     "name": "stdout",
     "output_type": "stream",
     "text": [
      "Step: 285 | Iter: 1 | Loss 0.000782012939453125\n",
      "Step: 285 | Iter: 2 | Loss -0.0003910064697265625\n",
      "Step: 285 | Iter: 3 | Loss -0.0101318359375\n",
      "Step: 285 | Iter: 4 | Loss -0.01171875\n",
      "Step: 285 | Iter: 5 | Loss -0.0133056640625\n"
     ]
    },
    {
     "name": "stderr",
     "output_type": "stream",
     "text": [
      "100%|██████████| 1/1 [00:16<00:00, 16.68s/it]\n"
     ]
    },
    {
     "name": "stdout",
     "output_type": "stream",
     "text": [
      "Step: 286 | Iter: 1 | Loss 0.0\n",
      "Step: 286 | Iter: 2 | Loss 0.0\n",
      "Step: 286 | Iter: 3 | Loss 0.0\n",
      "Step: 286 | Iter: 4 | Loss 0.0\n",
      "Step: 286 | Iter: 5 | Loss 0.0\n"
     ]
    },
    {
     "name": "stderr",
     "output_type": "stream",
     "text": [
      "100%|██████████| 1/1 [00:08<00:00,  8.80s/it]\n"
     ]
    },
    {
     "name": "stdout",
     "output_type": "stream",
     "text": [
      "Step: 287 | Iter: 1 | Loss -0.001953125\n",
      "Step: 287 | Iter: 2 | Loss -0.0003910064697265625\n",
      "Step: 287 | Iter: 3 | Loss -0.002349853515625\n",
      "Step: 287 | Iter: 4 | Loss -0.001953125\n",
      "Step: 287 | Iter: 5 | Loss -0.00390625\n"
     ]
    },
    {
     "name": "stderr",
     "output_type": "stream",
     "text": [
      "100%|██████████| 1/1 [00:09<00:00,  9.85s/it]\n"
     ]
    },
    {
     "name": "stdout",
     "output_type": "stream",
     "text": [
      "Step: 288 | Iter: 1 | Loss -0.000782012939453125\n",
      "Step: 288 | Iter: 2 | Loss 0.000782012939453125\n",
      "Step: 288 | Iter: 3 | Loss 0.000782012939453125\n",
      "Step: 288 | Iter: 4 | Loss -0.000782012939453125\n",
      "Step: 288 | Iter: 5 | Loss 0.000782012939453125\n"
     ]
    },
    {
     "name": "stderr",
     "output_type": "stream",
     "text": [
      "100%|██████████| 1/1 [00:27<00:00, 27.38s/it]\n"
     ]
    },
    {
     "name": "stdout",
     "output_type": "stream",
     "text": [
      "Step: 289 | Iter: 1 | Loss 0.000782012939453125\n",
      "Step: 289 | Iter: 2 | Loss -0.000782012939453125\n",
      "Step: 289 | Iter: 3 | Loss 0.000782012939453125\n",
      "Step: 289 | Iter: 4 | Loss 0.000782012939453125\n",
      "Step: 289 | Iter: 5 | Loss 0.000782012939453125\n"
     ]
    },
    {
     "name": "stderr",
     "output_type": "stream",
     "text": [
      "100%|██████████| 1/1 [00:31<00:00, 31.47s/it]\n"
     ]
    },
    {
     "name": "stdout",
     "output_type": "stream",
     "text": [
      "Step: 290 | Iter: 1 | Loss 0.0\n",
      "Step: 290 | Iter: 2 | Loss 0.0\n",
      "Step: 290 | Iter: 3 | Loss 0.0\n",
      "Step: 290 | Iter: 4 | Loss 0.0\n",
      "Step: 290 | Iter: 5 | Loss 0.0\n",
      "Step: 290 | Format: 0.33310344827586214 | Accuracy: 1.0827586206896556\n",
      "Output example: <reasoning>\n",
      "Let's define the variables:\n",
      "- B = number of Buicks\n",
      "- F = number of Fords\n",
      "- C = number of Chevys\n",
      "\n",
      "We know the following:\n",
      "1. The total number of cars is 301:\n",
      "   \\[\n",
      "   B + F + C = 301\n",
      "   \\]\n",
      "\n",
      "2. Jim has 4 times as many Buicks as Fords:\n",
      "   \\[\n",
      "   B = 4F\n",
      "   \\]\n",
      "\n",
      "3. Jim has 3 more than twice the number of Fords than Chevys:\n",
      "   \\[\n",
      "   B + 3 = 2C + 3\n",
      "   \\]\n",
      "\n",
      "We need to solve these equations step by step.\n",
      "\n",
      "First, substitute \\( B = 4F \\) into the equation \\( B + 3 = 2C + 3 \\):\n",
      "\\[\n",
      "4F + 3 = 2C + 3\n",
      "\\]\n",
      "\n",
      "Subtract 3 from both sides:\n",
      "\\[\n",
      "4F = 2C\n",
      "\\]\n",
      "\n",
      "Divide both sides by 2:\n",
      "\\[\n",
      "2F = C\n",
      "\\]\n",
      "\n",
      "Now substitute \\( C = 2F \\) into the original equation \\( B + F + C = 301 \\):\n",
      "\\[\n",
      "B + F + 2F = 301\n",
      "\\]\n",
      "\n",
      "Combine like terms:\n",
      "\\[\n",
      "B + 3F = 301\n",
      "\\]\n",
      "\n",
      "We also have \\( B = 4F \\). Substitute \\( B = 4F \\) into the equation \\( B + 3F = 301 \\):\n",
      "\\[\n",
      "4F + 3F = 301\n",
      "\\]\n",
      "\n",
      "Combine like terms:\n",
      "\\[\n",
      "7F = 301\n",
      "\\]\n",
      "\n",
      "Divide both sides by 7:\n",
      "\\[\n",
      "F = 43\n",
      "\\]\n",
      "\n",
      "Now use \\( F = 43 \\) to find \\( B \\):\n",
      "\\[\n",
      "B = 4F\n",
      "\\]\n",
      "\\[\n",
      "B = 4 \\times 43\n",
      "\\]\n",
      "\\[\n",
      "B = 172\n",
      "\\]\n",
      "\n",
      "Finally, verify with \\( C = 2F \\):\n",
      "\\[\n",
      "C = 2 \\times 43\n",
      "\\]\n",
      "\\[\n",
      "C = 86\n",
      "\\]\n",
      "\n",
      "Check the total:\n",
      "\\[\n",
      "B + F + C = 172 + 43 + 86 = 301\n",
      "\\]\n",
      "\n",
      "Everything checks out correctly. Therefore, the number of Buicks Jim has is:\n"
     ]
    },
    {
     "name": "stderr",
     "output_type": "stream",
     "text": [
      "100%|██████████| 1/1 [00:17<00:00, 17.56s/it]\n"
     ]
    },
    {
     "name": "stdout",
     "output_type": "stream",
     "text": [
      "Step: 291 | Iter: 1 | Loss 0.0\n",
      "Step: 291 | Iter: 2 | Loss -0.00156402587890625\n",
      "Step: 291 | Iter: 3 | Loss 0.0\n",
      "Step: 291 | Iter: 4 | Loss 0.0\n",
      "Step: 291 | Iter: 5 | Loss 0.0\n"
     ]
    },
    {
     "name": "stderr",
     "output_type": "stream",
     "text": [
      "100%|██████████| 1/1 [00:12<00:00, 12.73s/it]\n"
     ]
    },
    {
     "name": "stdout",
     "output_type": "stream",
     "text": [
      "Step: 292 | Iter: 1 | Loss -6.628036499023438e-05\n",
      "Step: 292 | Iter: 2 | Loss -6.389617919921875e-05\n",
      "Step: 292 | Iter: 3 | Loss -6.628036499023438e-05\n",
      "Step: 292 | Iter: 4 | Loss -6.580352783203125e-05\n",
      "Step: 292 | Iter: 5 | Loss -6.437301635742188e-05\n"
     ]
    },
    {
     "name": "stderr",
     "output_type": "stream",
     "text": [
      "100%|██████████| 1/1 [00:09<00:00,  9.57s/it]\n"
     ]
    },
    {
     "name": "stdout",
     "output_type": "stream",
     "text": [
      "Step: 293 | Iter: 1 | Loss -5.602836608886719e-05\n",
      "Step: 293 | Iter: 2 | Loss -5.5789947509765625e-05\n",
      "Step: 293 | Iter: 3 | Loss -5.53131103515625e-05\n",
      "Step: 293 | Iter: 4 | Loss -5.91278076171875e-05\n",
      "Step: 293 | Iter: 5 | Loss -5.602836608886719e-05\n"
     ]
    },
    {
     "name": "stderr",
     "output_type": "stream",
     "text": [
      "100%|██████████| 1/1 [00:21<00:00, 22.00s/it]\n"
     ]
    },
    {
     "name": "stdout",
     "output_type": "stream",
     "text": [
      "Step: 294 | Iter: 1 | Loss 0.000782012939453125\n",
      "Step: 294 | Iter: 2 | Loss 0.0011749267578125\n",
      "Step: 294 | Iter: 3 | Loss 0.0011749267578125\n",
      "Step: 294 | Iter: 4 | Loss 0.000782012939453125\n",
      "Step: 294 | Iter: 5 | Loss 0.000782012939453125\n"
     ]
    },
    {
     "name": "stderr",
     "output_type": "stream",
     "text": [
      "100%|██████████| 1/1 [00:07<00:00,  7.42s/it]\n"
     ]
    },
    {
     "name": "stdout",
     "output_type": "stream",
     "text": [
      "Step: 295 | Iter: 1 | Loss 0.0\n",
      "Step: 295 | Iter: 2 | Loss -0.004302978515625\n",
      "Step: 295 | Iter: 3 | Loss -0.004302978515625\n",
      "Step: 295 | Iter: 4 | Loss -0.00701904296875\n",
      "Step: 295 | Iter: 5 | Loss -0.004302978515625\n"
     ]
    },
    {
     "name": "stderr",
     "output_type": "stream",
     "text": [
      "100%|██████████| 1/1 [00:19<00:00, 19.60s/it]\n"
     ]
    },
    {
     "name": "stdout",
     "output_type": "stream",
     "text": [
      "Step: 296 | Iter: 1 | Loss -5.340576171875e-05\n",
      "Step: 296 | Iter: 2 | Loss -5.53131103515625e-05\n",
      "Step: 296 | Iter: 3 | Loss -5.340576171875e-05\n",
      "Step: 296 | Iter: 4 | Loss -5.340576171875e-05\n",
      "Step: 296 | Iter: 5 | Loss -5.2928924560546875e-05\n"
     ]
    },
    {
     "name": "stderr",
     "output_type": "stream",
     "text": [
      "100%|██████████| 1/1 [00:10<00:00, 10.48s/it]\n"
     ]
    },
    {
     "name": "stdout",
     "output_type": "stream",
     "text": [
      "Step: 297 | Iter: 1 | Loss 0.00156402587890625\n",
      "Step: 297 | Iter: 2 | Loss 0.00156402587890625\n",
      "Step: 297 | Iter: 3 | Loss 0.00156402587890625\n",
      "Step: 297 | Iter: 4 | Loss 0.002349853515625\n",
      "Step: 297 | Iter: 5 | Loss 0.00156402587890625\n"
     ]
    },
    {
     "name": "stderr",
     "output_type": "stream",
     "text": [
      "100%|██████████| 1/1 [00:08<00:00,  8.01s/it]\n"
     ]
    },
    {
     "name": "stdout",
     "output_type": "stream",
     "text": [
      "Step: 298 | Iter: 1 | Loss 0.000782012939453125\n",
      "Step: 298 | Iter: 2 | Loss 0.000782012939453125\n",
      "Step: 298 | Iter: 3 | Loss 0.0011749267578125\n",
      "Step: 298 | Iter: 4 | Loss 0.000782012939453125\n",
      "Step: 298 | Iter: 5 | Loss 0.001953125\n"
     ]
    },
    {
     "name": "stderr",
     "output_type": "stream",
     "text": [
      "100%|██████████| 1/1 [00:13<00:00, 13.49s/it]\n"
     ]
    },
    {
     "name": "stdout",
     "output_type": "stream",
     "text": [
      "Step: 299 | Iter: 1 | Loss -3.790855407714844e-05\n",
      "Step: 299 | Iter: 2 | Loss -3.695487976074219e-05\n",
      "Step: 299 | Iter: 3 | Loss -3.743171691894531e-05\n",
      "Step: 299 | Iter: 4 | Loss -3.790855407714844e-05\n",
      "Step: 299 | Iter: 5 | Loss -3.719329833984375e-05\n"
     ]
    },
    {
     "name": "stderr",
     "output_type": "stream",
     "text": [
      "100%|██████████| 1/1 [00:15<00:00, 15.01s/it]\n"
     ]
    },
    {
     "name": "stdout",
     "output_type": "stream",
     "text": [
      "Step: 300 | Iter: 1 | Loss 0.0\n",
      "Step: 300 | Iter: 2 | Loss 0.0\n",
      "Step: 300 | Iter: 3 | Loss 0.0\n",
      "Step: 300 | Iter: 4 | Loss 0.0\n",
      "Step: 300 | Iter: 5 | Loss 0.00156402587890625\n",
      "Step: 300 | Format: 0.3386666666666667 | Accuracy: 1.0946666666666671\n",
      "Output example: <reasoning>\n",
      "Basil gets 1/2 of a cookie per morning and per bedtime, so she gets a total of 1/2 + 1/2 = 1 cookie per day from her morning and bedtime portions. Additionally, she gets 2 whole cookies during the day. Therefore, the total number of cookies Basil consumes in a day is 1 + 2 = 3 cookies. \n",
      "\n",
      "Next, we need to calculate the total number of cookies consumed over 30 days. This is given by 3 cookies/day * 30 days = 90 cookies. \n",
      "\n",
      "Since each box contains 45 cookies, we can calculate the number of boxes needed by dividing the total number of cookies by 45 cookies/box. This gives us 90 cookies / 45 cookies/box = 2 boxes. \n",
      "\n",
      "However, since Basil has to buy complete boxes, we should round up to the next whole number. Therefore, Basil will need 3 boxes of cookies to last her for 30 days.\n",
      "</reasoning>\n",
      "<answer>\n",
      "3\n",
      "</answer><|endoftext|><|endoftext|><|endoftext|><|endoftext|><|endoftext|><|endoftext|><|endoftext|><|endoftext|><|endoftext|><|endoftext|><|endoftext|><|endoftext|><|endoftext|><|endoftext|><|endoftext|><|endoftext|><|endoftext|><|endoftext|><|endoftext|><|endoftext|><|endoftext|>\n"
     ]
    },
    {
     "name": "stderr",
     "output_type": "stream",
     "text": [
      "100%|██████████| 1/1 [00:15<00:00, 15.39s/it]\n"
     ]
    },
    {
     "name": "stdout",
     "output_type": "stream",
     "text": [
      "Step: 301 | Iter: 1 | Loss -3.3855438232421875e-05\n",
      "Step: 301 | Iter: 2 | Loss -3.4332275390625e-05\n",
      "Step: 301 | Iter: 3 | Loss -3.504753112792969e-05\n",
      "Step: 301 | Iter: 4 | Loss -3.337860107421875e-05\n",
      "Step: 301 | Iter: 5 | Loss -3.4809112548828125e-05\n"
     ]
    },
    {
     "name": "stderr",
     "output_type": "stream",
     "text": [
      "100%|██████████| 1/1 [00:31<00:00, 31.43s/it]\n"
     ]
    },
    {
     "name": "stdout",
     "output_type": "stream",
     "text": [
      "Step: 302 | Iter: 1 | Loss -0.000782012939453125\n",
      "Step: 302 | Iter: 2 | Loss -0.000782012939453125\n",
      "Step: 302 | Iter: 3 | Loss -0.000782012939453125\n",
      "Step: 302 | Iter: 4 | Loss -0.000782012939453125\n",
      "Step: 302 | Iter: 5 | Loss -0.000782012939453125\n"
     ]
    },
    {
     "name": "stderr",
     "output_type": "stream",
     "text": [
      "100%|██████████| 1/1 [00:18<00:00, 18.03s/it]\n"
     ]
    },
    {
     "name": "stdout",
     "output_type": "stream",
     "text": [
      "Step: 303 | Iter: 1 | Loss -3.4332275390625e-05\n",
      "Step: 303 | Iter: 2 | Loss -3.8623809814453125e-05\n",
      "Step: 303 | Iter: 3 | Loss -3.5762786865234375e-05\n",
      "Step: 303 | Iter: 4 | Loss -3.695487976074219e-05\n",
      "Step: 303 | Iter: 5 | Loss -3.600120544433594e-05\n"
     ]
    },
    {
     "name": "stderr",
     "output_type": "stream",
     "text": [
      "100%|██████████| 1/1 [00:31<00:00, 31.39s/it]\n"
     ]
    },
    {
     "name": "stdout",
     "output_type": "stream",
     "text": [
      "Step: 304 | Iter: 1 | Loss 0.0\n",
      "Step: 304 | Iter: 2 | Loss -0.00156402587890625\n",
      "Step: 304 | Iter: 3 | Loss 0.0\n",
      "Step: 304 | Iter: 4 | Loss 0.0\n",
      "Step: 304 | Iter: 5 | Loss -0.00156402587890625\n"
     ]
    },
    {
     "name": "stderr",
     "output_type": "stream",
     "text": [
      "100%|██████████| 1/1 [00:31<00:00, 31.59s/it]\n"
     ]
    },
    {
     "name": "stdout",
     "output_type": "stream",
     "text": [
      "Step: 305 | Iter: 1 | Loss 0.0\n",
      "Step: 305 | Iter: 2 | Loss 0.0\n",
      "Step: 305 | Iter: 3 | Loss 0.0\n",
      "Step: 305 | Iter: 4 | Loss 0.0\n",
      "Step: 305 | Iter: 5 | Loss 0.0\n"
     ]
    },
    {
     "name": "stderr",
     "output_type": "stream",
     "text": [
      "100%|██████████| 1/1 [00:10<00:00, 10.64s/it]\n"
     ]
    },
    {
     "name": "stdout",
     "output_type": "stream",
     "text": [
      "Step: 306 | Iter: 1 | Loss -5.7697296142578125e-05\n",
      "Step: 306 | Iter: 2 | Loss -5.9604644775390625e-05\n",
      "Step: 306 | Iter: 3 | Loss -5.602836608886719e-05\n",
      "Step: 306 | Iter: 4 | Loss -5.841255187988281e-05\n",
      "Step: 306 | Iter: 5 | Loss -5.793571472167969e-05\n"
     ]
    },
    {
     "name": "stderr",
     "output_type": "stream",
     "text": [
      "100%|██████████| 1/1 [00:18<00:00, 18.89s/it]\n"
     ]
    },
    {
     "name": "stdout",
     "output_type": "stream",
     "text": [
      "Step: 307 | Iter: 1 | Loss 0.000782012939453125\n",
      "Step: 307 | Iter: 2 | Loss 0.000782012939453125\n",
      "Step: 307 | Iter: 3 | Loss 0.00156402587890625\n",
      "Step: 307 | Iter: 4 | Loss 0.000782012939453125\n",
      "Step: 307 | Iter: 5 | Loss 0.000782012939453125\n"
     ]
    },
    {
     "name": "stderr",
     "output_type": "stream",
     "text": [
      "100%|██████████| 1/1 [00:12<00:00, 12.11s/it]\n"
     ]
    },
    {
     "name": "stdout",
     "output_type": "stream",
     "text": [
      "Step: 308 | Iter: 1 | Loss -4.887580871582031e-05\n",
      "Step: 308 | Iter: 2 | Loss -4.839897155761719e-05\n",
      "Step: 308 | Iter: 3 | Loss -4.9114227294921875e-05\n",
      "Step: 308 | Iter: 4 | Loss -4.744529724121094e-05\n",
      "Step: 308 | Iter: 5 | Loss -4.673004150390625e-05\n"
     ]
    },
    {
     "name": "stderr",
     "output_type": "stream",
     "text": [
      "100%|██████████| 1/1 [00:14<00:00, 14.25s/it]\n"
     ]
    },
    {
     "name": "stdout",
     "output_type": "stream",
     "text": [
      "Step: 309 | Iter: 1 | Loss -5.2928924560546875e-05\n",
      "Step: 309 | Iter: 2 | Loss -5.1975250244140625e-05\n",
      "Step: 309 | Iter: 3 | Loss -5.4836273193359375e-05\n",
      "Step: 309 | Iter: 4 | Loss -5.1021575927734375e-05\n",
      "Step: 309 | Iter: 5 | Loss -5.1975250244140625e-05\n"
     ]
    },
    {
     "name": "stderr",
     "output_type": "stream",
     "text": [
      "100%|██████████| 1/1 [00:11<00:00, 11.28s/it]\n"
     ]
    },
    {
     "name": "stdout",
     "output_type": "stream",
     "text": [
      "Step: 310 | Iter: 1 | Loss 0.0\n",
      "Step: 310 | Iter: 2 | Loss 0.00156402587890625\n",
      "Step: 310 | Iter: 3 | Loss 0.0\n",
      "Step: 310 | Iter: 4 | Loss 0.0\n",
      "Step: 310 | Iter: 5 | Loss 0.0\n",
      "Step: 310 | Format: 0.3429032258064517 | Accuracy: 1.1045161290322585\n",
      "Output example: <reasoning>\n",
      "Carl's typing speed is 50 words per minute. Since he types continuously for 4 hours per day, we need to first convert the duration into minutes: 4 hours * 60 minutes/hour = 240 minutes. In 240 minutes, Carl can type 50 words/minute * 240 minutes = 12,000 words. Given that the same daily rate is applied for 7 days, the total number of words Carl can type in 7 days is 12,000 words/day * 7 days = 84,000 words.\n",
      "</reasoning>\n",
      "<answer>\n",
      "84,000\n",
      "</answer><|endoftext|><|endoftext|><|endoftext|><|endoftext|><|endoftext|><|endoftext|><|endoftext|><|endoftext|><|endoftext|><|endoftext|><|endoftext|><|endoftext|><|endoftext|><|endoftext|><|endoftext|><|endoftext|><|endoftext|><|endoftext|><|endoftext|><|endoftext|><|endoftext|><|endoftext|><|endoftext|><|endoftext|><|endoftext|><|endoftext|><|endoftext|><|endoftext|><|endoftext|><|endoftext|><|endoftext|><|endoftext|><|endoftext|>\n"
     ]
    },
    {
     "name": "stderr",
     "output_type": "stream",
     "text": [
      "100%|██████████| 1/1 [00:27<00:00, 27.74s/it]\n"
     ]
    },
    {
     "name": "stdout",
     "output_type": "stream",
     "text": [
      "Step: 311 | Iter: 1 | Loss -0.000782012939453125\n",
      "Step: 311 | Iter: 2 | Loss -0.002349853515625\n",
      "Step: 311 | Iter: 3 | Loss -0.002349853515625\n",
      "Step: 311 | Iter: 4 | Loss -0.000782012939453125\n",
      "Step: 311 | Iter: 5 | Loss -0.002349853515625\n"
     ]
    },
    {
     "name": "stderr",
     "output_type": "stream",
     "text": [
      "100%|██████████| 1/1 [00:13<00:00, 13.56s/it]\n"
     ]
    },
    {
     "name": "stdout",
     "output_type": "stream",
     "text": [
      "Step: 312 | Iter: 1 | Loss -0.000782012939453125\n",
      "Step: 312 | Iter: 2 | Loss 0.001953125\n",
      "Step: 312 | Iter: 3 | Loss -0.0003910064697265625\n",
      "Step: 312 | Iter: 4 | Loss 0.0\n",
      "Step: 312 | Iter: 5 | Loss 0.0\n"
     ]
    },
    {
     "name": "stderr",
     "output_type": "stream",
     "text": [
      "100%|██████████| 1/1 [00:16<00:00, 16.32s/it]\n"
     ]
    },
    {
     "name": "stdout",
     "output_type": "stream",
     "text": [
      "Step: 313 | Iter: 1 | Loss 0.0\n",
      "Step: 313 | Iter: 2 | Loss 0.0\n",
      "Step: 313 | Iter: 3 | Loss -0.00156402587890625\n",
      "Step: 313 | Iter: 4 | Loss 0.0\n",
      "Step: 313 | Iter: 5 | Loss 0.0\n"
     ]
    },
    {
     "name": "stderr",
     "output_type": "stream",
     "text": [
      "100%|██████████| 1/1 [00:12<00:00, 12.09s/it]\n"
     ]
    },
    {
     "name": "stdout",
     "output_type": "stream",
     "text": [
      "Step: 314 | Iter: 1 | Loss 0.0\n",
      "Step: 314 | Iter: 2 | Loss 0.0003910064697265625\n",
      "Step: 314 | Iter: 3 | Loss -0.000782012939453125\n",
      "Step: 314 | Iter: 4 | Loss -0.001953125\n",
      "Step: 314 | Iter: 5 | Loss -0.0011749267578125\n"
     ]
    },
    {
     "name": "stderr",
     "output_type": "stream",
     "text": [
      "100%|██████████| 1/1 [00:21<00:00, 21.65s/it]\n"
     ]
    },
    {
     "name": "stdout",
     "output_type": "stream",
     "text": [
      "Step: 315 | Iter: 1 | Loss -0.0003910064697265625\n",
      "Step: 315 | Iter: 2 | Loss -0.0003910064697265625\n",
      "Step: 315 | Iter: 3 | Loss -0.0003910064697265625\n",
      "Step: 315 | Iter: 4 | Loss -0.0003910064697265625\n",
      "Step: 315 | Iter: 5 | Loss -0.0003910064697265625\n"
     ]
    },
    {
     "name": "stderr",
     "output_type": "stream",
     "text": [
      "100%|██████████| 1/1 [00:16<00:00, 16.92s/it]\n"
     ]
    },
    {
     "name": "stdout",
     "output_type": "stream",
     "text": [
      "Step: 316 | Iter: 1 | Loss 0.0\n",
      "Step: 316 | Iter: 2 | Loss 0.0\n",
      "Step: 316 | Iter: 3 | Loss 0.001953125\n",
      "Step: 316 | Iter: 4 | Loss 0.0\n",
      "Step: 316 | Iter: 5 | Loss 0.000782012939453125\n"
     ]
    },
    {
     "name": "stderr",
     "output_type": "stream",
     "text": [
      "100%|██████████| 1/1 [00:12<00:00, 12.87s/it]\n"
     ]
    },
    {
     "name": "stdout",
     "output_type": "stream",
     "text": [
      "Step: 317 | Iter: 1 | Loss -3.695487976074219e-05\n",
      "Step: 317 | Iter: 2 | Loss -3.8623809814453125e-05\n",
      "Step: 317 | Iter: 3 | Loss -3.814697265625e-05\n",
      "Step: 317 | Iter: 4 | Loss -3.838539123535156e-05\n",
      "Step: 317 | Iter: 5 | Loss -3.8623809814453125e-05\n"
     ]
    },
    {
     "name": "stderr",
     "output_type": "stream",
     "text": [
      "100%|██████████| 1/1 [00:31<00:00, 31.47s/it]\n"
     ]
    },
    {
     "name": "stdout",
     "output_type": "stream",
     "text": [
      "Step: 318 | Iter: 1 | Loss 0.00156402587890625\n",
      "Step: 318 | Iter: 2 | Loss 0.000782012939453125\n",
      "Step: 318 | Iter: 3 | Loss -0.00156402587890625\n",
      "Step: 318 | Iter: 4 | Loss -0.00156402587890625\n",
      "Step: 318 | Iter: 5 | Loss -0.00156402587890625\n"
     ]
    },
    {
     "name": "stderr",
     "output_type": "stream",
     "text": [
      "100%|██████████| 1/1 [00:19<00:00, 19.18s/it]\n"
     ]
    },
    {
     "name": "stdout",
     "output_type": "stream",
     "text": [
      "Step: 319 | Iter: 1 | Loss 0.0\n",
      "Step: 319 | Iter: 2 | Loss 0.0\n",
      "Step: 319 | Iter: 3 | Loss 0.0\n",
      "Step: 319 | Iter: 4 | Loss 0.0\n",
      "Step: 319 | Iter: 5 | Loss 0.00156402587890625\n"
     ]
    },
    {
     "name": "stderr",
     "output_type": "stream",
     "text": [
      "100%|██████████| 1/1 [00:10<00:00, 10.61s/it]\n"
     ]
    },
    {
     "name": "stdout",
     "output_type": "stream",
     "text": [
      "Step: 320 | Iter: 1 | Loss -0.0003910064697265625\n",
      "Step: 320 | Iter: 2 | Loss -0.0003910064697265625\n",
      "Step: 320 | Iter: 3 | Loss -0.0003910064697265625\n",
      "Step: 320 | Iter: 4 | Loss -0.0003910064697265625\n",
      "Step: 320 | Iter: 5 | Loss -0.0003910064697265625\n",
      "Step: 320 | Format: 0.3471875000000001 | Accuracy: 1.1075000000000006\n",
      "Output example: <reasoning>\n",
      "Natalie's sister initially had 8 small diaries in her locker. Last summer, she bought double the number of diaries she had, which means she bought 2 * 8 = 16 more diaries. So, she had a total of 8 + 16 = 24 diaries after the purchase. Then, she lost 1/4 of what she had, which means she lost 1/4 * 24 = 6 diaries. Therefore, she is left with 24 - 6 = 18 diaries.\n",
      "</reasoning>\n",
      "<answer>\n",
      "18\n",
      "</answer><|endoftext|><|endoftext|><|endoftext|><|endoftext|><|endoftext|><|endoftext|><|endoftext|><|endoftext|><|endoftext|><|endoftext|><|endoftext|><|endoftext|><|endoftext|><|endoftext|><|endoftext|><|endoftext|><|endoftext|><|endoftext|><|endoftext|><|endoftext|><|endoftext|><|endoftext|><|endoftext|><|endoftext|><|endoftext|><|endoftext|><|endoftext|><|endoftext|><|endoftext|><|endoftext|><|endoftext|><|endoftext|><|endoftext|><|endoftext|><|endoftext|><|endoftext|>\n"
     ]
    },
    {
     "name": "stderr",
     "output_type": "stream",
     "text": [
      "100%|██████████| 1/1 [00:18<00:00, 18.73s/it]\n"
     ]
    },
    {
     "name": "stdout",
     "output_type": "stream",
     "text": [
      "Step: 321 | Iter: 1 | Loss 0.000782012939453125\n",
      "Step: 321 | Iter: 2 | Loss 0.000782012939453125\n",
      "Step: 321 | Iter: 3 | Loss 0.000782012939453125\n",
      "Step: 321 | Iter: 4 | Loss 0.000782012939453125\n",
      "Step: 321 | Iter: 5 | Loss 0.0011749267578125\n"
     ]
    },
    {
     "name": "stderr",
     "output_type": "stream",
     "text": [
      "100%|██████████| 1/1 [00:22<00:00, 22.00s/it]\n"
     ]
    },
    {
     "name": "stdout",
     "output_type": "stream",
     "text": [
      "Step: 322 | Iter: 1 | Loss -8.249282836914062e-05\n",
      "Step: 322 | Iter: 2 | Loss -8.296966552734375e-05\n",
      "Step: 322 | Iter: 3 | Loss -8.58306884765625e-05\n",
      "Step: 322 | Iter: 4 | Loss -8.535385131835938e-05\n",
      "Step: 322 | Iter: 5 | Loss -8.249282836914062e-05\n"
     ]
    },
    {
     "name": "stderr",
     "output_type": "stream",
     "text": [
      "100%|██████████| 1/1 [00:14<00:00, 14.16s/it]\n"
     ]
    },
    {
     "name": "stdout",
     "output_type": "stream",
     "text": [
      "Step: 323 | Iter: 1 | Loss -0.000782012939453125\n",
      "Step: 323 | Iter: 2 | Loss -0.00156402587890625\n",
      "Step: 323 | Iter: 3 | Loss -0.00156402587890625\n",
      "Step: 323 | Iter: 4 | Loss -0.00156402587890625\n",
      "Step: 323 | Iter: 5 | Loss -0.000782012939453125\n"
     ]
    },
    {
     "name": "stderr",
     "output_type": "stream",
     "text": [
      "100%|██████████| 1/1 [00:31<00:00, 31.53s/it]\n"
     ]
    },
    {
     "name": "stdout",
     "output_type": "stream",
     "text": [
      "Step: 324 | Iter: 1 | Loss 0.0\n",
      "Step: 324 | Iter: 2 | Loss 0.0\n",
      "Step: 324 | Iter: 3 | Loss 0.0\n",
      "Step: 324 | Iter: 4 | Loss 0.0\n",
      "Step: 324 | Iter: 5 | Loss 0.0\n"
     ]
    },
    {
     "name": "stderr",
     "output_type": "stream",
     "text": [
      "100%|██████████| 1/1 [00:17<00:00, 17.35s/it]\n"
     ]
    },
    {
     "name": "stdout",
     "output_type": "stream",
     "text": [
      "Step: 325 | Iter: 1 | Loss -5.53131103515625e-05\n",
      "Step: 325 | Iter: 2 | Loss -5.602836608886719e-05\n",
      "Step: 325 | Iter: 3 | Loss -5.5789947509765625e-05\n",
      "Step: 325 | Iter: 4 | Loss -5.412101745605469e-05\n",
      "Step: 325 | Iter: 5 | Loss -5.793571472167969e-05\n"
     ]
    },
    {
     "name": "stderr",
     "output_type": "stream",
     "text": [
      "100%|██████████| 1/1 [00:07<00:00,  7.86s/it]\n"
     ]
    },
    {
     "name": "stdout",
     "output_type": "stream",
     "text": [
      "Step: 326 | Iter: 1 | Loss -2.8014183044433594e-05\n",
      "Step: 326 | Iter: 2 | Loss -2.9802322387695312e-05\n",
      "Step: 326 | Iter: 3 | Loss -2.9206275939941406e-05\n",
      "Step: 326 | Iter: 4 | Loss -2.8848648071289062e-05\n",
      "Step: 326 | Iter: 5 | Loss -2.9325485229492188e-05\n"
     ]
    },
    {
     "name": "stderr",
     "output_type": "stream",
     "text": [
      "100%|██████████| 1/1 [00:10<00:00, 10.30s/it]\n"
     ]
    },
    {
     "name": "stdout",
     "output_type": "stream",
     "text": [
      "Step: 327 | Iter: 1 | Loss -9.441375732421875e-05\n",
      "Step: 327 | Iter: 2 | Loss -9.059906005859375e-05\n",
      "Step: 327 | Iter: 3 | Loss -9.393692016601562e-05\n",
      "Step: 327 | Iter: 4 | Loss -9.489059448242188e-05\n",
      "Step: 327 | Iter: 5 | Loss -9.5367431640625e-05\n"
     ]
    },
    {
     "name": "stderr",
     "output_type": "stream",
     "text": [
      "100%|██████████| 1/1 [00:14<00:00, 14.65s/it]\n"
     ]
    },
    {
     "name": "stdout",
     "output_type": "stream",
     "text": [
      "Step: 328 | Iter: 1 | Loss -0.000782012939453125\n",
      "Step: 328 | Iter: 2 | Loss -0.000782012939453125\n",
      "Step: 328 | Iter: 3 | Loss -0.00156402587890625\n",
      "Step: 328 | Iter: 4 | Loss -0.00156402587890625\n",
      "Step: 328 | Iter: 5 | Loss -0.000782012939453125\n"
     ]
    },
    {
     "name": "stderr",
     "output_type": "stream",
     "text": [
      "100%|██████████| 1/1 [00:31<00:00, 31.43s/it]\n"
     ]
    },
    {
     "name": "stdout",
     "output_type": "stream",
     "text": [
      "Step: 329 | Iter: 1 | Loss 0.0\n",
      "Step: 329 | Iter: 2 | Loss 0.00156402587890625\n",
      "Step: 329 | Iter: 3 | Loss 0.00156402587890625\n",
      "Step: 329 | Iter: 4 | Loss 0.0\n",
      "Step: 329 | Iter: 5 | Loss 0.0\n"
     ]
    },
    {
     "name": "stderr",
     "output_type": "stream",
     "text": [
      "100%|██████████| 1/1 [00:11<00:00, 11.83s/it]\n"
     ]
    },
    {
     "name": "stdout",
     "output_type": "stream",
     "text": [
      "Step: 330 | Iter: 1 | Loss -4.7206878662109375e-05\n",
      "Step: 330 | Iter: 2 | Loss -4.4345855712890625e-05\n",
      "Step: 330 | Iter: 3 | Loss -4.553794860839844e-05\n",
      "Step: 330 | Iter: 4 | Loss -4.458427429199219e-05\n",
      "Step: 330 | Iter: 5 | Loss -4.7206878662109375e-05\n",
      "Step: 330 | Format: 0.35121212121212136 | Accuracy: 1.115151515151516\n",
      "Output example: <reasoning>\n",
      "Samuel bought 2 dozen doughnuts, which is equal to 2 * 12 = 24 doughnuts.\n",
      "Cathy bought 3 dozen doughnuts, which is equal to 3 * 12 = 36 doughnuts.\n",
      "In total, they have 24 + 36 = 60 doughnuts.\n",
      "There are a total of 8 friends + 2 (Samuel and Cathy) = 10 people sharing the doughnuts.\n",
      "Each person will receive 60 / 10 = 6 doughnuts.\n",
      "</reasoning>\n",
      "<answer>\n",
      "6\n",
      "</answer><|endoftext|><|endoftext|><|endoftext|><|endoftext|><|endoftext|><|endoftext|><|endoftext|><|endoftext|><|endoftext|><|endoftext|><|endoftext|><|endoftext|><|endoftext|><|endoftext|><|endoftext|><|endoftext|><|endoftext|><|endoftext|><|endoftext|><|endoftext|><|endoftext|><|endoftext|><|endoftext|><|endoftext|><|endoftext|><|endoftext|><|endoftext|><|endoftext|><|endoftext|><|endoftext|><|endoftext|><|endoftext|><|endoftext|><|endoftext|><|endoftext|><|endoftext|><|endoftext|><|endoftext|><|endoftext|><|endoftext|><|endoftext|><|endoftext|><|endoftext|><|endoftext|><|endoftext|><|endoftext|><|endoftext|><|endoftext|><|endoftext|><|endoftext|><|endoftext|><|endoftext|><|endoftext|><|endoftext|><|endoftext|><|endoftext|><|endoftext|><|endoftext|><|endoftext|><|endoftext|><|endoftext|><|endoftext|>\n"
     ]
    },
    {
     "name": "stderr",
     "output_type": "stream",
     "text": [
      "100%|██████████| 1/1 [00:13<00:00, 13.25s/it]\n"
     ]
    },
    {
     "name": "stdout",
     "output_type": "stream",
     "text": [
      "Step: 331 | Iter: 1 | Loss 0.0\n",
      "Step: 331 | Iter: 2 | Loss 0.00156402587890625\n",
      "Step: 331 | Iter: 3 | Loss 0.00156402587890625\n",
      "Step: 331 | Iter: 4 | Loss 0.00156402587890625\n",
      "Step: 331 | Iter: 5 | Loss 0.00156402587890625\n"
     ]
    },
    {
     "name": "stderr",
     "output_type": "stream",
     "text": [
      "100%|██████████| 1/1 [00:22<00:00, 22.42s/it]\n"
     ]
    },
    {
     "name": "stdout",
     "output_type": "stream",
     "text": [
      "Step: 332 | Iter: 1 | Loss 0.000782012939453125\n",
      "Step: 332 | Iter: 2 | Loss -0.000782012939453125\n",
      "Step: 332 | Iter: 3 | Loss -0.000782012939453125\n",
      "Step: 332 | Iter: 4 | Loss 0.000782012939453125\n",
      "Step: 332 | Iter: 5 | Loss 0.000782012939453125\n"
     ]
    },
    {
     "name": "stderr",
     "output_type": "stream",
     "text": [
      "100%|██████████| 1/1 [00:18<00:00, 18.94s/it]\n"
     ]
    },
    {
     "name": "stdout",
     "output_type": "stream",
     "text": [
      "Step: 333 | Iter: 1 | Loss 0.0\n",
      "Step: 333 | Iter: 2 | Loss 0.0\n",
      "Step: 333 | Iter: 3 | Loss 0.0\n",
      "Step: 333 | Iter: 4 | Loss 0.0\n",
      "Step: 333 | Iter: 5 | Loss 0.0\n"
     ]
    },
    {
     "name": "stderr",
     "output_type": "stream",
     "text": [
      "100%|██████████| 1/1 [00:12<00:00, 12.69s/it]\n"
     ]
    },
    {
     "name": "stdout",
     "output_type": "stream",
     "text": [
      "Step: 334 | Iter: 1 | Loss 0.000782012939453125\n",
      "Step: 334 | Iter: 2 | Loss 0.002349853515625\n",
      "Step: 334 | Iter: 3 | Loss 0.002349853515625\n",
      "Step: 334 | Iter: 4 | Loss 0.000782012939453125\n",
      "Step: 334 | Iter: 5 | Loss 0.0027313232421875\n"
     ]
    },
    {
     "name": "stderr",
     "output_type": "stream",
     "text": [
      "100%|██████████| 1/1 [00:23<00:00, 23.87s/it]\n"
     ]
    },
    {
     "name": "stdout",
     "output_type": "stream",
     "text": [
      "Step: 335 | Iter: 1 | Loss -0.000782012939453125\n",
      "Step: 335 | Iter: 2 | Loss 0.0\n",
      "Step: 335 | Iter: 3 | Loss -0.000782012939453125\n",
      "Step: 335 | Iter: 4 | Loss -0.0003910064697265625\n",
      "Step: 335 | Iter: 5 | Loss 0.0003910064697265625\n"
     ]
    },
    {
     "name": "stderr",
     "output_type": "stream",
     "text": [
      "100%|██████████| 1/1 [00:20<00:00, 20.15s/it]\n"
     ]
    },
    {
     "name": "stdout",
     "output_type": "stream",
     "text": [
      "Step: 336 | Iter: 1 | Loss -4.792213439941406e-05\n",
      "Step: 336 | Iter: 2 | Loss -4.76837158203125e-05\n",
      "Step: 336 | Iter: 3 | Loss -4.673004150390625e-05\n",
      "Step: 336 | Iter: 4 | Loss -4.839897155761719e-05\n",
      "Step: 336 | Iter: 5 | Loss -4.8160552978515625e-05\n"
     ]
    },
    {
     "name": "stderr",
     "output_type": "stream",
     "text": [
      "100%|██████████| 1/1 [00:12<00:00, 12.83s/it]\n"
     ]
    },
    {
     "name": "stdout",
     "output_type": "stream",
     "text": [
      "Step: 337 | Iter: 1 | Loss -6.628036499023438e-05\n",
      "Step: 337 | Iter: 2 | Loss -6.246566772460938e-05\n",
      "Step: 337 | Iter: 3 | Loss -6.389617919921875e-05\n",
      "Step: 337 | Iter: 4 | Loss -6.723403930664062e-05\n",
      "Step: 337 | Iter: 5 | Loss -6.198883056640625e-05\n"
     ]
    },
    {
     "name": "stderr",
     "output_type": "stream",
     "text": [
      "100%|██████████| 1/1 [00:17<00:00, 17.96s/it]\n"
     ]
    },
    {
     "name": "stdout",
     "output_type": "stream",
     "text": [
      "Step: 338 | Iter: 1 | Loss 0.0\n",
      "Step: 338 | Iter: 2 | Loss -0.00156402587890625\n",
      "Step: 338 | Iter: 3 | Loss 0.0\n",
      "Step: 338 | Iter: 4 | Loss -0.00156402587890625\n",
      "Step: 338 | Iter: 5 | Loss -0.00156402587890625\n"
     ]
    },
    {
     "name": "stderr",
     "output_type": "stream",
     "text": [
      "100%|██████████| 1/1 [00:31<00:00, 31.64s/it]\n"
     ]
    },
    {
     "name": "stdout",
     "output_type": "stream",
     "text": [
      "Step: 339 | Iter: 1 | Loss 0.0\n",
      "Step: 339 | Iter: 2 | Loss 0.0031280517578125\n",
      "Step: 339 | Iter: 3 | Loss 0.0031280517578125\n",
      "Step: 339 | Iter: 4 | Loss 0.0\n",
      "Step: 339 | Iter: 5 | Loss 0.0031280517578125\n"
     ]
    },
    {
     "name": "stderr",
     "output_type": "stream",
     "text": [
      "100%|██████████| 1/1 [00:09<00:00,  9.87s/it]\n"
     ]
    },
    {
     "name": "stdout",
     "output_type": "stream",
     "text": [
      "Step: 340 | Iter: 1 | Loss -4.8160552978515625e-05\n",
      "Step: 340 | Iter: 2 | Loss -4.792213439941406e-05\n",
      "Step: 340 | Iter: 3 | Loss -4.887580871582031e-05\n",
      "Step: 340 | Iter: 4 | Loss -4.9591064453125e-05\n",
      "Step: 340 | Iter: 5 | Loss -5.078315734863281e-05\n",
      "Step: 340 | Format: 0.355294117647059 | Accuracy: 1.116470588235295\n",
      "Output example: <reasoning>\n",
      "Terez has 44 cows on his farm. 50 percent of the cows are female, so 0.5 x 44 = 22 cows are female.\n",
      "Of these 22 female cows, 50 percent are pregnant, so 0.5 x 22 = 11 cows are pregnant.\n",
      "Therefore, Terez has 11 pregnant female cows.\n",
      "</reasoning>\n",
      "<answer>\n",
      "11\n",
      "</answer><|endoftext|><|endoftext|><|endoftext|><|endoftext|><|endoftext|><|endoftext|><|endoftext|><|endoftext|><|endoftext|><|endoftext|><|endoftext|><|endoftext|><|endoftext|><|endoftext|><|endoftext|><|endoftext|><|endoftext|><|endoftext|><|endoftext|><|endoftext|><|endoftext|><|endoftext|><|endoftext|><|endoftext|><|endoftext|><|endoftext|><|endoftext|><|endoftext|><|endoftext|><|endoftext|><|endoftext|><|endoftext|><|endoftext|><|endoftext|><|endoftext|><|endoftext|><|endoftext|><|endoftext|><|endoftext|><|endoftext|><|endoftext|><|endoftext|><|endoftext|><|endoftext|><|endoftext|><|endoftext|><|endoftext|><|endoftext|><|endoftext|><|endoftext|><|endoftext|><|endoftext|><|endoftext|><|endoftext|><|endoftext|><|endoftext|><|endoftext|><|endoftext|><|endoftext|><|endoftext|><|endoftext|><|endoftext|><|endoftext|>\n"
     ]
    },
    {
     "name": "stderr",
     "output_type": "stream",
     "text": [
      "100%|██████████| 1/1 [00:20<00:00, 20.91s/it]\n"
     ]
    },
    {
     "name": "stdout",
     "output_type": "stream",
     "text": [
      "Step: 341 | Iter: 1 | Loss 0.0\n",
      "Step: 341 | Iter: 2 | Loss 0.0\n",
      "Step: 341 | Iter: 3 | Loss 0.00156402587890625\n",
      "Step: 341 | Iter: 4 | Loss 0.0\n",
      "Step: 341 | Iter: 5 | Loss 0.0\n"
     ]
    },
    {
     "name": "stderr",
     "output_type": "stream",
     "text": [
      "100%|██████████| 1/1 [00:18<00:00, 18.76s/it]\n"
     ]
    },
    {
     "name": "stdout",
     "output_type": "stream",
     "text": [
      "Step: 342 | Iter: 1 | Loss -0.000782012939453125\n",
      "Step: 342 | Iter: 2 | Loss -0.000782012939453125\n",
      "Step: 342 | Iter: 3 | Loss -0.000782012939453125\n",
      "Step: 342 | Iter: 4 | Loss -0.000782012939453125\n",
      "Step: 342 | Iter: 5 | Loss -0.000782012939453125\n"
     ]
    },
    {
     "name": "stderr",
     "output_type": "stream",
     "text": [
      "100%|██████████| 1/1 [00:06<00:00,  6.53s/it]\n"
     ]
    },
    {
     "name": "stdout",
     "output_type": "stream",
     "text": [
      "Step: 343 | Iter: 1 | Loss -7.152557373046875e-05\n",
      "Step: 343 | Iter: 2 | Loss -6.961822509765625e-05\n",
      "Step: 343 | Iter: 3 | Loss -7.104873657226562e-05\n",
      "Step: 343 | Iter: 4 | Loss -6.771087646484375e-05\n",
      "Step: 343 | Iter: 5 | Loss -6.961822509765625e-05\n"
     ]
    },
    {
     "name": "stderr",
     "output_type": "stream",
     "text": [
      "100%|██████████| 1/1 [00:24<00:00, 24.80s/it]\n"
     ]
    },
    {
     "name": "stdout",
     "output_type": "stream",
     "text": [
      "Step: 344 | Iter: 1 | Loss 0.000782012939453125\n",
      "Step: 344 | Iter: 2 | Loss 0.000782012939453125\n",
      "Step: 344 | Iter: 3 | Loss 0.000782012939453125\n",
      "Step: 344 | Iter: 4 | Loss 0.002349853515625\n",
      "Step: 344 | Iter: 5 | Loss 0.002349853515625\n"
     ]
    },
    {
     "name": "stderr",
     "output_type": "stream",
     "text": [
      "100%|██████████| 1/1 [00:13<00:00, 13.53s/it]\n"
     ]
    },
    {
     "name": "stdout",
     "output_type": "stream",
     "text": [
      "Step: 345 | Iter: 1 | Loss -0.0003910064697265625\n",
      "Step: 345 | Iter: 2 | Loss -0.0003910064697265625\n",
      "Step: 345 | Iter: 3 | Loss -0.0003910064697265625\n",
      "Step: 345 | Iter: 4 | Loss -0.0003910064697265625\n",
      "Step: 345 | Iter: 5 | Loss -0.000782012939453125\n"
     ]
    },
    {
     "name": "stderr",
     "output_type": "stream",
     "text": [
      "100%|██████████| 1/1 [00:09<00:00,  9.61s/it]\n"
     ]
    },
    {
     "name": "stdout",
     "output_type": "stream",
     "text": [
      "Step: 346 | Iter: 1 | Loss -9.250640869140625e-05\n",
      "Step: 346 | Iter: 2 | Loss -9.34600830078125e-05\n",
      "Step: 346 | Iter: 3 | Loss -9.393692016601562e-05\n",
      "Step: 346 | Iter: 4 | Loss -9.250640869140625e-05\n",
      "Step: 346 | Iter: 5 | Loss -9.298324584960938e-05\n"
     ]
    },
    {
     "name": "stderr",
     "output_type": "stream",
     "text": [
      "100%|██████████| 1/1 [00:29<00:00, 29.03s/it]\n"
     ]
    },
    {
     "name": "stdout",
     "output_type": "stream",
     "text": [
      "Step: 347 | Iter: 1 | Loss 0.0\n",
      "Step: 347 | Iter: 2 | Loss 0.0\n",
      "Step: 347 | Iter: 3 | Loss 0.0\n",
      "Step: 347 | Iter: 4 | Loss -0.000782012939453125\n",
      "Step: 347 | Iter: 5 | Loss 0.0\n"
     ]
    },
    {
     "name": "stderr",
     "output_type": "stream",
     "text": [
      "100%|██████████| 1/1 [00:08<00:00,  8.86s/it]\n"
     ]
    },
    {
     "name": "stdout",
     "output_type": "stream",
     "text": [
      "Step: 348 | Iter: 1 | Loss 0.0\n",
      "Step: 348 | Iter: 2 | Loss 0.0\n",
      "Step: 348 | Iter: 3 | Loss 0.00156402587890625\n",
      "Step: 348 | Iter: 4 | Loss 0.0\n",
      "Step: 348 | Iter: 5 | Loss 0.0\n"
     ]
    },
    {
     "name": "stderr",
     "output_type": "stream",
     "text": [
      "100%|██████████| 1/1 [00:09<00:00,  9.01s/it]\n"
     ]
    },
    {
     "name": "stdout",
     "output_type": "stream",
     "text": [
      "Step: 349 | Iter: 1 | Loss -0.0003910064697265625\n",
      "Step: 349 | Iter: 2 | Loss -0.001953125\n",
      "Step: 349 | Iter: 3 | Loss -0.001953125\n",
      "Step: 349 | Iter: 4 | Loss -0.003509521484375\n",
      "Step: 349 | Iter: 5 | Loss -0.001953125\n"
     ]
    },
    {
     "name": "stderr",
     "output_type": "stream",
     "text": [
      "100%|██████████| 1/1 [00:19<00:00, 19.20s/it]\n"
     ]
    },
    {
     "name": "stdout",
     "output_type": "stream",
     "text": [
      "Step: 350 | Iter: 1 | Loss -2.2530555725097656e-05\n",
      "Step: 350 | Iter: 2 | Loss -2.3126602172851562e-05\n",
      "Step: 350 | Iter: 3 | Loss -2.2292137145996094e-05\n",
      "Step: 350 | Iter: 4 | Loss -2.2649765014648438e-05\n",
      "Step: 350 | Iter: 5 | Loss -2.2530555725097656e-05\n",
      "Step: 350 | Format: 0.3591428571428573 | Accuracy: 1.120000000000001\n",
      "Output example: <reasoning>\n",
      "Let's use algebra to solve this problem. Let's say the number of goats is n. Then, according to the problem, the number of cows is n + 4, and the number of pigs is 2 * (n + 4).\n",
      "\n",
      "The total number of animals is the sum of the number of goats, cows, and pigs, which is given as 56. So, we can write the equation:\n",
      "\n",
      "n + (n + 4) + 2 * (n + 4) = 56\n",
      "\n",
      "Now, let's simplify and solve this equation for n:\n",
      "\n",
      "n + n + 4 + 2n + 8 = 56\n",
      "4n + 12 = 56\n",
      "4n = 44\n",
      "n = 11\n",
      "\n",
      "So, the farmer has 11 goats.\n",
      "</reasoning>\n",
      "<answer>\n",
      "11\n",
      "</answer><|endoftext|><|endoftext|><|endoftext|><|endoftext|><|endoftext|><|endoftext|><|endoftext|><|endoftext|><|endoftext|><|endoftext|><|endoftext|><|endoftext|><|endoftext|><|endoftext|><|endoftext|><|endoftext|><|endoftext|><|endoftext|><|endoftext|><|endoftext|><|endoftext|><|endoftext|><|endoftext|><|endoftext|><|endoftext|><|endoftext|><|endoftext|><|endoftext|><|endoftext|><|endoftext|><|endoftext|><|endoftext|><|endoftext|><|endoftext|><|endoftext|><|endoftext|><|endoftext|><|endoftext|><|endoftext|><|endoftext|><|endoftext|><|endoftext|><|endoftext|><|endoftext|><|endoftext|><|endoftext|><|endoftext|><|endoftext|><|endoftext|><|endoftext|><|endoftext|><|endoftext|><|endoftext|><|endoftext|><|endoftext|><|endoftext|><|endoftext|><|endoftext|><|endoftext|><|endoftext|><|endoftext|><|endoftext|><|endoftext|><|endoftext|><|endoftext|><|endoftext|><|endoftext|><|endoftext|><|endoftext|><|endoftext|><|endoftext|><|endoftext|><|endoftext|><|endoftext|><|endoftext|><|endoftext|><|endoftext|><|endoftext|><|endoftext|><|endoftext|><|endoftext|><|endoftext|><|endoftext|><|endoftext|><|endoftext|><|endoftext|><|endoftext|><|endoftext|><|endoftext|><|endoftext|><|endoftext|><|endoftext|><|endoftext|><|endoftext|><|endoftext|><|endoftext|><|endoftext|><|endoftext|><|endoftext|><|endoftext|><|endoftext|><|endoftext|><|endoftext|><|endoftext|><|endoftext|><|endoftext|><|endoftext|><|endoftext|><|endoftext|><|endoftext|><|endoftext|><|endoftext|><|endoftext|><|endoftext|><|endoftext|><|endoftext|><|endoftext|><|endoftext|><|endoftext|><|endoftext|><|endoftext|><|endoftext|><|endoftext|>\n"
     ]
    },
    {
     "name": "stderr",
     "output_type": "stream",
     "text": [
      "100%|██████████| 1/1 [00:11<00:00, 11.97s/it]\n"
     ]
    },
    {
     "name": "stdout",
     "output_type": "stream",
     "text": [
      "Step: 351 | Iter: 1 | Loss -7.724761962890625e-05\n",
      "Step: 351 | Iter: 2 | Loss -6.961822509765625e-05\n",
      "Step: 351 | Iter: 3 | Loss -7.343292236328125e-05\n",
      "Step: 351 | Iter: 4 | Loss -7.343292236328125e-05\n",
      "Step: 351 | Iter: 5 | Loss -7.772445678710938e-05\n"
     ]
    },
    {
     "name": "stderr",
     "output_type": "stream",
     "text": [
      "100%|██████████| 1/1 [00:08<00:00,  8.58s/it]\n"
     ]
    },
    {
     "name": "stdout",
     "output_type": "stream",
     "text": [
      "Step: 352 | Iter: 1 | Loss 0.0\n",
      "Step: 352 | Iter: 2 | Loss 0.0\n",
      "Step: 352 | Iter: 3 | Loss -0.00156402587890625\n",
      "Step: 352 | Iter: 4 | Loss 0.0\n",
      "Step: 352 | Iter: 5 | Loss -0.00156402587890625\n"
     ]
    },
    {
     "name": "stderr",
     "output_type": "stream",
     "text": [
      "100%|██████████| 1/1 [00:09<00:00,  9.57s/it]\n"
     ]
    },
    {
     "name": "stdout",
     "output_type": "stream",
     "text": [
      "Step: 353 | Iter: 1 | Loss -5.91278076171875e-05\n",
      "Step: 353 | Iter: 2 | Loss -5.9604644775390625e-05\n",
      "Step: 353 | Iter: 3 | Loss -5.793571472167969e-05\n",
      "Step: 353 | Iter: 4 | Loss -5.91278076171875e-05\n",
      "Step: 353 | Iter: 5 | Loss -5.9604644775390625e-05\n"
     ]
    },
    {
     "name": "stderr",
     "output_type": "stream",
     "text": [
      "100%|██████████| 1/1 [00:13<00:00, 13.75s/it]\n"
     ]
    },
    {
     "name": "stdout",
     "output_type": "stream",
     "text": [
      "Step: 354 | Iter: 1 | Loss 0.0\n",
      "Step: 354 | Iter: 2 | Loss -0.00156402587890625\n",
      "Step: 354 | Iter: 3 | Loss 0.0\n",
      "Step: 354 | Iter: 4 | Loss 0.0\n",
      "Step: 354 | Iter: 5 | Loss 0.0\n"
     ]
    },
    {
     "name": "stderr",
     "output_type": "stream",
     "text": [
      "100%|██████████| 1/1 [00:06<00:00,  6.63s/it]\n"
     ]
    },
    {
     "name": "stdout",
     "output_type": "stream",
     "text": [
      "Step: 355 | Iter: 1 | Loss -0.000782012939453125\n",
      "Step: 355 | Iter: 2 | Loss 0.0003910064697265625\n",
      "Step: 355 | Iter: 3 | Loss -0.001953125\n",
      "Step: 355 | Iter: 4 | Loss 0.0\n",
      "Step: 355 | Iter: 5 | Loss -0.00156402587890625\n"
     ]
    },
    {
     "name": "stderr",
     "output_type": "stream",
     "text": [
      "100%|██████████| 1/1 [00:23<00:00, 23.69s/it]\n"
     ]
    },
    {
     "name": "stdout",
     "output_type": "stream",
     "text": [
      "Step: 356 | Iter: 1 | Loss 0.0\n",
      "Step: 356 | Iter: 2 | Loss 0.0\n",
      "Step: 356 | Iter: 3 | Loss 0.0\n",
      "Step: 356 | Iter: 4 | Loss 0.0\n",
      "Step: 356 | Iter: 5 | Loss 0.0\n"
     ]
    },
    {
     "name": "stderr",
     "output_type": "stream",
     "text": [
      "100%|██████████| 1/1 [00:12<00:00, 12.84s/it]\n"
     ]
    },
    {
     "name": "stdout",
     "output_type": "stream",
     "text": [
      "Step: 357 | Iter: 1 | Loss -5.7220458984375e-05\n",
      "Step: 357 | Iter: 2 | Loss -5.4836273193359375e-05\n",
      "Step: 357 | Iter: 3 | Loss -5.4836273193359375e-05\n",
      "Step: 357 | Iter: 4 | Loss -5.7220458984375e-05\n",
      "Step: 357 | Iter: 5 | Loss -5.6743621826171875e-05\n"
     ]
    },
    {
     "name": "stderr",
     "output_type": "stream",
     "text": [
      "100%|██████████| 1/1 [00:07<00:00,  7.38s/it]\n"
     ]
    },
    {
     "name": "stdout",
     "output_type": "stream",
     "text": [
      "Step: 358 | Iter: 1 | Loss -4.649162292480469e-05\n",
      "Step: 358 | Iter: 2 | Loss -4.5299530029296875e-05\n",
      "Step: 358 | Iter: 3 | Loss -4.553794860839844e-05\n",
      "Step: 358 | Iter: 4 | Loss -4.744529724121094e-05\n",
      "Step: 358 | Iter: 5 | Loss -4.57763671875e-05\n"
     ]
    },
    {
     "name": "stderr",
     "output_type": "stream",
     "text": [
      "100%|██████████| 1/1 [00:13<00:00, 13.01s/it]\n"
     ]
    },
    {
     "name": "stdout",
     "output_type": "stream",
     "text": [
      "Step: 359 | Iter: 1 | Loss 0.0\n",
      "Step: 359 | Iter: 2 | Loss 0.0\n",
      "Step: 359 | Iter: 3 | Loss -0.00156402587890625\n",
      "Step: 359 | Iter: 4 | Loss 0.0\n",
      "Step: 359 | Iter: 5 | Loss 0.0\n"
     ]
    },
    {
     "name": "stderr",
     "output_type": "stream",
     "text": [
      "100%|██████████| 1/1 [00:18<00:00, 18.25s/it]\n"
     ]
    },
    {
     "name": "stdout",
     "output_type": "stream",
     "text": [
      "Step: 360 | Iter: 1 | Loss -0.00156402587890625\n",
      "Step: 360 | Iter: 2 | Loss -0.00156402587890625\n",
      "Step: 360 | Iter: 3 | Loss -0.00156402587890625\n",
      "Step: 360 | Iter: 4 | Loss -0.00156402587890625\n",
      "Step: 360 | Iter: 5 | Loss -0.00156402587890625\n",
      "Step: 360 | Format: 0.362777777777778 | Accuracy: 1.120000000000001\n",
      "Output example: <reasoning>\n",
      "Rene can read 30 pages in 60 minutes, so her reading rate is 30/60 = 0.5 pages per minute.\n",
      "Lulu can read 27 pages in 60 minutes, so her reading rate is 27/60 = 0.45 pages per minute.\n",
      "Cherry can read 25 pages in 60 minutes, so her reading rate is 25/60 = 0.4167 pages per minute.\n",
      "If they have been reading for 240 minutes, Rene will have read 0.5 * 240 = 120 pages.\n",
      "Lulu will have read 0.45 * 240 = 108 pages.\n",
      "Cherry will have read 0.4167 * 240 = 99.01 pages.\n",
      "Therefore, the total number of pages they have finished reading is 120 + 108 + 99.01 = 327.01 pages.\n",
      "</reasoning>\n",
      "<answer>\n",
      "327.01\n",
      "</answer><|endoftext|><|endoftext|><|endoftext|><|endoftext|><|endoftext|><|endoftext|><|endoftext|><|endoftext|><|endoftext|><|endoftext|><|endoftext|><|endoftext|><|endoftext|><|endoftext|><|endoftext|><|endoftext|><|endoftext|><|endoftext|><|endoftext|><|endoftext|><|endoftext|><|endoftext|><|endoftext|><|endoftext|><|endoftext|><|endoftext|><|endoftext|><|endoftext|><|endoftext|><|endoftext|><|endoftext|><|endoftext|><|endoftext|><|endoftext|><|endoftext|><|endoftext|><|endoftext|><|endoftext|><|endoftext|><|endoftext|><|endoftext|><|endoftext|><|endoftext|><|endoftext|><|endoftext|><|endoftext|><|endoftext|><|endoftext|><|endoftext|><|endoftext|><|endoftext|><|endoftext|><|endoftext|><|endoftext|>\n"
     ]
    },
    {
     "name": "stderr",
     "output_type": "stream",
     "text": [
      "100%|██████████| 1/1 [00:22<00:00, 22.76s/it]\n"
     ]
    },
    {
     "name": "stdout",
     "output_type": "stream",
     "text": [
      "Step: 361 | Iter: 1 | Loss 0.0\n",
      "Step: 361 | Iter: 2 | Loss 0.000782012939453125\n",
      "Step: 361 | Iter: 3 | Loss 0.0011749267578125\n",
      "Step: 361 | Iter: 4 | Loss -0.0003910064697265625\n",
      "Step: 361 | Iter: 5 | Loss 0.000782012939453125\n"
     ]
    },
    {
     "name": "stderr",
     "output_type": "stream",
     "text": [
      "100%|██████████| 1/1 [00:25<00:00, 25.88s/it]\n"
     ]
    },
    {
     "name": "stdout",
     "output_type": "stream",
     "text": [
      "Step: 362 | Iter: 1 | Loss 0.000782012939453125\n",
      "Step: 362 | Iter: 2 | Loss 0.00156402587890625\n",
      "Step: 362 | Iter: 3 | Loss -0.000782012939453125\n",
      "Step: 362 | Iter: 4 | Loss 0.00156402587890625\n",
      "Step: 362 | Iter: 5 | Loss 0.0\n"
     ]
    },
    {
     "name": "stderr",
     "output_type": "stream",
     "text": [
      "100%|██████████| 1/1 [00:31<00:00, 31.24s/it]\n"
     ]
    },
    {
     "name": "stdout",
     "output_type": "stream",
     "text": [
      "Step: 363 | Iter: 1 | Loss 0.000782012939453125\n",
      "Step: 363 | Iter: 2 | Loss 0.00156402587890625\n",
      "Step: 363 | Iter: 3 | Loss 0.00156402587890625\n",
      "Step: 363 | Iter: 4 | Loss 0.002349853515625\n",
      "Step: 363 | Iter: 5 | Loss 0.00156402587890625\n"
     ]
    },
    {
     "name": "stderr",
     "output_type": "stream",
     "text": [
      "100%|██████████| 1/1 [00:15<00:00, 15.82s/it]\n"
     ]
    },
    {
     "name": "stdout",
     "output_type": "stream",
     "text": [
      "Step: 364 | Iter: 1 | Loss -6.341934204101562e-05\n",
      "Step: 364 | Iter: 2 | Loss -6.246566772460938e-05\n",
      "Step: 364 | Iter: 3 | Loss -6.389617919921875e-05\n",
      "Step: 364 | Iter: 4 | Loss -6.389617919921875e-05\n",
      "Step: 364 | Iter: 5 | Loss -6.580352783203125e-05\n"
     ]
    },
    {
     "name": "stderr",
     "output_type": "stream",
     "text": [
      "100%|██████████| 1/1 [00:11<00:00, 11.34s/it]\n"
     ]
    },
    {
     "name": "stdout",
     "output_type": "stream",
     "text": [
      "Step: 365 | Iter: 1 | Loss -7.343292236328125e-05\n",
      "Step: 365 | Iter: 2 | Loss -7.534027099609375e-05\n",
      "Step: 365 | Iter: 3 | Loss -7.43865966796875e-05\n",
      "Step: 365 | Iter: 4 | Loss -7.343292236328125e-05\n",
      "Step: 365 | Iter: 5 | Loss -7.581710815429688e-05\n"
     ]
    },
    {
     "name": "stderr",
     "output_type": "stream",
     "text": [
      "100%|██████████| 1/1 [00:14<00:00, 14.35s/it]\n"
     ]
    },
    {
     "name": "stdout",
     "output_type": "stream",
     "text": [
      "Step: 366 | Iter: 1 | Loss -0.000782012939453125\n",
      "Step: 366 | Iter: 2 | Loss 0.000782012939453125\n",
      "Step: 366 | Iter: 3 | Loss -0.000782012939453125\n",
      "Step: 366 | Iter: 4 | Loss -0.000782012939453125\n",
      "Step: 366 | Iter: 5 | Loss -0.000782012939453125\n"
     ]
    },
    {
     "name": "stderr",
     "output_type": "stream",
     "text": [
      "100%|██████████| 1/1 [00:21<00:00, 21.44s/it]\n"
     ]
    },
    {
     "name": "stdout",
     "output_type": "stream",
     "text": [
      "Step: 367 | Iter: 1 | Loss 0.0\n",
      "Step: 367 | Iter: 2 | Loss 0.0\n",
      "Step: 367 | Iter: 3 | Loss 0.00156402587890625\n",
      "Step: 367 | Iter: 4 | Loss 0.0\n",
      "Step: 367 | Iter: 5 | Loss 0.0\n"
     ]
    },
    {
     "name": "stderr",
     "output_type": "stream",
     "text": [
      "100%|██████████| 1/1 [00:15<00:00, 15.94s/it]\n"
     ]
    },
    {
     "name": "stdout",
     "output_type": "stream",
     "text": [
      "Step: 368 | Iter: 1 | Loss -0.000782012939453125\n",
      "Step: 368 | Iter: 2 | Loss -0.0003910064697265625\n",
      "Step: 368 | Iter: 3 | Loss -0.0003910064697265625\n",
      "Step: 368 | Iter: 4 | Loss -0.000782012939453125\n",
      "Step: 368 | Iter: 5 | Loss 0.0003910064697265625\n"
     ]
    },
    {
     "name": "stderr",
     "output_type": "stream",
     "text": [
      "100%|██████████| 1/1 [00:08<00:00,  8.73s/it]\n"
     ]
    },
    {
     "name": "stdout",
     "output_type": "stream",
     "text": [
      "Step: 369 | Iter: 1 | Loss -5.5789947509765625e-05\n",
      "Step: 369 | Iter: 2 | Loss -5.53131103515625e-05\n",
      "Step: 369 | Iter: 3 | Loss -5.91278076171875e-05\n",
      "Step: 369 | Iter: 4 | Loss -5.4836273193359375e-05\n",
      "Step: 369 | Iter: 5 | Loss -5.53131103515625e-05\n"
     ]
    },
    {
     "name": "stderr",
     "output_type": "stream",
     "text": [
      "100%|██████████| 1/1 [00:09<00:00,  9.98s/it]\n"
     ]
    },
    {
     "name": "stdout",
     "output_type": "stream",
     "text": [
      "Step: 370 | Iter: 1 | Loss -4.076957702636719e-05\n",
      "Step: 370 | Iter: 2 | Loss -3.886222839355469e-05\n",
      "Step: 370 | Iter: 3 | Loss -4.0531158447265625e-05\n",
      "Step: 370 | Iter: 4 | Loss -3.933906555175781e-05\n",
      "Step: 370 | Iter: 5 | Loss -4.1484832763671875e-05\n",
      "Step: 370 | Format: 0.3659459459459462 | Accuracy: 1.1264864864864872\n",
      "Output example: <reasoning>\n",
      "Monika spent $250 at the mall. She then watched 3 movies, each costing $24, so the total cost of the movies was 3 * $24 = $72. She stopped by the farmer's market and bought 20 bags of beans at $1.25 per bag, so the total cost of the beans was 20 * $1.25 = $25. The total amount of money Monika spent throughout her day is the sum of the money spent at the mall, the movies, and the beans. Therefore, the total amount spent is $250 + $72 + $25 = $347.\n",
      "</reasoning>\n",
      "<answer>\n",
      "$347\n",
      "</answer><|endoftext|>\n"
     ]
    },
    {
     "name": "stderr",
     "output_type": "stream",
     "text": [
      "100%|██████████| 1/1 [00:19<00:00, 19.54s/it]\n"
     ]
    },
    {
     "name": "stdout",
     "output_type": "stream",
     "text": [
      "Step: 371 | Iter: 1 | Loss 0.0\n",
      "Step: 371 | Iter: 2 | Loss 0.0\n",
      "Step: 371 | Iter: 3 | Loss 0.0\n",
      "Step: 371 | Iter: 4 | Loss 0.00156402587890625\n",
      "Step: 371 | Iter: 5 | Loss -0.0031280517578125\n"
     ]
    },
    {
     "name": "stderr",
     "output_type": "stream",
     "text": [
      "100%|██████████| 1/1 [00:12<00:00, 12.52s/it]\n"
     ]
    },
    {
     "name": "stdout",
     "output_type": "stream",
     "text": [
      "Step: 372 | Iter: 1 | Loss 0.0\n",
      "Step: 372 | Iter: 2 | Loss 0.0\n",
      "Step: 372 | Iter: 3 | Loss -0.00156402587890625\n",
      "Step: 372 | Iter: 4 | Loss -0.00156402587890625\n",
      "Step: 372 | Iter: 5 | Loss -0.00156402587890625\n"
     ]
    },
    {
     "name": "stderr",
     "output_type": "stream",
     "text": [
      "100%|██████████| 1/1 [00:12<00:00, 12.18s/it]\n"
     ]
    },
    {
     "name": "stdout",
     "output_type": "stream",
     "text": [
      "Step: 373 | Iter: 1 | Loss 0.000782012939453125\n",
      "Step: 373 | Iter: 2 | Loss 0.001953125\n",
      "Step: 373 | Iter: 3 | Loss 0.0003910064697265625\n",
      "Step: 373 | Iter: 4 | Loss 0.000782012939453125\n",
      "Step: 373 | Iter: 5 | Loss 0.0003910064697265625\n"
     ]
    },
    {
     "name": "stderr",
     "output_type": "stream",
     "text": [
      "100%|██████████| 1/1 [00:14<00:00, 14.96s/it]\n"
     ]
    },
    {
     "name": "stdout",
     "output_type": "stream",
     "text": [
      "Step: 374 | Iter: 1 | Loss 0.0\n",
      "Step: 374 | Iter: 2 | Loss 0.0\n",
      "Step: 374 | Iter: 3 | Loss 0.00156402587890625\n",
      "Step: 374 | Iter: 4 | Loss 0.0\n",
      "Step: 374 | Iter: 5 | Loss 0.0031280517578125\n"
     ]
    },
    {
     "name": "stderr",
     "output_type": "stream",
     "text": [
      "100%|██████████| 1/1 [00:14<00:00, 14.11s/it]\n"
     ]
    },
    {
     "name": "stdout",
     "output_type": "stream",
     "text": [
      "Step: 375 | Iter: 1 | Loss 0.0\n",
      "Step: 375 | Iter: 2 | Loss -0.00156402587890625\n",
      "Step: 375 | Iter: 3 | Loss 0.0\n",
      "Step: 375 | Iter: 4 | Loss -0.0031280517578125\n",
      "Step: 375 | Iter: 5 | Loss 0.0\n"
     ]
    },
    {
     "name": "stderr",
     "output_type": "stream",
     "text": [
      "100%|██████████| 1/1 [00:09<00:00,  9.76s/it]\n"
     ]
    },
    {
     "name": "stdout",
     "output_type": "stream",
     "text": [
      "Step: 376 | Iter: 1 | Loss -5.91278076171875e-05\n",
      "Step: 376 | Iter: 2 | Loss -5.7220458984375e-05\n",
      "Step: 376 | Iter: 3 | Loss -5.841255187988281e-05\n",
      "Step: 376 | Iter: 4 | Loss -5.602836608886719e-05\n",
      "Step: 376 | Iter: 5 | Loss -5.6743621826171875e-05\n"
     ]
    },
    {
     "name": "stderr",
     "output_type": "stream",
     "text": [
      "100%|██████████| 1/1 [00:16<00:00, 16.96s/it]\n"
     ]
    },
    {
     "name": "stdout",
     "output_type": "stream",
     "text": [
      "Step: 377 | Iter: 1 | Loss -4.00543212890625e-05\n",
      "Step: 377 | Iter: 2 | Loss -4.2438507080078125e-05\n",
      "Step: 377 | Iter: 3 | Loss -4.2438507080078125e-05\n",
      "Step: 377 | Iter: 4 | Loss -4.1961669921875e-05\n",
      "Step: 377 | Iter: 5 | Loss -4.2438507080078125e-05\n"
     ]
    },
    {
     "name": "stderr",
     "output_type": "stream",
     "text": [
      "100%|██████████| 1/1 [00:16<00:00, 16.27s/it]\n"
     ]
    },
    {
     "name": "stdout",
     "output_type": "stream",
     "text": [
      "Step: 378 | Iter: 1 | Loss -0.00156402587890625\n",
      "Step: 378 | Iter: 2 | Loss -0.00156402587890625\n",
      "Step: 378 | Iter: 3 | Loss 0.0\n",
      "Step: 378 | Iter: 4 | Loss -0.002349853515625\n",
      "Step: 378 | Iter: 5 | Loss -0.002349853515625\n"
     ]
    },
    {
     "name": "stderr",
     "output_type": "stream",
     "text": [
      "100%|██████████| 1/1 [00:14<00:00, 14.88s/it]\n"
     ]
    },
    {
     "name": "stdout",
     "output_type": "stream",
     "text": [
      "Step: 379 | Iter: 1 | Loss -5.078315734863281e-05\n",
      "Step: 379 | Iter: 2 | Loss -5.269050598144531e-05\n",
      "Step: 379 | Iter: 3 | Loss -5.0067901611328125e-05\n",
      "Step: 379 | Iter: 4 | Loss -5.1021575927734375e-05\n",
      "Step: 379 | Iter: 5 | Loss -5.078315734863281e-05\n"
     ]
    },
    {
     "name": "stderr",
     "output_type": "stream",
     "text": [
      "100%|██████████| 1/1 [00:15<00:00, 15.15s/it]\n"
     ]
    },
    {
     "name": "stdout",
     "output_type": "stream",
     "text": [
      "Step: 380 | Iter: 1 | Loss -0.0003910064697265625\n",
      "Step: 380 | Iter: 2 | Loss -0.0003910064697265625\n",
      "Step: 380 | Iter: 3 | Loss -0.0003910064697265625\n",
      "Step: 380 | Iter: 4 | Loss -0.0003910064697265625\n",
      "Step: 380 | Iter: 5 | Loss 0.0\n",
      "Step: 380 | Format: 0.3692105263157897 | Accuracy: 1.1400000000000008\n",
      "Output example: <reasoning>\n",
      "The cost of the piano is $500.\n",
      "The cost of the lessons without discount is 20*40 = $<<20*40=800>>800.\n",
      "The discount is 25% of $800, which is 0.25*800 = $<<0.25*800=200>>200.\n",
      "So the cost of the lessons is $800-$200 = $<<800-200=600>>600.\n",
      "The total cost of everything is $500+$600 = $<<500+600=1100>>1100.\n",
      "</reasoning>\n",
      "<answer>\n",
      "1100\n",
      "</answer><|endoftext|><|endoftext|><|endoftext|><|endoftext|><|endoftext|><|endoftext|><|endoftext|><|endoftext|><|endoftext|><|endoftext|><|endoftext|><|endoftext|><|endoftext|><|endoftext|><|endoftext|><|endoftext|><|endoftext|><|endoftext|><|endoftext|><|endoftext|><|endoftext|><|endoftext|><|endoftext|><|endoftext|><|endoftext|><|endoftext|><|endoftext|><|endoftext|><|endoftext|><|endoftext|><|endoftext|><|endoftext|><|endoftext|><|endoftext|><|endoftext|><|endoftext|><|endoftext|><|endoftext|><|endoftext|><|endoftext|><|endoftext|><|endoftext|><|endoftext|><|endoftext|><|endoftext|><|endoftext|><|endoftext|><|endoftext|><|endoftext|><|endoftext|><|endoftext|><|endoftext|><|endoftext|><|endoftext|><|endoftext|><|endoftext|><|endoftext|><|endoftext|><|endoftext|><|endoftext|><|endoftext|><|endoftext|><|endoftext|><|endoftext|><|endoftext|><|endoftext|><|endoftext|><|endoftext|><|endoftext|><|endoftext|><|endoftext|><|endoftext|><|endoftext|><|endoftext|>\n"
     ]
    },
    {
     "name": "stderr",
     "output_type": "stream",
     "text": [
      "100%|██████████| 1/1 [00:05<00:00,  5.48s/it]\n"
     ]
    },
    {
     "name": "stdout",
     "output_type": "stream",
     "text": [
      "Step: 381 | Iter: 1 | Loss 0.000782012939453125\n",
      "Step: 381 | Iter: 2 | Loss 0.0003910064697265625\n",
      "Step: 381 | Iter: 3 | Loss 0.0\n",
      "Step: 381 | Iter: 4 | Loss 0.0\n",
      "Step: 381 | Iter: 5 | Loss 0.0\n"
     ]
    },
    {
     "name": "stderr",
     "output_type": "stream",
     "text": [
      "100%|██████████| 1/1 [00:28<00:00, 28.02s/it]\n"
     ]
    },
    {
     "name": "stdout",
     "output_type": "stream",
     "text": [
      "Step: 382 | Iter: 1 | Loss 0.0\n",
      "Step: 382 | Iter: 2 | Loss 0.0\n",
      "Step: 382 | Iter: 3 | Loss 0.0\n",
      "Step: 382 | Iter: 4 | Loss -0.00156402587890625\n",
      "Step: 382 | Iter: 5 | Loss 0.0\n"
     ]
    },
    {
     "name": "stderr",
     "output_type": "stream",
     "text": [
      "100%|██████████| 1/1 [00:31<00:00, 31.34s/it]\n"
     ]
    },
    {
     "name": "stdout",
     "output_type": "stream",
     "text": [
      "Step: 383 | Iter: 1 | Loss 0.000782012939453125\n",
      "Step: 383 | Iter: 2 | Loss 0.0003910064697265625\n",
      "Step: 383 | Iter: 3 | Loss 0.0003910064697265625\n",
      "Step: 383 | Iter: 4 | Loss 0.0003910064697265625\n",
      "Step: 383 | Iter: 5 | Loss 0.0003910064697265625\n"
     ]
    },
    {
     "name": "stderr",
     "output_type": "stream",
     "text": [
      "100%|██████████| 1/1 [00:09<00:00,  9.87s/it]\n"
     ]
    },
    {
     "name": "stdout",
     "output_type": "stream",
     "text": [
      "Step: 384 | Iter: 1 | Loss -3.9577484130859375e-05\n",
      "Step: 384 | Iter: 2 | Loss -3.933906555175781e-05\n",
      "Step: 384 | Iter: 3 | Loss -3.886222839355469e-05\n",
      "Step: 384 | Iter: 4 | Loss -4.00543212890625e-05\n",
      "Step: 384 | Iter: 5 | Loss -3.933906555175781e-05\n"
     ]
    },
    {
     "name": "stderr",
     "output_type": "stream",
     "text": [
      "100%|██████████| 1/1 [00:10<00:00, 10.78s/it]\n"
     ]
    },
    {
     "name": "stdout",
     "output_type": "stream",
     "text": [
      "Step: 385 | Iter: 1 | Loss -6.818771362304688e-05\n",
      "Step: 385 | Iter: 2 | Loss -6.341934204101562e-05\n",
      "Step: 385 | Iter: 3 | Loss -6.389617919921875e-05\n",
      "Step: 385 | Iter: 4 | Loss -6.389617919921875e-05\n",
      "Step: 385 | Iter: 5 | Loss -6.628036499023438e-05\n"
     ]
    },
    {
     "name": "stderr",
     "output_type": "stream",
     "text": [
      "100%|██████████| 1/1 [00:16<00:00, 16.27s/it]\n"
     ]
    },
    {
     "name": "stdout",
     "output_type": "stream",
     "text": [
      "Step: 386 | Iter: 1 | Loss -6.198883056640625e-05\n",
      "Step: 386 | Iter: 2 | Loss -6.246566772460938e-05\n",
      "Step: 386 | Iter: 3 | Loss -6.103515625e-05\n",
      "Step: 386 | Iter: 4 | Loss -6.198883056640625e-05\n",
      "Step: 386 | Iter: 5 | Loss -5.9604644775390625e-05\n"
     ]
    },
    {
     "name": "stderr",
     "output_type": "stream",
     "text": [
      "100%|██████████| 1/1 [00:18<00:00, 18.01s/it]\n"
     ]
    },
    {
     "name": "stdout",
     "output_type": "stream",
     "text": [
      "Step: 387 | Iter: 1 | Loss -0.00156402587890625\n",
      "Step: 387 | Iter: 2 | Loss 0.00156402587890625\n",
      "Step: 387 | Iter: 3 | Loss -0.00156402587890625\n",
      "Step: 387 | Iter: 4 | Loss 0.00156402587890625\n",
      "Step: 387 | Iter: 5 | Loss 0.00156402587890625\n"
     ]
    },
    {
     "name": "stderr",
     "output_type": "stream",
     "text": [
      "100%|██████████| 1/1 [00:09<00:00,  9.82s/it]\n"
     ]
    },
    {
     "name": "stdout",
     "output_type": "stream",
     "text": [
      "Step: 388 | Iter: 1 | Loss 0.000782012939453125\n",
      "Step: 388 | Iter: 2 | Loss 0.0003910064697265625\n",
      "Step: 388 | Iter: 3 | Loss 0.000782012939453125\n",
      "Step: 388 | Iter: 4 | Loss 0.000782012939453125\n",
      "Step: 388 | Iter: 5 | Loss 0.000782012939453125\n"
     ]
    },
    {
     "name": "stderr",
     "output_type": "stream",
     "text": [
      "100%|██████████| 1/1 [00:11<00:00, 11.02s/it]\n"
     ]
    },
    {
     "name": "stdout",
     "output_type": "stream",
     "text": [
      "Step: 389 | Iter: 1 | Loss 0.0\n",
      "Step: 389 | Iter: 2 | Loss 0.00156402587890625\n",
      "Step: 389 | Iter: 3 | Loss 0.0\n",
      "Step: 389 | Iter: 4 | Loss -0.0031280517578125\n",
      "Step: 389 | Iter: 5 | Loss -0.0031280517578125\n"
     ]
    },
    {
     "name": "stderr",
     "output_type": "stream",
     "text": [
      "100%|██████████| 1/1 [00:23<00:00, 23.50s/it]\n"
     ]
    },
    {
     "name": "stdout",
     "output_type": "stream",
     "text": [
      "Step: 390 | Iter: 1 | Loss -0.00156402587890625\n",
      "Step: 390 | Iter: 2 | Loss -0.002349853515625\n",
      "Step: 390 | Iter: 3 | Loss -0.002349853515625\n",
      "Step: 390 | Iter: 4 | Loss -0.002349853515625\n",
      "Step: 390 | Iter: 5 | Loss -0.002349853515625\n",
      "Step: 390 | Format: 0.3717948717948721 | Accuracy: 1.1466666666666676\n",
      "Output example: <reasoning>\n",
      "To calculate the total rainfall for November, we need to determine the daily rainfall for the remainder of the month and then sum up all the daily amounts.\n",
      "\n",
      "First, we establish the given information:\n",
      "- Rainfall during the first 15 days: 4 inches per day\n",
      "- The remainder of the month has 10 days (30 days - 15 days)\n",
      "\n",
      "Next, we calculate the average daily rainfall for the remainder of the month:\n",
      "- Twice the amount observed during the first 15 days: 2 * 4 inches = 8 inches per day\n",
      "\n",
      "Now, let's compute the total rainfall for the remainder of the month:\n",
      "- Daily rainfall for the remainder of the month: 8 inches per day\n",
      "- Number of days in the remainder: 10 days\n",
      "- Total rainfall for the remainder of the month: 8 inches/day * 10 days = 80 inches\n",
      "\n",
      "Finally, we can find the total amount of rainfall for the month:\n",
      "- Total rainfall for the town in November: Rainfall during the first 15 days + Total rainfall for the remainder of the month\n",
      "- Total rainfall: 4 inches/day * 15 days + 80 inches\n",
      "- Total rainfall: 60 inches + 80 inches = 140 inches\n",
      "\n",
      "Therefore, the total amount of rainfall for the town in November is 140 inches.\n",
      "</reasoning>\n",
      "<answer>\n",
      "140 inches\n",
      "</answer><|endoftext|><|endoftext|><|endoftext|><|endoftext|><|endoftext|><|endoftext|><|endoftext|><|endoftext|><|endoftext|><|endoftext|><|endoftext|><|endoftext|><|endoftext|><|endoftext|><|endoftext|><|endoftext|><|endoftext|><|endoftext|><|endoftext|><|endoftext|><|endoftext|><|endoftext|><|endoftext|><|endoftext|><|endoftext|><|endoftext|><|endoftext|><|endoftext|><|endoftext|><|endoftext|><|endoftext|><|endoftext|><|endoftext|><|endoftext|><|endoftext|><|endoftext|><|endoftext|><|endoftext|><|endoftext|><|endoftext|><|endoftext|><|endoftext|><|endoftext|><|endoftext|><|endoftext|><|endoftext|><|endoftext|><|endoftext|><|endoftext|><|endoftext|><|endoftext|><|endoftext|><|endoftext|><|endoftext|><|endoftext|><|endoftext|><|endoftext|><|endoftext|><|endoftext|><|endoftext|><|endoftext|><|endoftext|><|endoftext|><|endoftext|><|endoftext|><|endoftext|><|endoftext|><|endoftext|><|endoftext|><|endoftext|><|endoftext|><|endoftext|><|endoftext|><|endoftext|><|endoftext|><|endoftext|><|endoftext|><|endoftext|>\n"
     ]
    },
    {
     "name": "stderr",
     "output_type": "stream",
     "text": [
      "100%|██████████| 1/1 [00:22<00:00, 22.62s/it]\n"
     ]
    },
    {
     "name": "stdout",
     "output_type": "stream",
     "text": [
      "Step: 391 | Iter: 1 | Loss 0.0\n",
      "Step: 391 | Iter: 2 | Loss 0.0\n",
      "Step: 391 | Iter: 3 | Loss -0.00156402587890625\n",
      "Step: 391 | Iter: 4 | Loss -0.00156402587890625\n",
      "Step: 391 | Iter: 5 | Loss -0.00156402587890625\n"
     ]
    },
    {
     "name": "stderr",
     "output_type": "stream",
     "text": [
      "100%|██████████| 1/1 [00:09<00:00,  9.14s/it]\n"
     ]
    },
    {
     "name": "stdout",
     "output_type": "stream",
     "text": [
      "Step: 392 | Iter: 1 | Loss 0.0\n",
      "Step: 392 | Iter: 2 | Loss 0.0\n",
      "Step: 392 | Iter: 3 | Loss 0.0\n",
      "Step: 392 | Iter: 4 | Loss 0.0031280517578125\n",
      "Step: 392 | Iter: 5 | Loss 0.0\n"
     ]
    },
    {
     "name": "stderr",
     "output_type": "stream",
     "text": [
      "100%|██████████| 1/1 [00:14<00:00, 14.36s/it]\n"
     ]
    },
    {
     "name": "stdout",
     "output_type": "stream",
     "text": [
      "Step: 393 | Iter: 1 | Loss -2.8371810913085938e-05\n",
      "Step: 393 | Iter: 2 | Loss -2.86102294921875e-05\n",
      "Step: 393 | Iter: 3 | Loss -2.8967857360839844e-05\n",
      "Step: 393 | Iter: 4 | Loss -2.8848648071289062e-05\n",
      "Step: 393 | Iter: 5 | Loss -2.9325485229492188e-05\n"
     ]
    },
    {
     "name": "stderr",
     "output_type": "stream",
     "text": [
      "100%|██████████| 1/1 [00:16<00:00, 16.92s/it]\n"
     ]
    },
    {
     "name": "stdout",
     "output_type": "stream",
     "text": [
      "Step: 394 | Iter: 1 | Loss -3.814697265625e-05\n",
      "Step: 394 | Iter: 2 | Loss -3.9577484130859375e-05\n",
      "Step: 394 | Iter: 3 | Loss -3.743171691894531e-05\n",
      "Step: 394 | Iter: 4 | Loss -4.029273986816406e-05\n",
      "Step: 394 | Iter: 5 | Loss -3.9577484130859375e-05\n"
     ]
    },
    {
     "name": "stderr",
     "output_type": "stream",
     "text": [
      "100%|██████████| 1/1 [00:12<00:00, 12.48s/it]\n"
     ]
    },
    {
     "name": "stdout",
     "output_type": "stream",
     "text": [
      "Step: 395 | Iter: 1 | Loss -5.078315734863281e-05\n",
      "Step: 395 | Iter: 2 | Loss -4.887580871582031e-05\n",
      "Step: 395 | Iter: 3 | Loss -4.839897155761719e-05\n",
      "Step: 395 | Iter: 4 | Loss -5.030632019042969e-05\n",
      "Step: 395 | Iter: 5 | Loss -4.839897155761719e-05\n"
     ]
    },
    {
     "name": "stderr",
     "output_type": "stream",
     "text": [
      "100%|██████████| 1/1 [00:20<00:00, 20.11s/it]\n"
     ]
    },
    {
     "name": "stdout",
     "output_type": "stream",
     "text": [
      "Step: 396 | Iter: 1 | Loss -5.459785461425781e-05\n",
      "Step: 396 | Iter: 2 | Loss -5.4836273193359375e-05\n",
      "Step: 396 | Iter: 3 | Loss -5.3882598876953125e-05\n",
      "Step: 396 | Iter: 4 | Loss -5.412101745605469e-05\n",
      "Step: 396 | Iter: 5 | Loss -5.459785461425781e-05\n"
     ]
    },
    {
     "name": "stderr",
     "output_type": "stream",
     "text": [
      "100%|██████████| 1/1 [00:18<00:00, 18.98s/it]\n"
     ]
    },
    {
     "name": "stdout",
     "output_type": "stream",
     "text": [
      "Step: 397 | Iter: 1 | Loss 0.000782012939453125\n",
      "Step: 397 | Iter: 2 | Loss 0.0\n",
      "Step: 397 | Iter: 3 | Loss -0.0003910064697265625\n",
      "Step: 397 | Iter: 4 | Loss 0.000782012939453125\n",
      "Step: 397 | Iter: 5 | Loss 0.0003910064697265625\n"
     ]
    },
    {
     "name": "stderr",
     "output_type": "stream",
     "text": [
      "100%|██████████| 1/1 [00:31<00:00, 31.34s/it]\n"
     ]
    },
    {
     "name": "stdout",
     "output_type": "stream",
     "text": [
      "Step: 398 | Iter: 1 | Loss 0.0\n",
      "Step: 398 | Iter: 2 | Loss 0.0\n",
      "Step: 398 | Iter: 3 | Loss 0.0\n",
      "Step: 398 | Iter: 4 | Loss 0.0\n",
      "Step: 398 | Iter: 5 | Loss 0.0\n"
     ]
    },
    {
     "name": "stderr",
     "output_type": "stream",
     "text": [
      "100%|██████████| 1/1 [00:09<00:00,  9.88s/it]\n"
     ]
    },
    {
     "name": "stdout",
     "output_type": "stream",
     "text": [
      "Step: 399 | Iter: 1 | Loss -8.344650268554688e-05\n",
      "Step: 399 | Iter: 2 | Loss -8.630752563476562e-05\n",
      "Step: 399 | Iter: 3 | Loss -8.344650268554688e-05\n",
      "Step: 399 | Iter: 4 | Loss -8.249282836914062e-05\n",
      "Step: 399 | Iter: 5 | Loss -8.678436279296875e-05\n"
     ]
    },
    {
     "name": "stderr",
     "output_type": "stream",
     "text": [
      "100%|██████████| 1/1 [00:23<00:00, 23.92s/it]\n"
     ]
    },
    {
     "name": "stdout",
     "output_type": "stream",
     "text": [
      "Step: 400 | Iter: 1 | Loss -3.9577484130859375e-05\n",
      "Step: 400 | Iter: 2 | Loss -3.910064697265625e-05\n",
      "Step: 400 | Iter: 3 | Loss -4.00543212890625e-05\n",
      "Step: 400 | Iter: 4 | Loss -3.910064697265625e-05\n",
      "Step: 400 | Iter: 5 | Loss -3.886222839355469e-05\n",
      "Step: 400 | Format: 0.3747500000000003 | Accuracy: 1.1470000000000011\n",
      "Output example: <reasoning>\n",
      "Sam works at a 1 widget every 10 minutes rate. So, in 6 hours he would work for 6 * 60 = 360 minutes.\n",
      "Jack worked for 4 hours plus 4 * 60 = 240 minutes to help Sam.\n",
      "The first 15 minutes of every 15 minutes period they both assembled widgets. So, for 240 minutes, they assembled 240 / 15 = 16 sets of widgets.\n",
      "In total, they assembled 16 * 2 = 32 widgets in 240 minutes.\n",
      "Therefore, their combined rate is 32 widgets per 240 minutes or 32 / 240 = 0.1333 widgets per minute.\n",
      "Sam assembled 360 - 240 = 120 minutes of widgets in 6 hours.\n",
      "In 120 minutes, Sam assembled 120 / 10 = 12 widgets.\n",
      "So, for 68 widgets, they need to finish 68 - 12 = 56 widgets.\n",
      "For 56 widgets, they need 56 / 0.1333 = 420 minutes.\n",
      "Since they worked together for 4 hours, there is 4 * 60 = 240 minutes of work left to complete.\n",
      "Therefore, Sam and Jack worked together for 420 - 240 = 180 minutes.\n",
      "The combined rate for Sam and Jack is 56 / 420 = 0.1333 widgets per minute.\n",
      "So, it takes Tony 1 / 0.1333 = 7.5 minutes to assemble a widget.\n",
      "</reasoning>\n",
      "<answer>\n",
      "7.5\n",
      "</answer><|endoftext|>\n"
     ]
    },
    {
     "name": "stderr",
     "output_type": "stream",
     "text": [
      "100%|██████████| 1/1 [00:12<00:00, 12.65s/it]\n"
     ]
    },
    {
     "name": "stdout",
     "output_type": "stream",
     "text": [
      "Step: 401 | Iter: 1 | Loss 0.0\n",
      "Step: 401 | Iter: 2 | Loss 0.0\n",
      "Step: 401 | Iter: 3 | Loss 0.0\n",
      "Step: 401 | Iter: 4 | Loss -0.00156402587890625\n",
      "Step: 401 | Iter: 5 | Loss 0.0\n"
     ]
    },
    {
     "name": "stderr",
     "output_type": "stream",
     "text": [
      "100%|██████████| 1/1 [00:23<00:00, 23.95s/it]\n"
     ]
    },
    {
     "name": "stdout",
     "output_type": "stream",
     "text": [
      "Step: 402 | Iter: 1 | Loss -5.14984130859375e-05\n",
      "Step: 402 | Iter: 2 | Loss -5.1975250244140625e-05\n",
      "Step: 402 | Iter: 3 | Loss -5.269050598144531e-05\n",
      "Step: 402 | Iter: 4 | Loss -5.1021575927734375e-05\n",
      "Step: 402 | Iter: 5 | Loss -5.1975250244140625e-05\n"
     ]
    },
    {
     "name": "stderr",
     "output_type": "stream",
     "text": [
      "100%|██████████| 1/1 [00:09<00:00,  9.43s/it]\n"
     ]
    },
    {
     "name": "stdout",
     "output_type": "stream",
     "text": [
      "Step: 403 | Iter: 1 | Loss -3.3855438232421875e-05\n",
      "Step: 403 | Iter: 2 | Loss -3.1948089599609375e-05\n",
      "Step: 403 | Iter: 3 | Loss -3.170967102050781e-05\n",
      "Step: 403 | Iter: 4 | Loss -3.1948089599609375e-05\n",
      "Step: 403 | Iter: 5 | Loss -3.24249267578125e-05\n"
     ]
    },
    {
     "name": "stderr",
     "output_type": "stream",
     "text": [
      "100%|██████████| 1/1 [00:15<00:00, 15.62s/it]\n"
     ]
    },
    {
     "name": "stdout",
     "output_type": "stream",
     "text": [
      "Step: 404 | Iter: 1 | Loss 0.000782012939453125\n",
      "Step: 404 | Iter: 2 | Loss 0.001953125\n",
      "Step: 404 | Iter: 3 | Loss 0.000782012939453125\n",
      "Step: 404 | Iter: 4 | Loss 0.0003910064697265625\n",
      "Step: 404 | Iter: 5 | Loss 0.000782012939453125\n"
     ]
    },
    {
     "name": "stderr",
     "output_type": "stream",
     "text": [
      "100%|██████████| 1/1 [00:31<00:00, 31.39s/it]\n"
     ]
    },
    {
     "name": "stdout",
     "output_type": "stream",
     "text": [
      "Step: 405 | Iter: 1 | Loss -0.00156402587890625\n",
      "Step: 405 | Iter: 2 | Loss -0.00156402587890625\n",
      "Step: 405 | Iter: 3 | Loss -0.00156402587890625\n",
      "Step: 405 | Iter: 4 | Loss -0.00156402587890625\n",
      "Step: 405 | Iter: 5 | Loss -0.00156402587890625\n"
     ]
    },
    {
     "name": "stderr",
     "output_type": "stream",
     "text": [
      "100%|██████████| 1/1 [00:22<00:00, 22.40s/it]\n"
     ]
    },
    {
     "name": "stdout",
     "output_type": "stream",
     "text": [
      "Step: 406 | Iter: 1 | Loss 0.0\n",
      "Step: 406 | Iter: 2 | Loss 0.00156402587890625\n",
      "Step: 406 | Iter: 3 | Loss 0.00156402587890625\n",
      "Step: 406 | Iter: 4 | Loss -0.00156402587890625\n",
      "Step: 406 | Iter: 5 | Loss -0.00156402587890625\n"
     ]
    },
    {
     "name": "stderr",
     "output_type": "stream",
     "text": [
      "100%|██████████| 1/1 [00:28<00:00, 28.72s/it]\n"
     ]
    },
    {
     "name": "stdout",
     "output_type": "stream",
     "text": [
      "Step: 407 | Iter: 1 | Loss 0.0\n",
      "Step: 407 | Iter: 2 | Loss 0.000782012939453125\n",
      "Step: 407 | Iter: 3 | Loss -0.000782012939453125\n",
      "Step: 407 | Iter: 4 | Loss 0.0\n",
      "Step: 407 | Iter: 5 | Loss 0.0\n"
     ]
    },
    {
     "name": "stderr",
     "output_type": "stream",
     "text": [
      "100%|██████████| 1/1 [00:31<00:00, 31.33s/it]\n"
     ]
    },
    {
     "name": "stdout",
     "output_type": "stream",
     "text": [
      "Step: 408 | Iter: 1 | Loss 0.00156402587890625\n",
      "Step: 408 | Iter: 2 | Loss 0.00156402587890625\n",
      "Step: 408 | Iter: 3 | Loss 0.00156402587890625\n",
      "Step: 408 | Iter: 4 | Loss 0.002349853515625\n",
      "Step: 408 | Iter: 5 | Loss 0.00156402587890625\n"
     ]
    },
    {
     "name": "stderr",
     "output_type": "stream",
     "text": [
      "100%|██████████| 1/1 [00:11<00:00, 11.51s/it]\n"
     ]
    },
    {
     "name": "stdout",
     "output_type": "stream",
     "text": [
      "Step: 409 | Iter: 1 | Loss -4.1961669921875e-05\n",
      "Step: 409 | Iter: 2 | Loss -4.0531158447265625e-05\n",
      "Step: 409 | Iter: 3 | Loss -4.124641418457031e-05\n",
      "Step: 409 | Iter: 4 | Loss -4.0531158447265625e-05\n",
      "Step: 409 | Iter: 5 | Loss -4.1961669921875e-05\n"
     ]
    },
    {
     "name": "stderr",
     "output_type": "stream",
     "text": [
      "100%|██████████| 1/1 [00:10<00:00, 10.34s/it]\n"
     ]
    },
    {
     "name": "stdout",
     "output_type": "stream",
     "text": [
      "Step: 410 | Iter: 1 | Loss -4.9114227294921875e-05\n",
      "Step: 410 | Iter: 2 | Loss -4.9114227294921875e-05\n",
      "Step: 410 | Iter: 3 | Loss -4.9591064453125e-05\n",
      "Step: 410 | Iter: 4 | Loss -4.9114227294921875e-05\n",
      "Step: 410 | Iter: 5 | Loss -4.887580871582031e-05\n",
      "Step: 410 | Format: 0.37682926829268326 | Accuracy: 1.1482926829268305\n",
      "Output example: <reasoning>\n",
      "Frank sold 5 cars each day for the first 3 days, totaling \\( 5 \\times 3 = 15 \\) cars. Then he sold 3 cars each day for the next 4 days, totaling \\( 3 \\times 4 = 12 \\) cars. Thus, he has sold \\( 15 + 12 = 27 \\) cars so far. The quota for the month is to sell 50 cars. Therefore, for the remaining \\( 30 - 7 = 23 \\) days, Frank needs to sell \\( 50 - 27 = 23 \\) cars.\n",
      "</reasoning>\n",
      "<answer>\n",
      "Frank needs to sell 23 cars for the remaining days to meet his quota.\n",
      "</answer><|endoftext|>\n"
     ]
    },
    {
     "name": "stderr",
     "output_type": "stream",
     "text": [
      "100%|██████████| 1/1 [00:20<00:00, 20.64s/it]\n"
     ]
    },
    {
     "name": "stdout",
     "output_type": "stream",
     "text": [
      "Step: 411 | Iter: 1 | Loss 0.0\n",
      "Step: 411 | Iter: 2 | Loss 0.0\n",
      "Step: 411 | Iter: 3 | Loss 0.00156402587890625\n",
      "Step: 411 | Iter: 4 | Loss 0.00156402587890625\n",
      "Step: 411 | Iter: 5 | Loss 0.00156402587890625\n"
     ]
    },
    {
     "name": "stderr",
     "output_type": "stream",
     "text": [
      "100%|██████████| 1/1 [00:15<00:00, 15.31s/it]\n"
     ]
    },
    {
     "name": "stdout",
     "output_type": "stream",
     "text": [
      "Step: 412 | Iter: 1 | Loss 0.0\n",
      "Step: 412 | Iter: 2 | Loss 0.0\n",
      "Step: 412 | Iter: 3 | Loss 0.0\n",
      "Step: 412 | Iter: 4 | Loss 0.00156402587890625\n",
      "Step: 412 | Iter: 5 | Loss 0.00156402587890625\n"
     ]
    },
    {
     "name": "stderr",
     "output_type": "stream",
     "text": [
      "100%|██████████| 1/1 [00:17<00:00, 17.76s/it]\n"
     ]
    },
    {
     "name": "stdout",
     "output_type": "stream",
     "text": [
      "Step: 413 | Iter: 1 | Loss -0.000782012939453125\n",
      "Step: 413 | Iter: 2 | Loss 0.000782012939453125\n",
      "Step: 413 | Iter: 3 | Loss 0.000782012939453125\n",
      "Step: 413 | Iter: 4 | Loss 0.000782012939453125\n",
      "Step: 413 | Iter: 5 | Loss 0.000782012939453125\n"
     ]
    },
    {
     "name": "stderr",
     "output_type": "stream",
     "text": [
      "100%|██████████| 1/1 [00:14<00:00, 14.05s/it]\n"
     ]
    },
    {
     "name": "stdout",
     "output_type": "stream",
     "text": [
      "Step: 414 | Iter: 1 | Loss 0.000782012939453125\n",
      "Step: 414 | Iter: 2 | Loss 0.002349853515625\n",
      "Step: 414 | Iter: 3 | Loss 0.002349853515625\n",
      "Step: 414 | Iter: 4 | Loss 0.000782012939453125\n",
      "Step: 414 | Iter: 5 | Loss 0.0003910064697265625\n"
     ]
    },
    {
     "name": "stderr",
     "output_type": "stream",
     "text": [
      "100%|██████████| 1/1 [00:31<00:00, 31.39s/it]\n"
     ]
    },
    {
     "name": "stdout",
     "output_type": "stream",
     "text": [
      "Step: 415 | Iter: 1 | Loss 0.000782012939453125\n",
      "Step: 415 | Iter: 2 | Loss -0.000782012939453125\n",
      "Step: 415 | Iter: 3 | Loss 0.000782012939453125\n",
      "Step: 415 | Iter: 4 | Loss 0.000782012939453125\n",
      "Step: 415 | Iter: 5 | Loss -0.000782012939453125\n"
     ]
    },
    {
     "name": "stderr",
     "output_type": "stream",
     "text": [
      "100%|██████████| 1/1 [00:11<00:00, 11.61s/it]\n"
     ]
    },
    {
     "name": "stdout",
     "output_type": "stream",
     "text": [
      "Step: 416 | Iter: 1 | Loss -6.246566772460938e-05\n",
      "Step: 416 | Iter: 2 | Loss -5.984306335449219e-05\n",
      "Step: 416 | Iter: 3 | Loss -5.984306335449219e-05\n",
      "Step: 416 | Iter: 4 | Loss -5.650520324707031e-05\n",
      "Step: 416 | Iter: 5 | Loss -6.341934204101562e-05\n"
     ]
    },
    {
     "name": "stderr",
     "output_type": "stream",
     "text": [
      "100%|██████████| 1/1 [00:16<00:00, 16.88s/it]\n"
     ]
    },
    {
     "name": "stdout",
     "output_type": "stream",
     "text": [
      "Step: 417 | Iter: 1 | Loss 0.0\n",
      "Step: 417 | Iter: 2 | Loss 0.0\n",
      "Step: 417 | Iter: 3 | Loss -0.000782012939453125\n",
      "Step: 417 | Iter: 4 | Loss 0.0\n",
      "Step: 417 | Iter: 5 | Loss 0.0\n"
     ]
    },
    {
     "name": "stderr",
     "output_type": "stream",
     "text": [
      "100%|██████████| 1/1 [00:19<00:00, 19.66s/it]\n"
     ]
    },
    {
     "name": "stdout",
     "output_type": "stream",
     "text": [
      "Step: 418 | Iter: 1 | Loss 0.0\n",
      "Step: 418 | Iter: 2 | Loss -0.00156402587890625\n",
      "Step: 418 | Iter: 3 | Loss 0.0\n",
      "Step: 418 | Iter: 4 | Loss -0.00469970703125\n",
      "Step: 418 | Iter: 5 | Loss -0.0031280517578125\n"
     ]
    },
    {
     "name": "stderr",
     "output_type": "stream",
     "text": [
      "100%|██████████| 1/1 [00:12<00:00, 12.14s/it]\n"
     ]
    },
    {
     "name": "stdout",
     "output_type": "stream",
     "text": [
      "Step: 419 | Iter: 1 | Loss 0.000782012939453125\n",
      "Step: 419 | Iter: 2 | Loss 0.002349853515625\n",
      "Step: 419 | Iter: 3 | Loss 0.000782012939453125\n",
      "Step: 419 | Iter: 4 | Loss 0.000782012939453125\n",
      "Step: 419 | Iter: 5 | Loss 0.0003910064697265625\n"
     ]
    },
    {
     "name": "stderr",
     "output_type": "stream",
     "text": [
      "100%|██████████| 1/1 [00:07<00:00,  7.34s/it]\n"
     ]
    },
    {
     "name": "stdout",
     "output_type": "stream",
     "text": [
      "Step: 420 | Iter: 1 | Loss -6.961822509765625e-05\n",
      "Step: 420 | Iter: 2 | Loss -7.009506225585938e-05\n",
      "Step: 420 | Iter: 3 | Loss -6.818771362304688e-05\n",
      "Step: 420 | Iter: 4 | Loss -7.43865966796875e-05\n",
      "Step: 420 | Iter: 5 | Loss -7.152557373046875e-05\n",
      "Step: 420 | Format: 0.3795238095238099 | Accuracy: 1.1533333333333344\n",
      "Output example: <reasoning>\n",
      "Kenny played basketball for 10 hours last week.\n",
      "He ran for twice as long as he played basketball, which means he ran for 2 * 10 = 20 hours.\n",
      "He practiced on the trumpet for twice as long as he ran, which means he practiced for 2 * 20 = 40 hours.\n",
      "</reasoning>\n",
      "<answer>\n",
      "Kenny practiced on the trumpet for 40 hours last week.\n",
      "</answer><|endoftext|><|endoftext|><|endoftext|><|endoftext|><|endoftext|><|endoftext|><|endoftext|><|endoftext|><|endoftext|><|endoftext|><|endoftext|><|endoftext|><|endoftext|><|endoftext|><|endoftext|><|endoftext|><|endoftext|><|endoftext|><|endoftext|><|endoftext|><|endoftext|><|endoftext|>\n"
     ]
    },
    {
     "name": "stderr",
     "output_type": "stream",
     "text": [
      "100%|██████████| 1/1 [00:14<00:00, 14.47s/it]\n"
     ]
    },
    {
     "name": "stdout",
     "output_type": "stream",
     "text": [
      "Step: 421 | Iter: 1 | Loss -5.6743621826171875e-05\n",
      "Step: 421 | Iter: 2 | Loss -5.602836608886719e-05\n",
      "Step: 421 | Iter: 3 | Loss -5.7697296142578125e-05\n",
      "Step: 421 | Iter: 4 | Loss -5.650520324707031e-05\n",
      "Step: 421 | Iter: 5 | Loss -5.650520324707031e-05\n"
     ]
    },
    {
     "name": "stderr",
     "output_type": "stream",
     "text": [
      "100%|██████████| 1/1 [00:10<00:00, 10.32s/it]\n"
     ]
    },
    {
     "name": "stdout",
     "output_type": "stream",
     "text": [
      "Step: 422 | Iter: 1 | Loss -4.315376281738281e-05\n",
      "Step: 422 | Iter: 2 | Loss -4.4345855712890625e-05\n",
      "Step: 422 | Iter: 3 | Loss -4.458427429199219e-05\n",
      "Step: 422 | Iter: 4 | Loss -4.363059997558594e-05\n",
      "Step: 422 | Iter: 5 | Loss -4.410743713378906e-05\n"
     ]
    },
    {
     "name": "stderr",
     "output_type": "stream",
     "text": [
      "100%|██████████| 1/1 [00:17<00:00, 17.24s/it]\n"
     ]
    },
    {
     "name": "stdout",
     "output_type": "stream",
     "text": [
      "Step: 423 | Iter: 1 | Loss 0.000782012939453125\n",
      "Step: 423 | Iter: 2 | Loss 0.000782012939453125\n",
      "Step: 423 | Iter: 3 | Loss 0.000782012939453125\n",
      "Step: 423 | Iter: 4 | Loss 0.000782012939453125\n",
      "Step: 423 | Iter: 5 | Loss 0.000782012939453125\n"
     ]
    },
    {
     "name": "stderr",
     "output_type": "stream",
     "text": [
      "100%|██████████| 1/1 [00:08<00:00,  8.91s/it]\n"
     ]
    },
    {
     "name": "stdout",
     "output_type": "stream",
     "text": [
      "Step: 424 | Iter: 1 | Loss 0.000782012939453125\n",
      "Step: 424 | Iter: 2 | Loss 0.000782012939453125\n",
      "Step: 424 | Iter: 3 | Loss 0.000782012939453125\n",
      "Step: 424 | Iter: 4 | Loss 0.000782012939453125\n",
      "Step: 424 | Iter: 5 | Loss 0.0\n"
     ]
    },
    {
     "name": "stderr",
     "output_type": "stream",
     "text": [
      "100%|██████████| 1/1 [00:13<00:00, 13.57s/it]\n"
     ]
    },
    {
     "name": "stdout",
     "output_type": "stream",
     "text": [
      "Step: 425 | Iter: 1 | Loss -4.1484832763671875e-05\n",
      "Step: 425 | Iter: 2 | Loss -4.4345855712890625e-05\n",
      "Step: 425 | Iter: 3 | Loss -4.2438507080078125e-05\n",
      "Step: 425 | Iter: 4 | Loss -4.124641418457031e-05\n",
      "Step: 425 | Iter: 5 | Loss -4.5299530029296875e-05\n"
     ]
    },
    {
     "name": "stderr",
     "output_type": "stream",
     "text": [
      "100%|██████████| 1/1 [00:08<00:00,  8.91s/it]\n"
     ]
    },
    {
     "name": "stdout",
     "output_type": "stream",
     "text": [
      "Step: 426 | Iter: 1 | Loss 0.000782012939453125\n",
      "Step: 426 | Iter: 2 | Loss 0.0\n",
      "Step: 426 | Iter: 3 | Loss 0.0\n",
      "Step: 426 | Iter: 4 | Loss 0.000782012939453125\n",
      "Step: 426 | Iter: 5 | Loss 0.0\n"
     ]
    },
    {
     "name": "stderr",
     "output_type": "stream",
     "text": [
      "100%|██████████| 1/1 [00:13<00:00, 13.89s/it]\n"
     ]
    },
    {
     "name": "stdout",
     "output_type": "stream",
     "text": [
      "Step: 427 | Iter: 1 | Loss -2.9206275939941406e-05\n",
      "Step: 427 | Iter: 2 | Loss -2.8252601623535156e-05\n",
      "Step: 427 | Iter: 3 | Loss -2.8967857360839844e-05\n",
      "Step: 427 | Iter: 4 | Loss -2.8967857360839844e-05\n",
      "Step: 427 | Iter: 5 | Loss -2.7894973754882812e-05\n"
     ]
    },
    {
     "name": "stderr",
     "output_type": "stream",
     "text": [
      "100%|██████████| 1/1 [00:31<00:00, 31.39s/it]\n"
     ]
    },
    {
     "name": "stdout",
     "output_type": "stream",
     "text": [
      "Step: 428 | Iter: 1 | Loss 0.0\n",
      "Step: 428 | Iter: 2 | Loss -0.00156402587890625\n",
      "Step: 428 | Iter: 3 | Loss 0.0\n",
      "Step: 428 | Iter: 4 | Loss -0.00156402587890625\n",
      "Step: 428 | Iter: 5 | Loss -0.00156402587890625\n"
     ]
    },
    {
     "name": "stderr",
     "output_type": "stream",
     "text": [
      "100%|██████████| 1/1 [00:11<00:00, 11.90s/it]\n"
     ]
    },
    {
     "name": "stdout",
     "output_type": "stream",
     "text": [
      "Step: 429 | Iter: 1 | Loss -0.000782012939453125\n",
      "Step: 429 | Iter: 2 | Loss -0.00156402587890625\n",
      "Step: 429 | Iter: 3 | Loss -0.000782012939453125\n",
      "Step: 429 | Iter: 4 | Loss -0.000782012939453125\n",
      "Step: 429 | Iter: 5 | Loss -0.00156402587890625\n"
     ]
    },
    {
     "name": "stderr",
     "output_type": "stream",
     "text": [
      "100%|██████████| 1/1 [00:09<00:00,  9.70s/it]\n"
     ]
    },
    {
     "name": "stdout",
     "output_type": "stream",
     "text": [
      "Step: 430 | Iter: 1 | Loss -8.058547973632812e-05\n",
      "Step: 430 | Iter: 2 | Loss -8.0108642578125e-05\n",
      "Step: 430 | Iter: 3 | Loss -7.915496826171875e-05\n",
      "Step: 430 | Iter: 4 | Loss -7.915496826171875e-05\n",
      "Step: 430 | Iter: 5 | Loss -8.106231689453125e-05\n",
      "Step: 430 | Format: 0.3820930232558143 | Accuracy: 1.158139534883722\n",
      "Output example: <reasoning>\n",
      "There are 2300 * 80% = 1840 books in English.\n",
      "Of these 1840 books, 1840 * 60% = 1104 were published in the country.\n",
      "The remaining English-language books published outside the country are 1840 - 1104 = 736.\n",
      "</reasoning>\n",
      "<answer>\n",
      "736\n",
      "</answer><|endoftext|><|endoftext|><|endoftext|><|endoftext|><|endoftext|><|endoftext|><|endoftext|><|endoftext|><|endoftext|><|endoftext|><|endoftext|><|endoftext|><|endoftext|><|endoftext|><|endoftext|><|endoftext|><|endoftext|><|endoftext|><|endoftext|><|endoftext|><|endoftext|><|endoftext|><|endoftext|><|endoftext|><|endoftext|><|endoftext|><|endoftext|><|endoftext|><|endoftext|><|endoftext|><|endoftext|><|endoftext|><|endoftext|><|endoftext|><|endoftext|><|endoftext|><|endoftext|><|endoftext|><|endoftext|><|endoftext|><|endoftext|><|endoftext|><|endoftext|><|endoftext|><|endoftext|><|endoftext|><|endoftext|><|endoftext|><|endoftext|><|endoftext|><|endoftext|><|endoftext|><|endoftext|><|endoftext|><|endoftext|><|endoftext|><|endoftext|><|endoftext|><|endoftext|><|endoftext|><|endoftext|>\n"
     ]
    },
    {
     "name": "stderr",
     "output_type": "stream",
     "text": [
      "100%|██████████| 1/1 [00:10<00:00, 10.17s/it]\n"
     ]
    },
    {
     "name": "stdout",
     "output_type": "stream",
     "text": [
      "Step: 431 | Iter: 1 | Loss -5.14984130859375e-05\n",
      "Step: 431 | Iter: 2 | Loss -5.1021575927734375e-05\n",
      "Step: 431 | Iter: 3 | Loss -5.078315734863281e-05\n",
      "Step: 431 | Iter: 4 | Loss -5.1021575927734375e-05\n",
      "Step: 431 | Iter: 5 | Loss -5.269050598144531e-05\n"
     ]
    },
    {
     "name": "stderr",
     "output_type": "stream",
     "text": [
      "100%|██████████| 1/1 [00:19<00:00, 19.35s/it]\n"
     ]
    },
    {
     "name": "stdout",
     "output_type": "stream",
     "text": [
      "Step: 432 | Iter: 1 | Loss -5.340576171875e-05\n",
      "Step: 432 | Iter: 2 | Loss -5.1021575927734375e-05\n",
      "Step: 432 | Iter: 3 | Loss -5.1021575927734375e-05\n",
      "Step: 432 | Iter: 4 | Loss -4.9114227294921875e-05\n",
      "Step: 432 | Iter: 5 | Loss -5.269050598144531e-05\n"
     ]
    },
    {
     "name": "stderr",
     "output_type": "stream",
     "text": [
      "100%|██████████| 1/1 [00:17<00:00, 17.83s/it]\n"
     ]
    },
    {
     "name": "stdout",
     "output_type": "stream",
     "text": [
      "Step: 433 | Iter: 1 | Loss 0.0\n",
      "Step: 433 | Iter: 2 | Loss -0.00156402587890625\n",
      "Step: 433 | Iter: 3 | Loss -0.000782012939453125\n",
      "Step: 433 | Iter: 4 | Loss -0.0003910064697265625\n",
      "Step: 433 | Iter: 5 | Loss -0.0003910064697265625\n"
     ]
    },
    {
     "name": "stderr",
     "output_type": "stream",
     "text": [
      "100%|██████████| 1/1 [00:10<00:00, 10.57s/it]\n"
     ]
    },
    {
     "name": "stdout",
     "output_type": "stream",
     "text": [
      "Step: 434 | Iter: 1 | Loss -0.0003910064697265625\n",
      "Step: 434 | Iter: 2 | Loss 0.00156402587890625\n",
      "Step: 434 | Iter: 3 | Loss 0.000782012939453125\n",
      "Step: 434 | Iter: 4 | Loss 0.0011749267578125\n",
      "Step: 434 | Iter: 5 | Loss 0.0011749267578125\n"
     ]
    },
    {
     "name": "stderr",
     "output_type": "stream",
     "text": [
      "100%|██████████| 1/1 [00:13<00:00, 13.43s/it]\n"
     ]
    },
    {
     "name": "stdout",
     "output_type": "stream",
     "text": [
      "Step: 435 | Iter: 1 | Loss 0.000782012939453125\n",
      "Step: 435 | Iter: 2 | Loss -0.002349853515625\n",
      "Step: 435 | Iter: 3 | Loss -0.002349853515625\n",
      "Step: 435 | Iter: 4 | Loss -0.0027313232421875\n",
      "Step: 435 | Iter: 5 | Loss -0.003509521484375\n"
     ]
    },
    {
     "name": "stderr",
     "output_type": "stream",
     "text": [
      "100%|██████████| 1/1 [00:10<00:00, 10.37s/it]\n"
     ]
    },
    {
     "name": "stdout",
     "output_type": "stream",
     "text": [
      "Step: 436 | Iter: 1 | Loss 0.0\n",
      "Step: 436 | Iter: 2 | Loss 0.00156402587890625\n",
      "Step: 436 | Iter: 3 | Loss 0.00156402587890625\n",
      "Step: 436 | Iter: 4 | Loss 0.0\n",
      "Step: 436 | Iter: 5 | Loss 0.00156402587890625\n"
     ]
    },
    {
     "name": "stderr",
     "output_type": "stream",
     "text": [
      "100%|██████████| 1/1 [00:10<00:00, 10.84s/it]\n"
     ]
    },
    {
     "name": "stdout",
     "output_type": "stream",
     "text": [
      "Step: 437 | Iter: 1 | Loss 0.0\n",
      "Step: 437 | Iter: 2 | Loss 0.0\n",
      "Step: 437 | Iter: 3 | Loss 0.0\n",
      "Step: 437 | Iter: 4 | Loss -0.00156402587890625\n",
      "Step: 437 | Iter: 5 | Loss 0.0\n"
     ]
    },
    {
     "name": "stderr",
     "output_type": "stream",
     "text": [
      "100%|██████████| 1/1 [00:31<00:00, 31.51s/it]\n"
     ]
    },
    {
     "name": "stdout",
     "output_type": "stream",
     "text": [
      "Step: 438 | Iter: 1 | Loss 0.00156402587890625\n",
      "Step: 438 | Iter: 2 | Loss -0.00156402587890625\n",
      "Step: 438 | Iter: 3 | Loss -0.00156402587890625\n",
      "Step: 438 | Iter: 4 | Loss -0.00156402587890625\n",
      "Step: 438 | Iter: 5 | Loss 0.00156402587890625\n"
     ]
    },
    {
     "name": "stderr",
     "output_type": "stream",
     "text": [
      "100%|██████████| 1/1 [00:08<00:00,  8.82s/it]\n"
     ]
    },
    {
     "name": "stdout",
     "output_type": "stream",
     "text": [
      "Step: 439 | Iter: 1 | Loss -4.553794860839844e-05\n",
      "Step: 439 | Iter: 2 | Loss -4.458427429199219e-05\n",
      "Step: 439 | Iter: 3 | Loss -4.6253204345703125e-05\n",
      "Step: 439 | Iter: 4 | Loss -4.4345855712890625e-05\n",
      "Step: 439 | Iter: 5 | Loss -4.649162292480469e-05\n"
     ]
    },
    {
     "name": "stderr",
     "output_type": "stream",
     "text": [
      "100%|██████████| 1/1 [00:14<00:00, 14.72s/it]\n"
     ]
    },
    {
     "name": "stdout",
     "output_type": "stream",
     "text": [
      "Step: 440 | Iter: 1 | Loss -0.0003910064697265625\n",
      "Step: 440 | Iter: 2 | Loss -0.0003910064697265625\n",
      "Step: 440 | Iter: 3 | Loss 0.0\n",
      "Step: 440 | Iter: 4 | Loss -0.000782012939453125\n",
      "Step: 440 | Iter: 5 | Loss -0.0003910064697265625\n",
      "Step: 440 | Format: 0.3845454545454549 | Accuracy: 1.1563636363636376\n",
      "Output example: <reasoning>\n",
      "Timothy has $50 to spend at the souvenir shop. He spends $8 x 2 = $16 on t-shirts. He spends $10 x 2 = $20 on bags. So far, he has spent $16 + $20 = $36. He has $50 - $36 = $14 left. The cost of three key chains is $2. So, the cost of one key chain is $2 / 3. Timothy can buy $14 / ($2 / 3) = 21 pieces of key chains.\n",
      "</reasoning>\n",
      "<answer>\n",
      "21\n",
      "</answer><|endoftext|><|endoftext|><|endoftext|><|endoftext|><|endoftext|><|endoftext|><|endoftext|><|endoftext|><|endoftext|><|endoftext|><|endoftext|><|endoftext|><|endoftext|><|endoftext|><|endoftext|><|endoftext|><|endoftext|><|endoftext|><|endoftext|><|endoftext|><|endoftext|><|endoftext|><|endoftext|><|endoftext|><|endoftext|><|endoftext|><|endoftext|><|endoftext|><|endoftext|><|endoftext|><|endoftext|><|endoftext|><|endoftext|><|endoftext|><|endoftext|><|endoftext|><|endoftext|><|endoftext|><|endoftext|><|endoftext|><|endoftext|><|endoftext|><|endoftext|><|endoftext|><|endoftext|><|endoftext|><|endoftext|><|endoftext|><|endoftext|><|endoftext|><|endoftext|><|endoftext|><|endoftext|><|endoftext|><|endoftext|><|endoftext|><|endoftext|><|endoftext|><|endoftext|><|endoftext|><|endoftext|><|endoftext|><|endoftext|><|endoftext|><|endoftext|><|endoftext|><|endoftext|><|endoftext|><|endoftext|><|endoftext|><|endoftext|><|endoftext|><|endoftext|><|endoftext|><|endoftext|><|endoftext|><|endoftext|><|endoftext|><|endoftext|><|endoftext|><|endoftext|><|endoftext|><|endoftext|><|endoftext|><|endoftext|><|endoftext|><|endoftext|><|endoftext|><|endoftext|><|endoftext|><|endoftext|><|endoftext|><|endoftext|><|endoftext|><|endoftext|><|endoftext|><|endoftext|><|endoftext|><|endoftext|><|endoftext|>\n"
     ]
    },
    {
     "name": "stderr",
     "output_type": "stream",
     "text": [
      "100%|██████████| 1/1 [00:13<00:00, 13.48s/it]\n"
     ]
    },
    {
     "name": "stdout",
     "output_type": "stream",
     "text": [
      "Step: 441 | Iter: 1 | Loss -4.458427429199219e-05\n",
      "Step: 441 | Iter: 2 | Loss -4.553794860839844e-05\n",
      "Step: 441 | Iter: 3 | Loss -4.506111145019531e-05\n",
      "Step: 441 | Iter: 4 | Loss -4.506111145019531e-05\n",
      "Step: 441 | Iter: 5 | Loss -4.4345855712890625e-05\n"
     ]
    },
    {
     "name": "stderr",
     "output_type": "stream",
     "text": [
      "100%|██████████| 1/1 [00:25<00:00, 25.81s/it]\n"
     ]
    },
    {
     "name": "stdout",
     "output_type": "stream",
     "text": [
      "Step: 442 | Iter: 1 | Loss 0.0\n",
      "Step: 442 | Iter: 2 | Loss 0.0\n",
      "Step: 442 | Iter: 3 | Loss 0.00156402587890625\n",
      "Step: 442 | Iter: 4 | Loss 0.0\n",
      "Step: 442 | Iter: 5 | Loss 0.0\n"
     ]
    },
    {
     "name": "stderr",
     "output_type": "stream",
     "text": [
      "100%|██████████| 1/1 [00:26<00:00, 26.11s/it]\n"
     ]
    },
    {
     "name": "stdout",
     "output_type": "stream",
     "text": [
      "Step: 443 | Iter: 1 | Loss 0.0\n",
      "Step: 443 | Iter: 2 | Loss 0.0\n",
      "Step: 443 | Iter: 3 | Loss 0.0\n",
      "Step: 443 | Iter: 4 | Loss 0.0\n",
      "Step: 443 | Iter: 5 | Loss 0.00156402587890625\n"
     ]
    },
    {
     "name": "stderr",
     "output_type": "stream",
     "text": [
      "100%|██████████| 1/1 [00:15<00:00, 15.41s/it]\n"
     ]
    },
    {
     "name": "stdout",
     "output_type": "stream",
     "text": [
      "Step: 444 | Iter: 1 | Loss 0.000782012939453125\n",
      "Step: 444 | Iter: 2 | Loss -0.0011749267578125\n",
      "Step: 444 | Iter: 3 | Loss -0.000782012939453125\n",
      "Step: 444 | Iter: 4 | Loss -0.000782012939453125\n",
      "Step: 444 | Iter: 5 | Loss -0.0027313232421875\n"
     ]
    },
    {
     "name": "stderr",
     "output_type": "stream",
     "text": [
      "100%|██████████| 1/1 [00:19<00:00, 19.55s/it]\n"
     ]
    },
    {
     "name": "stdout",
     "output_type": "stream",
     "text": [
      "Step: 445 | Iter: 1 | Loss -4.76837158203125e-05\n",
      "Step: 445 | Iter: 2 | Loss -4.673004150390625e-05\n",
      "Step: 445 | Iter: 3 | Loss -4.7206878662109375e-05\n",
      "Step: 445 | Iter: 4 | Loss -5.030632019042969e-05\n",
      "Step: 445 | Iter: 5 | Loss -4.863739013671875e-05\n"
     ]
    },
    {
     "name": "stderr",
     "output_type": "stream",
     "text": [
      "100%|██████████| 1/1 [00:31<00:00, 31.51s/it]\n"
     ]
    },
    {
     "name": "stdout",
     "output_type": "stream",
     "text": [
      "Step: 446 | Iter: 1 | Loss 0.000782012939453125\n",
      "Step: 446 | Iter: 2 | Loss 0.00156402587890625\n",
      "Step: 446 | Iter: 3 | Loss 0.000782012939453125\n",
      "Step: 446 | Iter: 4 | Loss 0.00156402587890625\n",
      "Step: 446 | Iter: 5 | Loss 0.00156402587890625\n"
     ]
    },
    {
     "name": "stderr",
     "output_type": "stream",
     "text": [
      "100%|██████████| 1/1 [00:31<00:00, 31.46s/it]\n"
     ]
    },
    {
     "name": "stdout",
     "output_type": "stream",
     "text": [
      "Step: 447 | Iter: 1 | Loss -0.0012664794921875\n",
      "Step: 447 | Iter: 2 | Loss -0.00136566162109375\n",
      "Step: 447 | Iter: 3 | Loss -0.00136566162109375\n",
      "Step: 447 | Iter: 4 | Loss -0.00136566162109375\n",
      "Step: 447 | Iter: 5 | Loss 0.000293731689453125\n"
     ]
    },
    {
     "name": "stderr",
     "output_type": "stream",
     "text": [
      "100%|██████████| 1/1 [00:17<00:00, 17.44s/it]\n"
     ]
    },
    {
     "name": "stdout",
     "output_type": "stream",
     "text": [
      "Step: 448 | Iter: 1 | Loss -6.29425048828125e-05\n",
      "Step: 448 | Iter: 2 | Loss -6.771087646484375e-05\n",
      "Step: 448 | Iter: 3 | Loss -6.198883056640625e-05\n",
      "Step: 448 | Iter: 4 | Loss -6.771087646484375e-05\n",
      "Step: 448 | Iter: 5 | Loss -6.389617919921875e-05\n"
     ]
    },
    {
     "name": "stderr",
     "output_type": "stream",
     "text": [
      "100%|██████████| 1/1 [00:07<00:00,  7.37s/it]\n"
     ]
    },
    {
     "name": "stdout",
     "output_type": "stream",
     "text": [
      "Step: 449 | Iter: 1 | Loss -7.915496826171875e-05\n",
      "Step: 449 | Iter: 2 | Loss -7.963180541992188e-05\n",
      "Step: 449 | Iter: 3 | Loss -7.724761962890625e-05\n",
      "Step: 449 | Iter: 4 | Loss -8.106231689453125e-05\n",
      "Step: 449 | Iter: 5 | Loss -7.915496826171875e-05\n"
     ]
    },
    {
     "name": "stderr",
     "output_type": "stream",
     "text": [
      "100%|██████████| 1/1 [00:21<00:00, 21.18s/it]\n"
     ]
    },
    {
     "name": "stdout",
     "output_type": "stream",
     "text": [
      "Step: 450 | Iter: 1 | Loss 0.0\n",
      "Step: 450 | Iter: 2 | Loss 0.00156402587890625\n",
      "Step: 450 | Iter: 3 | Loss 0.0031280517578125\n",
      "Step: 450 | Iter: 4 | Loss 0.0031280517578125\n",
      "Step: 450 | Iter: 5 | Loss -0.00156402587890625\n",
      "Step: 450 | Format: 0.3864444444444448 | Accuracy: 1.1635555555555568\n",
      "Output example: <reasoning>\n",
      "Let's break down the problem step by step:\n",
      "\n",
      "1. We know that a single spider has 8 legs.\n",
      "2. Let's denote the number of spiders in the group as S.\n",
      "3. According to the problem, the total number of spider legs (8S) is equal to 10 more than half the number of legs a single spider has. So, we can write the equation: 8S = 8 * (1/2) + 10.\n",
      "4. Simplifying the equation, we get: 8S = 4 + 10, which further simplifies to: 8S = 14.\n",
      "5. To find the total number of spider legs in the group, we need to solve for S. We can divide both sides of the equation by 8: S = 14 / 8.\n",
      "6. Therefore, S = 1.75, which means there are 1.75 spiders in the group.\n",
      "7. Since a single spider has 8 legs, the total number of spider legs in the group would be 1.75 * 8.\n",
      "</reasoning>\n",
      "<answer>\n",
      "1.75 * 8 = 14\n",
      "</answer><|endoftext|><|endoftext|><|endoftext|><|endoftext|><|endoftext|><|endoftext|><|endoftext|><|endoftext|><|endoftext|><|endoftext|><|endoftext|><|endoftext|><|endoftext|><|endoftext|><|endoftext|><|endoftext|><|endoftext|><|endoftext|><|endoftext|><|endoftext|><|endoftext|><|endoftext|><|endoftext|><|endoftext|><|endoftext|><|endoftext|><|endoftext|><|endoftext|><|endoftext|><|endoftext|><|endoftext|><|endoftext|><|endoftext|><|endoftext|><|endoftext|><|endoftext|><|endoftext|><|endoftext|><|endoftext|><|endoftext|><|endoftext|><|endoftext|><|endoftext|><|endoftext|><|endoftext|><|endoftext|><|endoftext|><|endoftext|><|endoftext|><|endoftext|><|endoftext|><|endoftext|><|endoftext|><|endoftext|><|endoftext|><|endoftext|><|endoftext|><|endoftext|><|endoftext|><|endoftext|><|endoftext|><|endoftext|><|endoftext|><|endoftext|><|endoftext|><|endoftext|><|endoftext|><|endoftext|><|endoftext|><|endoftext|><|endoftext|><|endoftext|><|endoftext|><|endoftext|><|endoftext|><|endoftext|><|endoftext|><|endoftext|><|endoftext|><|endoftext|><|endoftext|><|endoftext|><|endoftext|><|endoftext|><|endoftext|><|endoftext|><|endoftext|>\n"
     ]
    },
    {
     "name": "stderr",
     "output_type": "stream",
     "text": [
      "100%|██████████| 1/1 [00:31<00:00, 31.37s/it]\n"
     ]
    },
    {
     "name": "stdout",
     "output_type": "stream",
     "text": [
      "Step: 451 | Iter: 1 | Loss -0.0003910064697265625\n",
      "Step: 451 | Iter: 2 | Loss -0.000782012939453125\n",
      "Step: 451 | Iter: 3 | Loss -0.0003910064697265625\n",
      "Step: 451 | Iter: 4 | Loss -0.000782012939453125\n",
      "Step: 451 | Iter: 5 | Loss -0.001953125\n"
     ]
    },
    {
     "name": "stderr",
     "output_type": "stream",
     "text": [
      "100%|██████████| 1/1 [00:06<00:00,  6.06s/it]\n"
     ]
    },
    {
     "name": "stdout",
     "output_type": "stream",
     "text": [
      "Step: 452 | Iter: 1 | Loss -5.650520324707031e-05\n",
      "Step: 452 | Iter: 2 | Loss -5.6743621826171875e-05\n",
      "Step: 452 | Iter: 3 | Loss -5.7697296142578125e-05\n",
      "Step: 452 | Iter: 4 | Loss -5.8650970458984375e-05\n",
      "Step: 452 | Iter: 5 | Loss -6.103515625e-05\n"
     ]
    },
    {
     "name": "stderr",
     "output_type": "stream",
     "text": [
      "100%|██████████| 1/1 [00:08<00:00,  8.55s/it]\n"
     ]
    },
    {
     "name": "stdout",
     "output_type": "stream",
     "text": [
      "Step: 453 | Iter: 1 | Loss 0.000782012939453125\n",
      "Step: 453 | Iter: 2 | Loss 0.000782012939453125\n",
      "Step: 453 | Iter: 3 | Loss 0.000782012939453125\n",
      "Step: 453 | Iter: 4 | Loss 0.000782012939453125\n",
      "Step: 453 | Iter: 5 | Loss 0.0003910064697265625\n"
     ]
    },
    {
     "name": "stderr",
     "output_type": "stream",
     "text": [
      "100%|██████████| 1/1 [00:10<00:00, 10.40s/it]\n"
     ]
    },
    {
     "name": "stdout",
     "output_type": "stream",
     "text": [
      "Step: 454 | Iter: 1 | Loss -5.91278076171875e-05\n",
      "Step: 454 | Iter: 2 | Loss -5.9604644775390625e-05\n",
      "Step: 454 | Iter: 3 | Loss -5.793571472167969e-05\n",
      "Step: 454 | Iter: 4 | Loss -5.793571472167969e-05\n",
      "Step: 454 | Iter: 5 | Loss -5.9604644775390625e-05\n"
     ]
    },
    {
     "name": "stderr",
     "output_type": "stream",
     "text": [
      "100%|██████████| 1/1 [00:09<00:00,  9.48s/it]\n"
     ]
    },
    {
     "name": "stdout",
     "output_type": "stream",
     "text": [
      "Step: 455 | Iter: 1 | Loss 0.0\n",
      "Step: 455 | Iter: 2 | Loss 0.0\n",
      "Step: 455 | Iter: 3 | Loss 0.0\n",
      "Step: 455 | Iter: 4 | Loss -0.0003910064697265625\n",
      "Step: 455 | Iter: 5 | Loss 0.0\n"
     ]
    },
    {
     "name": "stderr",
     "output_type": "stream",
     "text": [
      "100%|██████████| 1/1 [00:25<00:00, 25.89s/it]\n"
     ]
    },
    {
     "name": "stdout",
     "output_type": "stream",
     "text": [
      "Step: 456 | Iter: 1 | Loss 0.0\n",
      "Step: 456 | Iter: 2 | Loss 0.0\n",
      "Step: 456 | Iter: 3 | Loss 0.0\n",
      "Step: 456 | Iter: 4 | Loss 0.00156402587890625\n",
      "Step: 456 | Iter: 5 | Loss 0.00156402587890625\n"
     ]
    },
    {
     "name": "stderr",
     "output_type": "stream",
     "text": [
      "100%|██████████| 1/1 [00:08<00:00,  8.88s/it]\n"
     ]
    },
    {
     "name": "stdout",
     "output_type": "stream",
     "text": [
      "Step: 457 | Iter: 1 | Loss -6.866455078125e-05\n",
      "Step: 457 | Iter: 2 | Loss -6.961822509765625e-05\n",
      "Step: 457 | Iter: 3 | Loss -6.723403930664062e-05\n",
      "Step: 457 | Iter: 4 | Loss -6.771087646484375e-05\n",
      "Step: 457 | Iter: 5 | Loss -7.009506225585938e-05\n"
     ]
    },
    {
     "name": "stderr",
     "output_type": "stream",
     "text": [
      "100%|██████████| 1/1 [00:11<00:00, 11.67s/it]\n"
     ]
    },
    {
     "name": "stdout",
     "output_type": "stream",
     "text": [
      "Step: 458 | Iter: 1 | Loss -0.00156402587890625\n",
      "Step: 458 | Iter: 2 | Loss -0.00156402587890625\n",
      "Step: 458 | Iter: 3 | Loss -0.00156402587890625\n",
      "Step: 458 | Iter: 4 | Loss -0.00156402587890625\n",
      "Step: 458 | Iter: 5 | Loss -0.00156402587890625\n"
     ]
    },
    {
     "name": "stderr",
     "output_type": "stream",
     "text": [
      "100%|██████████| 1/1 [00:08<00:00,  8.61s/it]\n"
     ]
    },
    {
     "name": "stdout",
     "output_type": "stream",
     "text": [
      "Step: 459 | Iter: 1 | Loss 0.0\n",
      "Step: 459 | Iter: 2 | Loss 0.0\n",
      "Step: 459 | Iter: 3 | Loss 0.0\n",
      "Step: 459 | Iter: 4 | Loss 0.0\n",
      "Step: 459 | Iter: 5 | Loss 0.0\n"
     ]
    },
    {
     "name": "stderr",
     "output_type": "stream",
     "text": [
      "100%|██████████| 1/1 [00:17<00:00, 17.84s/it]\n"
     ]
    },
    {
     "name": "stdout",
     "output_type": "stream",
     "text": [
      "Step: 460 | Iter: 1 | Loss -0.000782012939453125\n",
      "Step: 460 | Iter: 2 | Loss -0.0003910064697265625\n",
      "Step: 460 | Iter: 3 | Loss -0.000782012939453125\n",
      "Step: 460 | Iter: 4 | Loss -0.000782012939453125\n",
      "Step: 460 | Iter: 5 | Loss -0.002349853515625\n",
      "Step: 460 | Format: 0.38869565217391344 | Accuracy: 1.1695652173913058\n",
      "Output example: <reasoning>\n",
      "The cost of a lawnmower a year ago was $1800. This cost was 2/5 times less than the current cost. Let C represent the current cost of a lawnmower. We can set up the following equation:\n",
      "   C - (2/5)C = $1800\n",
      "\n",
      "Simplify the equation:\n",
      "   (5/5)C - (2/5)C = $1800\n",
      "   (3/5)C = $1800\n",
      "\n",
      "Solve for C:\n",
      "   C = $1800 * (5/3)\n",
      "   C = $3000\n",
      "\n",
      "So, the current cost of a lawnmower is $3000. To find the cost of 4 lawnmowers, we simply multiply the current cost by 4:\n",
      "   4 * $3000 = $12000\n",
      "</reasoning>\n",
      "<answer>\n",
      "$12000\n",
      "</answer><|endoftext|><|endoftext|><|endoftext|><|endoftext|><|endoftext|><|endoftext|><|endoftext|><|endoftext|><|endoftext|><|endoftext|><|endoftext|><|endoftext|><|endoftext|><|endoftext|><|endoftext|><|endoftext|><|endoftext|><|endoftext|><|endoftext|><|endoftext|><|endoftext|><|endoftext|><|endoftext|><|endoftext|><|endoftext|><|endoftext|><|endoftext|><|endoftext|><|endoftext|><|endoftext|><|endoftext|><|endoftext|><|endoftext|><|endoftext|><|endoftext|><|endoftext|><|endoftext|><|endoftext|><|endoftext|><|endoftext|><|endoftext|><|endoftext|><|endoftext|><|endoftext|><|endoftext|><|endoftext|><|endoftext|><|endoftext|><|endoftext|><|endoftext|><|endoftext|><|endoftext|><|endoftext|><|endoftext|><|endoftext|><|endoftext|><|endoftext|><|endoftext|><|endoftext|><|endoftext|><|endoftext|><|endoftext|><|endoftext|><|endoftext|><|endoftext|><|endoftext|><|endoftext|><|endoftext|><|endoftext|><|endoftext|><|endoftext|><|endoftext|><|endoftext|><|endoftext|><|endoftext|><|endoftext|><|endoftext|><|endoftext|><|endoftext|>\n"
     ]
    },
    {
     "name": "stderr",
     "output_type": "stream",
     "text": [
      "100%|██████████| 1/1 [00:17<00:00, 17.30s/it]\n"
     ]
    },
    {
     "name": "stdout",
     "output_type": "stream",
     "text": [
      "Step: 461 | Iter: 1 | Loss 0.0\n",
      "Step: 461 | Iter: 2 | Loss 0.0\n",
      "Step: 461 | Iter: 3 | Loss -0.00156402587890625\n",
      "Step: 461 | Iter: 4 | Loss -0.00156402587890625\n",
      "Step: 461 | Iter: 5 | Loss 0.0003910064697265625\n"
     ]
    },
    {
     "name": "stderr",
     "output_type": "stream",
     "text": [
      "100%|██████████| 1/1 [00:17<00:00, 17.96s/it]\n"
     ]
    },
    {
     "name": "stdout",
     "output_type": "stream",
     "text": [
      "Step: 462 | Iter: 1 | Loss -5.030632019042969e-05\n",
      "Step: 462 | Iter: 2 | Loss -5.1975250244140625e-05\n",
      "Step: 462 | Iter: 3 | Loss -5.7220458984375e-05\n",
      "Step: 462 | Iter: 4 | Loss -5.602836608886719e-05\n",
      "Step: 462 | Iter: 5 | Loss -5.459785461425781e-05\n",
      "Stopping training: Reached 11-hour limit.\n"
     ]
    }
   ],
   "source": [
    "start_time = time.time()\n",
    "max_duration = 3 * 60 * 60  \n",
    "\n",
    "reward_tracking = []\n",
    "total_rewards = []\n",
    "track_format_rewards = []\n",
    "track_accuracy_rewards = []\n",
    "\n",
    "step = 0\n",
    "for epoch in range(epochs):\n",
    "    for idx in range(len(df_train)):\n",
    "        step += 1\n",
    "\n",
    "        if time.time() - start_time > max_duration:\n",
    "            print(\"Stopping training: Reached 11-hour limit.\")\n",
    "            break\n",
    "        \n",
    "        prompt = prompts[idx]\n",
    "        answer = answers[idx]\n",
    "        \n",
    "        prompt_completions = generate_completions(\n",
    "            model=model,\n",
    "            tokenizer=tokenizer,\n",
    "            prompts=[prompt],\n",
    "            temperature=0.8, \n",
    "            num_completions=5,\n",
    "            max_completion_length=512)\n",
    "\n",
    "        accuracy_rewards = accuracy_reward(prompt_completions, answer)\n",
    "        format_rewards = format_reward(prompt_completions)\n",
    "        rewards = torch.tensor(accuracy_rewards) + torch.tensor(format_rewards)\n",
    "        advantages = (rewards - rewards.mean()) / (rewards.std() + 1e-4)\n",
    "\n",
    "        old_log_probs = get_log_probs(model, prompt, prompt_completions, type='old')\n",
    "        ref_log_probs = get_log_probs(ref_model, prompt, prompt_completions, type='ref')\n",
    "    \n",
    "\n",
    "        for i_iter in range(n_iterations):\n",
    "            if time.time() - start_time > max_duration:\n",
    "                print(\"Stopping training: Reached 7-hour limit.\")\n",
    "                break\n",
    "            \n",
    "            new_log_probs = get_log_probs(model, prompt, prompt_completions, type='new')\n",
    "\n",
    "            loss = 0\n",
    "            for i in range(len(old_log_probs)):\n",
    "                ratio = torch.exp(new_log_probs[i] - old_log_probs[i]) \n",
    "                clipped_ratio = torch.clamp(ratio, min=1-eps, max=1+eps)\n",
    "\n",
    "                kl_ratio1 = torch.exp(ref_log_probs[i] - new_log_probs[i]) \n",
    "                kl_ratio2 = torch.exp(ref_log_probs[i] - new_log_probs[i]).log()\n",
    "                kl = kl_ratio1 - kl_ratio2 - 1\n",
    "                \n",
    "                loss += (-clipped_ratio * advantages[i] - beta*kl).mean()\n",
    "                \n",
    "            loss = loss / len(new_log_probs)\n",
    "            \n",
    "            scaler.scale(loss).backward()\n",
    "            scaler.step(optimizer)\n",
    "            scaler.update()\n",
    "            optimizer.zero_grad()\n",
    "            scheduler.step()\n",
    "\n",
    "            clean_memory()\n",
    "            \n",
    "            print(f\"Step: {step} | Iter: {i_iter+1} | Loss\", loss.item())\n",
    "\n",
    "        track_format_rewards.append(sum(format_rewards) / len(format_rewards))\n",
    "        track_accuracy_rewards.append(sum(accuracy_rewards) / len(accuracy_rewards))\n",
    "        total_rewards.append(sum(rewards)/len(rewards))\n",
    "\n",
    "        # t = model.base_model.model.model.layers[0].self_attn.q_proj.lora_A['default'].weight[0][:10]\n",
    "        # print(t)\n",
    "        \n",
    "        if step % 10 == 0:\n",
    "            print(\n",
    "                f'Step: {step}'\n",
    "                f' | Format: {sum(track_format_rewards)/len(track_format_rewards)}'\n",
    "                f' | Accuracy: {sum(track_accuracy_rewards)/len(track_accuracy_rewards)}'\n",
    "            )\n",
    "\n",
    "\n",
    "            print('Output example:', prompt_completions[0].split('\\nAssistant:')[1].strip())"
   ]
  },
  {
   "cell_type": "markdown",
   "id": "ccb3b57a",
   "metadata": {
    "papermill": {
     "duration": 0.20755,
     "end_time": "2025-02-10T13:08:03.406811",
     "exception": false,
     "start_time": "2025-02-10T13:08:03.199261",
     "status": "completed"
    },
    "tags": []
   },
   "source": [
    "# Solve a Math Problem"
   ]
  },
  {
   "cell_type": "code",
   "execution_count": 21,
   "id": "074a3e24",
   "metadata": {
    "execution": {
     "iopub.execute_input": "2025-02-10T13:08:03.879290Z",
     "iopub.status.busy": "2025-02-10T13:08:03.878974Z",
     "iopub.status.idle": "2025-02-10T13:08:03.882321Z",
     "shell.execute_reply": "2025-02-10T13:08:03.881632Z"
    },
    "papermill": {
     "duration": 0.212989,
     "end_time": "2025-02-10T13:08:03.883339",
     "exception": false,
     "start_time": "2025-02-10T13:08:03.670350",
     "status": "completed"
    },
    "tags": []
   },
   "outputs": [],
   "source": [
    "# from ChatGPT \n",
    "\n",
    "math_problem = SYSTEM + \"\"\"User: A farmer is planning to build a rectangular chicken coop using 100 meters of fencing.  \n",
    "One side of the coop will be against a barn, so fencing is only needed for the other three sides.  \n",
    "What dimensions should the farmer choose to maximize the enclosed area?  \n",
    "Provide the maximum possible area in square meters.\n",
    "Assistant:\"\"\"  \n",
    "\n",
    "answer = '1250'\n"
   ]
  },
  {
   "cell_type": "code",
   "execution_count": 22,
   "id": "2cb0d587",
   "metadata": {
    "execution": {
     "iopub.execute_input": "2025-02-10T13:08:04.300241Z",
     "iopub.status.busy": "2025-02-10T13:08:04.299988Z",
     "iopub.status.idle": "2025-02-10T13:08:38.285286Z",
     "shell.execute_reply": "2025-02-10T13:08:38.284584Z"
    },
    "papermill": {
     "duration": 34.404965,
     "end_time": "2025-02-10T13:08:38.496956",
     "exception": false,
     "start_time": "2025-02-10T13:08:04.091991",
     "status": "completed"
    },
    "tags": []
   },
   "outputs": [
    {
     "name": "stdout",
     "output_type": "stream",
     "text": [
      "This is output from trained reasoning model!\n",
      "<reasoning>\n",
      "To maximize the enclosed area of the chicken coop, we need to consider the relationship between the dimensions of the rectangle and the total amount of fencing available. Let's denote the length of the side parallel to the barn as \\( L \\) and the width of each of the other two sides as \\( W \\). Since the total length of the fencing is 100 meters, we can write the equation for the perimeter as follows:\n",
      "\n",
      "\\[ L + 2W = 100 \\]\n",
      "\n",
      "We want to express the area \\( A \\) of the rectangle in terms of one variable. The area \\( A \\) is given by:\n",
      "\n",
      "\\[ A = L \\times W \\]\n",
      "\n",
      "From the perimeter equation, we can solve for \\( L \\):\n",
      "\n",
      "\\[ L = 100 - 2W \\]\n",
      "\n",
      "Now, substitute this expression for \\( L \\) into the area formula:\n",
      "\n",
      "\\[ A = (100 - 2W) \\times W \\]\n",
      "\\[ A = 100W - 2W^2 \\]\n",
      "\n",
      "This is a quadratic equation in terms of \\( W \\), and it represents a downward-opening parabola. The maximum area occurs at the vertex of this parabola. The vertex form of a quadratic equation \\( ax^2 + bx + c \\) has its maximum (or minimum) value at \\( x = -\\frac{b}{2a} \\). Here, \\( a = -2 \\) and \\( b = 100 \\), so:\n",
      "\n",
      "\\[ W = -\\frac{100}{2(-2)} = \\frac{100}{4} = 25 \\]\n",
      "\n",
      "Now that we have \\( W \\), we can find \\( L \\):\n",
      "\n",
      "\\[ L = 100 - 2(25) = 100 - 50 = 50 \\]\n",
      "\n",
      "So, the dimensions that maximize the enclosed area are \\( L = 50 \\) meters and \\( W = 25 \\) meters. The maximum possible area is:\n",
      "\n",
      "\\[ A = L \\times W = 50 \\times 25 = 1250 \\text{ square meters} \\]\n",
      "\n",
      "Therefore, the dimensions that maximize the enclosed area are 50 meters by 25 meters, and the maximum possible area is 1250 square meters.\n",
      "</reasoning>\n",
      "<answer>\n",
      "1250\n",
      "</answer><|endoftext|>\n"
     ]
    }
   ],
   "source": [
    "generated_solution = model.generate(\n",
    "    **tokenizer(math_problem, return_tensors='pt').to('cuda'), \n",
    "    max_new_tokens=512,\n",
    "    pad_token_id=tokenizer.eos_token_id\n",
    ")\n",
    "\n",
    "print('This is output from trained reasoning model!')\n",
    "\n",
    "print(\n",
    "    tokenizer.decode(generated_solution[0]).split('Assistant:')[-1].strip()\n",
    ")"
   ]
  },
  {
   "cell_type": "code",
   "execution_count": 23,
   "id": "85b168cb",
   "metadata": {
    "execution": {
     "iopub.execute_input": "2025-02-10T13:08:38.913510Z",
     "iopub.status.busy": "2025-02-10T13:08:38.913230Z",
     "iopub.status.idle": "2025-02-10T13:08:51.511328Z",
     "shell.execute_reply": "2025-02-10T13:08:51.510585Z"
    },
    "papermill": {
     "duration": 12.807246,
     "end_time": "2025-02-10T13:08:51.512539",
     "exception": false,
     "start_time": "2025-02-10T13:08:38.705293",
     "status": "completed"
    },
    "tags": []
   },
   "outputs": [
    {
     "name": "stderr",
     "output_type": "stream",
     "text": [
      "/usr/local/lib/python3.10/dist-packages/transformers/generation/configuration_utils.py:628: UserWarning: `do_sample` is set to `False`. However, `temperature` is set to `0.6` -- this flag is only used in sample-based generation modes. You should set `do_sample=True` or unset `temperature`.\n",
      "  warnings.warn(\n"
     ]
    },
    {
     "name": "stdout",
     "output_type": "stream",
     "text": [
      "This is output from base model!\n",
      "Reasoning:\n",
      "To maximize the enclosed area of the chicken coop, we need to find the optimal dimensions for the rectangular shape. Since one side of the coop will be against the barn, we only need to consider the three sides that require fencing. Let's denote the length of the side parallel to the barn as L and the width of the sides perpendicular to the barn as W. The total length of the fencing used will be L + 2W = 100 meters.\n",
      "\n",
      "We want to maximize the enclosed area, which is given by A = L * W. We can express L in terms of W using the fencing constraint: L = 100 - 2W. Now, we can substitute this expression for L into the area formula:\n",
      "\n",
      "A = (100 - 2W) * W\n",
      "A = 100W - 2W^2\n",
      "\n",
      "To find the maximum area, we can take the derivative of A with respect to W and set it equal to zero:\n",
      "\n",
      "dA/dW = 100 - 4W = 0\n",
      "4W = 100\n",
      "W = 25\n",
      "\n",
      "Now that we have the value of W, we can find the corresponding value of L:\n",
      "\n",
      "L = 100 - 2W\n",
      "L = 100 - 2(25)\n",
      "L = 50\n",
      "\n",
      "So, the dimensions that maximize the enclosed area are L = 50 meters and W = 25 meters. The maximum possible area is:\n",
      "\n",
      "A = L * W\n",
      "A = 50 * 25\n",
      "A = 1250 square meters\n",
      "\n",
      "Answer: The farmer should choose dimensions of 50 meters by 25 meters to maximize the enclosed area, which is 1250 square meters.<|endoftext|>\n"
     ]
    }
   ],
   "source": [
    "baseline_solution = ref_model.generate(\n",
    "    **tokenizer(math_problem, return_tensors='pt').to('cuda'), \n",
    "    max_new_tokens=512,\n",
    "    temperature=0.6,\n",
    "    pad_token_id=tokenizer.eos_token_id\n",
    ")\n",
    "\n",
    "print('This is output from base model!')\n",
    "\n",
    "print(\n",
    "    tokenizer.decode(baseline_solution[0]).split('Assistant:')[-1].strip()\n",
    ")"
   ]
  },
  {
   "cell_type": "markdown",
   "id": "7f0fb0a4",
   "metadata": {
    "papermill": {
     "duration": 0.20712,
     "end_time": "2025-02-10T13:08:51.931219",
     "exception": false,
     "start_time": "2025-02-10T13:08:51.724099",
     "status": "completed"
    },
    "tags": []
   },
   "source": [
    "# Plotting"
   ]
  },
  {
   "cell_type": "code",
   "execution_count": 24,
   "id": "8a86a767",
   "metadata": {
    "execution": {
     "iopub.execute_input": "2025-02-10T13:08:52.400016Z",
     "iopub.status.busy": "2025-02-10T13:08:52.399676Z",
     "iopub.status.idle": "2025-02-10T13:08:52.403048Z",
     "shell.execute_reply": "2025-02-10T13:08:52.402403Z"
    },
    "papermill": {
     "duration": 0.267099,
     "end_time": "2025-02-10T13:08:52.404069",
     "exception": false,
     "start_time": "2025-02-10T13:08:52.136970",
     "status": "completed"
    },
    "tags": []
   },
   "outputs": [],
   "source": [
    "def moving_average(data, window_size):\n",
    "    return np.convolve(data, np.ones(window_size)/window_size, mode='valid')"
   ]
  },
  {
   "cell_type": "code",
   "execution_count": 25,
   "id": "7677e7df",
   "metadata": {
    "execution": {
     "iopub.execute_input": "2025-02-10T13:08:52.820283Z",
     "iopub.status.busy": "2025-02-10T13:08:52.820020Z",
     "iopub.status.idle": "2025-02-10T13:08:53.481961Z",
     "shell.execute_reply": "2025-02-10T13:08:53.481294Z"
    },
    "papermill": {
     "duration": 0.871238,
     "end_time": "2025-02-10T13:08:53.483068",
     "exception": false,
     "start_time": "2025-02-10T13:08:52.611830",
     "status": "completed"
    },
    "tags": []
   },
   "outputs": [
    {
     "data": {
      "image/png": "[encoded data removed]",
      "text/plain": [
       "<Figure size 640x480 with 1 Axes>"
      ]
     },
     "metadata": {},
     "output_type": "display_data"
    },
    {
     "data": {
      "image/png": "[encoded data removed]",
      "text/plain": [
       "<Figure size 640x480 with 1 Axes>"
      ]
     },
     "metadata": {},
     "output_type": "display_data"
    },
    {
     "data": {
      "image/png": "[encoded data removed]",
      "text/plain": [
       "<Figure size 640x480 with 1 Axes>"
      ]
     },
     "metadata": {},
     "output_type": "display_data"
    }
   ],
   "source": [
    "plt.plot(moving_average(track_format_rewards, window_size=100))\n",
    "plt.title(\"Format rewards\")\n",
    "plt.xlabel(\"Steps\")\n",
    "plt.ylabel(\"Reward\")\n",
    "plt.show()\n",
    "\n",
    "###########\n",
    "plt.plot(moving_average(track_accuracy_rewards, window_size=100))\n",
    "plt.title(\"Accuracy rewards\")\n",
    "plt.xlabel(\"Steps\")\n",
    "plt.ylabel(\"Reward\")\n",
    "plt.show()\n",
    "\n",
    "###########\n",
    "plt.plot(moving_average(total_rewards, window_size=100))\n",
    "plt.title(\"Total rewards\")\n",
    "plt.xlabel(\"Steps\")\n",
    "plt.ylabel(\"Reward\")\n",
    "plt.show()"
   ]
  },
  {
   "cell_type": "markdown",
   "id": "ec729fff",
   "metadata": {
    "papermill": {
     "duration": 0.21039,
     "end_time": "2025-02-10T13:08:53.908781",
     "exception": false,
     "start_time": "2025-02-10T13:08:53.698391",
     "status": "completed"
    },
    "tags": []
   },
   "source": [
    "# Save model"
   ]
  },
  {
   "cell_type": "code",
   "execution_count": 26,
   "id": "f0acaa04",
   "metadata": {
    "execution": {
     "iopub.execute_input": "2025-02-10T13:08:54.334616Z",
     "iopub.status.busy": "2025-02-10T13:08:54.334297Z",
     "iopub.status.idle": "2025-02-10T13:08:58.085182Z",
     "shell.execute_reply": "2025-02-10T13:08:58.084435Z"
    },
    "papermill": {
     "duration": 3.967178,
     "end_time": "2025-02-10T13:08:58.086621",
     "exception": false,
     "start_time": "2025-02-10T13:08:54.119443",
     "status": "completed"
    },
    "tags": []
   },
   "outputs": [],
   "source": [
    "model.eval()\n",
    "torch.save(model.state_dict(), 'finetuned_weights.pth')"
   ]
  },
  {
   "cell_type": "code",
   "execution_count": null,
   "id": "75ee40c1",
   "metadata": {
    "papermill": {
     "duration": 0.209398,
     "end_time": "2025-02-10T13:08:58.510677",
     "exception": false,
     "start_time": "2025-02-10T13:08:58.301279",
     "status": "completed"
    },
    "tags": []
   },
   "outputs": [],
   "source": []
  }
 ],
 "metadata": {
  "kaggle": {
   "accelerator": "nvidiaL4",
   "dataSources": [
    {
     "databundleVersionId": 10369658,
     "sourceId": 83035,
     "sourceType": "competition"
    },
    {
     "databundleVersionId": 10934030,
     "sourceId": 84795,
     "sourceType": "competition"
    },
    {
     "isSourceIdPinned": true,
     "modelId": 164048,
     "modelInstanceId": 141432,
     "sourceId": 166218,
     "sourceType": "modelInstanceVersion"
    },
    {
     "isSourceIdPinned": true,
     "modelId": 164048,
     "modelInstanceId": 141456,
     "sourceId": 166243,
     "sourceType": "modelInstanceVersion"
    }
   ],
   "dockerImageVersionId": 30886,
   "isGpuEnabled": true,
   "isInternetEnabled": true,
   "language": "python",
   "sourceType": "notebook"
  },
  "kernelspec": {
   "display_name": "Python 3",
   "language": "python",
   "name": "python3"
  },
  "language_info": {
   "codemirror_mode": {
    "name": "ipython",
    "version": 3
   },
   "file_extension": ".py",
   "mimetype": "text/x-python",
   "name": "python",
   "nbconvert_exporter": "python",
   "pygments_lexer": "ipython3",
   "version": "3.10.12"
  },
  "papermill": {
   "default_parameters": {},
   "duration": 10985.926981,
   "end_time": "2025-02-10T13:09:02.390149",
   "environment_variables": {},
   "exception": null,
   "input_path": "__notebook__.ipynb",
   "output_path": "__notebook__.ipynb",
   "parameters": {},
   "start_time": "2025-02-10T10:05:56.463168",
   "version": "2.6.0"
  },
  "widgets": {
   "application/vnd.jupyter.widget-state+json": {
    "state": {
     "028ecdda5e18493ab7a4dcf7c4dc81f4": {
      "model_module": "@jupyter-widgets/base",
      "model_module_version": "2.0.0",
      "model_name": "LayoutModel",
      "state": {
       "_model_module": "@jupyter-widgets/base",
       "_model_module_version": "2.0.0",
       "_model_name": "LayoutModel",
       "_view_count": null,
       "_view_module": "@jupyter-widgets/base",
       "_view_module_version": "2.0.0",
       "_view_name": "LayoutView",
       "align_content": null,
       "align_items": null,
       "align_self": null,
       "border_bottom": null,
       "border_left": null,
       "border_right": null,
       "border_top": null,
       "bottom": null,
       "display": null,
       "flex": null,
       "flex_flow": null,
       "grid_area": null,
       "grid_auto_columns": null,
       "grid_auto_flow": null,
       "grid_auto_rows": null,
       "grid_column": null,
       "grid_gap": null,
       "grid_row": null,
       "grid_template_areas": null,
       "grid_template_columns": null,
       "grid_template_rows": null,
       "height": null,
       "justify_content": null,
       "justify_items": null,
       "left": null,
       "margin": null,
       "max_height": null,
       "max_width": null,
       "min_height": null,
       "min_width": null,
       "object_fit": null,
       "object_position": null,
       "order": null,
       "overflow": null,
       "padding": null,
       "right": null,
       "top": null,
       "visibility": null,
       "width": null
      }
     },
     "03d68533fecb4e9db124a10b8ad2d551": {
      "model_module": "@jupyter-widgets/controls",
      "model_module_version": "2.0.0",
      "model_name": "HTMLStyleModel",
      "state": {
       "_model_module": "@jupyter-widgets/controls",
       "_model_module_version": "2.0.0",
       "_model_name": "HTMLStyleModel",
       "_view_count": null,
       "_view_module": "@jupyter-widgets/base",
       "_view_module_version": "2.0.0",
       "_view_name": "StyleView",
       "background": null,
       "description_width": "",
       "font_size": null,
       "text_color": null
      }
     },
     "0446ed0e2e5f4ab194dd3e10ab4dada1": {
      "model_module": "@jupyter-widgets/base",
      "model_module_version": "2.0.0",
      "model_name": "LayoutModel",
      "state": {
       "_model_module": "@jupyter-widgets/base",
       "_model_module_version": "2.0.0",
       "_model_name": "LayoutModel",
       "_view_count": null,
       "_view_module": "@jupyter-widgets/base",
       "_view_module_version": "2.0.0",
       "_view_name": "LayoutView",
       "align_content": null,
       "align_items": null,
       "align_self": null,
       "border_bottom": null,
       "border_left": null,
       "border_right": null,
       "border_top": null,
       "bottom": null,
       "display": null,
       "flex": null,
       "flex_flow": null,
       "grid_area": null,
       "grid_auto_columns": null,
       "grid_auto_flow": null,
       "grid_auto_rows": null,
       "grid_column": null,
       "grid_gap": null,
       "grid_row": null,
       "grid_template_areas": null,
       "grid_template_columns": null,
       "grid_template_rows": null,
       "height": null,
       "justify_content": null,
       "justify_items": null,
       "left": null,
       "margin": null,
       "max_height": null,
       "max_width": null,
       "min_height": null,
       "min_width": null,
       "object_fit": null,
       "object_position": null,
       "order": null,
       "overflow": null,
       "padding": null,
       "right": null,
       "top": null,
       "visibility": null,
       "width": null
      }
     },
     "074fed27070c4dfc8e8cd7df659a42f9": {
      "model_module": "@jupyter-widgets/controls",
      "model_module_version": "2.0.0",
      "model_name": "HBoxModel",
      "state": {
       "_dom_classes": [],
       "_model_module": "@jupyter-widgets/controls",
       "_model_module_version": "2.0.0",
       "_model_name": "HBoxModel",
       "_view_count": null,
       "_view_module": "@jupyter-widgets/controls",
       "_view_module_version": "2.0.0",
       "_view_name": "HBoxView",
       "box_style": "",
       "children": [
        "IPY_MODEL_572da95a7575431d87e4d87df4c4e7f9",
        "IPY_MODEL_17674121a9ee4d8085d5c199e8a3f1f2",
        "IPY_MODEL_10ce42d599a0445881b7baf58db6686e"
       ],
       "layout": "IPY_MODEL_ab5eb8b0ff4a42f8b6baa97ba18d0268",
       "tabbable": null,
       "tooltip": null
      }
     },
     "088810fb15014a3891df60e8a162953e": {
      "model_module": "@jupyter-widgets/controls",
      "model_module_version": "2.0.0",
      "model_name": "HTMLStyleModel",
      "state": {
       "_model_module": "@jupyter-widgets/controls",
       "_model_module_version": "2.0.0",
       "_model_name": "HTMLStyleModel",
       "_view_count": null,
       "_view_module": "@jupyter-widgets/base",
       "_view_module_version": "2.0.0",
       "_view_name": "StyleView",
       "background": null,
       "description_width": "",
       "font_size": null,
       "text_color": null
      }
     },
     "08f6ba1a9436465287cd59fa4f164d82": {
      "model_module": "@jupyter-widgets/base",
      "model_module_version": "2.0.0",
      "model_name": "LayoutModel",
      "state": {
       "_model_module": "@jupyter-widgets/base",
       "_model_module_version": "2.0.0",
       "_model_name": "LayoutModel",
       "_view_count": null,
       "_view_module": "@jupyter-widgets/base",
       "_view_module_version": "2.0.0",
       "_view_name": "LayoutView",
       "align_content": null,
       "align_items": null,
       "align_self": null,
       "border_bottom": null,
       "border_left": null,
       "border_right": null,
       "border_top": null,
       "bottom": null,
       "display": null,
       "flex": null,
       "flex_flow": null,
       "grid_area": null,
       "grid_auto_columns": null,
       "grid_auto_flow": null,
       "grid_auto_rows": null,
       "grid_column": null,
       "grid_gap": null,
       "grid_row": null,
       "grid_template_areas": null,
       "grid_template_columns": null,
       "grid_template_rows": null,
       "height": null,
       "justify_content": null,
       "justify_items": null,
       "left": null,
       "margin": null,
       "max_height": null,
       "max_width": null,
       "min_height": null,
       "min_width": null,
       "object_fit": null,
       "object_position": null,
       "order": null,
       "overflow": null,
       "padding": null,
       "right": null,
       "top": null,
       "visibility": null,
       "width": null
      }
     },
     "09cd178718824a58bc7a0c4fd718e5a4": {
      "model_module": "@jupyter-widgets/base",
      "model_module_version": "2.0.0",
      "model_name": "LayoutModel",
      "state": {
       "_model_module": "@jupyter-widgets/base",
       "_model_module_version": "2.0.0",
       "_model_name": "LayoutModel",
       "_view_count": null,
       "_view_module": "@jupyter-widgets/base",
       "_view_module_version": "2.0.0",
       "_view_name": "LayoutView",
       "align_content": null,
       "align_items": null,
       "align_self": null,
       "border_bottom": null,
       "border_left": null,
       "border_right": null,
       "border_top": null,
       "bottom": null,
       "display": null,
       "flex": null,
       "flex_flow": null,
       "grid_area": null,
       "grid_auto_columns": null,
       "grid_auto_flow": null,
       "grid_auto_rows": null,
       "grid_column": null,
       "grid_gap": null,
       "grid_row": null,
       "grid_template_areas": null,
       "grid_template_columns": null,
       "grid_template_rows": null,
       "height": null,
       "justify_content": null,
       "justify_items": null,
       "left": null,
       "margin": null,
       "max_height": null,
       "max_width": null,
       "min_height": null,
       "min_width": null,
       "object_fit": null,
       "object_position": null,
       "order": null,
       "overflow": null,
       "padding": null,
       "right": null,
       "top": null,
       "visibility": null,
       "width": null
      }
     },
     "0a8c58dbb74c4a85b3038b8732a8ba2b": {
      "model_module": "@jupyter-widgets/controls",
      "model_module_version": "2.0.0",
      "model_name": "HTMLModel",
      "state": {
       "_dom_classes": [],
       "_model_module": "@jupyter-widgets/controls",
       "_model_module_version": "2.0.0",
       "_model_name": "HTMLModel",
       "_view_count": null,
       "_view_module": "@jupyter-widgets/controls",
       "_view_module_version": "2.0.0",
       "_view_name": "HTMLView",
       "description": "",
       "description_allow_html": false,
       "layout": "IPY_MODEL_47e6735912fe4d4d9b66808b1cb56a9d",
       "placeholder": "​",
       "style": "IPY_MODEL_c90a7b318a2b416c9b54117c8d319ae2",
       "tabbable": null,
       "tooltip": null,
       "value": " 7.03M/7.03M [00:00&lt;00:00, 63.6MB/s]"
      }
     },
     "0c4a308951e3420397d6da5e4275954f": {
      "model_module": "@jupyter-widgets/controls",
      "model_module_version": "2.0.0",
      "model_name": "HTMLModel",
      "state": {
       "_dom_classes": [],
       "_model_module": "@jupyter-widgets/controls",
       "_model_module_version": "2.0.0",
       "_model_name": "HTMLModel",
       "_view_count": null,
       "_view_module": "@jupyter-widgets/controls",
       "_view_module_version": "2.0.0",
       "_view_name": "HTMLView",
       "description": "",
       "description_allow_html": false,
       "layout": "IPY_MODEL_e9e4954642ad422d868cf500bd1b1d33",
       "placeholder": "​",
       "style": "IPY_MODEL_2eb43e26f7bc45f89c011eca35714f5a",
       "tabbable": null,
       "tooltip": null,
       "value": "config.json: 100%"
      }
     },
     "0c68ed8cb94f437cae28d89551b5f751": {
      "model_module": "@jupyter-widgets/controls",
      "model_module_version": "2.0.0",
      "model_name": "ProgressStyleModel",
      "state": {
       "_model_module": "@jupyter-widgets/controls",
       "_model_module_version": "2.0.0",
       "_model_name": "ProgressStyleModel",
       "_view_count": null,
       "_view_module": "@jupyter-widgets/base",
       "_view_module_version": "2.0.0",
       "_view_name": "StyleView",
       "bar_color": null,
       "description_width": ""
      }
     },
     "0e996cb3830e4f98b73a27093a87476c": {
      "model_module": "@jupyter-widgets/base",
      "model_module_version": "2.0.0",
      "model_name": "LayoutModel",
      "state": {
       "_model_module": "@jupyter-widgets/base",
       "_model_module_version": "2.0.0",
       "_model_name": "LayoutModel",
       "_view_count": null,
       "_view_module": "@jupyter-widgets/base",
       "_view_module_version": "2.0.0",
       "_view_name": "LayoutView",
       "align_content": null,
       "align_items": null,
       "align_self": null,
       "border_bottom": null,
       "border_left": null,
       "border_right": null,
       "border_top": null,
       "bottom": null,
       "display": null,
       "flex": null,
       "flex_flow": null,
       "grid_area": null,
       "grid_auto_columns": null,
       "grid_auto_flow": null,
       "grid_auto_rows": null,
       "grid_column": null,
       "grid_gap": null,
       "grid_row": null,
       "grid_template_areas": null,
       "grid_template_columns": null,
       "grid_template_rows": null,
       "height": null,
       "justify_content": null,
       "justify_items": null,
       "left": null,
       "margin": null,
       "max_height": null,
       "max_width": null,
       "min_height": null,
       "min_width": null,
       "object_fit": null,
       "object_position": null,
       "order": null,
       "overflow": null,
       "padding": null,
       "right": null,
       "top": null,
       "visibility": null,
       "width": null
      }
     },
     "0f2c428b368b438b90c23222f8fec64a": {
      "model_module": "@jupyter-widgets/controls",
      "model_module_version": "2.0.0",
      "model_name": "HTMLModel",
      "state": {
       "_dom_classes": [],
       "_model_module": "@jupyter-widgets/controls",
       "_model_module_version": "2.0.0",
       "_model_name": "HTMLModel",
       "_view_count": null,
       "_view_module": "@jupyter-widgets/controls",
       "_view_module_version": "2.0.0",
       "_view_name": "HTMLView",
       "description": "",
       "description_allow_html": false,
       "layout": "IPY_MODEL_7f2b8c7f06174598a9c523354ba881ef",
       "placeholder": "​",
       "style": "IPY_MODEL_fb4875bdaf434320ae3ada70d4ad677b",
       "tabbable": null,
       "tooltip": null,
       "value": "generation_config.json: 100%"
      }
     },
     "10ce42d599a0445881b7baf58db6686e": {
      "model_module": "@jupyter-widgets/controls",
      "model_module_version": "2.0.0",
      "model_name": "HTMLModel",
      "state": {
       "_dom_classes": [],
       "_model_module": "@jupyter-widgets/controls",
       "_model_module_version": "2.0.0",
       "_model_name": "HTMLModel",
       "_view_count": null,
       "_view_module": "@jupyter-widgets/controls",
       "_view_module_version": "2.0.0",
       "_view_name": "HTMLView",
       "description": "",
       "description_allow_html": false,
       "layout": "IPY_MODEL_0446ed0e2e5f4ab194dd3e10ab4dada1",
       "placeholder": "​",
       "style": "IPY_MODEL_b4791bfdf8854b3db663f19ba2121f94",
       "tabbable": null,
       "tooltip": null,
       "value": " 2.78M/2.78M [00:00&lt;00:00, 29.1MB/s]"
      }
     },
     "11ade77c91c249e28a3755ca6cb85ac6": {
      "model_module": "@jupyter-widgets/base",
      "model_module_version": "2.0.0",
      "model_name": "LayoutModel",
      "state": {
       "_model_module": "@jupyter-widgets/base",
       "_model_module_version": "2.0.0",
       "_model_name": "LayoutModel",
       "_view_count": null,
       "_view_module": "@jupyter-widgets/base",
       "_view_module_version": "2.0.0",
       "_view_name": "LayoutView",
       "align_content": null,
       "align_items": null,
       "align_self": null,
       "border_bottom": null,
       "border_left": null,
       "border_right": null,
       "border_top": null,
       "bottom": null,
       "display": null,
       "flex": null,
       "flex_flow": null,
       "grid_area": null,
       "grid_auto_columns": null,
       "grid_auto_flow": null,
       "grid_auto_rows": null,
       "grid_column": null,
       "grid_gap": null,
       "grid_row": null,
       "grid_template_areas": null,
       "grid_template_columns": null,
       "grid_template_rows": null,
       "height": null,
       "justify_content": null,
       "justify_items": null,
       "left": null,
       "margin": null,
       "max_height": null,
       "max_width": null,
       "min_height": null,
       "min_width": null,
       "object_fit": null,
       "object_position": null,
       "order": null,
       "overflow": null,
       "padding": null,
       "right": null,
       "top": null,
       "visibility": null,
       "width": null
      }
     },
     "17674121a9ee4d8085d5c199e8a3f1f2": {
      "model_module": "@jupyter-widgets/controls",
      "model_module_version": "2.0.0",
      "model_name": "FloatProgressModel",
      "state": {
       "_dom_classes": [],
       "_model_module": "@jupyter-widgets/controls",
       "_model_module_version": "2.0.0",
       "_model_name": "FloatProgressModel",
       "_view_count": null,
       "_view_module": "@jupyter-widgets/controls",
       "_view_module_version": "2.0.0",
       "_view_name": "ProgressView",
       "bar_style": "success",
       "description": "",
       "description_allow_html": false,
       "layout": "IPY_MODEL_24e388da0d03401fb4efefff5ecfd00a",
       "max": 2776833.0,
       "min": 0.0,
       "orientation": "horizontal",
       "style": "IPY_MODEL_4604d5180d7a41c2b8e511b4e4bc9407",
       "tabbable": null,
       "tooltip": null,
       "value": 2776833.0
      }
     },
     "24e388da0d03401fb4efefff5ecfd00a": {
      "model_module": "@jupyter-widgets/base",
      "model_module_version": "2.0.0",
      "model_name": "LayoutModel",
      "state": {
       "_model_module": "@jupyter-widgets/base",
       "_model_module_version": "2.0.0",
       "_model_name": "LayoutModel",
       "_view_count": null,
       "_view_module": "@jupyter-widgets/base",
       "_view_module_version": "2.0.0",
       "_view_name": "LayoutView",
       "align_content": null,
       "align_items": null,
       "align_self": null,
       "border_bottom": null,
       "border_left": null,
       "border_right": null,
       "border_top": null,
       "bottom": null,
       "display": null,
       "flex": null,
       "flex_flow": null,
       "grid_area": null,
       "grid_auto_columns": null,
       "grid_auto_flow": null,
       "grid_auto_rows": null,
       "grid_column": null,
       "grid_gap": null,
       "grid_row": null,
       "grid_template_areas": null,
       "grid_template_columns": null,
       "grid_template_rows": null,
       "height": null,
       "justify_content": null,
       "justify_items": null,
       "left": null,
       "margin": null,
       "max_height": null,
       "max_width": null,
       "min_height": null,
       "min_width": null,
       "object_fit": null,
       "object_position": null,
       "order": null,
       "overflow": null,
       "padding": null,
       "right": null,
       "top": null,
       "visibility": null,
       "width": null
      }
     },
     "28e9e67e7c7f4b8fb1adfece8d988285": {
      "model_module": "@jupyter-widgets/controls",
      "model_module_version": "2.0.0",
      "model_name": "FloatProgressModel",
      "state": {
       "_dom_classes": [],
       "_model_module": "@jupyter-widgets/controls",
       "_model_module_version": "2.0.0",
       "_model_name": "FloatProgressModel",
       "_view_count": null,
       "_view_module": "@jupyter-widgets/controls",
       "_view_module_version": "2.0.0",
       "_view_name": "ProgressView",
       "bar_style": "success",
       "description": "",
       "description_allow_html": false,
       "layout": "IPY_MODEL_e267dd81bb924e0aa44f3e55a4676fe3",
       "max": 7228.0,
       "min": 0.0,
       "orientation": "horizontal",
       "style": "IPY_MODEL_3858115afe664d9b99ed3b6c68d6bc4a",
       "tabbable": null,
       "tooltip": null,
       "value": 7228.0
      }
     },
     "293911de84c24f86a8adf5cb3dbe50c0": {
      "model_module": "@jupyter-widgets/controls",
      "model_module_version": "2.0.0",
      "model_name": "HTMLModel",
      "state": {
       "_dom_classes": [],
       "_model_module": "@jupyter-widgets/controls",
       "_model_module_version": "2.0.0",
       "_model_name": "HTMLModel",
       "_view_count": null,
       "_view_module": "@jupyter-widgets/controls",
       "_view_module_version": "2.0.0",
       "_view_name": "HTMLView",
       "description": "",
       "description_allow_html": false,
       "layout": "IPY_MODEL_4c1b28dd7aeb432d9383202b5251d4ca",
       "placeholder": "​",
       "style": "IPY_MODEL_766df1e5a20e47bb872ea92a22d2ebe9",
       "tabbable": null,
       "tooltip": null,
       "value": "train-00000-of-00001.parquet: 100%"
      }
     },
     "2a4a1bd1519443a88bdfff5e025fc68c": {
      "model_module": "@jupyter-widgets/controls",
      "model_module_version": "2.0.0",
      "model_name": "HTMLStyleModel",
      "state": {
       "_model_module": "@jupyter-widgets/controls",
       "_model_module_version": "2.0.0",
       "_model_name": "HTMLStyleModel",
       "_view_count": null,
       "_view_module": "@jupyter-widgets/base",
       "_view_module_version": "2.0.0",
       "_view_name": "StyleView",
       "background": null,
       "description_width": "",
       "font_size": null,
       "text_color": null
      }
     },
     "2cfcff7598104e5ea4f1eb9a240040ea": {
      "model_module": "@jupyter-widgets/base",
      "model_module_version": "2.0.0",
      "model_name": "LayoutModel",
      "state": {
       "_model_module": "@jupyter-widgets/base",
       "_model_module_version": "2.0.0",
       "_model_name": "LayoutModel",
       "_view_count": null,
       "_view_module": "@jupyter-widgets/base",
       "_view_module_version": "2.0.0",
       "_view_name": "LayoutView",
       "align_content": null,
       "align_items": null,
       "align_self": null,
       "border_bottom": null,
       "border_left": null,
       "border_right": null,
       "border_top": null,
       "bottom": null,
       "display": null,
       "flex": null,
       "flex_flow": null,
       "grid_area": null,
       "grid_auto_columns": null,
       "grid_auto_flow": null,
       "grid_auto_rows": null,
       "grid_column": null,
       "grid_gap": null,
       "grid_row": null,
       "grid_template_areas": null,
       "grid_template_columns": null,
       "grid_template_rows": null,
       "height": null,
       "justify_content": null,
       "justify_items": null,
       "left": null,
       "margin": null,
       "max_height": null,
       "max_width": null,
       "min_height": null,
       "min_width": null,
       "object_fit": null,
       "object_position": null,
       "order": null,
       "overflow": null,
       "padding": null,
       "right": null,
       "top": null,
       "visibility": null,
       "width": null
      }
     },
     "2eb43e26f7bc45f89c011eca35714f5a": {
      "model_module": "@jupyter-widgets/controls",
      "model_module_version": "2.0.0",
      "model_name": "HTMLStyleModel",
      "state": {
       "_model_module": "@jupyter-widgets/controls",
       "_model_module_version": "2.0.0",
       "_model_name": "HTMLStyleModel",
       "_view_count": null,
       "_view_module": "@jupyter-widgets/base",
       "_view_module_version": "2.0.0",
       "_view_name": "StyleView",
       "background": null,
       "description_width": "",
       "font_size": null,
       "text_color": null
      }
     },
     "305ab218db5c4d2bbd68378ef1ee0c11": {
      "model_module": "@jupyter-widgets/controls",
      "model_module_version": "2.0.0",
      "model_name": "HTMLModel",
      "state": {
       "_dom_classes": [],
       "_model_module": "@jupyter-widgets/controls",
       "_model_module_version": "2.0.0",
       "_model_name": "HTMLModel",
       "_view_count": null,
       "_view_module": "@jupyter-widgets/controls",
       "_view_module_version": "2.0.0",
       "_view_name": "HTMLView",
       "description": "",
       "description_allow_html": false,
       "layout": "IPY_MODEL_5e3548bebca84984a30ae56bb1a4153d",
       "placeholder": "​",
       "style": "IPY_MODEL_89806adf999048a2bfca31b0ac277ad8",
       "tabbable": null,
       "tooltip": null,
       "value": "tokenizer_config.json: 100%"
      }
     },
     "31730d79ba9e49478b9cfd739db7241d": {
      "model_module": "@jupyter-widgets/controls",
      "model_module_version": "2.0.0",
      "model_name": "HBoxModel",
      "state": {
       "_dom_classes": [],
       "_model_module": "@jupyter-widgets/controls",
       "_model_module_version": "2.0.0",
       "_model_name": "HBoxModel",
       "_view_count": null,
       "_view_module": "@jupyter-widgets/controls",
       "_view_module_version": "2.0.0",
       "_view_name": "HBoxView",
       "box_style": "",
       "children": [
        "IPY_MODEL_64866c53dfe9475db9700e768ef27412",
        "IPY_MODEL_3c930af74cd6490d9fda5edd3f196ed9",
        "IPY_MODEL_0a8c58dbb74c4a85b3038b8732a8ba2b"
       ],
       "layout": "IPY_MODEL_028ecdda5e18493ab7a4dcf7c4dc81f4",
       "tabbable": null,
       "tooltip": null
      }
     },
     "33910c79cd7a4d48a57f1ef4a6961deb": {
      "model_module": "@jupyter-widgets/controls",
      "model_module_version": "2.0.0",
      "model_name": "HTMLStyleModel",
      "state": {
       "_model_module": "@jupyter-widgets/controls",
       "_model_module_version": "2.0.0",
       "_model_name": "HTMLStyleModel",
       "_view_count": null,
       "_view_module": "@jupyter-widgets/base",
       "_view_module_version": "2.0.0",
       "_view_name": "StyleView",
       "background": null,
       "description_width": "",
       "font_size": null,
       "text_color": null
      }
     },
     "3858115afe664d9b99ed3b6c68d6bc4a": {
      "model_module": "@jupyter-widgets/controls",
      "model_module_version": "2.0.0",
      "model_name": "ProgressStyleModel",
      "state": {
       "_model_module": "@jupyter-widgets/controls",
       "_model_module_version": "2.0.0",
       "_model_name": "ProgressStyleModel",
       "_view_count": null,
       "_view_module": "@jupyter-widgets/base",
       "_view_module_version": "2.0.0",
       "_view_name": "StyleView",
       "bar_color": null,
       "description_width": ""
      }
     },
     "39883612a4d44b799d2961301ae8ab05": {
      "model_module": "@jupyter-widgets/controls",
      "model_module_version": "2.0.0",
      "model_name": "FloatProgressModel",
      "state": {
       "_dom_classes": [],
       "_model_module": "@jupyter-widgets/controls",
       "_model_module_version": "2.0.0",
       "_model_name": "FloatProgressModel",
       "_view_count": null,
       "_view_module": "@jupyter-widgets/controls",
       "_view_module_version": "2.0.0",
       "_view_name": "ProgressView",
       "bar_style": "success",
       "description": "",
       "description_allow_html": false,
       "layout": "IPY_MODEL_d23ea3848e8548fb87fc8b6372a1bded",
       "max": 1319.0,
       "min": 0.0,
       "orientation": "horizontal",
       "style": "IPY_MODEL_c3e439a47f10477db68dd11f5fd497a4",
       "tabbable": null,
       "tooltip": null,
       "value": 1319.0
      }
     },
     "39b9865dd75e46808f2bbd4412c0708c": {
      "model_module": "@jupyter-widgets/controls",
      "model_module_version": "2.0.0",
      "model_name": "ProgressStyleModel",
      "state": {
       "_model_module": "@jupyter-widgets/controls",
       "_model_module_version": "2.0.0",
       "_model_name": "ProgressStyleModel",
       "_view_count": null,
       "_view_module": "@jupyter-widgets/base",
       "_view_module_version": "2.0.0",
       "_view_name": "StyleView",
       "bar_color": null,
       "description_width": ""
      }
     },
     "3bc834e4eea843ddb55d3be6061837c2": {
      "model_module": "@jupyter-widgets/controls",
      "model_module_version": "2.0.0",
      "model_name": "FloatProgressModel",
      "state": {
       "_dom_classes": [],
       "_model_module": "@jupyter-widgets/controls",
       "_model_module_version": "2.0.0",
       "_model_name": "FloatProgressModel",
       "_view_count": null,
       "_view_module": "@jupyter-widgets/controls",
       "_view_module_version": "2.0.0",
       "_view_name": "ProgressView",
       "bar_style": "success",
       "description": "",
       "description_allow_html": false,
       "layout": "IPY_MODEL_c4dd1d65b0ba4e458a4ac566fd0089bb",
       "max": 3087467144.0,
       "min": 0.0,
       "orientation": "horizontal",
       "style": "IPY_MODEL_8072a6fdcab8467e88fbe931257b0904",
       "tabbable": null,
       "tooltip": null,
       "value": 3087467144.0
      }
     },
     "3c930af74cd6490d9fda5edd3f196ed9": {
      "model_module": "@jupyter-widgets/controls",
      "model_module_version": "2.0.0",
      "model_name": "FloatProgressModel",
      "state": {
       "_dom_classes": [],
       "_model_module": "@jupyter-widgets/controls",
       "_model_module_version": "2.0.0",
       "_model_name": "FloatProgressModel",
       "_view_count": null,
       "_view_module": "@jupyter-widgets/controls",
       "_view_module_version": "2.0.0",
       "_view_name": "ProgressView",
       "bar_style": "success",
       "description": "",
       "description_allow_html": false,
       "layout": "IPY_MODEL_feb3c3d79ea149888575aea7236c4c9e",
       "max": 7031645.0,
       "min": 0.0,
       "orientation": "horizontal",
       "style": "IPY_MODEL_41a9f8064abc4e368c3b1b5bc56cd92c",
       "tabbable": null,
       "tooltip": null,
       "value": 7031645.0
      }
     },
     "3d3397848ac74db594443eeb23a546de": {
      "model_module": "@jupyter-widgets/controls",
      "model_module_version": "2.0.0",
      "model_name": "HTMLModel",
      "state": {
       "_dom_classes": [],
       "_model_module": "@jupyter-widgets/controls",
       "_model_module_version": "2.0.0",
       "_model_name": "HTMLModel",
       "_view_count": null,
       "_view_module": "@jupyter-widgets/controls",
       "_view_module_version": "2.0.0",
       "_view_name": "HTMLView",
       "description": "",
       "description_allow_html": false,
       "layout": "IPY_MODEL_b141b02504b946a1a35c3da8d19c9243",
       "placeholder": "​",
       "style": "IPY_MODEL_cafc6a48e9e445e583ce73cf9eb92197",
       "tabbable": null,
       "tooltip": null,
       "value": " 138/138 [00:00&lt;00:00, 15.3kB/s]"
      }
     },
     "3e4dd04206b04cffb50a177f2b34bbde": {
      "model_module": "@jupyter-widgets/controls",
      "model_module_version": "2.0.0",
      "model_name": "HBoxModel",
      "state": {
       "_dom_classes": [],
       "_model_module": "@jupyter-widgets/controls",
       "_model_module_version": "2.0.0",
       "_model_name": "HBoxModel",
       "_view_count": null,
       "_view_module": "@jupyter-widgets/controls",
       "_view_module_version": "2.0.0",
       "_view_name": "HBoxView",
       "box_style": "",
       "children": [
        "IPY_MODEL_b8fbaf2ceed84c7c885a7b3d0f26a92b",
        "IPY_MODEL_bd42d795771a4e57afced3ae8c51622d",
        "IPY_MODEL_779839a5920943279e7c3da4662e3629"
       ],
       "layout": "IPY_MODEL_b8fcf9e056a7428da76d5cb433323c59",
       "tabbable": null,
       "tooltip": null
      }
     },
     "3f326250a3094277a12a8411d647c925": {
      "model_module": "@jupyter-widgets/base",
      "model_module_version": "2.0.0",
      "model_name": "LayoutModel",
      "state": {
       "_model_module": "@jupyter-widgets/base",
       "_model_module_version": "2.0.0",
       "_model_name": "LayoutModel",
       "_view_count": null,
       "_view_module": "@jupyter-widgets/base",
       "_view_module_version": "2.0.0",
       "_view_name": "LayoutView",
       "align_content": null,
       "align_items": null,
       "align_self": null,
       "border_bottom": null,
       "border_left": null,
       "border_right": null,
       "border_top": null,
       "bottom": null,
       "display": null,
       "flex": null,
       "flex_flow": null,
       "grid_area": null,
       "grid_auto_columns": null,
       "grid_auto_flow": null,
       "grid_auto_rows": null,
       "grid_column": null,
       "grid_gap": null,
       "grid_row": null,
       "grid_template_areas": null,
       "grid_template_columns": null,
       "grid_template_rows": null,
       "height": null,
       "justify_content": null,
       "justify_items": null,
       "left": null,
       "margin": null,
       "max_height": null,
       "max_width": null,
       "min_height": null,
       "min_width": null,
       "object_fit": null,
       "object_position": null,
       "order": null,
       "overflow": null,
       "padding": null,
       "right": null,
       "top": null,
       "visibility": null,
       "width": null
      }
     },
     "40ae0d551449497999d5f914e1ee36be": {
      "model_module": "@jupyter-widgets/base",
      "model_module_version": "2.0.0",
      "model_name": "LayoutModel",
      "state": {
       "_model_module": "@jupyter-widgets/base",
       "_model_module_version": "2.0.0",
       "_model_name": "LayoutModel",
       "_view_count": null,
       "_view_module": "@jupyter-widgets/base",
       "_view_module_version": "2.0.0",
       "_view_name": "LayoutView",
       "align_content": null,
       "align_items": null,
       "align_self": null,
       "border_bottom": null,
       "border_left": null,
       "border_right": null,
       "border_top": null,
       "bottom": null,
       "display": null,
       "flex": null,
       "flex_flow": null,
       "grid_area": null,
       "grid_auto_columns": null,
       "grid_auto_flow": null,
       "grid_auto_rows": null,
       "grid_column": null,
       "grid_gap": null,
       "grid_row": null,
       "grid_template_areas": null,
       "grid_template_columns": null,
       "grid_template_rows": null,
       "height": null,
       "justify_content": null,
       "justify_items": null,
       "left": null,
       "margin": null,
       "max_height": null,
       "max_width": null,
       "min_height": null,
       "min_width": null,
       "object_fit": null,
       "object_position": null,
       "order": null,
       "overflow": null,
       "padding": null,
       "right": null,
       "top": null,
       "visibility": null,
       "width": null
      }
     },
     "41a9f8064abc4e368c3b1b5bc56cd92c": {
      "model_module": "@jupyter-widgets/controls",
      "model_module_version": "2.0.0",
      "model_name": "ProgressStyleModel",
      "state": {
       "_model_module": "@jupyter-widgets/controls",
       "_model_module_version": "2.0.0",
       "_model_name": "ProgressStyleModel",
       "_view_count": null,
       "_view_module": "@jupyter-widgets/base",
       "_view_module_version": "2.0.0",
       "_view_name": "StyleView",
       "bar_color": null,
       "description_width": ""
      }
     },
     "45225fb4c86d47eda92757a17293d8a9": {
      "model_module": "@jupyter-widgets/controls",
      "model_module_version": "2.0.0",
      "model_name": "FloatProgressModel",
      "state": {
       "_dom_classes": [],
       "_model_module": "@jupyter-widgets/controls",
       "_model_module_version": "2.0.0",
       "_model_name": "FloatProgressModel",
       "_view_count": null,
       "_view_module": "@jupyter-widgets/controls",
       "_view_module_version": "2.0.0",
       "_view_name": "ProgressView",
       "bar_style": "success",
       "description": "",
       "description_allow_html": false,
       "layout": "IPY_MODEL_cffd791ae7944a1286c7b7188d49a758",
       "max": 684.0,
       "min": 0.0,
       "orientation": "horizontal",
       "style": "IPY_MODEL_39b9865dd75e46808f2bbd4412c0708c",
       "tabbable": null,
       "tooltip": null,
       "value": 684.0
      }
     },
     "455cd17806624e23ad258d2a70308ff9": {
      "model_module": "@jupyter-widgets/controls",
      "model_module_version": "2.0.0",
      "model_name": "HBoxModel",
      "state": {
       "_dom_classes": [],
       "_model_module": "@jupyter-widgets/controls",
       "_model_module_version": "2.0.0",
       "_model_name": "HBoxModel",
       "_view_count": null,
       "_view_module": "@jupyter-widgets/controls",
       "_view_module_version": "2.0.0",
       "_view_name": "HBoxView",
       "box_style": "",
       "children": [
        "IPY_MODEL_293911de84c24f86a8adf5cb3dbe50c0",
        "IPY_MODEL_97b286e70c4c41218faaf1b7bf0ede34",
        "IPY_MODEL_69ee93437d08450cbd0d260fefbb525b"
       ],
       "layout": "IPY_MODEL_8756b5c0472b440e9d29fb5161ff1528",
       "tabbable": null,
       "tooltip": null
      }
     },
     "4604d5180d7a41c2b8e511b4e4bc9407": {
      "model_module": "@jupyter-widgets/controls",
      "model_module_version": "2.0.0",
      "model_name": "ProgressStyleModel",
      "state": {
       "_model_module": "@jupyter-widgets/controls",
       "_model_module_version": "2.0.0",
       "_model_name": "ProgressStyleModel",
       "_view_count": null,
       "_view_module": "@jupyter-widgets/base",
       "_view_module_version": "2.0.0",
       "_view_name": "StyleView",
       "bar_color": null,
       "description_width": ""
      }
     },
     "47e6735912fe4d4d9b66808b1cb56a9d": {
      "model_module": "@jupyter-widgets/base",
      "model_module_version": "2.0.0",
      "model_name": "LayoutModel",
      "state": {
       "_model_module": "@jupyter-widgets/base",
       "_model_module_version": "2.0.0",
       "_model_name": "LayoutModel",
       "_view_count": null,
       "_view_module": "@jupyter-widgets/base",
       "_view_module_version": "2.0.0",
       "_view_name": "LayoutView",
       "align_content": null,
       "align_items": null,
       "align_self": null,
       "border_bottom": null,
       "border_left": null,
       "border_right": null,
       "border_top": null,
       "bottom": null,
       "display": null,
       "flex": null,
       "flex_flow": null,
       "grid_area": null,
       "grid_auto_columns": null,
       "grid_auto_flow": null,
       "grid_auto_rows": null,
       "grid_column": null,
       "grid_gap": null,
       "grid_row": null,
       "grid_template_areas": null,
       "grid_template_columns": null,
       "grid_template_rows": null,
       "height": null,
       "justify_content": null,
       "justify_items": null,
       "left": null,
       "margin": null,
       "max_height": null,
       "max_width": null,
       "min_height": null,
       "min_width": null,
       "object_fit": null,
       "object_position": null,
       "order": null,
       "overflow": null,
       "padding": null,
       "right": null,
       "top": null,
       "visibility": null,
       "width": null
      }
     },
     "4846997a0f5a4055a415a543a466d560": {
      "model_module": "@jupyter-widgets/controls",
      "model_module_version": "2.0.0",
      "model_name": "FloatProgressModel",
      "state": {
       "_dom_classes": [],
       "_model_module": "@jupyter-widgets/controls",
       "_model_module_version": "2.0.0",
       "_model_name": "FloatProgressModel",
       "_view_count": null,
       "_view_module": "@jupyter-widgets/controls",
       "_view_module_version": "2.0.0",
       "_view_name": "ProgressView",
       "bar_style": "success",
       "description": "",
       "description_allow_html": false,
       "layout": "IPY_MODEL_f3eabf5c071545b1851809479829041b",
       "max": 7940.0,
       "min": 0.0,
       "orientation": "horizontal",
       "style": "IPY_MODEL_bafba9563443426a906eaf5329c77b1e",
       "tabbable": null,
       "tooltip": null,
       "value": 7940.0
      }
     },
     "4a100c61c23d414dbe4d00add23be74b": {
      "model_module": "@jupyter-widgets/controls",
      "model_module_version": "2.0.0",
      "model_name": "HTMLModel",
      "state": {
       "_dom_classes": [],
       "_model_module": "@jupyter-widgets/controls",
       "_model_module_version": "2.0.0",
       "_model_name": "HTMLModel",
       "_view_count": null,
       "_view_module": "@jupyter-widgets/controls",
       "_view_module_version": "2.0.0",
       "_view_name": "HTMLView",
       "description": "",
       "description_allow_html": false,
       "layout": "IPY_MODEL_5c33185c893c43a7956ca1364f279c74",
       "placeholder": "​",
       "style": "IPY_MODEL_2a4a1bd1519443a88bdfff5e025fc68c",
       "tabbable": null,
       "tooltip": null,
       "value": "merges.txt: 100%"
      }
     },
     "4c1b28dd7aeb432d9383202b5251d4ca": {
      "model_module": "@jupyter-widgets/base",
      "model_module_version": "2.0.0",
      "model_name": "LayoutModel",
      "state": {
       "_model_module": "@jupyter-widgets/base",
       "_model_module_version": "2.0.0",
       "_model_name": "LayoutModel",
       "_view_count": null,
       "_view_module": "@jupyter-widgets/base",
       "_view_module_version": "2.0.0",
       "_view_name": "LayoutView",
       "align_content": null,
       "align_items": null,
       "align_self": null,
       "border_bottom": null,
       "border_left": null,
       "border_right": null,
       "border_top": null,
       "bottom": null,
       "display": null,
       "flex": null,
       "flex_flow": null,
       "grid_area": null,
       "grid_auto_columns": null,
       "grid_auto_flow": null,
       "grid_auto_rows": null,
       "grid_column": null,
       "grid_gap": null,
       "grid_row": null,
       "grid_template_areas": null,
       "grid_template_columns": null,
       "grid_template_rows": null,
       "height": null,
       "justify_content": null,
       "justify_items": null,
       "left": null,
       "margin": null,
       "max_height": null,
       "max_width": null,
       "min_height": null,
       "min_width": null,
       "object_fit": null,
       "object_position": null,
       "order": null,
       "overflow": null,
       "padding": null,
       "right": null,
       "top": null,
       "visibility": null,
       "width": null
      }
     },
     "4c7137c5242248249bbd7130cc9473c4": {
      "model_module": "@jupyter-widgets/base",
      "model_module_version": "2.0.0",
      "model_name": "LayoutModel",
      "state": {
       "_model_module": "@jupyter-widgets/base",
       "_model_module_version": "2.0.0",
       "_model_name": "LayoutModel",
       "_view_count": null,
       "_view_module": "@jupyter-widgets/base",
       "_view_module_version": "2.0.0",
       "_view_name": "LayoutView",
       "align_content": null,
       "align_items": null,
       "align_self": null,
       "border_bottom": null,
       "border_left": null,
       "border_right": null,
       "border_top": null,
       "bottom": null,
       "display": null,
       "flex": null,
       "flex_flow": null,
       "grid_area": null,
       "grid_auto_columns": null,
       "grid_auto_flow": null,
       "grid_auto_rows": null,
       "grid_column": null,
       "grid_gap": null,
       "grid_row": null,
       "grid_template_areas": null,
       "grid_template_columns": null,
       "grid_template_rows": null,
       "height": null,
       "justify_content": null,
       "justify_items": null,
       "left": null,
       "margin": null,
       "max_height": null,
       "max_width": null,
       "min_height": null,
       "min_width": null,
       "object_fit": null,
       "object_position": null,
       "order": null,
       "overflow": null,
       "padding": null,
       "right": null,
       "top": null,
       "visibility": null,
       "width": null
      }
     },
     "4f95f632a5d24e0d9a6f76c7d33c7378": {
      "model_module": "@jupyter-widgets/controls",
      "model_module_version": "2.0.0",
      "model_name": "FloatProgressModel",
      "state": {
       "_dom_classes": [],
       "_model_module": "@jupyter-widgets/controls",
       "_model_module_version": "2.0.0",
       "_model_name": "FloatProgressModel",
       "_view_count": null,
       "_view_module": "@jupyter-widgets/controls",
       "_view_module_version": "2.0.0",
       "_view_name": "ProgressView",
       "bar_style": "success",
       "description": "",
       "description_allow_html": false,
       "layout": "IPY_MODEL_fbc056fa8d8b4b769e08ace2281435b2",
       "max": 138.0,
       "min": 0.0,
       "orientation": "horizontal",
       "style": "IPY_MODEL_ba725e8af72741ea8ea6934703d5e6bf",
       "tabbable": null,
       "tooltip": null,
       "value": 138.0
      }
     },
     "4ff9ecda71034c618d4128ca9dcbf2f2": {
      "model_module": "@jupyter-widgets/controls",
      "model_module_version": "2.0.0",
      "model_name": "HBoxModel",
      "state": {
       "_dom_classes": [],
       "_model_module": "@jupyter-widgets/controls",
       "_model_module_version": "2.0.0",
       "_model_name": "HBoxModel",
       "_view_count": null,
       "_view_module": "@jupyter-widgets/controls",
       "_view_module_version": "2.0.0",
       "_view_name": "HBoxView",
       "box_style": "",
       "children": [
        "IPY_MODEL_77d42402357c4290a66aa763015d05bd",
        "IPY_MODEL_39883612a4d44b799d2961301ae8ab05",
        "IPY_MODEL_7dbfc2be15304fbb996367f803e5587f"
       ],
       "layout": "IPY_MODEL_884ca3bb59ae404e871298e099d7d608",
       "tabbable": null,
       "tooltip": null
      }
     },
     "51e0da686b184ae7a77a21d71f2081c8": {
      "model_module": "@jupyter-widgets/base",
      "model_module_version": "2.0.0",
      "model_name": "LayoutModel",
      "state": {
       "_model_module": "@jupyter-widgets/base",
       "_model_module_version": "2.0.0",
       "_model_name": "LayoutModel",
       "_view_count": null,
       "_view_module": "@jupyter-widgets/base",
       "_view_module_version": "2.0.0",
       "_view_name": "LayoutView",
       "align_content": null,
       "align_items": null,
       "align_self": null,
       "border_bottom": null,
       "border_left": null,
       "border_right": null,
       "border_top": null,
       "bottom": null,
       "display": null,
       "flex": null,
       "flex_flow": null,
       "grid_area": null,
       "grid_auto_columns": null,
       "grid_auto_flow": null,
       "grid_auto_rows": null,
       "grid_column": null,
       "grid_gap": null,
       "grid_row": null,
       "grid_template_areas": null,
       "grid_template_columns": null,
       "grid_template_rows": null,
       "height": null,
       "justify_content": null,
       "justify_items": null,
       "left": null,
       "margin": null,
       "max_height": null,
       "max_width": null,
       "min_height": null,
       "min_width": null,
       "object_fit": null,
       "object_position": null,
       "order": null,
       "overflow": null,
       "padding": null,
       "right": null,
       "top": null,
       "visibility": null,
       "width": null
      }
     },
     "52eabafb3b1e4a3889303a4dfab99710": {
      "model_module": "@jupyter-widgets/controls",
      "model_module_version": "2.0.0",
      "model_name": "HTMLStyleModel",
      "state": {
       "_model_module": "@jupyter-widgets/controls",
       "_model_module_version": "2.0.0",
       "_model_name": "HTMLStyleModel",
       "_view_count": null,
       "_view_module": "@jupyter-widgets/base",
       "_view_module_version": "2.0.0",
       "_view_name": "StyleView",
       "background": null,
       "description_width": "",
       "font_size": null,
       "text_color": null
      }
     },
     "53a470eb515848299dadaf8cfdc1a07b": {
      "model_module": "@jupyter-widgets/base",
      "model_module_version": "2.0.0",
      "model_name": "LayoutModel",
      "state": {
       "_model_module": "@jupyter-widgets/base",
       "_model_module_version": "2.0.0",
       "_model_name": "LayoutModel",
       "_view_count": null,
       "_view_module": "@jupyter-widgets/base",
       "_view_module_version": "2.0.0",
       "_view_name": "LayoutView",
       "align_content": null,
       "align_items": null,
       "align_self": null,
       "border_bottom": null,
       "border_left": null,
       "border_right": null,
       "border_top": null,
       "bottom": null,
       "display": null,
       "flex": null,
       "flex_flow": null,
       "grid_area": null,
       "grid_auto_columns": null,
       "grid_auto_flow": null,
       "grid_auto_rows": null,
       "grid_column": null,
       "grid_gap": null,
       "grid_row": null,
       "grid_template_areas": null,
       "grid_template_columns": null,
       "grid_template_rows": null,
       "height": null,
       "justify_content": null,
       "justify_items": null,
       "left": null,
       "margin": null,
       "max_height": null,
       "max_width": null,
       "min_height": null,
       "min_width": null,
       "object_fit": null,
       "object_position": null,
       "order": null,
       "overflow": null,
       "padding": null,
       "right": null,
       "top": null,
       "visibility": null,
       "width": null
      }
     },
     "5674d2689b264d7a95d44686f666211b": {
      "model_module": "@jupyter-widgets/controls",
      "model_module_version": "2.0.0",
      "model_name": "HTMLModel",
      "state": {
       "_dom_classes": [],
       "_model_module": "@jupyter-widgets/controls",
       "_model_module_version": "2.0.0",
       "_model_name": "HTMLModel",
       "_view_count": null,
       "_view_module": "@jupyter-widgets/controls",
       "_view_module_version": "2.0.0",
       "_view_name": "HTMLView",
       "description": "",
       "description_allow_html": false,
       "layout": "IPY_MODEL_8abeb4628eb34ad3a7883f95744fd309",
       "placeholder": "​",
       "style": "IPY_MODEL_33910c79cd7a4d48a57f1ef4a6961deb",
       "tabbable": null,
       "tooltip": null,
       "value": " 1.67M/1.67M [00:00&lt;00:00, 30.1MB/s]"
      }
     },
     "572da95a7575431d87e4d87df4c4e7f9": {
      "model_module": "@jupyter-widgets/controls",
      "model_module_version": "2.0.0",
      "model_name": "HTMLModel",
      "state": {
       "_dom_classes": [],
       "_model_module": "@jupyter-widgets/controls",
       "_model_module_version": "2.0.0",
       "_model_name": "HTMLModel",
       "_view_count": null,
       "_view_module": "@jupyter-widgets/controls",
       "_view_module_version": "2.0.0",
       "_view_name": "HTMLView",
       "description": "",
       "description_allow_html": false,
       "layout": "IPY_MODEL_a02f62469d5b4f6d97365bf96beb83c2",
       "placeholder": "​",
       "style": "IPY_MODEL_52eabafb3b1e4a3889303a4dfab99710",
       "tabbable": null,
       "tooltip": null,
       "value": "vocab.json: 100%"
      }
     },
     "5846e24f1a3c499b8960575f45593dc1": {
      "model_module": "@jupyter-widgets/controls",
      "model_module_version": "2.0.0",
      "model_name": "HTMLStyleModel",
      "state": {
       "_model_module": "@jupyter-widgets/controls",
       "_model_module_version": "2.0.0",
       "_model_name": "HTMLStyleModel",
       "_view_count": null,
       "_view_module": "@jupyter-widgets/base",
       "_view_module_version": "2.0.0",
       "_view_name": "StyleView",
       "background": null,
       "description_width": "",
       "font_size": null,
       "text_color": null
      }
     },
     "5a41f1165fb14dfdaf7cd31a4da38678": {
      "model_module": "@jupyter-widgets/controls",
      "model_module_version": "2.0.0",
      "model_name": "HTMLModel",
      "state": {
       "_dom_classes": [],
       "_model_module": "@jupyter-widgets/controls",
       "_model_module_version": "2.0.0",
       "_model_name": "HTMLModel",
       "_view_count": null,
       "_view_module": "@jupyter-widgets/controls",
       "_view_module_version": "2.0.0",
       "_view_name": "HTMLView",
       "description": "",
       "description_allow_html": false,
       "layout": "IPY_MODEL_0e996cb3830e4f98b73a27093a87476c",
       "placeholder": "​",
       "style": "IPY_MODEL_916375d3bba848308471dfdaef3e8e59",
       "tabbable": null,
       "tooltip": null,
       "value": "model.safetensors: 100%"
      }
     },
     "5c33185c893c43a7956ca1364f279c74": {
      "model_module": "@jupyter-widgets/base",
      "model_module_version": "2.0.0",
      "model_name": "LayoutModel",
      "state": {
       "_model_module": "@jupyter-widgets/base",
       "_model_module_version": "2.0.0",
       "_model_name": "LayoutModel",
       "_view_count": null,
       "_view_module": "@jupyter-widgets/base",
       "_view_module_version": "2.0.0",
       "_view_name": "LayoutView",
       "align_content": null,
       "align_items": null,
       "align_self": null,
       "border_bottom": null,
       "border_left": null,
       "border_right": null,
       "border_top": null,
       "bottom": null,
       "display": null,
       "flex": null,
       "flex_flow": null,
       "grid_area": null,
       "grid_auto_columns": null,
       "grid_auto_flow": null,
       "grid_auto_rows": null,
       "grid_column": null,
       "grid_gap": null,
       "grid_row": null,
       "grid_template_areas": null,
       "grid_template_columns": null,
       "grid_template_rows": null,
       "height": null,
       "justify_content": null,
       "justify_items": null,
       "left": null,
       "margin": null,
       "max_height": null,
       "max_width": null,
       "min_height": null,
       "min_width": null,
       "object_fit": null,
       "object_position": null,
       "order": null,
       "overflow": null,
       "padding": null,
       "right": null,
       "top": null,
       "visibility": null,
       "width": null
      }
     },
     "5cf77a1d4d0745879f4f2fe14ab5bf36": {
      "model_module": "@jupyter-widgets/controls",
      "model_module_version": "2.0.0",
      "model_name": "HBoxModel",
      "state": {
       "_dom_classes": [],
       "_model_module": "@jupyter-widgets/controls",
       "_model_module_version": "2.0.0",
       "_model_name": "HBoxModel",
       "_view_count": null,
       "_view_module": "@jupyter-widgets/controls",
       "_view_module_version": "2.0.0",
       "_view_name": "HBoxView",
       "box_style": "",
       "children": [
        "IPY_MODEL_c8040c65e89245b3939e8e5d1a494356",
        "IPY_MODEL_c75672d94b354252ae9442e38a2ab688",
        "IPY_MODEL_896fbca4d99b4c87a6c6dc0d04a8fce6"
       ],
       "layout": "IPY_MODEL_d6558a77bd434b05a5847ef792f70557",
       "tabbable": null,
       "tooltip": null
      }
     },
     "5e3548bebca84984a30ae56bb1a4153d": {
      "model_module": "@jupyter-widgets/base",
      "model_module_version": "2.0.0",
      "model_name": "LayoutModel",
      "state": {
       "_model_module": "@jupyter-widgets/base",
       "_model_module_version": "2.0.0",
       "_model_name": "LayoutModel",
       "_view_count": null,
       "_view_module": "@jupyter-widgets/base",
       "_view_module_version": "2.0.0",
       "_view_name": "LayoutView",
       "align_content": null,
       "align_items": null,
       "align_self": null,
       "border_bottom": null,
       "border_left": null,
       "border_right": null,
       "border_top": null,
       "bottom": null,
       "display": null,
       "flex": null,
       "flex_flow": null,
       "grid_area": null,
       "grid_auto_columns": null,
       "grid_auto_flow": null,
       "grid_auto_rows": null,
       "grid_column": null,
       "grid_gap": null,
       "grid_row": null,
       "grid_template_areas": null,
       "grid_template_columns": null,
       "grid_template_rows": null,
       "height": null,
       "justify_content": null,
       "justify_items": null,
       "left": null,
       "margin": null,
       "max_height": null,
       "max_width": null,
       "min_height": null,
       "min_width": null,
       "object_fit": null,
       "object_position": null,
       "order": null,
       "overflow": null,
       "padding": null,
       "right": null,
       "top": null,
       "visibility": null,
       "width": null
      }
     },
     "5f90c85f195d42a19882752fd7d51dc6": {
      "model_module": "@jupyter-widgets/controls",
      "model_module_version": "2.0.0",
      "model_name": "HTMLStyleModel",
      "state": {
       "_model_module": "@jupyter-widgets/controls",
       "_model_module_version": "2.0.0",
       "_model_name": "HTMLStyleModel",
       "_view_count": null,
       "_view_module": "@jupyter-widgets/base",
       "_view_module_version": "2.0.0",
       "_view_name": "StyleView",
       "background": null,
       "description_width": "",
       "font_size": null,
       "text_color": null
      }
     },
     "612c4bbe768547239bb968b12cb9e28b": {
      "model_module": "@jupyter-widgets/controls",
      "model_module_version": "2.0.0",
      "model_name": "FloatProgressModel",
      "state": {
       "_dom_classes": [],
       "_model_module": "@jupyter-widgets/controls",
       "_model_module_version": "2.0.0",
       "_model_name": "FloatProgressModel",
       "_view_count": null,
       "_view_module": "@jupyter-widgets/controls",
       "_view_module_version": "2.0.0",
       "_view_name": "ProgressView",
       "bar_style": "success",
       "description": "",
       "description_allow_html": false,
       "layout": "IPY_MODEL_cd46e508d46646a99ec3b868bf54e1ac",
       "max": 1671839.0,
       "min": 0.0,
       "orientation": "horizontal",
       "style": "IPY_MODEL_86b2a77d5e744791abc4ec6cb345afe0",
       "tabbable": null,
       "tooltip": null,
       "value": 1671839.0
      }
     },
     "627fb44ad8a44203892638b7fc8a7fd0": {
      "model_module": "@jupyter-widgets/base",
      "model_module_version": "2.0.0",
      "model_name": "LayoutModel",
      "state": {
       "_model_module": "@jupyter-widgets/base",
       "_model_module_version": "2.0.0",
       "_model_name": "LayoutModel",
       "_view_count": null,
       "_view_module": "@jupyter-widgets/base",
       "_view_module_version": "2.0.0",
       "_view_name": "LayoutView",
       "align_content": null,
       "align_items": null,
       "align_self": null,
       "border_bottom": null,
       "border_left": null,
       "border_right": null,
       "border_top": null,
       "bottom": null,
       "display": null,
       "flex": null,
       "flex_flow": null,
       "grid_area": null,
       "grid_auto_columns": null,
       "grid_auto_flow": null,
       "grid_auto_rows": null,
       "grid_column": null,
       "grid_gap": null,
       "grid_row": null,
       "grid_template_areas": null,
       "grid_template_columns": null,
       "grid_template_rows": null,
       "height": null,
       "justify_content": null,
       "justify_items": null,
       "left": null,
       "margin": null,
       "max_height": null,
       "max_width": null,
       "min_height": null,
       "min_width": null,
       "object_fit": null,
       "object_position": null,
       "order": null,
       "overflow": null,
       "padding": null,
       "right": null,
       "top": null,
       "visibility": null,
       "width": null
      }
     },
     "64866c53dfe9475db9700e768ef27412": {
      "model_module": "@jupyter-widgets/controls",
      "model_module_version": "2.0.0",
      "model_name": "HTMLModel",
      "state": {
       "_dom_classes": [],
       "_model_module": "@jupyter-widgets/controls",
       "_model_module_version": "2.0.0",
       "_model_name": "HTMLModel",
       "_view_count": null,
       "_view_module": "@jupyter-widgets/controls",
       "_view_module_version": "2.0.0",
       "_view_name": "HTMLView",
       "description": "",
       "description_allow_html": false,
       "layout": "IPY_MODEL_09cd178718824a58bc7a0c4fd718e5a4",
       "placeholder": "​",
       "style": "IPY_MODEL_d9b2af66a2724d95acb593feccf7eb21",
       "tabbable": null,
       "tooltip": null,
       "value": "tokenizer.json: 100%"
      }
     },
     "6727b20ceba34a65b77d48fa191f0501": {
      "model_module": "@jupyter-widgets/base",
      "model_module_version": "2.0.0",
      "model_name": "LayoutModel",
      "state": {
       "_model_module": "@jupyter-widgets/base",
       "_model_module_version": "2.0.0",
       "_model_name": "LayoutModel",
       "_view_count": null,
       "_view_module": "@jupyter-widgets/base",
       "_view_module_version": "2.0.0",
       "_view_name": "LayoutView",
       "align_content": null,
       "align_items": null,
       "align_self": null,
       "border_bottom": null,
       "border_left": null,
       "border_right": null,
       "border_top": null,
       "bottom": null,
       "display": null,
       "flex": null,
       "flex_flow": null,
       "grid_area": null,
       "grid_auto_columns": null,
       "grid_auto_flow": null,
       "grid_auto_rows": null,
       "grid_column": null,
       "grid_gap": null,
       "grid_row": null,
       "grid_template_areas": null,
       "grid_template_columns": null,
       "grid_template_rows": null,
       "height": null,
       "justify_content": null,
       "justify_items": null,
       "left": null,
       "margin": null,
       "max_height": null,
       "max_width": null,
       "min_height": null,
       "min_width": null,
       "object_fit": null,
       "object_position": null,
       "order": null,
       "overflow": null,
       "padding": null,
       "right": null,
       "top": null,
       "visibility": null,
       "width": null
      }
     },
     "69ee93437d08450cbd0d260fefbb525b": {
      "model_module": "@jupyter-widgets/controls",
      "model_module_version": "2.0.0",
      "model_name": "HTMLModel",
      "state": {
       "_dom_classes": [],
       "_model_module": "@jupyter-widgets/controls",
       "_model_module_version": "2.0.0",
       "_model_name": "HTMLModel",
       "_view_count": null,
       "_view_module": "@jupyter-widgets/controls",
       "_view_module_version": "2.0.0",
       "_view_name": "HTMLView",
       "description": "",
       "description_allow_html": false,
       "layout": "IPY_MODEL_c59c9e58b104413f99c3f698cb0499d8",
       "placeholder": "​",
       "style": "IPY_MODEL_03d68533fecb4e9db124a10b8ad2d551",
       "tabbable": null,
       "tooltip": null,
       "value": " 2.31M/2.31M [00:00&lt;00:00, 28.9MB/s]"
      }
     },
     "766df1e5a20e47bb872ea92a22d2ebe9": {
      "model_module": "@jupyter-widgets/controls",
      "model_module_version": "2.0.0",
      "model_name": "HTMLStyleModel",
      "state": {
       "_model_module": "@jupyter-widgets/controls",
       "_model_module_version": "2.0.0",
       "_model_name": "HTMLStyleModel",
       "_view_count": null,
       "_view_module": "@jupyter-widgets/base",
       "_view_module_version": "2.0.0",
       "_view_name": "StyleView",
       "background": null,
       "description_width": "",
       "font_size": null,
       "text_color": null
      }
     },
     "779839a5920943279e7c3da4662e3629": {
      "model_module": "@jupyter-widgets/controls",
      "model_module_version": "2.0.0",
      "model_name": "HTMLModel",
      "state": {
       "_dom_classes": [],
       "_model_module": "@jupyter-widgets/controls",
       "_model_module_version": "2.0.0",
       "_model_name": "HTMLModel",
       "_view_count": null,
       "_view_module": "@jupyter-widgets/controls",
       "_view_module_version": "2.0.0",
       "_view_name": "HTMLView",
       "description": "",
       "description_allow_html": false,
       "layout": "IPY_MODEL_40ae0d551449497999d5f914e1ee36be",
       "placeholder": "​",
       "style": "IPY_MODEL_98db99aa4a3e47e4b4b1f839efb1d97a",
       "tabbable": null,
       "tooltip": null,
       "value": " 419k/419k [00:00&lt;00:00, 38.4MB/s]"
      }
     },
     "77d42402357c4290a66aa763015d05bd": {
      "model_module": "@jupyter-widgets/controls",
      "model_module_version": "2.0.0",
      "model_name": "HTMLModel",
      "state": {
       "_dom_classes": [],
       "_model_module": "@jupyter-widgets/controls",
       "_model_module_version": "2.0.0",
       "_model_name": "HTMLModel",
       "_view_count": null,
       "_view_module": "@jupyter-widgets/controls",
       "_view_module_version": "2.0.0",
       "_view_name": "HTMLView",
       "description": "",
       "description_allow_html": false,
       "layout": "IPY_MODEL_b66106d4c95e4a3fb788ec38f170d251",
       "placeholder": "​",
       "style": "IPY_MODEL_b2f55bfc11e24f22b05618c90832efa0",
       "tabbable": null,
       "tooltip": null,
       "value": "Generating test split: 100%"
      }
     },
     "7a42ec17f02d42bd9245395bcde3949d": {
      "model_module": "@jupyter-widgets/controls",
      "model_module_version": "2.0.0",
      "model_name": "HBoxModel",
      "state": {
       "_dom_classes": [],
       "_model_module": "@jupyter-widgets/controls",
       "_model_module_version": "2.0.0",
       "_model_name": "HBoxModel",
       "_view_count": null,
       "_view_module": "@jupyter-widgets/controls",
       "_view_module_version": "2.0.0",
       "_view_name": "HBoxView",
       "box_style": "",
       "children": [
        "IPY_MODEL_0f2c428b368b438b90c23222f8fec64a",
        "IPY_MODEL_4f95f632a5d24e0d9a6f76c7d33c7378",
        "IPY_MODEL_3d3397848ac74db594443eeb23a546de"
       ],
       "layout": "IPY_MODEL_972166774cb54cceaf9e7676a24e4551",
       "tabbable": null,
       "tooltip": null
      }
     },
     "7dbfc2be15304fbb996367f803e5587f": {
      "model_module": "@jupyter-widgets/controls",
      "model_module_version": "2.0.0",
      "model_name": "HTMLModel",
      "state": {
       "_dom_classes": [],
       "_model_module": "@jupyter-widgets/controls",
       "_model_module_version": "2.0.0",
       "_model_name": "HTMLModel",
       "_view_count": null,
       "_view_module": "@jupyter-widgets/controls",
       "_view_module_version": "2.0.0",
       "_view_name": "HTMLView",
       "description": "",
       "description_allow_html": false,
       "layout": "IPY_MODEL_861a65a57187462181427bad3f481df1",
       "placeholder": "​",
       "style": "IPY_MODEL_fb000ad9f8f54adaa694e81be923fd67",
       "tabbable": null,
       "tooltip": null,
       "value": " 1319/1319 [00:00&lt;00:00, 94328.75 examples/s]"
      }
     },
     "7f2b8c7f06174598a9c523354ba881ef": {
      "model_module": "@jupyter-widgets/base",
      "model_module_version": "2.0.0",
      "model_name": "LayoutModel",
      "state": {
       "_model_module": "@jupyter-widgets/base",
       "_model_module_version": "2.0.0",
       "_model_name": "LayoutModel",
       "_view_count": null,
       "_view_module": "@jupyter-widgets/base",
       "_view_module_version": "2.0.0",
       "_view_name": "LayoutView",
       "align_content": null,
       "align_items": null,
       "align_self": null,
       "border_bottom": null,
       "border_left": null,
       "border_right": null,
       "border_top": null,
       "bottom": null,
       "display": null,
       "flex": null,
       "flex_flow": null,
       "grid_area": null,
       "grid_auto_columns": null,
       "grid_auto_flow": null,
       "grid_auto_rows": null,
       "grid_column": null,
       "grid_gap": null,
       "grid_row": null,
       "grid_template_areas": null,
       "grid_template_columns": null,
       "grid_template_rows": null,
       "height": null,
       "justify_content": null,
       "justify_items": null,
       "left": null,
       "margin": null,
       "max_height": null,
       "max_width": null,
       "min_height": null,
       "min_width": null,
       "object_fit": null,
       "object_position": null,
       "order": null,
       "overflow": null,
       "padding": null,
       "right": null,
       "top": null,
       "visibility": null,
       "width": null
      }
     },
     "8072a6fdcab8467e88fbe931257b0904": {
      "model_module": "@jupyter-widgets/controls",
      "model_module_version": "2.0.0",
      "model_name": "ProgressStyleModel",
      "state": {
       "_model_module": "@jupyter-widgets/controls",
       "_model_module_version": "2.0.0",
       "_model_name": "ProgressStyleModel",
       "_view_count": null,
       "_view_module": "@jupyter-widgets/base",
       "_view_module_version": "2.0.0",
       "_view_name": "StyleView",
       "bar_color": null,
       "description_width": ""
      }
     },
     "861a65a57187462181427bad3f481df1": {
      "model_module": "@jupyter-widgets/base",
      "model_module_version": "2.0.0",
      "model_name": "LayoutModel",
      "state": {
       "_model_module": "@jupyter-widgets/base",
       "_model_module_version": "2.0.0",
       "_model_name": "LayoutModel",
       "_view_count": null,
       "_view_module": "@jupyter-widgets/base",
       "_view_module_version": "2.0.0",
       "_view_name": "LayoutView",
       "align_content": null,
       "align_items": null,
       "align_self": null,
       "border_bottom": null,
       "border_left": null,
       "border_right": null,
       "border_top": null,
       "bottom": null,
       "display": null,
       "flex": null,
       "flex_flow": null,
       "grid_area": null,
       "grid_auto_columns": null,
       "grid_auto_flow": null,
       "grid_auto_rows": null,
       "grid_column": null,
       "grid_gap": null,
       "grid_row": null,
       "grid_template_areas": null,
       "grid_template_columns": null,
       "grid_template_rows": null,
       "height": null,
       "justify_content": null,
       "justify_items": null,
       "left": null,
       "margin": null,
       "max_height": null,
       "max_width": null,
       "min_height": null,
       "min_width": null,
       "object_fit": null,
       "object_position": null,
       "order": null,
       "overflow": null,
       "padding": null,
       "right": null,
       "top": null,
       "visibility": null,
       "width": null
      }
     },
     "86a391ee22f24ac6b5134a0424d8b2ca": {
      "model_module": "@jupyter-widgets/base",
      "model_module_version": "2.0.0",
      "model_name": "LayoutModel",
      "state": {
       "_model_module": "@jupyter-widgets/base",
       "_model_module_version": "2.0.0",
       "_model_name": "LayoutModel",
       "_view_count": null,
       "_view_module": "@jupyter-widgets/base",
       "_view_module_version": "2.0.0",
       "_view_name": "LayoutView",
       "align_content": null,
       "align_items": null,
       "align_self": null,
       "border_bottom": null,
       "border_left": null,
       "border_right": null,
       "border_top": null,
       "bottom": null,
       "display": null,
       "flex": null,
       "flex_flow": null,
       "grid_area": null,
       "grid_auto_columns": null,
       "grid_auto_flow": null,
       "grid_auto_rows": null,
       "grid_column": null,
       "grid_gap": null,
       "grid_row": null,
       "grid_template_areas": null,
       "grid_template_columns": null,
       "grid_template_rows": null,
       "height": null,
       "justify_content": null,
       "justify_items": null,
       "left": null,
       "margin": null,
       "max_height": null,
       "max_width": null,
       "min_height": null,
       "min_width": null,
       "object_fit": null,
       "object_position": null,
       "order": null,
       "overflow": null,
       "padding": null,
       "right": null,
       "top": null,
       "visibility": null,
       "width": null
      }
     },
     "86b2a77d5e744791abc4ec6cb345afe0": {
      "model_module": "@jupyter-widgets/controls",
      "model_module_version": "2.0.0",
      "model_name": "ProgressStyleModel",
      "state": {
       "_model_module": "@jupyter-widgets/controls",
       "_model_module_version": "2.0.0",
       "_model_name": "ProgressStyleModel",
       "_view_count": null,
       "_view_module": "@jupyter-widgets/base",
       "_view_module_version": "2.0.0",
       "_view_name": "StyleView",
       "bar_color": null,
       "description_width": ""
      }
     },
     "872f8a6e0e1e4321a9d7553bec5a2881": {
      "model_module": "@jupyter-widgets/controls",
      "model_module_version": "2.0.0",
      "model_name": "HTMLModel",
      "state": {
       "_dom_classes": [],
       "_model_module": "@jupyter-widgets/controls",
       "_model_module_version": "2.0.0",
       "_model_name": "HTMLModel",
       "_view_count": null,
       "_view_module": "@jupyter-widgets/controls",
       "_view_module_version": "2.0.0",
       "_view_name": "HTMLView",
       "description": "",
       "description_allow_html": false,
       "layout": "IPY_MODEL_eb42d5fdc68b41a18cb6d86a9c44bf7d",
       "placeholder": "​",
       "style": "IPY_MODEL_96e6be934fe448fbb9a6a4e5fca8833c",
       "tabbable": null,
       "tooltip": null,
       "value": " 7.94k/7.94k [00:00&lt;00:00, 733kB/s]"
      }
     },
     "8756b5c0472b440e9d29fb5161ff1528": {
      "model_module": "@jupyter-widgets/base",
      "model_module_version": "2.0.0",
      "model_name": "LayoutModel",
      "state": {
       "_model_module": "@jupyter-widgets/base",
       "_model_module_version": "2.0.0",
       "_model_name": "LayoutModel",
       "_view_count": null,
       "_view_module": "@jupyter-widgets/base",
       "_view_module_version": "2.0.0",
       "_view_name": "LayoutView",
       "align_content": null,
       "align_items": null,
       "align_self": null,
       "border_bottom": null,
       "border_left": null,
       "border_right": null,
       "border_top": null,
       "bottom": null,
       "display": null,
       "flex": null,
       "flex_flow": null,
       "grid_area": null,
       "grid_auto_columns": null,
       "grid_auto_flow": null,
       "grid_auto_rows": null,
       "grid_column": null,
       "grid_gap": null,
       "grid_row": null,
       "grid_template_areas": null,
       "grid_template_columns": null,
       "grid_template_rows": null,
       "height": null,
       "justify_content": null,
       "justify_items": null,
       "left": null,
       "margin": null,
       "max_height": null,
       "max_width": null,
       "min_height": null,
       "min_width": null,
       "object_fit": null,
       "object_position": null,
       "order": null,
       "overflow": null,
       "padding": null,
       "right": null,
       "top": null,
       "visibility": null,
       "width": null
      }
     },
     "884ca3bb59ae404e871298e099d7d608": {
      "model_module": "@jupyter-widgets/base",
      "model_module_version": "2.0.0",
      "model_name": "LayoutModel",
      "state": {
       "_model_module": "@jupyter-widgets/base",
       "_model_module_version": "2.0.0",
       "_model_name": "LayoutModel",
       "_view_count": null,
       "_view_module": "@jupyter-widgets/base",
       "_view_module_version": "2.0.0",
       "_view_name": "LayoutView",
       "align_content": null,
       "align_items": null,
       "align_self": null,
       "border_bottom": null,
       "border_left": null,
       "border_right": null,
       "border_top": null,
       "bottom": null,
       "display": null,
       "flex": null,
       "flex_flow": null,
       "grid_area": null,
       "grid_auto_columns": null,
       "grid_auto_flow": null,
       "grid_auto_rows": null,
       "grid_column": null,
       "grid_gap": null,
       "grid_row": null,
       "grid_template_areas": null,
       "grid_template_columns": null,
       "grid_template_rows": null,
       "height": null,
       "justify_content": null,
       "justify_items": null,
       "left": null,
       "margin": null,
       "max_height": null,
       "max_width": null,
       "min_height": null,
       "min_width": null,
       "object_fit": null,
       "object_position": null,
       "order": null,
       "overflow": null,
       "padding": null,
       "right": null,
       "top": null,
       "visibility": null,
       "width": null
      }
     },
     "896fbca4d99b4c87a6c6dc0d04a8fce6": {
      "model_module": "@jupyter-widgets/controls",
      "model_module_version": "2.0.0",
      "model_name": "HTMLModel",
      "state": {
       "_dom_classes": [],
       "_model_module": "@jupyter-widgets/controls",
       "_model_module_version": "2.0.0",
       "_model_name": "HTMLModel",
       "_view_count": null,
       "_view_module": "@jupyter-widgets/controls",
       "_view_module_version": "2.0.0",
       "_view_name": "HTMLView",
       "description": "",
       "description_allow_html": false,
       "layout": "IPY_MODEL_51e0da686b184ae7a77a21d71f2081c8",
       "placeholder": "​",
       "style": "IPY_MODEL_9b71e2fe1f8b41f8be942ed624e0e9ba",
       "tabbable": null,
       "tooltip": null,
       "value": " 2/2 [00:00&lt;00:00, 305.51it/s]"
      }
     },
     "89806adf999048a2bfca31b0ac277ad8": {
      "model_module": "@jupyter-widgets/controls",
      "model_module_version": "2.0.0",
      "model_name": "HTMLStyleModel",
      "state": {
       "_model_module": "@jupyter-widgets/controls",
       "_model_module_version": "2.0.0",
       "_model_name": "HTMLStyleModel",
       "_view_count": null,
       "_view_module": "@jupyter-widgets/base",
       "_view_module_version": "2.0.0",
       "_view_name": "StyleView",
       "background": null,
       "description_width": "",
       "font_size": null,
       "text_color": null
      }
     },
     "8abeb4628eb34ad3a7883f95744fd309": {
      "model_module": "@jupyter-widgets/base",
      "model_module_version": "2.0.0",
      "model_name": "LayoutModel",
      "state": {
       "_model_module": "@jupyter-widgets/base",
       "_model_module_version": "2.0.0",
       "_model_name": "LayoutModel",
       "_view_count": null,
       "_view_module": "@jupyter-widgets/base",
       "_view_module_version": "2.0.0",
       "_view_name": "LayoutView",
       "align_content": null,
       "align_items": null,
       "align_self": null,
       "border_bottom": null,
       "border_left": null,
       "border_right": null,
       "border_top": null,
       "bottom": null,
       "display": null,
       "flex": null,
       "flex_flow": null,
       "grid_area": null,
       "grid_auto_columns": null,
       "grid_auto_flow": null,
       "grid_auto_rows": null,
       "grid_column": null,
       "grid_gap": null,
       "grid_row": null,
       "grid_template_areas": null,
       "grid_template_columns": null,
       "grid_template_rows": null,
       "height": null,
       "justify_content": null,
       "justify_items": null,
       "left": null,
       "margin": null,
       "max_height": null,
       "max_width": null,
       "min_height": null,
       "min_width": null,
       "object_fit": null,
       "object_position": null,
       "order": null,
       "overflow": null,
       "padding": null,
       "right": null,
       "top": null,
       "visibility": null,
       "width": null
      }
     },
     "916375d3bba848308471dfdaef3e8e59": {
      "model_module": "@jupyter-widgets/controls",
      "model_module_version": "2.0.0",
      "model_name": "HTMLStyleModel",
      "state": {
       "_model_module": "@jupyter-widgets/controls",
       "_model_module_version": "2.0.0",
       "_model_name": "HTMLStyleModel",
       "_view_count": null,
       "_view_module": "@jupyter-widgets/base",
       "_view_module_version": "2.0.0",
       "_view_name": "StyleView",
       "background": null,
       "description_width": "",
       "font_size": null,
       "text_color": null
      }
     },
     "9573c0ce67584a62849d81b84e4a0ee0": {
      "model_module": "@jupyter-widgets/base",
      "model_module_version": "2.0.0",
      "model_name": "LayoutModel",
      "state": {
       "_model_module": "@jupyter-widgets/base",
       "_model_module_version": "2.0.0",
       "_model_name": "LayoutModel",
       "_view_count": null,
       "_view_module": "@jupyter-widgets/base",
       "_view_module_version": "2.0.0",
       "_view_name": "LayoutView",
       "align_content": null,
       "align_items": null,
       "align_self": null,
       "border_bottom": null,
       "border_left": null,
       "border_right": null,
       "border_top": null,
       "bottom": null,
       "display": null,
       "flex": null,
       "flex_flow": null,
       "grid_area": null,
       "grid_auto_columns": null,
       "grid_auto_flow": null,
       "grid_auto_rows": null,
       "grid_column": null,
       "grid_gap": null,
       "grid_row": null,
       "grid_template_areas": null,
       "grid_template_columns": null,
       "grid_template_rows": null,
       "height": null,
       "justify_content": null,
       "justify_items": null,
       "left": null,
       "margin": null,
       "max_height": null,
       "max_width": null,
       "min_height": null,
       "min_width": null,
       "object_fit": null,
       "object_position": null,
       "order": null,
       "overflow": null,
       "padding": null,
       "right": null,
       "top": null,
       "visibility": null,
       "width": null
      }
     },
     "96e6be934fe448fbb9a6a4e5fca8833c": {
      "model_module": "@jupyter-widgets/controls",
      "model_module_version": "2.0.0",
      "model_name": "HTMLStyleModel",
      "state": {
       "_model_module": "@jupyter-widgets/controls",
       "_model_module_version": "2.0.0",
       "_model_name": "HTMLStyleModel",
       "_view_count": null,
       "_view_module": "@jupyter-widgets/base",
       "_view_module_version": "2.0.0",
       "_view_name": "StyleView",
       "background": null,
       "description_width": "",
       "font_size": null,
       "text_color": null
      }
     },
     "972166774cb54cceaf9e7676a24e4551": {
      "model_module": "@jupyter-widgets/base",
      "model_module_version": "2.0.0",
      "model_name": "LayoutModel",
      "state": {
       "_model_module": "@jupyter-widgets/base",
       "_model_module_version": "2.0.0",
       "_model_name": "LayoutModel",
       "_view_count": null,
       "_view_module": "@jupyter-widgets/base",
       "_view_module_version": "2.0.0",
       "_view_name": "LayoutView",
       "align_content": null,
       "align_items": null,
       "align_self": null,
       "border_bottom": null,
       "border_left": null,
       "border_right": null,
       "border_top": null,
       "bottom": null,
       "display": null,
       "flex": null,
       "flex_flow": null,
       "grid_area": null,
       "grid_auto_columns": null,
       "grid_auto_flow": null,
       "grid_auto_rows": null,
       "grid_column": null,
       "grid_gap": null,
       "grid_row": null,
       "grid_template_areas": null,
       "grid_template_columns": null,
       "grid_template_rows": null,
       "height": null,
       "justify_content": null,
       "justify_items": null,
       "left": null,
       "margin": null,
       "max_height": null,
       "max_width": null,
       "min_height": null,
       "min_width": null,
       "object_fit": null,
       "object_position": null,
       "order": null,
       "overflow": null,
       "padding": null,
       "right": null,
       "top": null,
       "visibility": null,
       "width": null
      }
     },
     "97b286e70c4c41218faaf1b7bf0ede34": {
      "model_module": "@jupyter-widgets/controls",
      "model_module_version": "2.0.0",
      "model_name": "FloatProgressModel",
      "state": {
       "_dom_classes": [],
       "_model_module": "@jupyter-widgets/controls",
       "_model_module_version": "2.0.0",
       "_model_name": "FloatProgressModel",
       "_view_count": null,
       "_view_module": "@jupyter-widgets/controls",
       "_view_module_version": "2.0.0",
       "_view_name": "ProgressView",
       "bar_style": "success",
       "description": "",
       "description_allow_html": false,
       "layout": "IPY_MODEL_53a470eb515848299dadaf8cfdc1a07b",
       "max": 2306545.0,
       "min": 0.0,
       "orientation": "horizontal",
       "style": "IPY_MODEL_d234fcfc8bf64d84b26c89cf1b2040b2",
       "tabbable": null,
       "tooltip": null,
       "value": 2306545.0
      }
     },
     "98db99aa4a3e47e4b4b1f839efb1d97a": {
      "model_module": "@jupyter-widgets/controls",
      "model_module_version": "2.0.0",
      "model_name": "HTMLStyleModel",
      "state": {
       "_model_module": "@jupyter-widgets/controls",
       "_model_module_version": "2.0.0",
       "_model_name": "HTMLStyleModel",
       "_view_count": null,
       "_view_module": "@jupyter-widgets/base",
       "_view_module_version": "2.0.0",
       "_view_name": "StyleView",
       "background": null,
       "description_width": "",
       "font_size": null,
       "text_color": null
      }
     },
     "9a9c1ea9321e4936a29e8cbeaf7fd439": {
      "model_module": "@jupyter-widgets/controls",
      "model_module_version": "2.0.0",
      "model_name": "HTMLModel",
      "state": {
       "_dom_classes": [],
       "_model_module": "@jupyter-widgets/controls",
       "_model_module_version": "2.0.0",
       "_model_name": "HTMLModel",
       "_view_count": null,
       "_view_module": "@jupyter-widgets/controls",
       "_view_module_version": "2.0.0",
       "_view_name": "HTMLView",
       "description": "",
       "description_allow_html": false,
       "layout": "IPY_MODEL_fec5237e738a46d4a782466b48d516c4",
       "placeholder": "​",
       "style": "IPY_MODEL_ec92c5d19c8847abb8903f4893a028f0",
       "tabbable": null,
       "tooltip": null,
       "value": " 3.09G/3.09G [01:12&lt;00:00, 42.2MB/s]"
      }
     },
     "9b71e2fe1f8b41f8be942ed624e0e9ba": {
      "model_module": "@jupyter-widgets/controls",
      "model_module_version": "2.0.0",
      "model_name": "HTMLStyleModel",
      "state": {
       "_model_module": "@jupyter-widgets/controls",
       "_model_module_version": "2.0.0",
       "_model_name": "HTMLStyleModel",
       "_view_count": null,
       "_view_module": "@jupyter-widgets/base",
       "_view_module_version": "2.0.0",
       "_view_name": "StyleView",
       "background": null,
       "description_width": "",
       "font_size": null,
       "text_color": null
      }
     },
     "9fefac0cf4154d44ae7d07857660388a": {
      "model_module": "@jupyter-widgets/base",
      "model_module_version": "2.0.0",
      "model_name": "LayoutModel",
      "state": {
       "_model_module": "@jupyter-widgets/base",
       "_model_module_version": "2.0.0",
       "_model_name": "LayoutModel",
       "_view_count": null,
       "_view_module": "@jupyter-widgets/base",
       "_view_module_version": "2.0.0",
       "_view_name": "LayoutView",
       "align_content": null,
       "align_items": null,
       "align_self": null,
       "border_bottom": null,
       "border_left": null,
       "border_right": null,
       "border_top": null,
       "bottom": null,
       "display": null,
       "flex": null,
       "flex_flow": null,
       "grid_area": null,
       "grid_auto_columns": null,
       "grid_auto_flow": null,
       "grid_auto_rows": null,
       "grid_column": null,
       "grid_gap": null,
       "grid_row": null,
       "grid_template_areas": null,
       "grid_template_columns": null,
       "grid_template_rows": null,
       "height": null,
       "justify_content": null,
       "justify_items": null,
       "left": null,
       "margin": null,
       "max_height": null,
       "max_width": null,
       "min_height": null,
       "min_width": null,
       "object_fit": null,
       "object_position": null,
       "order": null,
       "overflow": null,
       "padding": null,
       "right": null,
       "top": null,
       "visibility": null,
       "width": null
      }
     },
     "a02f62469d5b4f6d97365bf96beb83c2": {
      "model_module": "@jupyter-widgets/base",
      "model_module_version": "2.0.0",
      "model_name": "LayoutModel",
      "state": {
       "_model_module": "@jupyter-widgets/base",
       "_model_module_version": "2.0.0",
       "_model_name": "LayoutModel",
       "_view_count": null,
       "_view_module": "@jupyter-widgets/base",
       "_view_module_version": "2.0.0",
       "_view_name": "LayoutView",
       "align_content": null,
       "align_items": null,
       "align_self": null,
       "border_bottom": null,
       "border_left": null,
       "border_right": null,
       "border_top": null,
       "bottom": null,
       "display": null,
       "flex": null,
       "flex_flow": null,
       "grid_area": null,
       "grid_auto_columns": null,
       "grid_auto_flow": null,
       "grid_auto_rows": null,
       "grid_column": null,
       "grid_gap": null,
       "grid_row": null,
       "grid_template_areas": null,
       "grid_template_columns": null,
       "grid_template_rows": null,
       "height": null,
       "justify_content": null,
       "justify_items": null,
       "left": null,
       "margin": null,
       "max_height": null,
       "max_width": null,
       "min_height": null,
       "min_width": null,
       "object_fit": null,
       "object_position": null,
       "order": null,
       "overflow": null,
       "padding": null,
       "right": null,
       "top": null,
       "visibility": null,
       "width": null
      }
     },
     "a191f5d6fb5042e5aff4bb911bb730cb": {
      "model_module": "@jupyter-widgets/controls",
      "model_module_version": "2.0.0",
      "model_name": "HBoxModel",
      "state": {
       "_dom_classes": [],
       "_model_module": "@jupyter-widgets/controls",
       "_model_module_version": "2.0.0",
       "_model_name": "HBoxModel",
       "_view_count": null,
       "_view_module": "@jupyter-widgets/controls",
       "_view_module_version": "2.0.0",
       "_view_name": "HBoxView",
       "box_style": "",
       "children": [
        "IPY_MODEL_4a100c61c23d414dbe4d00add23be74b",
        "IPY_MODEL_612c4bbe768547239bb968b12cb9e28b",
        "IPY_MODEL_5674d2689b264d7a95d44686f666211b"
       ],
       "layout": "IPY_MODEL_ba606030da0b4c35a5216e1649056291",
       "tabbable": null,
       "tooltip": null
      }
     },
     "a73c3b36173f428eaebf9619a498726e": {
      "model_module": "@jupyter-widgets/controls",
      "model_module_version": "2.0.0",
      "model_name": "HBoxModel",
      "state": {
       "_dom_classes": [],
       "_model_module": "@jupyter-widgets/controls",
       "_model_module_version": "2.0.0",
       "_model_name": "HBoxModel",
       "_view_count": null,
       "_view_module": "@jupyter-widgets/controls",
       "_view_module_version": "2.0.0",
       "_view_name": "HBoxView",
       "box_style": "",
       "children": [
        "IPY_MODEL_b8432d5f67614f7c82d4d29024befc60",
        "IPY_MODEL_4846997a0f5a4055a415a543a466d560",
        "IPY_MODEL_872f8a6e0e1e4321a9d7553bec5a2881"
       ],
       "layout": "IPY_MODEL_cef5c5359a0a4992b1465461f6984148",
       "tabbable": null,
       "tooltip": null
      }
     },
     "aafc660afffa480080bb0841ee610f36": {
      "model_module": "@jupyter-widgets/controls",
      "model_module_version": "2.0.0",
      "model_name": "FloatProgressModel",
      "state": {
       "_dom_classes": [],
       "_model_module": "@jupyter-widgets/controls",
       "_model_module_version": "2.0.0",
       "_model_name": "FloatProgressModel",
       "_view_count": null,
       "_view_module": "@jupyter-widgets/controls",
       "_view_module_version": "2.0.0",
       "_view_name": "ProgressView",
       "bar_style": "success",
       "description": "",
       "description_allow_html": false,
       "layout": "IPY_MODEL_11ade77c91c249e28a3755ca6cb85ac6",
       "max": 7473.0,
       "min": 0.0,
       "orientation": "horizontal",
       "style": "IPY_MODEL_b7d71f4a7fb84741b0c71ff4d56e7e13",
       "tabbable": null,
       "tooltip": null,
       "value": 7473.0
      }
     },
     "ab5eb8b0ff4a42f8b6baa97ba18d0268": {
      "model_module": "@jupyter-widgets/base",
      "model_module_version": "2.0.0",
      "model_name": "LayoutModel",
      "state": {
       "_model_module": "@jupyter-widgets/base",
       "_model_module_version": "2.0.0",
       "_model_name": "LayoutModel",
       "_view_count": null,
       "_view_module": "@jupyter-widgets/base",
       "_view_module_version": "2.0.0",
       "_view_name": "LayoutView",
       "align_content": null,
       "align_items": null,
       "align_self": null,
       "border_bottom": null,
       "border_left": null,
       "border_right": null,
       "border_top": null,
       "bottom": null,
       "display": null,
       "flex": null,
       "flex_flow": null,
       "grid_area": null,
       "grid_auto_columns": null,
       "grid_auto_flow": null,
       "grid_auto_rows": null,
       "grid_column": null,
       "grid_gap": null,
       "grid_row": null,
       "grid_template_areas": null,
       "grid_template_columns": null,
       "grid_template_rows": null,
       "height": null,
       "justify_content": null,
       "justify_items": null,
       "left": null,
       "margin": null,
       "max_height": null,
       "max_width": null,
       "min_height": null,
       "min_width": null,
       "object_fit": null,
       "object_position": null,
       "order": null,
       "overflow": null,
       "padding": null,
       "right": null,
       "top": null,
       "visibility": null,
       "width": null
      }
     },
     "af05ded003734e4c8b1d451c9d812cf2": {
      "model_module": "@jupyter-widgets/controls",
      "model_module_version": "2.0.0",
      "model_name": "HBoxModel",
      "state": {
       "_dom_classes": [],
       "_model_module": "@jupyter-widgets/controls",
       "_model_module_version": "2.0.0",
       "_model_name": "HBoxModel",
       "_view_count": null,
       "_view_module": "@jupyter-widgets/controls",
       "_view_module_version": "2.0.0",
       "_view_name": "HBoxView",
       "box_style": "",
       "children": [
        "IPY_MODEL_305ab218db5c4d2bbd68378ef1ee0c11",
        "IPY_MODEL_28e9e67e7c7f4b8fb1adfece8d988285",
        "IPY_MODEL_e7f33131c97e49cead75d748519fc750"
       ],
       "layout": "IPY_MODEL_b155f8e3bfaa40a7afe6645cc7dbb6cd",
       "tabbable": null,
       "tooltip": null
      }
     },
     "b141b02504b946a1a35c3da8d19c9243": {
      "model_module": "@jupyter-widgets/base",
      "model_module_version": "2.0.0",
      "model_name": "LayoutModel",
      "state": {
       "_model_module": "@jupyter-widgets/base",
       "_model_module_version": "2.0.0",
       "_model_name": "LayoutModel",
       "_view_count": null,
       "_view_module": "@jupyter-widgets/base",
       "_view_module_version": "2.0.0",
       "_view_name": "LayoutView",
       "align_content": null,
       "align_items": null,
       "align_self": null,
       "border_bottom": null,
       "border_left": null,
       "border_right": null,
       "border_top": null,
       "bottom": null,
       "display": null,
       "flex": null,
       "flex_flow": null,
       "grid_area": null,
       "grid_auto_columns": null,
       "grid_auto_flow": null,
       "grid_auto_rows": null,
       "grid_column": null,
       "grid_gap": null,
       "grid_row": null,
       "grid_template_areas": null,
       "grid_template_columns": null,
       "grid_template_rows": null,
       "height": null,
       "justify_content": null,
       "justify_items": null,
       "left": null,
       "margin": null,
       "max_height": null,
       "max_width": null,
       "min_height": null,
       "min_width": null,
       "object_fit": null,
       "object_position": null,
       "order": null,
       "overflow": null,
       "padding": null,
       "right": null,
       "top": null,
       "visibility": null,
       "width": null
      }
     },
     "b155f8e3bfaa40a7afe6645cc7dbb6cd": {
      "model_module": "@jupyter-widgets/base",
      "model_module_version": "2.0.0",
      "model_name": "LayoutModel",
      "state": {
       "_model_module": "@jupyter-widgets/base",
       "_model_module_version": "2.0.0",
       "_model_name": "LayoutModel",
       "_view_count": null,
       "_view_module": "@jupyter-widgets/base",
       "_view_module_version": "2.0.0",
       "_view_name": "LayoutView",
       "align_content": null,
       "align_items": null,
       "align_self": null,
       "border_bottom": null,
       "border_left": null,
       "border_right": null,
       "border_top": null,
       "bottom": null,
       "display": null,
       "flex": null,
       "flex_flow": null,
       "grid_area": null,
       "grid_auto_columns": null,
       "grid_auto_flow": null,
       "grid_auto_rows": null,
       "grid_column": null,
       "grid_gap": null,
       "grid_row": null,
       "grid_template_areas": null,
       "grid_template_columns": null,
       "grid_template_rows": null,
       "height": null,
       "justify_content": null,
       "justify_items": null,
       "left": null,
       "margin": null,
       "max_height": null,
       "max_width": null,
       "min_height": null,
       "min_width": null,
       "object_fit": null,
       "object_position": null,
       "order": null,
       "overflow": null,
       "padding": null,
       "right": null,
       "top": null,
       "visibility": null,
       "width": null
      }
     },
     "b2bc9ca6b0c744d3896069656d41cbbc": {
      "model_module": "@jupyter-widgets/controls",
      "model_module_version": "2.0.0",
      "model_name": "HTMLStyleModel",
      "state": {
       "_model_module": "@jupyter-widgets/controls",
       "_model_module_version": "2.0.0",
       "_model_name": "HTMLStyleModel",
       "_view_count": null,
       "_view_module": "@jupyter-widgets/base",
       "_view_module_version": "2.0.0",
       "_view_name": "StyleView",
       "background": null,
       "description_width": "",
       "font_size": null,
       "text_color": null
      }
     },
     "b2f55bfc11e24f22b05618c90832efa0": {
      "model_module": "@jupyter-widgets/controls",
      "model_module_version": "2.0.0",
      "model_name": "HTMLStyleModel",
      "state": {
       "_model_module": "@jupyter-widgets/controls",
       "_model_module_version": "2.0.0",
       "_model_name": "HTMLStyleModel",
       "_view_count": null,
       "_view_module": "@jupyter-widgets/base",
       "_view_module_version": "2.0.0",
       "_view_name": "StyleView",
       "background": null,
       "description_width": "",
       "font_size": null,
       "text_color": null
      }
     },
     "b4791bfdf8854b3db663f19ba2121f94": {
      "model_module": "@jupyter-widgets/controls",
      "model_module_version": "2.0.0",
      "model_name": "HTMLStyleModel",
      "state": {
       "_model_module": "@jupyter-widgets/controls",
       "_model_module_version": "2.0.0",
       "_model_name": "HTMLStyleModel",
       "_view_count": null,
       "_view_module": "@jupyter-widgets/base",
       "_view_module_version": "2.0.0",
       "_view_name": "StyleView",
       "background": null,
       "description_width": "",
       "font_size": null,
       "text_color": null
      }
     },
     "b66106d4c95e4a3fb788ec38f170d251": {
      "model_module": "@jupyter-widgets/base",
      "model_module_version": "2.0.0",
      "model_name": "LayoutModel",
      "state": {
       "_model_module": "@jupyter-widgets/base",
       "_model_module_version": "2.0.0",
       "_model_name": "LayoutModel",
       "_view_count": null,
       "_view_module": "@jupyter-widgets/base",
       "_view_module_version": "2.0.0",
       "_view_name": "LayoutView",
       "align_content": null,
       "align_items": null,
       "align_self": null,
       "border_bottom": null,
       "border_left": null,
       "border_right": null,
       "border_top": null,
       "bottom": null,
       "display": null,
       "flex": null,
       "flex_flow": null,
       "grid_area": null,
       "grid_auto_columns": null,
       "grid_auto_flow": null,
       "grid_auto_rows": null,
       "grid_column": null,
       "grid_gap": null,
       "grid_row": null,
       "grid_template_areas": null,
       "grid_template_columns": null,
       "grid_template_rows": null,
       "height": null,
       "justify_content": null,
       "justify_items": null,
       "left": null,
       "margin": null,
       "max_height": null,
       "max_width": null,
       "min_height": null,
       "min_width": null,
       "object_fit": null,
       "object_position": null,
       "order": null,
       "overflow": null,
       "padding": null,
       "right": null,
       "top": null,
       "visibility": null,
       "width": null
      }
     },
     "b67050f99db94461bfdbdda0c86aa7e2": {
      "model_module": "@jupyter-widgets/base",
      "model_module_version": "2.0.0",
      "model_name": "LayoutModel",
      "state": {
       "_model_module": "@jupyter-widgets/base",
       "_model_module_version": "2.0.0",
       "_model_name": "LayoutModel",
       "_view_count": null,
       "_view_module": "@jupyter-widgets/base",
       "_view_module_version": "2.0.0",
       "_view_name": "LayoutView",
       "align_content": null,
       "align_items": null,
       "align_self": null,
       "border_bottom": null,
       "border_left": null,
       "border_right": null,
       "border_top": null,
       "bottom": null,
       "display": null,
       "flex": null,
       "flex_flow": null,
       "grid_area": null,
       "grid_auto_columns": null,
       "grid_auto_flow": null,
       "grid_auto_rows": null,
       "grid_column": null,
       "grid_gap": null,
       "grid_row": null,
       "grid_template_areas": null,
       "grid_template_columns": null,
       "grid_template_rows": null,
       "height": null,
       "justify_content": null,
       "justify_items": null,
       "left": null,
       "margin": null,
       "max_height": null,
       "max_width": null,
       "min_height": null,
       "min_width": null,
       "object_fit": null,
       "object_position": null,
       "order": null,
       "overflow": null,
       "padding": null,
       "right": null,
       "top": null,
       "visibility": null,
       "width": null
      }
     },
     "b7d71f4a7fb84741b0c71ff4d56e7e13": {
      "model_module": "@jupyter-widgets/controls",
      "model_module_version": "2.0.0",
      "model_name": "ProgressStyleModel",
      "state": {
       "_model_module": "@jupyter-widgets/controls",
       "_model_module_version": "2.0.0",
       "_model_name": "ProgressStyleModel",
       "_view_count": null,
       "_view_module": "@jupyter-widgets/base",
       "_view_module_version": "2.0.0",
       "_view_name": "StyleView",
       "bar_color": null,
       "description_width": ""
      }
     },
     "b8432d5f67614f7c82d4d29024befc60": {
      "model_module": "@jupyter-widgets/controls",
      "model_module_version": "2.0.0",
      "model_name": "HTMLModel",
      "state": {
       "_dom_classes": [],
       "_model_module": "@jupyter-widgets/controls",
       "_model_module_version": "2.0.0",
       "_model_name": "HTMLModel",
       "_view_count": null,
       "_view_module": "@jupyter-widgets/controls",
       "_view_module_version": "2.0.0",
       "_view_name": "HTMLView",
       "description": "",
       "description_allow_html": false,
       "layout": "IPY_MODEL_9573c0ce67584a62849d81b84e4a0ee0",
       "placeholder": "​",
       "style": "IPY_MODEL_ca1408d9510b411aacf1aa8bd69e9637",
       "tabbable": null,
       "tooltip": null,
       "value": "README.md: 100%"
      }
     },
     "b8fbaf2ceed84c7c885a7b3d0f26a92b": {
      "model_module": "@jupyter-widgets/controls",
      "model_module_version": "2.0.0",
      "model_name": "HTMLModel",
      "state": {
       "_dom_classes": [],
       "_model_module": "@jupyter-widgets/controls",
       "_model_module_version": "2.0.0",
       "_model_name": "HTMLModel",
       "_view_count": null,
       "_view_module": "@jupyter-widgets/controls",
       "_view_module_version": "2.0.0",
       "_view_name": "HTMLView",
       "description": "",
       "description_allow_html": false,
       "layout": "IPY_MODEL_2cfcff7598104e5ea4f1eb9a240040ea",
       "placeholder": "​",
       "style": "IPY_MODEL_5846e24f1a3c499b8960575f45593dc1",
       "tabbable": null,
       "tooltip": null,
       "value": "test-00000-of-00001.parquet: 100%"
      }
     },
     "b8fcf9e056a7428da76d5cb433323c59": {
      "model_module": "@jupyter-widgets/base",
      "model_module_version": "2.0.0",
      "model_name": "LayoutModel",
      "state": {
       "_model_module": "@jupyter-widgets/base",
       "_model_module_version": "2.0.0",
       "_model_name": "LayoutModel",
       "_view_count": null,
       "_view_module": "@jupyter-widgets/base",
       "_view_module_version": "2.0.0",
       "_view_name": "LayoutView",
       "align_content": null,
       "align_items": null,
       "align_self": null,
       "border_bottom": null,
       "border_left": null,
       "border_right": null,
       "border_top": null,
       "bottom": null,
       "display": null,
       "flex": null,
       "flex_flow": null,
       "grid_area": null,
       "grid_auto_columns": null,
       "grid_auto_flow": null,
       "grid_auto_rows": null,
       "grid_column": null,
       "grid_gap": null,
       "grid_row": null,
       "grid_template_areas": null,
       "grid_template_columns": null,
       "grid_template_rows": null,
       "height": null,
       "justify_content": null,
       "justify_items": null,
       "left": null,
       "margin": null,
       "max_height": null,
       "max_width": null,
       "min_height": null,
       "min_width": null,
       "object_fit": null,
       "object_position": null,
       "order": null,
       "overflow": null,
       "padding": null,
       "right": null,
       "top": null,
       "visibility": null,
       "width": null
      }
     },
     "ba2ccbfc0827484189299c2913729973": {
      "model_module": "@jupyter-widgets/controls",
      "model_module_version": "2.0.0",
      "model_name": "HBoxModel",
      "state": {
       "_dom_classes": [],
       "_model_module": "@jupyter-widgets/controls",
       "_model_module_version": "2.0.0",
       "_model_name": "HBoxModel",
       "_view_count": null,
       "_view_module": "@jupyter-widgets/controls",
       "_view_module_version": "2.0.0",
       "_view_name": "HBoxView",
       "box_style": "",
       "children": [
        "IPY_MODEL_ebb4eaf22e30461bb8bb191eb6d50dad",
        "IPY_MODEL_aafc660afffa480080bb0841ee610f36",
        "IPY_MODEL_c0821a226aad4dbf840abfadf8eb1b0f"
       ],
       "layout": "IPY_MODEL_86a391ee22f24ac6b5134a0424d8b2ca",
       "tabbable": null,
       "tooltip": null
      }
     },
     "ba606030da0b4c35a5216e1649056291": {
      "model_module": "@jupyter-widgets/base",
      "model_module_version": "2.0.0",
      "model_name": "LayoutModel",
      "state": {
       "_model_module": "@jupyter-widgets/base",
       "_model_module_version": "2.0.0",
       "_model_name": "LayoutModel",
       "_view_count": null,
       "_view_module": "@jupyter-widgets/base",
       "_view_module_version": "2.0.0",
       "_view_name": "LayoutView",
       "align_content": null,
       "align_items": null,
       "align_self": null,
       "border_bottom": null,
       "border_left": null,
       "border_right": null,
       "border_top": null,
       "bottom": null,
       "display": null,
       "flex": null,
       "flex_flow": null,
       "grid_area": null,
       "grid_auto_columns": null,
       "grid_auto_flow": null,
       "grid_auto_rows": null,
       "grid_column": null,
       "grid_gap": null,
       "grid_row": null,
       "grid_template_areas": null,
       "grid_template_columns": null,
       "grid_template_rows": null,
       "height": null,
       "justify_content": null,
       "justify_items": null,
       "left": null,
       "margin": null,
       "max_height": null,
       "max_width": null,
       "min_height": null,
       "min_width": null,
       "object_fit": null,
       "object_position": null,
       "order": null,
       "overflow": null,
       "padding": null,
       "right": null,
       "top": null,
       "visibility": null,
       "width": null
      }
     },
     "ba725e8af72741ea8ea6934703d5e6bf": {
      "model_module": "@jupyter-widgets/controls",
      "model_module_version": "2.0.0",
      "model_name": "ProgressStyleModel",
      "state": {
       "_model_module": "@jupyter-widgets/controls",
       "_model_module_version": "2.0.0",
       "_model_name": "ProgressStyleModel",
       "_view_count": null,
       "_view_module": "@jupyter-widgets/base",
       "_view_module_version": "2.0.0",
       "_view_name": "StyleView",
       "bar_color": null,
       "description_width": ""
      }
     },
     "bafba9563443426a906eaf5329c77b1e": {
      "model_module": "@jupyter-widgets/controls",
      "model_module_version": "2.0.0",
      "model_name": "ProgressStyleModel",
      "state": {
       "_model_module": "@jupyter-widgets/controls",
       "_model_module_version": "2.0.0",
       "_model_name": "ProgressStyleModel",
       "_view_count": null,
       "_view_module": "@jupyter-widgets/base",
       "_view_module_version": "2.0.0",
       "_view_name": "StyleView",
       "bar_color": null,
       "description_width": ""
      }
     },
     "bd42d795771a4e57afced3ae8c51622d": {
      "model_module": "@jupyter-widgets/controls",
      "model_module_version": "2.0.0",
      "model_name": "FloatProgressModel",
      "state": {
       "_dom_classes": [],
       "_model_module": "@jupyter-widgets/controls",
       "_model_module_version": "2.0.0",
       "_model_name": "FloatProgressModel",
       "_view_count": null,
       "_view_module": "@jupyter-widgets/controls",
       "_view_module_version": "2.0.0",
       "_view_name": "ProgressView",
       "bar_style": "success",
       "description": "",
       "description_allow_html": false,
       "layout": "IPY_MODEL_08f6ba1a9436465287cd59fa4f164d82",
       "max": 419088.0,
       "min": 0.0,
       "orientation": "horizontal",
       "style": "IPY_MODEL_0c68ed8cb94f437cae28d89551b5f751",
       "tabbable": null,
       "tooltip": null,
       "value": 419088.0
      }
     },
     "c0821a226aad4dbf840abfadf8eb1b0f": {
      "model_module": "@jupyter-widgets/controls",
      "model_module_version": "2.0.0",
      "model_name": "HTMLModel",
      "state": {
       "_dom_classes": [],
       "_model_module": "@jupyter-widgets/controls",
       "_model_module_version": "2.0.0",
       "_model_name": "HTMLModel",
       "_view_count": null,
       "_view_module": "@jupyter-widgets/controls",
       "_view_module_version": "2.0.0",
       "_view_name": "HTMLView",
       "description": "",
       "description_allow_html": false,
       "layout": "IPY_MODEL_4c7137c5242248249bbd7130cc9473c4",
       "placeholder": "​",
       "style": "IPY_MODEL_fb8d13bf219d4500a4008a0876db7cbc",
       "tabbable": null,
       "tooltip": null,
       "value": " 7473/7473 [00:00&lt;00:00, 105746.60 examples/s]"
      }
     },
     "c3e439a47f10477db68dd11f5fd497a4": {
      "model_module": "@jupyter-widgets/controls",
      "model_module_version": "2.0.0",
      "model_name": "ProgressStyleModel",
      "state": {
       "_model_module": "@jupyter-widgets/controls",
       "_model_module_version": "2.0.0",
       "_model_name": "ProgressStyleModel",
       "_view_count": null,
       "_view_module": "@jupyter-widgets/base",
       "_view_module_version": "2.0.0",
       "_view_name": "StyleView",
       "bar_color": null,
       "description_width": ""
      }
     },
     "c4dd1d65b0ba4e458a4ac566fd0089bb": {
      "model_module": "@jupyter-widgets/base",
      "model_module_version": "2.0.0",
      "model_name": "LayoutModel",
      "state": {
       "_model_module": "@jupyter-widgets/base",
       "_model_module_version": "2.0.0",
       "_model_name": "LayoutModel",
       "_view_count": null,
       "_view_module": "@jupyter-widgets/base",
       "_view_module_version": "2.0.0",
       "_view_name": "LayoutView",
       "align_content": null,
       "align_items": null,
       "align_self": null,
       "border_bottom": null,
       "border_left": null,
       "border_right": null,
       "border_top": null,
       "bottom": null,
       "display": null,
       "flex": null,
       "flex_flow": null,
       "grid_area": null,
       "grid_auto_columns": null,
       "grid_auto_flow": null,
       "grid_auto_rows": null,
       "grid_column": null,
       "grid_gap": null,
       "grid_row": null,
       "grid_template_areas": null,
       "grid_template_columns": null,
       "grid_template_rows": null,
       "height": null,
       "justify_content": null,
       "justify_items": null,
       "left": null,
       "margin": null,
       "max_height": null,
       "max_width": null,
       "min_height": null,
       "min_width": null,
       "object_fit": null,
       "object_position": null,
       "order": null,
       "overflow": null,
       "padding": null,
       "right": null,
       "top": null,
       "visibility": null,
       "width": null
      }
     },
     "c59c9e58b104413f99c3f698cb0499d8": {
      "model_module": "@jupyter-widgets/base",
      "model_module_version": "2.0.0",
      "model_name": "LayoutModel",
      "state": {
       "_model_module": "@jupyter-widgets/base",
       "_model_module_version": "2.0.0",
       "_model_name": "LayoutModel",
       "_view_count": null,
       "_view_module": "@jupyter-widgets/base",
       "_view_module_version": "2.0.0",
       "_view_name": "LayoutView",
       "align_content": null,
       "align_items": null,
       "align_self": null,
       "border_bottom": null,
       "border_left": null,
       "border_right": null,
       "border_top": null,
       "bottom": null,
       "display": null,
       "flex": null,
       "flex_flow": null,
       "grid_area": null,
       "grid_auto_columns": null,
       "grid_auto_flow": null,
       "grid_auto_rows": null,
       "grid_column": null,
       "grid_gap": null,
       "grid_row": null,
       "grid_template_areas": null,
       "grid_template_columns": null,
       "grid_template_rows": null,
       "height": null,
       "justify_content": null,
       "justify_items": null,
       "left": null,
       "margin": null,
       "max_height": null,
       "max_width": null,
       "min_height": null,
       "min_width": null,
       "object_fit": null,
       "object_position": null,
       "order": null,
       "overflow": null,
       "padding": null,
       "right": null,
       "top": null,
       "visibility": null,
       "width": null
      }
     },
     "c75672d94b354252ae9442e38a2ab688": {
      "model_module": "@jupyter-widgets/controls",
      "model_module_version": "2.0.0",
      "model_name": "FloatProgressModel",
      "state": {
       "_dom_classes": [],
       "_model_module": "@jupyter-widgets/controls",
       "_model_module_version": "2.0.0",
       "_model_name": "FloatProgressModel",
       "_view_count": null,
       "_view_module": "@jupyter-widgets/controls",
       "_view_module_version": "2.0.0",
       "_view_name": "ProgressView",
       "bar_style": "success",
       "description": "",
       "description_allow_html": false,
       "layout": "IPY_MODEL_b67050f99db94461bfdbdda0c86aa7e2",
       "max": 2.0,
       "min": 0.0,
       "orientation": "horizontal",
       "style": "IPY_MODEL_e0a314c9b4364958ac31a5048eefaa11",
       "tabbable": null,
       "tooltip": null,
       "value": 2.0
      }
     },
     "c8040c65e89245b3939e8e5d1a494356": {
      "model_module": "@jupyter-widgets/controls",
      "model_module_version": "2.0.0",
      "model_name": "HTMLModel",
      "state": {
       "_dom_classes": [],
       "_model_module": "@jupyter-widgets/controls",
       "_model_module_version": "2.0.0",
       "_model_name": "HTMLModel",
       "_view_count": null,
       "_view_module": "@jupyter-widgets/controls",
       "_view_module_version": "2.0.0",
       "_view_name": "HTMLView",
       "description": "",
       "description_allow_html": false,
       "layout": "IPY_MODEL_6727b20ceba34a65b77d48fa191f0501",
       "placeholder": "​",
       "style": "IPY_MODEL_088810fb15014a3891df60e8a162953e",
       "tabbable": null,
       "tooltip": null,
       "value": "Computing checksums: 100%"
      }
     },
     "c90a7b318a2b416c9b54117c8d319ae2": {
      "model_module": "@jupyter-widgets/controls",
      "model_module_version": "2.0.0",
      "model_name": "HTMLStyleModel",
      "state": {
       "_model_module": "@jupyter-widgets/controls",
       "_model_module_version": "2.0.0",
       "_model_name": "HTMLStyleModel",
       "_view_count": null,
       "_view_module": "@jupyter-widgets/base",
       "_view_module_version": "2.0.0",
       "_view_name": "StyleView",
       "background": null,
       "description_width": "",
       "font_size": null,
       "text_color": null
      }
     },
     "ca1408d9510b411aacf1aa8bd69e9637": {
      "model_module": "@jupyter-widgets/controls",
      "model_module_version": "2.0.0",
      "model_name": "HTMLStyleModel",
      "state": {
       "_model_module": "@jupyter-widgets/controls",
       "_model_module_version": "2.0.0",
       "_model_name": "HTMLStyleModel",
       "_view_count": null,
       "_view_module": "@jupyter-widgets/base",
       "_view_module_version": "2.0.0",
       "_view_name": "StyleView",
       "background": null,
       "description_width": "",
       "font_size": null,
       "text_color": null
      }
     },
     "cafc6a48e9e445e583ce73cf9eb92197": {
      "model_module": "@jupyter-widgets/controls",
      "model_module_version": "2.0.0",
      "model_name": "HTMLStyleModel",
      "state": {
       "_model_module": "@jupyter-widgets/controls",
       "_model_module_version": "2.0.0",
       "_model_name": "HTMLStyleModel",
       "_view_count": null,
       "_view_module": "@jupyter-widgets/base",
       "_view_module_version": "2.0.0",
       "_view_name": "StyleView",
       "background": null,
       "description_width": "",
       "font_size": null,
       "text_color": null
      }
     },
     "cd46e508d46646a99ec3b868bf54e1ac": {
      "model_module": "@jupyter-widgets/base",
      "model_module_version": "2.0.0",
      "model_name": "LayoutModel",
      "state": {
       "_model_module": "@jupyter-widgets/base",
       "_model_module_version": "2.0.0",
       "_model_name": "LayoutModel",
       "_view_count": null,
       "_view_module": "@jupyter-widgets/base",
       "_view_module_version": "2.0.0",
       "_view_name": "LayoutView",
       "align_content": null,
       "align_items": null,
       "align_self": null,
       "border_bottom": null,
       "border_left": null,
       "border_right": null,
       "border_top": null,
       "bottom": null,
       "display": null,
       "flex": null,
       "flex_flow": null,
       "grid_area": null,
       "grid_auto_columns": null,
       "grid_auto_flow": null,
       "grid_auto_rows": null,
       "grid_column": null,
       "grid_gap": null,
       "grid_row": null,
       "grid_template_areas": null,
       "grid_template_columns": null,
       "grid_template_rows": null,
       "height": null,
       "justify_content": null,
       "justify_items": null,
       "left": null,
       "margin": null,
       "max_height": null,
       "max_width": null,
       "min_height": null,
       "min_width": null,
       "object_fit": null,
       "object_position": null,
       "order": null,
       "overflow": null,
       "padding": null,
       "right": null,
       "top": null,
       "visibility": null,
       "width": null
      }
     },
     "cef5c5359a0a4992b1465461f6984148": {
      "model_module": "@jupyter-widgets/base",
      "model_module_version": "2.0.0",
      "model_name": "LayoutModel",
      "state": {
       "_model_module": "@jupyter-widgets/base",
       "_model_module_version": "2.0.0",
       "_model_name": "LayoutModel",
       "_view_count": null,
       "_view_module": "@jupyter-widgets/base",
       "_view_module_version": "2.0.0",
       "_view_name": "LayoutView",
       "align_content": null,
       "align_items": null,
       "align_self": null,
       "border_bottom": null,
       "border_left": null,
       "border_right": null,
       "border_top": null,
       "bottom": null,
       "display": null,
       "flex": null,
       "flex_flow": null,
       "grid_area": null,
       "grid_auto_columns": null,
       "grid_auto_flow": null,
       "grid_auto_rows": null,
       "grid_column": null,
       "grid_gap": null,
       "grid_row": null,
       "grid_template_areas": null,
       "grid_template_columns": null,
       "grid_template_rows": null,
       "height": null,
       "justify_content": null,
       "justify_items": null,
       "left": null,
       "margin": null,
       "max_height": null,
       "max_width": null,
       "min_height": null,
       "min_width": null,
       "object_fit": null,
       "object_position": null,
       "order": null,
       "overflow": null,
       "padding": null,
       "right": null,
       "top": null,
       "visibility": null,
       "width": null
      }
     },
     "cffd791ae7944a1286c7b7188d49a758": {
      "model_module": "@jupyter-widgets/base",
      "model_module_version": "2.0.0",
      "model_name": "LayoutModel",
      "state": {
       "_model_module": "@jupyter-widgets/base",
       "_model_module_version": "2.0.0",
       "_model_name": "LayoutModel",
       "_view_count": null,
       "_view_module": "@jupyter-widgets/base",
       "_view_module_version": "2.0.0",
       "_view_name": "LayoutView",
       "align_content": null,
       "align_items": null,
       "align_self": null,
       "border_bottom": null,
       "border_left": null,
       "border_right": null,
       "border_top": null,
       "bottom": null,
       "display": null,
       "flex": null,
       "flex_flow": null,
       "grid_area": null,
       "grid_auto_columns": null,
       "grid_auto_flow": null,
       "grid_auto_rows": null,
       "grid_column": null,
       "grid_gap": null,
       "grid_row": null,
       "grid_template_areas": null,
       "grid_template_columns": null,
       "grid_template_rows": null,
       "height": null,
       "justify_content": null,
       "justify_items": null,
       "left": null,
       "margin": null,
       "max_height": null,
       "max_width": null,
       "min_height": null,
       "min_width": null,
       "object_fit": null,
       "object_position": null,
       "order": null,
       "overflow": null,
       "padding": null,
       "right": null,
       "top": null,
       "visibility": null,
       "width": null
      }
     },
     "d1e09545419c4275934fe407072b5e84": {
      "model_module": "@jupyter-widgets/controls",
      "model_module_version": "2.0.0",
      "model_name": "HTMLStyleModel",
      "state": {
       "_model_module": "@jupyter-widgets/controls",
       "_model_module_version": "2.0.0",
       "_model_name": "HTMLStyleModel",
       "_view_count": null,
       "_view_module": "@jupyter-widgets/base",
       "_view_module_version": "2.0.0",
       "_view_name": "StyleView",
       "background": null,
       "description_width": "",
       "font_size": null,
       "text_color": null
      }
     },
     "d234fcfc8bf64d84b26c89cf1b2040b2": {
      "model_module": "@jupyter-widgets/controls",
      "model_module_version": "2.0.0",
      "model_name": "ProgressStyleModel",
      "state": {
       "_model_module": "@jupyter-widgets/controls",
       "_model_module_version": "2.0.0",
       "_model_name": "ProgressStyleModel",
       "_view_count": null,
       "_view_module": "@jupyter-widgets/base",
       "_view_module_version": "2.0.0",
       "_view_name": "StyleView",
       "bar_color": null,
       "description_width": ""
      }
     },
     "d23ea3848e8548fb87fc8b6372a1bded": {
      "model_module": "@jupyter-widgets/base",
      "model_module_version": "2.0.0",
      "model_name": "LayoutModel",
      "state": {
       "_model_module": "@jupyter-widgets/base",
       "_model_module_version": "2.0.0",
       "_model_name": "LayoutModel",
       "_view_count": null,
       "_view_module": "@jupyter-widgets/base",
       "_view_module_version": "2.0.0",
       "_view_name": "LayoutView",
       "align_content": null,
       "align_items": null,
       "align_self": null,
       "border_bottom": null,
       "border_left": null,
       "border_right": null,
       "border_top": null,
       "bottom": null,
       "display": null,
       "flex": null,
       "flex_flow": null,
       "grid_area": null,
       "grid_auto_columns": null,
       "grid_auto_flow": null,
       "grid_auto_rows": null,
       "grid_column": null,
       "grid_gap": null,
       "grid_row": null,
       "grid_template_areas": null,
       "grid_template_columns": null,
       "grid_template_rows": null,
       "height": null,
       "justify_content": null,
       "justify_items": null,
       "left": null,
       "margin": null,
       "max_height": null,
       "max_width": null,
       "min_height": null,
       "min_width": null,
       "object_fit": null,
       "object_position": null,
       "order": null,
       "overflow": null,
       "padding": null,
       "right": null,
       "top": null,
       "visibility": null,
       "width": null
      }
     },
     "d6558a77bd434b05a5847ef792f70557": {
      "model_module": "@jupyter-widgets/base",
      "model_module_version": "2.0.0",
      "model_name": "LayoutModel",
      "state": {
       "_model_module": "@jupyter-widgets/base",
       "_model_module_version": "2.0.0",
       "_model_name": "LayoutModel",
       "_view_count": null,
       "_view_module": "@jupyter-widgets/base",
       "_view_module_version": "2.0.0",
       "_view_name": "LayoutView",
       "align_content": null,
       "align_items": null,
       "align_self": null,
       "border_bottom": null,
       "border_left": null,
       "border_right": null,
       "border_top": null,
       "bottom": null,
       "display": null,
       "flex": null,
       "flex_flow": null,
       "grid_area": null,
       "grid_auto_columns": null,
       "grid_auto_flow": null,
       "grid_auto_rows": null,
       "grid_column": null,
       "grid_gap": null,
       "grid_row": null,
       "grid_template_areas": null,
       "grid_template_columns": null,
       "grid_template_rows": null,
       "height": null,
       "justify_content": null,
       "justify_items": null,
       "left": null,
       "margin": null,
       "max_height": null,
       "max_width": null,
       "min_height": null,
       "min_width": null,
       "object_fit": null,
       "object_position": null,
       "order": null,
       "overflow": null,
       "padding": null,
       "right": null,
       "top": null,
       "visibility": null,
       "width": null
      }
     },
     "d9b2af66a2724d95acb593feccf7eb21": {
      "model_module": "@jupyter-widgets/controls",
      "model_module_version": "2.0.0",
      "model_name": "HTMLStyleModel",
      "state": {
       "_model_module": "@jupyter-widgets/controls",
       "_model_module_version": "2.0.0",
       "_model_name": "HTMLStyleModel",
       "_view_count": null,
       "_view_module": "@jupyter-widgets/base",
       "_view_module_version": "2.0.0",
       "_view_name": "StyleView",
       "background": null,
       "description_width": "",
       "font_size": null,
       "text_color": null
      }
     },
     "de00fc747c764a21a6261bd7d56bde66": {
      "model_module": "@jupyter-widgets/controls",
      "model_module_version": "2.0.0",
      "model_name": "HTMLModel",
      "state": {
       "_dom_classes": [],
       "_model_module": "@jupyter-widgets/controls",
       "_model_module_version": "2.0.0",
       "_model_name": "HTMLModel",
       "_view_count": null,
       "_view_module": "@jupyter-widgets/controls",
       "_view_module_version": "2.0.0",
       "_view_name": "HTMLView",
       "description": "",
       "description_allow_html": false,
       "layout": "IPY_MODEL_f03220d251434011875d4ca92f2ee617",
       "placeholder": "​",
       "style": "IPY_MODEL_5f90c85f195d42a19882752fd7d51dc6",
       "tabbable": null,
       "tooltip": null,
       "value": " 684/684 [00:00&lt;00:00, 72.4kB/s]"
      }
     },
     "e0a314c9b4364958ac31a5048eefaa11": {
      "model_module": "@jupyter-widgets/controls",
      "model_module_version": "2.0.0",
      "model_name": "ProgressStyleModel",
      "state": {
       "_model_module": "@jupyter-widgets/controls",
       "_model_module_version": "2.0.0",
       "_model_name": "ProgressStyleModel",
       "_view_count": null,
       "_view_module": "@jupyter-widgets/base",
       "_view_module_version": "2.0.0",
       "_view_name": "StyleView",
       "bar_color": null,
       "description_width": ""
      }
     },
     "e267dd81bb924e0aa44f3e55a4676fe3": {
      "model_module": "@jupyter-widgets/base",
      "model_module_version": "2.0.0",
      "model_name": "LayoutModel",
      "state": {
       "_model_module": "@jupyter-widgets/base",
       "_model_module_version": "2.0.0",
       "_model_name": "LayoutModel",
       "_view_count": null,
       "_view_module": "@jupyter-widgets/base",
       "_view_module_version": "2.0.0",
       "_view_name": "LayoutView",
       "align_content": null,
       "align_items": null,
       "align_self": null,
       "border_bottom": null,
       "border_left": null,
       "border_right": null,
       "border_top": null,
       "bottom": null,
       "display": null,
       "flex": null,
       "flex_flow": null,
       "grid_area": null,
       "grid_auto_columns": null,
       "grid_auto_flow": null,
       "grid_auto_rows": null,
       "grid_column": null,
       "grid_gap": null,
       "grid_row": null,
       "grid_template_areas": null,
       "grid_template_columns": null,
       "grid_template_rows": null,
       "height": null,
       "justify_content": null,
       "justify_items": null,
       "left": null,
       "margin": null,
       "max_height": null,
       "max_width": null,
       "min_height": null,
       "min_width": null,
       "object_fit": null,
       "object_position": null,
       "order": null,
       "overflow": null,
       "padding": null,
       "right": null,
       "top": null,
       "visibility": null,
       "width": null
      }
     },
     "e5956188a0fb4c2894edfe27d3a89b7b": {
      "model_module": "@jupyter-widgets/controls",
      "model_module_version": "2.0.0",
      "model_name": "HBoxModel",
      "state": {
       "_dom_classes": [],
       "_model_module": "@jupyter-widgets/controls",
       "_model_module_version": "2.0.0",
       "_model_name": "HBoxModel",
       "_view_count": null,
       "_view_module": "@jupyter-widgets/controls",
       "_view_module_version": "2.0.0",
       "_view_name": "HBoxView",
       "box_style": "",
       "children": [
        "IPY_MODEL_5a41f1165fb14dfdaf7cd31a4da38678",
        "IPY_MODEL_3bc834e4eea843ddb55d3be6061837c2",
        "IPY_MODEL_9a9c1ea9321e4936a29e8cbeaf7fd439"
       ],
       "layout": "IPY_MODEL_f3bf985c70cb47ee8d1ff89ce247dd04",
       "tabbable": null,
       "tooltip": null
      }
     },
     "e7f33131c97e49cead75d748519fc750": {
      "model_module": "@jupyter-widgets/controls",
      "model_module_version": "2.0.0",
      "model_name": "HTMLModel",
      "state": {
       "_dom_classes": [],
       "_model_module": "@jupyter-widgets/controls",
       "_model_module_version": "2.0.0",
       "_model_name": "HTMLModel",
       "_view_count": null,
       "_view_module": "@jupyter-widgets/controls",
       "_view_module_version": "2.0.0",
       "_view_name": "HTMLView",
       "description": "",
       "description_allow_html": false,
       "layout": "IPY_MODEL_3f326250a3094277a12a8411d647c925",
       "placeholder": "​",
       "style": "IPY_MODEL_d1e09545419c4275934fe407072b5e84",
       "tabbable": null,
       "tooltip": null,
       "value": " 7.23k/7.23k [00:00&lt;00:00, 807kB/s]"
      }
     },
     "e9e4954642ad422d868cf500bd1b1d33": {
      "model_module": "@jupyter-widgets/base",
      "model_module_version": "2.0.0",
      "model_name": "LayoutModel",
      "state": {
       "_model_module": "@jupyter-widgets/base",
       "_model_module_version": "2.0.0",
       "_model_name": "LayoutModel",
       "_view_count": null,
       "_view_module": "@jupyter-widgets/base",
       "_view_module_version": "2.0.0",
       "_view_name": "LayoutView",
       "align_content": null,
       "align_items": null,
       "align_self": null,
       "border_bottom": null,
       "border_left": null,
       "border_right": null,
       "border_top": null,
       "bottom": null,
       "display": null,
       "flex": null,
       "flex_flow": null,
       "grid_area": null,
       "grid_auto_columns": null,
       "grid_auto_flow": null,
       "grid_auto_rows": null,
       "grid_column": null,
       "grid_gap": null,
       "grid_row": null,
       "grid_template_areas": null,
       "grid_template_columns": null,
       "grid_template_rows": null,
       "height": null,
       "justify_content": null,
       "justify_items": null,
       "left": null,
       "margin": null,
       "max_height": null,
       "max_width": null,
       "min_height": null,
       "min_width": null,
       "object_fit": null,
       "object_position": null,
       "order": null,
       "overflow": null,
       "padding": null,
       "right": null,
       "top": null,
       "visibility": null,
       "width": null
      }
     },
     "eb42d5fdc68b41a18cb6d86a9c44bf7d": {
      "model_module": "@jupyter-widgets/base",
      "model_module_version": "2.0.0",
      "model_name": "LayoutModel",
      "state": {
       "_model_module": "@jupyter-widgets/base",
       "_model_module_version": "2.0.0",
       "_model_name": "LayoutModel",
       "_view_count": null,
       "_view_module": "@jupyter-widgets/base",
       "_view_module_version": "2.0.0",
       "_view_name": "LayoutView",
       "align_content": null,
       "align_items": null,
       "align_self": null,
       "border_bottom": null,
       "border_left": null,
       "border_right": null,
       "border_top": null,
       "bottom": null,
       "display": null,
       "flex": null,
       "flex_flow": null,
       "grid_area": null,
       "grid_auto_columns": null,
       "grid_auto_flow": null,
       "grid_auto_rows": null,
       "grid_column": null,
       "grid_gap": null,
       "grid_row": null,
       "grid_template_areas": null,
       "grid_template_columns": null,
       "grid_template_rows": null,
       "height": null,
       "justify_content": null,
       "justify_items": null,
       "left": null,
       "margin": null,
       "max_height": null,
       "max_width": null,
       "min_height": null,
       "min_width": null,
       "object_fit": null,
       "object_position": null,
       "order": null,
       "overflow": null,
       "padding": null,
       "right": null,
       "top": null,
       "visibility": null,
       "width": null
      }
     },
     "ebb4eaf22e30461bb8bb191eb6d50dad": {
      "model_module": "@jupyter-widgets/controls",
      "model_module_version": "2.0.0",
      "model_name": "HTMLModel",
      "state": {
       "_dom_classes": [],
       "_model_module": "@jupyter-widgets/controls",
       "_model_module_version": "2.0.0",
       "_model_name": "HTMLModel",
       "_view_count": null,
       "_view_module": "@jupyter-widgets/controls",
       "_view_module_version": "2.0.0",
       "_view_name": "HTMLView",
       "description": "",
       "description_allow_html": false,
       "layout": "IPY_MODEL_627fb44ad8a44203892638b7fc8a7fd0",
       "placeholder": "​",
       "style": "IPY_MODEL_b2bc9ca6b0c744d3896069656d41cbbc",
       "tabbable": null,
       "tooltip": null,
       "value": "Generating train split: 100%"
      }
     },
     "ec92c5d19c8847abb8903f4893a028f0": {
      "model_module": "@jupyter-widgets/controls",
      "model_module_version": "2.0.0",
      "model_name": "HTMLStyleModel",
      "state": {
       "_model_module": "@jupyter-widgets/controls",
       "_model_module_version": "2.0.0",
       "_model_name": "HTMLStyleModel",
       "_view_count": null,
       "_view_module": "@jupyter-widgets/base",
       "_view_module_version": "2.0.0",
       "_view_name": "StyleView",
       "background": null,
       "description_width": "",
       "font_size": null,
       "text_color": null
      }
     },
     "f03220d251434011875d4ca92f2ee617": {
      "model_module": "@jupyter-widgets/base",
      "model_module_version": "2.0.0",
      "model_name": "LayoutModel",
      "state": {
       "_model_module": "@jupyter-widgets/base",
       "_model_module_version": "2.0.0",
       "_model_name": "LayoutModel",
       "_view_count": null,
       "_view_module": "@jupyter-widgets/base",
       "_view_module_version": "2.0.0",
       "_view_name": "LayoutView",
       "align_content": null,
       "align_items": null,
       "align_self": null,
       "border_bottom": null,
       "border_left": null,
       "border_right": null,
       "border_top": null,
       "bottom": null,
       "display": null,
       "flex": null,
       "flex_flow": null,
       "grid_area": null,
       "grid_auto_columns": null,
       "grid_auto_flow": null,
       "grid_auto_rows": null,
       "grid_column": null,
       "grid_gap": null,
       "grid_row": null,
       "grid_template_areas": null,
       "grid_template_columns": null,
       "grid_template_rows": null,
       "height": null,
       "justify_content": null,
       "justify_items": null,
       "left": null,
       "margin": null,
       "max_height": null,
       "max_width": null,
       "min_height": null,
       "min_width": null,
       "object_fit": null,
       "object_position": null,
       "order": null,
       "overflow": null,
       "padding": null,
       "right": null,
       "top": null,
       "visibility": null,
       "width": null
      }
     },
     "f3bf985c70cb47ee8d1ff89ce247dd04": {
      "model_module": "@jupyter-widgets/base",
      "model_module_version": "2.0.0",
      "model_name": "LayoutModel",
      "state": {
       "_model_module": "@jupyter-widgets/base",
       "_model_module_version": "2.0.0",
       "_model_name": "LayoutModel",
       "_view_count": null,
       "_view_module": "@jupyter-widgets/base",
       "_view_module_version": "2.0.0",
       "_view_name": "LayoutView",
       "align_content": null,
       "align_items": null,
       "align_self": null,
       "border_bottom": null,
       "border_left": null,
       "border_right": null,
       "border_top": null,
       "bottom": null,
       "display": null,
       "flex": null,
       "flex_flow": null,
       "grid_area": null,
       "grid_auto_columns": null,
       "grid_auto_flow": null,
       "grid_auto_rows": null,
       "grid_column": null,
       "grid_gap": null,
       "grid_row": null,
       "grid_template_areas": null,
       "grid_template_columns": null,
       "grid_template_rows": null,
       "height": null,
       "justify_content": null,
       "justify_items": null,
       "left": null,
       "margin": null,
       "max_height": null,
       "max_width": null,
       "min_height": null,
       "min_width": null,
       "object_fit": null,
       "object_position": null,
       "order": null,
       "overflow": null,
       "padding": null,
       "right": null,
       "top": null,
       "visibility": null,
       "width": null
      }
     },
     "f3eabf5c071545b1851809479829041b": {
      "model_module": "@jupyter-widgets/base",
      "model_module_version": "2.0.0",
      "model_name": "LayoutModel",
      "state": {
       "_model_module": "@jupyter-widgets/base",
       "_model_module_version": "2.0.0",
       "_model_name": "LayoutModel",
       "_view_count": null,
       "_view_module": "@jupyter-widgets/base",
       "_view_module_version": "2.0.0",
       "_view_name": "LayoutView",
       "align_content": null,
       "align_items": null,
       "align_self": null,
       "border_bottom": null,
       "border_left": null,
       "border_right": null,
       "border_top": null,
       "bottom": null,
       "display": null,
       "flex": null,
       "flex_flow": null,
       "grid_area": null,
       "grid_auto_columns": null,
       "grid_auto_flow": null,
       "grid_auto_rows": null,
       "grid_column": null,
       "grid_gap": null,
       "grid_row": null,
       "grid_template_areas": null,
       "grid_template_columns": null,
       "grid_template_rows": null,
       "height": null,
       "justify_content": null,
       "justify_items": null,
       "left": null,
       "margin": null,
       "max_height": null,
       "max_width": null,
       "min_height": null,
       "min_width": null,
       "object_fit": null,
       "object_position": null,
       "order": null,
       "overflow": null,
       "padding": null,
       "right": null,
       "top": null,
       "visibility": null,
       "width": null
      }
     },
     "fb000ad9f8f54adaa694e81be923fd67": {
      "model_module": "@jupyter-widgets/controls",
      "model_module_version": "2.0.0",
      "model_name": "HTMLStyleModel",
      "state": {
       "_model_module": "@jupyter-widgets/controls",
       "_model_module_version": "2.0.0",
       "_model_name": "HTMLStyleModel",
       "_view_count": null,
       "_view_module": "@jupyter-widgets/base",
       "_view_module_version": "2.0.0",
       "_view_name": "StyleView",
       "background": null,
       "description_width": "",
       "font_size": null,
       "text_color": null
      }
     },
     "fb4875bdaf434320ae3ada70d4ad677b": {
      "model_module": "@jupyter-widgets/controls",
      "model_module_version": "2.0.0",
      "model_name": "HTMLStyleModel",
      "state": {
       "_model_module": "@jupyter-widgets/controls",
       "_model_module_version": "2.0.0",
       "_model_name": "HTMLStyleModel",
       "_view_count": null,
       "_view_module": "@jupyter-widgets/base",
       "_view_module_version": "2.0.0",
       "_view_name": "StyleView",
       "background": null,
       "description_width": "",
       "font_size": null,
       "text_color": null
      }
     },
     "fb8d13bf219d4500a4008a0876db7cbc": {
      "model_module": "@jupyter-widgets/controls",
      "model_module_version": "2.0.0",
      "model_name": "HTMLStyleModel",
      "state": {
       "_model_module": "@jupyter-widgets/controls",
       "_model_module_version": "2.0.0",
       "_model_name": "HTMLStyleModel",
       "_view_count": null,
       "_view_module": "@jupyter-widgets/base",
       "_view_module_version": "2.0.0",
       "_view_name": "StyleView",
       "background": null,
       "description_width": "",
       "font_size": null,
       "text_color": null
      }
     },
     "fbc056fa8d8b4b769e08ace2281435b2": {
      "model_module": "@jupyter-widgets/base",
      "model_module_version": "2.0.0",
      "model_name": "LayoutModel",
      "state": {
       "_model_module": "@jupyter-widgets/base",
       "_model_module_version": "2.0.0",
       "_model_name": "LayoutModel",
       "_view_count": null,
       "_view_module": "@jupyter-widgets/base",
       "_view_module_version": "2.0.0",
       "_view_name": "LayoutView",
       "align_content": null,
       "align_items": null,
       "align_self": null,
       "border_bottom": null,
       "border_left": null,
       "border_right": null,
       "border_top": null,
       "bottom": null,
       "display": null,
       "flex": null,
       "flex_flow": null,
       "grid_area": null,
       "grid_auto_columns": null,
       "grid_auto_flow": null,
       "grid_auto_rows": null,
       "grid_column": null,
       "grid_gap": null,
       "grid_row": null,
       "grid_template_areas": null,
       "grid_template_columns": null,
       "grid_template_rows": null,
       "height": null,
       "justify_content": null,
       "justify_items": null,
       "left": null,
       "margin": null,
       "max_height": null,
       "max_width": null,
       "min_height": null,
       "min_width": null,
       "object_fit": null,
       "object_position": null,
       "order": null,
       "overflow": null,
       "padding": null,
       "right": null,
       "top": null,
       "visibility": null,
       "width": null
      }
     },
     "fd5fb4d57ff24eeda62f450111d0f4ef": {
      "model_module": "@jupyter-widgets/controls",
      "model_module_version": "2.0.0",
      "model_name": "HBoxModel",
      "state": {
       "_dom_classes": [],
       "_model_module": "@jupyter-widgets/controls",
       "_model_module_version": "2.0.0",
       "_model_name": "HBoxModel",
       "_view_count": null,
       "_view_module": "@jupyter-widgets/controls",
       "_view_module_version": "2.0.0",
       "_view_name": "HBoxView",
       "box_style": "",
       "children": [
        "IPY_MODEL_0c4a308951e3420397d6da5e4275954f",
        "IPY_MODEL_45225fb4c86d47eda92757a17293d8a9",
        "IPY_MODEL_de00fc747c764a21a6261bd7d56bde66"
       ],
       "layout": "IPY_MODEL_9fefac0cf4154d44ae7d07857660388a",
       "tabbable": null,
       "tooltip": null
      }
     },
     "feb3c3d79ea149888575aea7236c4c9e": {
      "model_module": "@jupyter-widgets/base",
      "model_module_version": "2.0.0",
      "model_name": "LayoutModel",
      "state": {
       "_model_module": "@jupyter-widgets/base",
       "_model_module_version": "2.0.0",
       "_model_name": "LayoutModel",
       "_view_count": null,
       "_view_module": "@jupyter-widgets/base",
       "_view_module_version": "2.0.0",
       "_view_name": "LayoutView",
       "align_content": null,
       "align_items": null,
       "align_self": null,
       "border_bottom": null,
       "border_left": null,
       "border_right": null,
       "border_top": null,
       "bottom": null,
       "display": null,
       "flex": null,
       "flex_flow": null,
       "grid_area": null,
       "grid_auto_columns": null,
       "grid_auto_flow": null,
       "grid_auto_rows": null,
       "grid_column": null,
       "grid_gap": null,
       "grid_row": null,
       "grid_template_areas": null,
       "grid_template_columns": null,
       "grid_template_rows": null,
       "height": null,
       "justify_content": null,
       "justify_items": null,
       "left": null,
       "margin": null,
       "max_height": null,
       "max_width": null,
       "min_height": null,
       "min_width": null,
       "object_fit": null,
       "object_position": null,
       "order": null,
       "overflow": null,
       "padding": null,
       "right": null,
       "top": null,
       "visibility": null,
       "width": null
      }
     },
     "fec5237e738a46d4a782466b48d516c4": {
      "model_module": "@jupyter-widgets/base",
      "model_module_version": "2.0.0",
      "model_name": "LayoutModel",
      "state": {
       "_model_module": "@jupyter-widgets/base",
       "_model_module_version": "2.0.0",
       "_model_name": "LayoutModel",
       "_view_count": null,
       "_view_module": "@jupyter-widgets/base",
       "_view_module_version": "2.0.0",
       "_view_name": "LayoutView",
       "align_content": null,
       "align_items": null,
       "align_self": null,
       "border_bottom": null,
       "border_left": null,
       "border_right": null,
       "border_top": null,
       "bottom": null,
       "display": null,
       "flex": null,
       "flex_flow": null,
       "grid_area": null,
       "grid_auto_columns": null,
       "grid_auto_flow": null,
       "grid_auto_rows": null,
       "grid_column": null,
       "grid_gap": null,
       "grid_row": null,
       "grid_template_areas": null,
       "grid_template_columns": null,
       "grid_template_rows": null,
       "height": null,
       "justify_content": null,
       "justify_items": null,
       "left": null,
       "margin": null,
       "max_height": null,
       "max_width": null,
       "min_height": null,
       "min_width": null,
       "object_fit": null,
       "object_position": null,
       "order": null,
       "overflow": null,
       "padding": null,
       "right": null,
       "top": null,
       "visibility": null,
       "width": null
      }
     }
    },
    "version_major": 2,
    "version_minor": 0
   }
  }
 },
 "nbformat": 4,
 "nbformat_minor": 5
}
